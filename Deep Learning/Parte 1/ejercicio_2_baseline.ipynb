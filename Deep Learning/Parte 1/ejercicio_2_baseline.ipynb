{
 "cells": [
  {
   "cell_type": "markdown",
   "source": [
    "**Diplomatura en Ciencia de Datos, Aprendizaje Automático y sus Aplicaciones**\n",
    "\n",
    "**Introducción al Aprendizaje profundo**\n",
    "\n",
    "*Edición 2023*\n",
    "\n",
    "----\n",
    "\n",
    "# Trabajo práctico entregable\n",
    "\n",
    "Dado el dataset que busca predecir la [presencia o ausencia de Diabetes](https://www.kaggle.com/datasets/alexteboul/diabetes-health-indicators-dataset/data?select=diabetes_binary_5050split_health_indicators_BRFSS2015.csv)."
   ],
   "metadata": {
    "collapsed": false
   },
   "id": "9f8e259f765e66fc"
  },
  {
   "cell_type": "markdown",
   "source": [
    "## Ejercicio 2 - Implementar modelo básico\n",
    "\n",
    "Implementar una red neuronal simple con parámetros por defaults (este será su baseline).\n",
    "\n",
    "----"
   ],
   "metadata": {
    "collapsed": false
   },
   "id": "5020f2dde2d4acc2"
  },
  {
   "cell_type": "markdown",
   "source": [
    "### Imports y lectura de datasets"
   ],
   "metadata": {
    "collapsed": false
   },
   "id": "ff6ccf8a2e24dd60"
  },
  {
   "cell_type": "code",
   "execution_count": 1,
   "outputs": [],
   "source": [
    "import tqdm\n",
    "import torch\n",
    "\n",
    "import pandas as pd\n",
    "import torch.nn as nn\n",
    "import torch.nn.functional as F\n",
    "\n",
    "import matplotlib.pyplot as plt"
   ],
   "metadata": {
    "collapsed": false,
    "ExecuteTime": {
     "end_time": "2023-11-04T19:02:47.750779625Z",
     "start_time": "2023-11-04T19:02:46.417865951Z"
    }
   },
   "id": "1b3660541318c965"
  },
  {
   "cell_type": "code",
   "execution_count": 2,
   "outputs": [
    {
     "data": {
      "text/plain": "device(type='cuda')"
     },
     "execution_count": 2,
     "metadata": {},
     "output_type": "execute_result"
    }
   ],
   "source": [
    "# Configuración del dispositivo\n",
    "device = torch.device('cuda' if torch.cuda.is_available() else 'cpu')\n",
    "device"
   ],
   "metadata": {
    "collapsed": false,
    "ExecuteTime": {
     "end_time": "2023-11-04T19:02:47.759162699Z",
     "start_time": "2023-11-04T19:02:47.756570798Z"
    }
   },
   "id": "71edea7d35936ca5"
  },
  {
   "cell_type": "markdown",
   "source": [
    "#### Lectura del Dataset"
   ],
   "metadata": {
    "collapsed": false
   },
   "id": "d46ebffbfe2255e2"
  },
  {
   "cell_type": "code",
   "execution_count": 3,
   "outputs": [
    {
     "data": {
      "text/plain": "(70692, 22)"
     },
     "execution_count": 3,
     "metadata": {},
     "output_type": "execute_result"
    }
   ],
   "source": [
    "data = pd.read_csv('datasets/diabetes.csv')\n",
    "data.shape"
   ],
   "metadata": {
    "collapsed": false,
    "ExecuteTime": {
     "end_time": "2023-11-04T19:02:47.839516896Z",
     "start_time": "2023-11-04T19:02:47.759300065Z"
    }
   },
   "id": "b93b927a116c2499"
  },
  {
   "cell_type": "code",
   "execution_count": 4,
   "outputs": [
    {
     "data": {
      "text/plain": "   Diabetes_binary  HighBP  HighChol  CholCheck   BMI  Smoker  Stroke  \\\n0              0.0     1.0       0.0        1.0  26.0     0.0     0.0   \n1              0.0     1.0       1.0        1.0  26.0     1.0     1.0   \n2              0.0     0.0       0.0        1.0  26.0     0.0     0.0   \n3              0.0     1.0       1.0        1.0  28.0     1.0     0.0   \n4              0.0     0.0       0.0        1.0  29.0     1.0     0.0   \n\n   HeartDiseaseorAttack  PhysActivity  Fruits  ...  AnyHealthcare  \\\n0                   0.0           1.0     0.0  ...            1.0   \n1                   0.0           0.0     1.0  ...            1.0   \n2                   0.0           1.0     1.0  ...            1.0   \n3                   0.0           1.0     1.0  ...            1.0   \n4                   0.0           1.0     1.0  ...            1.0   \n\n   NoDocbcCost  GenHlth  MentHlth  PhysHlth  DiffWalk  Sex   Age  Education  \\\n0          0.0      3.0       5.0      30.0       0.0  1.0   4.0        6.0   \n1          0.0      3.0       0.0       0.0       0.0  1.0  12.0        6.0   \n2          0.0      1.0       0.0      10.0       0.0  1.0  13.0        6.0   \n3          0.0      3.0       0.0       3.0       0.0  1.0  11.0        6.0   \n4          0.0      2.0       0.0       0.0       0.0  0.0   8.0        5.0   \n\n   Income  \n0     8.0  \n1     8.0  \n2     8.0  \n3     8.0  \n4     8.0  \n\n[5 rows x 22 columns]",
      "text/html": "<div>\n<style scoped>\n    .dataframe tbody tr th:only-of-type {\n        vertical-align: middle;\n    }\n\n    .dataframe tbody tr th {\n        vertical-align: top;\n    }\n\n    .dataframe thead th {\n        text-align: right;\n    }\n</style>\n<table border=\"1\" class=\"dataframe\">\n  <thead>\n    <tr style=\"text-align: right;\">\n      <th></th>\n      <th>Diabetes_binary</th>\n      <th>HighBP</th>\n      <th>HighChol</th>\n      <th>CholCheck</th>\n      <th>BMI</th>\n      <th>Smoker</th>\n      <th>Stroke</th>\n      <th>HeartDiseaseorAttack</th>\n      <th>PhysActivity</th>\n      <th>Fruits</th>\n      <th>...</th>\n      <th>AnyHealthcare</th>\n      <th>NoDocbcCost</th>\n      <th>GenHlth</th>\n      <th>MentHlth</th>\n      <th>PhysHlth</th>\n      <th>DiffWalk</th>\n      <th>Sex</th>\n      <th>Age</th>\n      <th>Education</th>\n      <th>Income</th>\n    </tr>\n  </thead>\n  <tbody>\n    <tr>\n      <th>0</th>\n      <td>0.0</td>\n      <td>1.0</td>\n      <td>0.0</td>\n      <td>1.0</td>\n      <td>26.0</td>\n      <td>0.0</td>\n      <td>0.0</td>\n      <td>0.0</td>\n      <td>1.0</td>\n      <td>0.0</td>\n      <td>...</td>\n      <td>1.0</td>\n      <td>0.0</td>\n      <td>3.0</td>\n      <td>5.0</td>\n      <td>30.0</td>\n      <td>0.0</td>\n      <td>1.0</td>\n      <td>4.0</td>\n      <td>6.0</td>\n      <td>8.0</td>\n    </tr>\n    <tr>\n      <th>1</th>\n      <td>0.0</td>\n      <td>1.0</td>\n      <td>1.0</td>\n      <td>1.0</td>\n      <td>26.0</td>\n      <td>1.0</td>\n      <td>1.0</td>\n      <td>0.0</td>\n      <td>0.0</td>\n      <td>1.0</td>\n      <td>...</td>\n      <td>1.0</td>\n      <td>0.0</td>\n      <td>3.0</td>\n      <td>0.0</td>\n      <td>0.0</td>\n      <td>0.0</td>\n      <td>1.0</td>\n      <td>12.0</td>\n      <td>6.0</td>\n      <td>8.0</td>\n    </tr>\n    <tr>\n      <th>2</th>\n      <td>0.0</td>\n      <td>0.0</td>\n      <td>0.0</td>\n      <td>1.0</td>\n      <td>26.0</td>\n      <td>0.0</td>\n      <td>0.0</td>\n      <td>0.0</td>\n      <td>1.0</td>\n      <td>1.0</td>\n      <td>...</td>\n      <td>1.0</td>\n      <td>0.0</td>\n      <td>1.0</td>\n      <td>0.0</td>\n      <td>10.0</td>\n      <td>0.0</td>\n      <td>1.0</td>\n      <td>13.0</td>\n      <td>6.0</td>\n      <td>8.0</td>\n    </tr>\n    <tr>\n      <th>3</th>\n      <td>0.0</td>\n      <td>1.0</td>\n      <td>1.0</td>\n      <td>1.0</td>\n      <td>28.0</td>\n      <td>1.0</td>\n      <td>0.0</td>\n      <td>0.0</td>\n      <td>1.0</td>\n      <td>1.0</td>\n      <td>...</td>\n      <td>1.0</td>\n      <td>0.0</td>\n      <td>3.0</td>\n      <td>0.0</td>\n      <td>3.0</td>\n      <td>0.0</td>\n      <td>1.0</td>\n      <td>11.0</td>\n      <td>6.0</td>\n      <td>8.0</td>\n    </tr>\n    <tr>\n      <th>4</th>\n      <td>0.0</td>\n      <td>0.0</td>\n      <td>0.0</td>\n      <td>1.0</td>\n      <td>29.0</td>\n      <td>1.0</td>\n      <td>0.0</td>\n      <td>0.0</td>\n      <td>1.0</td>\n      <td>1.0</td>\n      <td>...</td>\n      <td>1.0</td>\n      <td>0.0</td>\n      <td>2.0</td>\n      <td>0.0</td>\n      <td>0.0</td>\n      <td>0.0</td>\n      <td>0.0</td>\n      <td>8.0</td>\n      <td>5.0</td>\n      <td>8.0</td>\n    </tr>\n  </tbody>\n</table>\n<p>5 rows × 22 columns</p>\n</div>"
     },
     "execution_count": 4,
     "metadata": {},
     "output_type": "execute_result"
    }
   ],
   "source": [
    "data.head()"
   ],
   "metadata": {
    "collapsed": false,
    "ExecuteTime": {
     "end_time": "2023-11-04T18:45:38.778130048Z",
     "start_time": "2023-11-04T18:45:38.766312946Z"
    }
   },
   "id": "23965fbfc44ecddc"
  },
  {
   "cell_type": "markdown",
   "source": [
    "#### Atributos del dataset"
   ],
   "metadata": {
    "collapsed": false
   },
   "id": "e99b81acd1fa223c"
  },
  {
   "cell_type": "markdown",
   "source": [
    "* **Diabetes_binary**: (Alguna vez le dijeron) que tiene diabetes?.\n",
    "* **HighBP**: Adults who have been told they have *high blood pressure* by a doctor, nurse, or other health professional .\n",
    "* **HighChol**: Adults who have been told they have *high cholesterol* by a doctor, nurse, or other health professional .\n",
    "* **CholCheck**: Cholesterol check within past five years.\n",
    "* **BMI**: BMI (Body Mass Index) is a measure of body fat based on weight and height.\n",
    "        Higher BMI values are linked to a higher risk of diabetes. The range of BMI in the dataset\n",
    "        is from 10.16 to 71.55. BMI less than 18.5 is underweight, 18.5-24.9 is normal, 25-29.9\n",
    "        is overweight, and 30 or more is obese.\n",
    "* **Smoker**: Have you smoked at least 100 cigarettes in your entire life?.\n",
    "* **Stroke**: (Ever told) you had a stroke.\n",
    "* **HeartDiseaseorAttack**: Respondents that have ever reported having coronary heart disease (CHD) or myocardial infarction (MI).\n",
    "* **PhysActivity**: dults who reported doing physical activity or exercise during the past 30 days other than their regular job.\n",
    "* **Fruits**: Consume Fruit 1 or more times per day.\n",
    "* **Veggies**: Consume Vegetables 1 or more times per day.\n",
    "* **HvyAlcoholConsump**: Heavy drinkers (adult men having more than 14 drinks per week and adult women having more than 7 drinks per week).\n",
    "* **AnyHealthcare**: Do you have any kind of health care coverage, including health insurance, prepaid plans such as HMOs, or government plans such as Medicare, or Indian Health Service?.\n",
    "* **NoDocbcCost**: Was there a time in the past 12 months when you needed to see a doctor but could not because of cost?.\n",
    "* **GenHlth**: Would you say that in general your health is?.\n",
    "* **MentHlth**: Now thinking about your mental health, which includes stress, depression, and problems with emotions, for how many days during the past 30 days was your mental health not good?.\n",
    "* **PhysHtlt**: Now thinking about your physical health, which includes physical illness and injury, for how many days during the past 30 days was your physical health not good?.\n",
    "* **DiffWalk**: Do you have serious difficulty walking or climbing stairs?.\n",
    "* **Sex**: Indicate sex of respondent.\n",
    "* **Age**: Fourteen-level age category.\n",
    "* **Education**: What is the highest grade or year of school you completed?.\n",
    "* **Income**: Is your annual household income from all sources: (If respondent refuses at any income level, code \"Refused.\")"
   ],
   "metadata": {
    "collapsed": false
   },
   "id": "76757d563e0739c0"
  },
  {
   "cell_type": "markdown",
   "source": [
    "### Curación del dataset\n",
    "\n",
    "Tal como se mencionó en el ejercicio anterior, los datos ya están imputados sin datos faltantes, limpios, balanceados y codificados aquellos que pueden ser categóricos. Lo único que resta para tratar los datos es ***estandarizarlos***, de esta forma evitamos que alguna de las variables tenga mayor ponderación a la hora de entrenar los modelos."
   ],
   "metadata": {
    "collapsed": false
   },
   "id": "8c3c2e0b3c23ed87"
  },
  {
   "cell_type": "markdown",
   "source": [
    "Antes de estandarizar el dataset, se separará la variable objetivo **Diabetes_binary** del resto de los features, ya que es la variable a predecir."
   ],
   "metadata": {
    "collapsed": false
   },
   "id": "cc7ca1b6aa6fd241"
  },
  {
   "cell_type": "code",
   "execution_count": 5,
   "outputs": [
    {
     "data": {
      "text/plain": "((70692, 21), (70692,))"
     },
     "execution_count": 5,
     "metadata": {},
     "output_type": "execute_result"
    }
   ],
   "source": [
    "y = data.Diabetes_binary\n",
    "X = data.drop('Diabetes_binary', axis=1)\n",
    "X.shape, y.shape"
   ],
   "metadata": {
    "collapsed": false,
    "ExecuteTime": {
     "end_time": "2023-11-04T18:45:38.808260322Z",
     "start_time": "2023-11-04T18:45:38.779031261Z"
    }
   },
   "id": "5dfee904849c1244"
  },
  {
   "cell_type": "code",
   "execution_count": 6,
   "outputs": [],
   "source": [
    "from sklearn.preprocessing import StandardScaler\n",
    "\n",
    "column_names = X.columns\n",
    "\n",
    "# Entrenamiento de scalers con los datos\n",
    "scaler = StandardScaler().fit(X)\n",
    "\n",
    "# Escalamiento de datos\n",
    "std_data = pd.DataFrame(scaler.transform(X),\n",
    "                              columns=column_names)"
   ],
   "metadata": {
    "collapsed": false,
    "ExecuteTime": {
     "end_time": "2023-11-04T18:45:38.859296345Z",
     "start_time": "2023-11-04T18:45:38.785651501Z"
    }
   },
   "id": "e818f4ec2e13c42e"
  },
  {
   "cell_type": "code",
   "execution_count": 7,
   "outputs": [
    {
     "data": {
      "text/plain": "     HighBP  HighChol  CholCheck       BMI    Smoker    Stroke  \\\n0  0.880201 -1.052798   0.159276 -0.542176 -0.951711 -0.257473   \n1  0.880201  0.949850   0.159276 -0.542176  1.050740  3.883895   \n2 -1.136104 -1.052798   0.159276 -0.542176 -0.951711 -0.257473   \n3  0.880201  0.949850   0.159276 -0.261036  1.050740 -0.257473   \n4 -1.136104 -1.052798   0.159276 -0.120466  1.050740 -0.257473   \n\n   HeartDiseaseorAttack  PhysActivity    Fruits   Veggies  ...  AnyHealthcare  \\\n0              -0.41647      0.649925 -1.255371  0.517485  ...       0.217175   \n1              -0.41647     -1.538638  0.796577 -1.932424  ...       0.217175   \n2              -0.41647      0.649925  0.796577  0.517485  ...       0.217175   \n3              -0.41647      0.649925  0.796577  0.517485  ...       0.217175   \n4              -0.41647      0.649925  0.796577  0.517485  ...       0.217175   \n\n   NoDocbcCost   GenHlth  MentHlth  PhysHlth  DiffWalk       Sex       Age  \\\n0    -0.321945  0.146304  0.153020  2.404008 -0.581554  1.090046 -1.607237   \n1    -0.321945  0.146304 -0.460058 -0.577451 -0.581554  1.090046  1.197681   \n2    -0.321945 -1.649743 -0.460058  0.416369 -0.581554  1.090046  1.548296   \n3    -0.321945  0.146304 -0.460058 -0.279305 -0.581554  1.090046  0.847066   \n4    -0.321945 -0.751719 -0.460058 -0.577451 -0.581554 -0.917392 -0.204778   \n\n   Education   Income  \n0   1.048562  1.05816  \n1   1.048562  1.05816  \n2   1.048562  1.05816  \n3   1.048562  1.05816  \n4   0.076814  1.05816  \n\n[5 rows x 21 columns]",
      "text/html": "<div>\n<style scoped>\n    .dataframe tbody tr th:only-of-type {\n        vertical-align: middle;\n    }\n\n    .dataframe tbody tr th {\n        vertical-align: top;\n    }\n\n    .dataframe thead th {\n        text-align: right;\n    }\n</style>\n<table border=\"1\" class=\"dataframe\">\n  <thead>\n    <tr style=\"text-align: right;\">\n      <th></th>\n      <th>HighBP</th>\n      <th>HighChol</th>\n      <th>CholCheck</th>\n      <th>BMI</th>\n      <th>Smoker</th>\n      <th>Stroke</th>\n      <th>HeartDiseaseorAttack</th>\n      <th>PhysActivity</th>\n      <th>Fruits</th>\n      <th>Veggies</th>\n      <th>...</th>\n      <th>AnyHealthcare</th>\n      <th>NoDocbcCost</th>\n      <th>GenHlth</th>\n      <th>MentHlth</th>\n      <th>PhysHlth</th>\n      <th>DiffWalk</th>\n      <th>Sex</th>\n      <th>Age</th>\n      <th>Education</th>\n      <th>Income</th>\n    </tr>\n  </thead>\n  <tbody>\n    <tr>\n      <th>0</th>\n      <td>0.880201</td>\n      <td>-1.052798</td>\n      <td>0.159276</td>\n      <td>-0.542176</td>\n      <td>-0.951711</td>\n      <td>-0.257473</td>\n      <td>-0.41647</td>\n      <td>0.649925</td>\n      <td>-1.255371</td>\n      <td>0.517485</td>\n      <td>...</td>\n      <td>0.217175</td>\n      <td>-0.321945</td>\n      <td>0.146304</td>\n      <td>0.153020</td>\n      <td>2.404008</td>\n      <td>-0.581554</td>\n      <td>1.090046</td>\n      <td>-1.607237</td>\n      <td>1.048562</td>\n      <td>1.05816</td>\n    </tr>\n    <tr>\n      <th>1</th>\n      <td>0.880201</td>\n      <td>0.949850</td>\n      <td>0.159276</td>\n      <td>-0.542176</td>\n      <td>1.050740</td>\n      <td>3.883895</td>\n      <td>-0.41647</td>\n      <td>-1.538638</td>\n      <td>0.796577</td>\n      <td>-1.932424</td>\n      <td>...</td>\n      <td>0.217175</td>\n      <td>-0.321945</td>\n      <td>0.146304</td>\n      <td>-0.460058</td>\n      <td>-0.577451</td>\n      <td>-0.581554</td>\n      <td>1.090046</td>\n      <td>1.197681</td>\n      <td>1.048562</td>\n      <td>1.05816</td>\n    </tr>\n    <tr>\n      <th>2</th>\n      <td>-1.136104</td>\n      <td>-1.052798</td>\n      <td>0.159276</td>\n      <td>-0.542176</td>\n      <td>-0.951711</td>\n      <td>-0.257473</td>\n      <td>-0.41647</td>\n      <td>0.649925</td>\n      <td>0.796577</td>\n      <td>0.517485</td>\n      <td>...</td>\n      <td>0.217175</td>\n      <td>-0.321945</td>\n      <td>-1.649743</td>\n      <td>-0.460058</td>\n      <td>0.416369</td>\n      <td>-0.581554</td>\n      <td>1.090046</td>\n      <td>1.548296</td>\n      <td>1.048562</td>\n      <td>1.05816</td>\n    </tr>\n    <tr>\n      <th>3</th>\n      <td>0.880201</td>\n      <td>0.949850</td>\n      <td>0.159276</td>\n      <td>-0.261036</td>\n      <td>1.050740</td>\n      <td>-0.257473</td>\n      <td>-0.41647</td>\n      <td>0.649925</td>\n      <td>0.796577</td>\n      <td>0.517485</td>\n      <td>...</td>\n      <td>0.217175</td>\n      <td>-0.321945</td>\n      <td>0.146304</td>\n      <td>-0.460058</td>\n      <td>-0.279305</td>\n      <td>-0.581554</td>\n      <td>1.090046</td>\n      <td>0.847066</td>\n      <td>1.048562</td>\n      <td>1.05816</td>\n    </tr>\n    <tr>\n      <th>4</th>\n      <td>-1.136104</td>\n      <td>-1.052798</td>\n      <td>0.159276</td>\n      <td>-0.120466</td>\n      <td>1.050740</td>\n      <td>-0.257473</td>\n      <td>-0.41647</td>\n      <td>0.649925</td>\n      <td>0.796577</td>\n      <td>0.517485</td>\n      <td>...</td>\n      <td>0.217175</td>\n      <td>-0.321945</td>\n      <td>-0.751719</td>\n      <td>-0.460058</td>\n      <td>-0.577451</td>\n      <td>-0.581554</td>\n      <td>-0.917392</td>\n      <td>-0.204778</td>\n      <td>0.076814</td>\n      <td>1.05816</td>\n    </tr>\n  </tbody>\n</table>\n<p>5 rows × 21 columns</p>\n</div>"
     },
     "execution_count": 7,
     "metadata": {},
     "output_type": "execute_result"
    }
   ],
   "source": [
    "std_data.head()"
   ],
   "metadata": {
    "collapsed": false,
    "ExecuteTime": {
     "end_time": "2023-11-04T18:45:38.882660189Z",
     "start_time": "2023-11-04T18:45:38.838662975Z"
    }
   },
   "id": "656d3ed5cc432cf"
  },
  {
   "cell_type": "markdown",
   "source": [
    "### Guardado de datasets"
   ],
   "metadata": {
    "collapsed": false
   },
   "id": "577ee3108ac9d4cd"
  },
  {
   "cell_type": "markdown",
   "source": [
    "Con el objetivo de entrenar futuros modelos con el dataset estandarizado, se exporta el dataset resultante."
   ],
   "metadata": {
    "collapsed": false
   },
   "id": "cf1afabaeb0b2f93"
  },
  {
   "cell_type": "code",
   "execution_count": 8,
   "outputs": [],
   "source": [
    "# Creación de carpeta contenedora\n",
    "import os\n",
    "\n",
    "container_dir = './datasets'\n",
    "if not os.path.exists(container_dir):\n",
    "    os.mkdir(container_dir)"
   ],
   "metadata": {
    "collapsed": false,
    "ExecuteTime": {
     "end_time": "2023-11-04T18:45:38.882901177Z",
     "start_time": "2023-11-04T18:45:38.881970948Z"
    }
   },
   "id": "e6da75840f816988"
  },
  {
   "cell_type": "code",
   "execution_count": 9,
   "outputs": [],
   "source": [
    "# Guardado de dataset estandarizado\n",
    "std_data.to_csv(os.path.join(container_dir, 'std_data.csv'), index=None)\n",
    "\n",
    "# Guardado de variable objetivo\n",
    "y.to_csv(os.path.join(container_dir, 'obj_data.csv'), index=None)"
   ],
   "metadata": {
    "collapsed": false,
    "ExecuteTime": {
     "end_time": "2023-11-04T18:45:39.919761601Z",
     "start_time": "2023-11-04T18:45:38.882103271Z"
    }
   },
   "id": "3c2fec5d3fff2f58"
  },
  {
   "cell_type": "markdown",
   "source": [
    "### División del dataset"
   ],
   "metadata": {
    "collapsed": false
   },
   "id": "3ea97f945b9eb855"
  },
  {
   "cell_type": "markdown",
   "source": [
    "Dividimos aleatoriamente los datos en 80% para ***entrenamiento*** y 20% para ***test***. Del 20% de los datasets de *test* los dividiremos en partes iguales para ***test*** y ***validación***. "
   ],
   "metadata": {
    "collapsed": false
   },
   "id": "e86f6fb035ac39bd"
  },
  {
   "cell_type": "code",
   "execution_count": 10,
   "outputs": [
    {
     "data": {
      "text/plain": "((56553, 21), (14139, 21), (56553,), (14139,))"
     },
     "execution_count": 10,
     "metadata": {},
     "output_type": "execute_result"
    }
   ],
   "source": [
    "from sklearn.model_selection import train_test_split\n",
    "\n",
    "X_train, X_temp, y_train, y_temp = train_test_split(X.values, y.values,\n",
    "                                                    train_size=0.8, random_state=0)\n",
    "X_train.shape, X_temp.shape, y_train.shape, y_temp.shape"
   ],
   "metadata": {
    "collapsed": false,
    "ExecuteTime": {
     "end_time": "2023-11-04T18:45:39.966541901Z",
     "start_time": "2023-11-04T18:45:39.922620323Z"
    }
   },
   "id": "6626aacd036ae7b6"
  },
  {
   "cell_type": "code",
   "execution_count": 11,
   "outputs": [
    {
     "data": {
      "text/plain": "((7069, 21), (7070, 21), (7069,), (7070,))"
     },
     "execution_count": 11,
     "metadata": {},
     "output_type": "execute_result"
    }
   ],
   "source": [
    "X_val, X_test, y_val, y_test = train_test_split(X_temp, y_temp,\n",
    "                                                test_size=0.5, random_state=0)\n",
    "X_val.shape, X_test.shape, y_val.shape, y_test.shape"
   ],
   "metadata": {
    "collapsed": false,
    "ExecuteTime": {
     "end_time": "2023-11-04T18:45:39.966758097Z",
     "start_time": "2023-11-04T18:45:39.966097973Z"
    }
   },
   "id": "4c1afab2f1db6af0"
  },
  {
   "cell_type": "markdown",
   "source": [
    "Una vez separados los datasets, es necesario convertir los datos en ***tensores*** de *PyTorch*."
   ],
   "metadata": {
    "collapsed": false
   },
   "id": "b545d88ebe4f535f"
  },
  {
   "cell_type": "code",
   "execution_count": 12,
   "outputs": [],
   "source": [
    "X_train = torch.Tensor(X_train)\n",
    "y_train = torch.LongTensor(y_train)\n",
    "\n",
    "X_val = torch.Tensor(X_val)\n",
    "y_val = torch.LongTensor(y_val)\n",
    "\n",
    "X_test = torch.Tensor(X_test)\n",
    "y_test = torch.LongTensor(y_test)"
   ],
   "metadata": {
    "collapsed": false,
    "ExecuteTime": {
     "end_time": "2023-11-04T18:45:39.967330787Z",
     "start_time": "2023-11-04T18:45:39.966297383Z"
    }
   },
   "id": "f3e0725acc3c406a"
  },
  {
   "cell_type": "markdown",
   "source": [
    "### Planteo del modelo\n",
    "\n",
    "En esta primera aproximación se definirá un modelo básico y simple de red neuronal, el la cual entrenaremos, evaluaremos y utilizaremos para hacer predicciones."
   ],
   "metadata": {
    "collapsed": false
   },
   "id": "112407656d0f29d9"
  },
  {
   "cell_type": "code",
   "execution_count": 13,
   "outputs": [],
   "source": [
    "class BaselineModel(nn.Module):\n",
    "    def __init__(self,\n",
    "                 input_features = 21, # Cantidad de features de entrada\n",
    "                 hidden_layer_1 = 8, # Cantidad de neuronas de la primera capa oculta\n",
    "                 hidden_layer_2 = 9, # Cantidad de neuronas de la segunda capa oculta\n",
    "                 output_features = 2 # Dimensión de la salida\n",
    "                 ):\n",
    "        super().__init__() # Llama al método __init__ de la clase nn.Module\n",
    "        # Generamos una red con 3 capas lineales (la última es de salida)\n",
    "        self.fully_connected_1 = nn.Linear(input_features, hidden_layer_1)\n",
    "        self.fully_connected_2 = nn.Linear(hidden_layer_1, hidden_layer_2)\n",
    "        self.output = nn.Linear(hidden_layer_2, output_features)\n",
    "\n",
    "    # Foward pass\n",
    "    def forward(self, x):\n",
    "        x = F.relu(self.fully_connected_1(x))\n",
    "        x = F.relu(self.fully_connected_2(x))\n",
    "        x = self.output(x)\n",
    "        return x"
   ],
   "metadata": {
    "collapsed": false,
    "ExecuteTime": {
     "end_time": "2023-11-04T18:45:39.967455843Z",
     "start_time": "2023-11-04T18:45:39.966358149Z"
    }
   },
   "id": "43f08fc0a7e8e658"
  },
  {
   "cell_type": "code",
   "execution_count": 14,
   "outputs": [
    {
     "data": {
      "text/plain": "<bound method Module.parameters of BaselineModel(\n  (fully_connected_1): Linear(in_features=21, out_features=8, bias=True)\n  (fully_connected_2): Linear(in_features=8, out_features=9, bias=True)\n  (output): Linear(in_features=9, out_features=2, bias=True)\n)>"
     },
     "execution_count": 14,
     "metadata": {},
     "output_type": "execute_result"
    }
   ],
   "source": [
    "# Definimos una semilla para hacer que el entrenamiento sea reproducible\n",
    "torch.manual_seed(0)\n",
    "\n",
    "# Instanciamos la clase\n",
    "model = BaselineModel()\n",
    "\n",
    "# Función de loss para problemas multi-clase\n",
    "# En el caso de nn.CrossEntropyLoss() la función\n",
    "# softmax ya está implícitamente incluida por pytorch\n",
    "criterion = nn.CrossEntropyLoss() # Función de loss para problemas multi-clase\n",
    "\n",
    "# Definimos el optimizador Adam\n",
    "optimizer = torch.optim.Adam(model.parameters(), lr = 0.1)\n",
    "\n",
    "model.parameters"
   ],
   "metadata": {
    "collapsed": false,
    "ExecuteTime": {
     "end_time": "2023-11-04T18:45:40.182618168Z",
     "start_time": "2023-11-04T18:45:39.966414865Z"
    }
   },
   "id": "8e747b1e536b206e"
  },
  {
   "cell_type": "markdown",
   "source": [
    "### Entrenamiento del modelo base\n",
    "\n"
   ],
   "metadata": {
    "collapsed": false
   },
   "id": "5cf678a0916c8f2a"
  },
  {
   "cell_type": "code",
   "execution_count": 15,
   "outputs": [
    {
     "name": "stderr",
     "output_type": "stream",
     "text": [
      "  1%|          | 58/10000 [00:00<00:34, 287.54it/s]"
     ]
    },
    {
     "name": "stdout",
     "output_type": "stream",
     "text": [
      "epoch:  1  loss: 0.72434175\n"
     ]
    },
    {
     "name": "stderr",
     "output_type": "stream",
     "text": [
      " 10%|█         | 1033/10000 [00:03<00:27, 322.68it/s]"
     ]
    },
    {
     "name": "stdout",
     "output_type": "stream",
     "text": [
      "epoch: 1001  loss: 0.69313538\n"
     ]
    },
    {
     "name": "stderr",
     "output_type": "stream",
     "text": [
      " 21%|██        | 2062/10000 [00:06<00:25, 314.38it/s]"
     ]
    },
    {
     "name": "stdout",
     "output_type": "stream",
     "text": [
      "epoch: 2001  loss: 0.69313538\n"
     ]
    },
    {
     "name": "stderr",
     "output_type": "stream",
     "text": [
      " 31%|███       | 3056/10000 [00:09<00:22, 306.60it/s]"
     ]
    },
    {
     "name": "stdout",
     "output_type": "stream",
     "text": [
      "epoch: 3001  loss: 0.69313538\n"
     ]
    },
    {
     "name": "stderr",
     "output_type": "stream",
     "text": [
      " 41%|████      | 4059/10000 [00:13<00:19, 298.75it/s]"
     ]
    },
    {
     "name": "stdout",
     "output_type": "stream",
     "text": [
      "epoch: 4001  loss: 0.69313538\n"
     ]
    },
    {
     "name": "stderr",
     "output_type": "stream",
     "text": [
      " 50%|█████     | 5044/10000 [00:16<00:17, 279.65it/s]"
     ]
    },
    {
     "name": "stdout",
     "output_type": "stream",
     "text": [
      "epoch: 5001  loss: 0.69313538\n"
     ]
    },
    {
     "name": "stderr",
     "output_type": "stream",
     "text": [
      " 61%|██████    | 6061/10000 [00:20<00:13, 301.61it/s]"
     ]
    },
    {
     "name": "stdout",
     "output_type": "stream",
     "text": [
      "epoch: 6001  loss: 0.69313526\n"
     ]
    },
    {
     "name": "stderr",
     "output_type": "stream",
     "text": [
      " 70%|███████   | 7031/10000 [00:23<00:11, 266.61it/s]"
     ]
    },
    {
     "name": "stdout",
     "output_type": "stream",
     "text": [
      "epoch: 7001  loss: 0.69313794\n"
     ]
    },
    {
     "name": "stderr",
     "output_type": "stream",
     "text": [
      " 80%|████████  | 8042/10000 [00:27<00:06, 280.07it/s]"
     ]
    },
    {
     "name": "stdout",
     "output_type": "stream",
     "text": [
      "epoch: 8001  loss: 0.69313538\n"
     ]
    },
    {
     "name": "stderr",
     "output_type": "stream",
     "text": [
      " 90%|█████████ | 9034/10000 [00:30<00:03, 274.21it/s]"
     ]
    },
    {
     "name": "stdout",
     "output_type": "stream",
     "text": [
      "epoch: 9001  loss: 0.69313961\n"
     ]
    },
    {
     "name": "stderr",
     "output_type": "stream",
     "text": [
      "100%|██████████| 10000/10000 [00:33<00:00, 295.29it/s]\n"
     ]
    }
   ],
   "source": [
    "# Cada epoch representa un entrenamiento completo sobre el dataset\n",
    "epochs = 10000\n",
    "\n",
    "train_losses = []\n",
    "val_losses = []\n",
    "\n",
    "for epoch in tqdm.trange(epochs):\n",
    "    epoch+=1\n",
    "\n",
    "    # Forward pass y obtener la predicción\n",
    "    y_pred = model.forward(X_train)\n",
    "\n",
    "    # Calcular la loss de cada época\n",
    "    loss_train = criterion(y_pred, y_train)\n",
    "    train_losses.append(loss_train.item())\n",
    "\n",
    "    # Logueamos resultados cada 10 épocas\n",
    "    if epoch%1000 == 1:\n",
    "       print(f'epoch: {epoch:2}  loss: {loss_train.item():10.8f}')\n",
    "\n",
    "    # optimizer.zero_grad() Reinicia todos los gradientes, sino se acumulan\n",
    "    # y estaríamos usando valores de gradiente que ya usamos previamente\n",
    "    optimizer.zero_grad()\n",
    "    loss_train.backward()\n",
    "    optimizer.step() #Actualiza todos los parámetros del modelo (pesos y biases)\n",
    "\n",
    "    with torch.no_grad():\n",
    "        # Forward pass y obtener la predicción\n",
    "        y_pred_val = model.forward(X_val)\n",
    "\n",
    "        # Calcular la loss de cada época\n",
    "        loss_val = criterion(y_pred_val, y_val)\n",
    "        val_losses.append(loss_val.item())"
   ],
   "metadata": {
    "collapsed": false,
    "ExecuteTime": {
     "end_time": "2023-11-04T18:46:14.102172614Z",
     "start_time": "2023-11-04T18:45:40.185491885Z"
    }
   },
   "id": "844d85357da514a7"
  },
  {
   "cell_type": "markdown",
   "source": [
    "### Análisis de métricas"
   ],
   "metadata": {
    "collapsed": false
   },
   "id": "c2aad38ef88ca91c"
  },
  {
   "cell_type": "code",
   "execution_count": 16,
   "outputs": [
    {
     "data": {
      "text/plain": "<Figure size 640x480 with 1 Axes>",
      "image/png": "[encoded data removed]"
     },
     "metadata": {},
     "output_type": "display_data"
    }
   ],
   "source": [
    "plt.title('Función de Loss a lo largo las épocas')\n",
    "plt.plot(train_losses, label='Training loss')\n",
    "plt.plot(val_losses, label='Validation loss')\n",
    "plt.ylabel('Loss')\n",
    "plt.xlabel('epoch')\n",
    "plt.legend()\n",
    "plt.show()"
   ],
   "metadata": {
    "collapsed": false,
    "ExecuteTime": {
     "end_time": "2023-11-04T18:46:14.263457981Z",
     "start_time": "2023-11-04T18:46:14.101987819Z"
    }
   },
   "id": "a52c59b83431c5f8"
  },
  {
   "cell_type": "markdown",
   "source": [
    "En esta gráfica de función ***Loss*** observamos cómo los valores se disparan al comienzo del entrenamiento y rápidamente se estabilizan en un valor cercano a **0.75**."
   ],
   "metadata": {
    "collapsed": false
   },
   "id": "48b4e5d41c3e7556"
  },
  {
   "cell_type": "markdown",
   "source": [
    "### Guardado del modelo\n",
    "\n",
    "Con el objetivo de comparar o reutilizar el modelo en futuros análisis, se lo exporta como archivo `.pt`."
   ],
   "metadata": {
    "collapsed": false
   },
   "id": "954f5114ea5d60ef"
  },
  {
   "cell_type": "code",
   "execution_count": 17,
   "outputs": [],
   "source": [
    "# Creación de carpeta contenedora\n",
    "import os\n",
    "\n",
    "container_dir = './models'\n",
    "if not os.path.exists(container_dir):\n",
    "    os.mkdir(container_dir)"
   ],
   "metadata": {
    "collapsed": false,
    "ExecuteTime": {
     "end_time": "2023-11-04T18:48:49.798136577Z",
     "start_time": "2023-11-04T18:48:49.756432846Z"
    }
   },
   "id": "6eb2aa4f828c9f32"
  },
  {
   "cell_type": "code",
   "execution_count": 19,
   "outputs": [],
   "source": [
    "# Guardado de modelo base\n",
    "torch.save(model.state_dict(), os.path.join(container_dir, 'baseline_model.pt'))"
   ],
   "metadata": {
    "collapsed": false,
    "ExecuteTime": {
     "end_time": "2023-11-04T18:52:27.314013562Z",
     "start_time": "2023-11-04T18:52:27.269676045Z"
    }
   },
   "id": "811f389ed6b507ee"
  }
 ],
 "metadata": {
  "kernelspec": {
   "display_name": "Python 3",
   "language": "python",
   "name": "python3"
  },
  "language_info": {
   "codemirror_mode": {
    "name": "ipython",
    "version": 3
   },
   "file_extension": ".py",
   "mimetype": "text/x-python",
   "name": "python",
   "nbconvert_exporter": "python",
   "pygments_lexer": "ipython3",
   "version": "3.8.8"
  },
  "colab": {
   "provenance": [
    {
     "file_id": "1CggfhDXWdl4PJLGftf1EQHserSoUFk44",
     "timestamp": 1684260148947
    },
    {
     "file_id": "1WUlq5mXBWg0Qa4INSPGJUBpWlah4bFqd",
     "timestamp": 1682539012303
    }
   ]
  }
 },
 "nbformat": 4,
 "nbformat_minor": 5
}
