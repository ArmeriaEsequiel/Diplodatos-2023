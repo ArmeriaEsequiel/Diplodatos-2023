{
 "cells": [
  {
   "cell_type": "markdown",
   "source": [
    "**Diplomatura en Ciencia de Datos, Aprendizaje Automático y sus Aplicaciones**\n",
    "\n",
    "**Introducción al Aprendizaje profundo**\n",
    "\n",
    "*Edición 2023*\n",
    "\n",
    "----\n",
    "\n",
    "# Trabajo práctico entregable\n",
    "\n",
    "Dado el dataset que busca [detectar si una oración es sarcástica o no](https://www.kaggle.com/datasets/saurabhbagchi/sarcasm-detection-through-nlp?select=Sarcasm_Headlines_Dataset.json)."
   ],
   "metadata": {
    "collapsed": false
   },
   "id": "177d1e3cee493929"
  },
  {
   "cell_type": "markdown",
   "source": [
    "\n",
    "## Ejercicio 1 - Preprocesamiento de los Datos\n",
    "\n",
    "Pre-procesar los datos de texto teniendo en cuenta como baseline lo que se hizo en esta [notebook](https://colab.research.google.com/drive/1jRT2MBvOO36t3lBcV2roI1NVkzP7Cjyo?usp=sharing).\n",
    "Para cargar los datos pueden guiarse de esta [notebook introductoria](https://colab.research.google.com/drive/1ZxvMQhja1fZIfbcF7u1G1LN3MfpWlBSs?usp=sharing). Tengan cuenta evaluar cuál \n",
    "es la longitud máxima de sus sentencias o qué les conviene agregar/sacar para procesar el dataset\n",
    "de sarcasmo.\n",
    "\n",
    "----"
   ],
   "metadata": {
    "collapsed": false
   },
   "id": "a4036650fd051ebb"
  },
  {
   "cell_type": "markdown",
   "source": [
    "### Imports y lectura del archivo"
   ],
   "metadata": {
    "collapsed": false
   },
   "id": "e54850a246a48042"
  },
  {
   "cell_type": "code",
   "execution_count": 2,
   "outputs": [],
   "source": [
    "import re\n",
    "import json\n",
    "import contractions\n",
    "\n",
    "import nltk.corpus\n",
    "from nltk.corpus import stopwords\n",
    "from nltk.corpus import wordnet\n",
    "from nltk.stem.porter import PorterStemmer\n",
    "from nltk.stem import WordNetLemmatizer\n",
    "\n",
    "from gensim.models import KeyedVectors\n",
    "\n",
    "import numpy as np\n",
    "import pandas as pd\n",
    "import seaborn as sns\n",
    "\n",
    "import matplotlib.pyplot as plt"
   ],
   "metadata": {
    "collapsed": false,
    "ExecuteTime": {
     "end_time": "2023-11-17T02:04:34.308287409Z",
     "start_time": "2023-11-17T02:04:34.174912973Z"
    }
   },
   "id": "1d115250f12df042"
  },
  {
   "cell_type": "markdown",
   "source": [
    "#### Lectura del archivo"
   ],
   "metadata": {
    "collapsed": false
   },
   "id": "d95c5cebddfbb913"
  },
  {
   "cell_type": "code",
   "execution_count": 3,
   "outputs": [],
   "source": [
    "with open(file='./data/Sarcasm_Headlines_Dataset.json', mode='r') as file:\n",
    "    data = [json.loads(line) for line in file]"
   ],
   "metadata": {
    "collapsed": false,
    "ExecuteTime": {
     "end_time": "2023-11-17T02:04:34.322969455Z",
     "start_time": "2023-11-17T02:04:34.176859397Z"
    }
   },
   "id": "93e729fd510745df"
  },
  {
   "cell_type": "markdown",
   "source": [
    "#### Conversión a dataset"
   ],
   "metadata": {
    "collapsed": false
   },
   "id": "c593c0b0fa19c577"
  },
  {
   "cell_type": "code",
   "execution_count": 4,
   "outputs": [
    {
     "data": {
      "text/plain": "(26709, 3)"
     },
     "execution_count": 4,
     "metadata": {},
     "output_type": "execute_result"
    }
   ],
   "source": [
    "df = pd.DataFrame(data)\n",
    "df.shape"
   ],
   "metadata": {
    "collapsed": false,
    "ExecuteTime": {
     "end_time": "2023-11-17T02:04:34.355296297Z",
     "start_time": "2023-11-17T02:04:34.354891634Z"
    }
   },
   "id": "fdfd53b00fc4a24e"
  },
  {
   "cell_type": "code",
   "execution_count": 5,
   "outputs": [
    {
     "data": {
      "text/plain": "                                        article_link  \\\n0  https://www.huffingtonpost.com/entry/versace-b...   \n1  https://www.huffingtonpost.com/entry/roseanne-...   \n2  https://local.theonion.com/mom-starting-to-fea...   \n3  https://politics.theonion.com/boehner-just-wan...   \n4  https://www.huffingtonpost.com/entry/jk-rowlin...   \n\n                                            headline  is_sarcastic  \n0  former versace store clerk sues over secret 'b...             0  \n1  the 'roseanne' revival catches up to our thorn...             0  \n2  mom starting to fear son's web series closest ...             1  \n3  boehner just wants wife to listen, not come up...             1  \n4  j.k. rowling wishes snape happy birthday in th...             0  ",
      "text/html": "<div>\n<style scoped>\n    .dataframe tbody tr th:only-of-type {\n        vertical-align: middle;\n    }\n\n    .dataframe tbody tr th {\n        vertical-align: top;\n    }\n\n    .dataframe thead th {\n        text-align: right;\n    }\n</style>\n<table border=\"1\" class=\"dataframe\">\n  <thead>\n    <tr style=\"text-align: right;\">\n      <th></th>\n      <th>article_link</th>\n      <th>headline</th>\n      <th>is_sarcastic</th>\n    </tr>\n  </thead>\n  <tbody>\n    <tr>\n      <th>0</th>\n      <td>https://www.huffingtonpost.com/entry/versace-b...</td>\n      <td>former versace store clerk sues over secret 'b...</td>\n      <td>0</td>\n    </tr>\n    <tr>\n      <th>1</th>\n      <td>https://www.huffingtonpost.com/entry/roseanne-...</td>\n      <td>the 'roseanne' revival catches up to our thorn...</td>\n      <td>0</td>\n    </tr>\n    <tr>\n      <th>2</th>\n      <td>https://local.theonion.com/mom-starting-to-fea...</td>\n      <td>mom starting to fear son's web series closest ...</td>\n      <td>1</td>\n    </tr>\n    <tr>\n      <th>3</th>\n      <td>https://politics.theonion.com/boehner-just-wan...</td>\n      <td>boehner just wants wife to listen, not come up...</td>\n      <td>1</td>\n    </tr>\n    <tr>\n      <th>4</th>\n      <td>https://www.huffingtonpost.com/entry/jk-rowlin...</td>\n      <td>j.k. rowling wishes snape happy birthday in th...</td>\n      <td>0</td>\n    </tr>\n  </tbody>\n</table>\n</div>"
     },
     "execution_count": 5,
     "metadata": {},
     "output_type": "execute_result"
    }
   ],
   "source": [
    "df.head()"
   ],
   "metadata": {
    "collapsed": false,
    "ExecuteTime": {
     "end_time": "2023-11-17T02:04:34.355570460Z",
     "start_time": "2023-11-17T02:04:34.355004783Z"
    }
   },
   "id": "444329915b522e69"
  },
  {
   "cell_type": "markdown",
   "source": [
    "### Análisis del dataset"
   ],
   "metadata": {
    "collapsed": false
   },
   "id": "90eb3f0acb4a54f5"
  },
  {
   "cell_type": "code",
   "execution_count": 6,
   "outputs": [
    {
     "name": "stdout",
     "output_type": "stream",
     "text": [
      "<class 'pandas.core.frame.DataFrame'>\n",
      "RangeIndex: 26709 entries, 0 to 26708\n",
      "Data columns (total 3 columns):\n",
      " #   Column        Non-Null Count  Dtype \n",
      "---  ------        --------------  ----- \n",
      " 0   article_link  26709 non-null  object\n",
      " 1   headline      26709 non-null  object\n",
      " 2   is_sarcastic  26709 non-null  int64 \n",
      "dtypes: int64(1), object(2)\n",
      "memory usage: 626.1+ KB\n"
     ]
    }
   ],
   "source": [
    "df.info()"
   ],
   "metadata": {
    "collapsed": false,
    "ExecuteTime": {
     "end_time": "2023-11-17T02:04:34.355666984Z",
     "start_time": "2023-11-17T02:04:34.355040807Z"
    }
   },
   "id": "b5e7c99b0dbd18c7"
  },
  {
   "cell_type": "markdown",
   "source": [
    "En este dataset observamos que no hay datos faltantes y además, todos son de tipo `object` (cadena de caracteres), excepto la variable objetivo `is_sarcastic`."
   ],
   "metadata": {
    "collapsed": false
   },
   "id": "6ad9aeb7354d8412"
  },
  {
   "cell_type": "code",
   "execution_count": 7,
   "outputs": [
    {
     "data": {
      "text/plain": "is_sarcastic\n0    14985\n1    11724\nName: count, dtype: int64"
     },
     "execution_count": 7,
     "metadata": {},
     "output_type": "execute_result"
    }
   ],
   "source": [
    "df.is_sarcastic.value_counts()"
   ],
   "metadata": {
    "collapsed": false,
    "ExecuteTime": {
     "end_time": "2023-11-17T02:04:34.355753815Z",
     "start_time": "2023-11-17T02:04:34.355073712Z"
    }
   },
   "id": "34910ce801d1990b"
  },
  {
   "cell_type": "code",
   "execution_count": 8,
   "outputs": [
    {
     "data": {
      "text/plain": "<Figure size 640x480 with 1 Axes>",
      "image/png": "[encoded data removed]"
     },
     "metadata": {},
     "output_type": "display_data"
    }
   ],
   "source": [
    "sns.barplot(x = np.array(['no_sarcastic','sarcastic']), \n",
    "            y = df.is_sarcastic.value_counts(),)\n",
    "plt.tight_layout()"
   ],
   "metadata": {
    "collapsed": false,
    "ExecuteTime": {
     "end_time": "2023-11-17T02:04:34.519088431Z",
     "start_time": "2023-11-17T02:04:34.355112957Z"
    }
   },
   "id": "c3b6416253acde3d"
  },
  {
   "cell_type": "markdown",
   "source": [
    "En el caso de la variable objetivo observamos que no está exactamente balanceada como en los datos del laboratorio 1, pero las cantidades son cercanas, por lo que se espera que las predicciones futuras sean de buena calidad, a diferencia de lo que sucede cuando la variable objetivo está desbalanceada, afectando el modelo de clasificación y predicción.\n"
   ],
   "metadata": {
    "collapsed": false
   },
   "id": "1a5efb14168242ac"
  },
  {
   "cell_type": "markdown",
   "source": [
    "### Preprocesamiento\n",
    "\n",
    "El preprocesamiento de texto es un primer paso fundamental donde se limpian los datos del texto preparándolos para lo que necesita como entrada el modelo."
   ],
   "metadata": {
    "collapsed": false
   },
   "id": "16f9f55618f0a4e3"
  },
  {
   "cell_type": "markdown",
   "source": [
    "#### Limpieza del texto\n",
    "\n",
    "En este primer paso, se eliminan signos puntuación, espacios adicionales y números, luego se transforman oraciones en palabras individuales, eliminamos palabras comunes (conocidas como *stop words*) aplicamos *stemming* y *lemmatazing*. Finalmente, se obtiene las frases limpias, con palabras base listas para le próximo paso de preprocesamiento."
   ],
   "metadata": {
    "collapsed": false
   },
   "id": "6518a26ebda9a013"
  },
  {
   "cell_type": "code",
   "execution_count": 9,
   "outputs": [],
   "source": [
    "def normalize(string: str):\n",
    "    \"\"\"\n",
    "    Converts string to lower case\n",
    "    :param string: string to convert\n",
    "    :return: lowercase string\n",
    "    \"\"\"\n",
    "    return string.lower()"
   ],
   "metadata": {
    "collapsed": false,
    "ExecuteTime": {
     "end_time": "2023-11-17T02:04:34.519246588Z",
     "start_time": "2023-11-17T02:04:34.518853807Z"
    }
   },
   "id": "7fab0cc9c8eb86de"
  },
  {
   "cell_type": "code",
   "execution_count": 10,
   "outputs": [],
   "source": [
    "def unicode(string: str):\n",
    "    \"\"\"\n",
    "    Eliminates punctuation, URL, and @ noise.\n",
    "    :param string: string to fix\n",
    "    :return: unicode string\n",
    "    \"\"\"\n",
    "    return re.sub(r\"(@[A-Za-z0-9]+)|([^0-9A-Za-z \\t])|(\\w+:\\/\\/\\S+)|^rt|http.+?\", \"\", string)"
   ],
   "metadata": {
    "collapsed": false,
    "ExecuteTime": {
     "end_time": "2023-11-17T02:04:34.519299251Z",
     "start_time": "2023-11-17T02:04:34.518952561Z"
    }
   },
   "id": "6303cc0c56ee641a"
  },
  {
   "cell_type": "code",
   "execution_count": 11,
   "outputs": [],
   "source": [
    "def del_stopwords(txt: str):\n",
    "    \"\"\"\n",
    "    Deletes stopwords from text parameter\n",
    "    :param txt: string to clean\n",
    "    :return: string without stopwords\n",
    "    \"\"\"\n",
    "    nltk.download('stopwords')\n",
    "    stop = stopwords.words('english')\n",
    "    return \" \".join([word for word in txt.split() if word not in stop])"
   ],
   "metadata": {
    "collapsed": false,
    "ExecuteTime": {
     "end_time": "2023-11-17T02:04:34.519332589Z",
     "start_time": "2023-11-17T02:04:34.518983207Z"
    }
   },
   "id": "d28a8bf53c92e7c2"
  },
  {
   "cell_type": "code",
   "execution_count": 12,
   "outputs": [],
   "source": [
    "def stemming(string: str):\n",
    "    \"\"\"\n",
    "    Groups words by their root stem\n",
    "    Eg: recognize that ‘jumping’ ‘jumps’ and ‘jumped’ are all rooted to the same verb (jump)\n",
    "    :param string: string to group\n",
    "    :return: root converted string\n",
    "    \"\"\"\n",
    "    stemmer = PorterStemmer()\n",
    "    return stemmer.stem(word=string)"
   ],
   "metadata": {
    "collapsed": false,
    "ExecuteTime": {
     "end_time": "2023-11-17T02:04:34.519362715Z",
     "start_time": "2023-11-17T02:04:34.519006656Z"
    }
   },
   "id": "666ed27e3351a04b"
  },
  {
   "cell_type": "code",
   "execution_count": 13,
   "outputs": [],
   "source": [
    "def pos_tagger(tag: str):\n",
    "    \"\"\"\n",
    "    Converts POS tag to wordnet tag\n",
    "    :param tag: POS tag\n",
    "    :return: wordnet tag\n",
    "    \"\"\"\n",
    "    if tag.startswith('J'):\n",
    "        return wordnet.ADJ\n",
    "    elif tag.startswith('V'):\n",
    "        return wordnet.VERB\n",
    "    elif tag.startswith('N'):\n",
    "        return wordnet.NOUN\n",
    "    elif tag.startswith('R'):\n",
    "        return wordnet.ADV\n",
    "    else:\n",
    "        return None"
   ],
   "metadata": {
    "collapsed": false,
    "ExecuteTime": {
     "end_time": "2023-11-17T02:04:34.519393482Z",
     "start_time": "2023-11-17T02:04:34.519028214Z"
    }
   },
   "id": "c2a460bfaff4ce42"
  },
  {
   "cell_type": "code",
   "execution_count": 14,
   "outputs": [],
   "source": [
    "def lemmatazing(txt: str):\n",
    "    \"\"\"\n",
    "    Groups words based on root definition, and differentiates between present, past, and indefinite\n",
    "    :param txt: text to lemmatize\n",
    "    :return: root converted text\n",
    "    \"\"\"\n",
    "    nltk.download('punkt')\n",
    "    nltk.download('wordnet')\n",
    "    nltk.download('averaged_perceptron_tagger')\n",
    "    nltk_tagged = nltk.pos_tag(nltk.word_tokenize(txt))\n",
    "    wordnet_tagged = map(lambda x: (x[0], pos_tagger(x[1])), nltk_tagged)\n",
    "    lemmatized_sentence = []\n",
    "\n",
    "    lemmatizer = WordNetLemmatizer()\n",
    "    for word, tag in wordnet_tagged:\n",
    "        if tag is None:\n",
    "            lemmatized_sentence.append(word)\n",
    "        else:\n",
    "            lemmatized_sentence.append(lemmatizer.lemmatize(word, tag))\n",
    "    return \" \".join(lemmatized_sentence)"
   ],
   "metadata": {
    "collapsed": false,
    "ExecuteTime": {
     "end_time": "2023-11-17T02:04:34.520063219Z",
     "start_time": "2023-11-17T02:04:34.519155488Z"
    }
   },
   "id": "39fbd176ca1b9951"
  },
  {
   "cell_type": "code",
   "execution_count": 15,
   "outputs": [],
   "source": [
    "def rm_contraction(txt: str):\n",
    "    \"\"\"\n",
    "    Converts english contractions into it full form\n",
    "    Eg: I'd -> I would\n",
    "    :param txt: text to be converted\n",
    "    :return: text without contractions\n",
    "    \"\"\"\n",
    "    return contractions.fix(txt)"
   ],
   "metadata": {
    "collapsed": false,
    "ExecuteTime": {
     "end_time": "2023-11-17T02:04:34.520923593Z",
     "start_time": "2023-11-17T02:04:34.519186426Z"
    }
   },
   "id": "cda97823178d593c"
  },
  {
   "cell_type": "code",
   "execution_count": 16,
   "outputs": [],
   "source": [
    "def clean_data_pipeline(dataframe: pd.DataFrame, columns: list):\n",
    "    \"\"\"\n",
    "    Applies cleaning function to columns list of dataset\n",
    "    :param dataframe: dataset to clean\n",
    "    :param columns: columns to clean\n",
    "    :return: cleaned dataset\n",
    "    \"\"\"\n",
    "    aux = dataframe.copy()\n",
    "    for column in columns:\n",
    "        aux[column] = aux[column].apply(lambda f: normalize(f))\n",
    "        aux[column] = aux[column].apply(lambda f: rm_contraction(f))\n",
    "        aux[column] = aux[column].apply(lambda f: unicode(f))\n",
    "        aux[column] = aux[column].apply(lambda f: del_stopwords(f))\n",
    "        aux[column] = aux[column].apply(lambda f: lemmatazing(f))\n",
    "    return aux"
   ],
   "metadata": {
    "collapsed": false,
    "ExecuteTime": {
     "end_time": "2023-11-17T02:04:34.520980972Z",
     "start_time": "2023-11-17T02:04:34.519208499Z"
    }
   },
   "id": "e52a4c85e2bf41e6"
  },
  {
   "cell_type": "code",
   "execution_count": null,
   "outputs": [],
   "source": [
    "clean_df = clean_data_pipeline(dataframe=df, columns=['headline'])"
   ],
   "metadata": {
    "collapsed": false
   },
   "id": "47e6ec93812d5da9"
  },
  {
   "cell_type": "code",
   "execution_count": 18,
   "outputs": [
    {
     "data": {
      "text/plain": "                                        article_link  \\\n0  https://www.huffingtonpost.com/entry/versace-b...   \n1  https://www.huffingtonpost.com/entry/roseanne-...   \n2  https://local.theonion.com/mom-starting-to-fea...   \n3  https://politics.theonion.com/boehner-just-wan...   \n4  https://www.huffingtonpost.com/entry/jk-rowlin...   \n\n                                            headline  is_sarcastic  \n0  former versace store clerk sue secret black co...             0  \n1  roseanne revival catch thorny political mood w...             0  \n2  mom start fear son web series closest thing gr...             1  \n3  boehner want wife listen come alternative debt...             1  \n4   jk rowling wish snape happy birthday magical way             0  ",
      "text/html": "<div>\n<style scoped>\n    .dataframe tbody tr th:only-of-type {\n        vertical-align: middle;\n    }\n\n    .dataframe tbody tr th {\n        vertical-align: top;\n    }\n\n    .dataframe thead th {\n        text-align: right;\n    }\n</style>\n<table border=\"1\" class=\"dataframe\">\n  <thead>\n    <tr style=\"text-align: right;\">\n      <th></th>\n      <th>article_link</th>\n      <th>headline</th>\n      <th>is_sarcastic</th>\n    </tr>\n  </thead>\n  <tbody>\n    <tr>\n      <th>0</th>\n      <td>https://www.huffingtonpost.com/entry/versace-b...</td>\n      <td>former versace store clerk sue secret black co...</td>\n      <td>0</td>\n    </tr>\n    <tr>\n      <th>1</th>\n      <td>https://www.huffingtonpost.com/entry/roseanne-...</td>\n      <td>roseanne revival catch thorny political mood w...</td>\n      <td>0</td>\n    </tr>\n    <tr>\n      <th>2</th>\n      <td>https://local.theonion.com/mom-starting-to-fea...</td>\n      <td>mom start fear son web series closest thing gr...</td>\n      <td>1</td>\n    </tr>\n    <tr>\n      <th>3</th>\n      <td>https://politics.theonion.com/boehner-just-wan...</td>\n      <td>boehner want wife listen come alternative debt...</td>\n      <td>1</td>\n    </tr>\n    <tr>\n      <th>4</th>\n      <td>https://www.huffingtonpost.com/entry/jk-rowlin...</td>\n      <td>jk rowling wish snape happy birthday magical way</td>\n      <td>0</td>\n    </tr>\n  </tbody>\n</table>\n</div>"
     },
     "execution_count": 18,
     "metadata": {},
     "output_type": "execute_result"
    }
   ],
   "source": [
    "clean_df.head()"
   ],
   "metadata": {
    "collapsed": false,
    "ExecuteTime": {
     "end_time": "2023-11-17T02:04:49.488110184Z",
     "start_time": "2023-11-17T02:04:49.485359377Z"
    }
   },
   "id": "8788dd1e0b8d3005"
  },
  {
   "cell_type": "markdown",
   "source": [
    "### Vectorización\n",
    "\n",
    "Una vez aplicado el pipeline de limpieza, resta vectorizar nuestros *headlines* para poder alimentar la red neuronal. Para este proceso utilizaremos el *embedding* pre-entrenado de *genesim*, **GoogleNews**."
   ],
   "metadata": {
    "collapsed": false
   },
   "id": "6678f60acbc71dcd"
  },
  {
   "cell_type": "code",
   "execution_count": 21,
   "outputs": [],
   "source": [
    "google_news_vectors = KeyedVectors.load_word2vec_format('./embeddings/GoogleNews-vectors-negative300.bin', binary=True, limit=100000)"
   ],
   "metadata": {
    "collapsed": false,
    "ExecuteTime": {
     "end_time": "2023-11-17T02:05:03.674884753Z",
     "start_time": "2023-11-17T02:05:03.222686930Z"
    }
   },
   "id": "ba3efd6df5c82b09"
  },
  {
   "cell_type": "code",
   "execution_count": 22,
   "outputs": [],
   "source": [
    "def vectorize(sentence):\n",
    "    words = sentence.split()\n",
    "    words_vecs = [google_news_vectors[word] for word in words if word in google_news_vectors]\n",
    "    if len(words_vecs) == 0:\n",
    "        return np.zeros(300)\n",
    "    words_vecs = np.array(words_vecs)\n",
    "    return words_vecs.mean(axis=0)"
   ],
   "metadata": {
    "collapsed": false,
    "ExecuteTime": {
     "end_time": "2023-11-17T02:05:04.679911355Z",
     "start_time": "2023-11-17T02:05:04.654104414Z"
    }
   },
   "id": "5e3ca17f4550c568"
  },
  {
   "cell_type": "code",
   "execution_count": 23,
   "outputs": [],
   "source": [
    " # Vectorización de los datos\n",
    "clean_df.headline = clean_df.headline.apply(str) \n",
    "vec_data = np.array([vectorize(frase) for frase in clean_df.headline], dtype=np.float64)\n",
    "vec_df = pd.DataFrame(data=vec_data)"
   ],
   "metadata": {
    "collapsed": false,
    "ExecuteTime": {
     "end_time": "2023-11-17T02:05:50.678210882Z",
     "start_time": "2023-11-17T02:05:50.006976094Z"
    }
   },
   "id": "294ae4e392d2afc8"
  },
  {
   "cell_type": "code",
   "execution_count": 24,
   "outputs": [
    {
     "data": {
      "text/plain": "        0         1         2         3         4         5         6    \\\n0  0.063707  0.048075 -0.035156  0.015344 -0.040704  0.029650 -0.108602   \n1  0.110565  0.088832 -0.036540  0.136963 -0.152344 -0.055520 -0.029580   \n2  0.045600 -0.048794  0.060248  0.087233 -0.013570  0.068970  0.032766   \n3  0.040670 -0.038706  0.055664  0.105265 -0.152262  0.120453  0.107564   \n4  0.069037  0.069434  0.017949  0.150391  0.018481 -0.097095  0.144531   \n\n        7         8         9    ...       290       291       292       293  \\\n0  0.064033  0.079563  0.067071  ...  0.093753  0.098985 -0.086890  0.072653   \n1  0.003139  0.119420  0.089905  ... -0.103620 -0.045201 -0.051130 -0.059675   \n2 -0.136597  0.160970  0.018907  ... -0.096569  0.052219 -0.179538 -0.142578   \n3 -0.055745  0.054810  0.019618  ... -0.166016  0.091024 -0.085571 -0.017415   \n4 -0.128174  0.133057  0.035742  ...  0.006201  0.057874 -0.129321 -0.053760   \n\n        294       295       296       297       298       299  \n0  0.014648 -0.033034  0.081028 -0.063841  0.092285  0.013021  \n1  0.010145  0.024798 -0.093523 -0.024693  0.083793  0.102295  \n2 -0.029181 -0.056970 -0.084283 -0.084378  0.003689  0.014065  \n3 -0.080399  0.046712  0.049357 -0.097941  0.040263  0.005035  \n4  0.007910 -0.016357 -0.066657  0.001245 -0.018164 -0.040430  \n\n[5 rows x 300 columns]",
      "text/html": "<div>\n<style scoped>\n    .dataframe tbody tr th:only-of-type {\n        vertical-align: middle;\n    }\n\n    .dataframe tbody tr th {\n        vertical-align: top;\n    }\n\n    .dataframe thead th {\n        text-align: right;\n    }\n</style>\n<table border=\"1\" class=\"dataframe\">\n  <thead>\n    <tr style=\"text-align: right;\">\n      <th></th>\n      <th>0</th>\n      <th>1</th>\n      <th>2</th>\n      <th>3</th>\n      <th>4</th>\n      <th>5</th>\n      <th>6</th>\n      <th>7</th>\n      <th>8</th>\n      <th>9</th>\n      <th>...</th>\n      <th>290</th>\n      <th>291</th>\n      <th>292</th>\n      <th>293</th>\n      <th>294</th>\n      <th>295</th>\n      <th>296</th>\n      <th>297</th>\n      <th>298</th>\n      <th>299</th>\n    </tr>\n  </thead>\n  <tbody>\n    <tr>\n      <th>0</th>\n      <td>0.063707</td>\n      <td>0.048075</td>\n      <td>-0.035156</td>\n      <td>0.015344</td>\n      <td>-0.040704</td>\n      <td>0.029650</td>\n      <td>-0.108602</td>\n      <td>0.064033</td>\n      <td>0.079563</td>\n      <td>0.067071</td>\n      <td>...</td>\n      <td>0.093753</td>\n      <td>0.098985</td>\n      <td>-0.086890</td>\n      <td>0.072653</td>\n      <td>0.014648</td>\n      <td>-0.033034</td>\n      <td>0.081028</td>\n      <td>-0.063841</td>\n      <td>0.092285</td>\n      <td>0.013021</td>\n    </tr>\n    <tr>\n      <th>1</th>\n      <td>0.110565</td>\n      <td>0.088832</td>\n      <td>-0.036540</td>\n      <td>0.136963</td>\n      <td>-0.152344</td>\n      <td>-0.055520</td>\n      <td>-0.029580</td>\n      <td>0.003139</td>\n      <td>0.119420</td>\n      <td>0.089905</td>\n      <td>...</td>\n      <td>-0.103620</td>\n      <td>-0.045201</td>\n      <td>-0.051130</td>\n      <td>-0.059675</td>\n      <td>0.010145</td>\n      <td>0.024798</td>\n      <td>-0.093523</td>\n      <td>-0.024693</td>\n      <td>0.083793</td>\n      <td>0.102295</td>\n    </tr>\n    <tr>\n      <th>2</th>\n      <td>0.045600</td>\n      <td>-0.048794</td>\n      <td>0.060248</td>\n      <td>0.087233</td>\n      <td>-0.013570</td>\n      <td>0.068970</td>\n      <td>0.032766</td>\n      <td>-0.136597</td>\n      <td>0.160970</td>\n      <td>0.018907</td>\n      <td>...</td>\n      <td>-0.096569</td>\n      <td>0.052219</td>\n      <td>-0.179538</td>\n      <td>-0.142578</td>\n      <td>-0.029181</td>\n      <td>-0.056970</td>\n      <td>-0.084283</td>\n      <td>-0.084378</td>\n      <td>0.003689</td>\n      <td>0.014065</td>\n    </tr>\n    <tr>\n      <th>3</th>\n      <td>0.040670</td>\n      <td>-0.038706</td>\n      <td>0.055664</td>\n      <td>0.105265</td>\n      <td>-0.152262</td>\n      <td>0.120453</td>\n      <td>0.107564</td>\n      <td>-0.055745</td>\n      <td>0.054810</td>\n      <td>0.019618</td>\n      <td>...</td>\n      <td>-0.166016</td>\n      <td>0.091024</td>\n      <td>-0.085571</td>\n      <td>-0.017415</td>\n      <td>-0.080399</td>\n      <td>0.046712</td>\n      <td>0.049357</td>\n      <td>-0.097941</td>\n      <td>0.040263</td>\n      <td>0.005035</td>\n    </tr>\n    <tr>\n      <th>4</th>\n      <td>0.069037</td>\n      <td>0.069434</td>\n      <td>0.017949</td>\n      <td>0.150391</td>\n      <td>0.018481</td>\n      <td>-0.097095</td>\n      <td>0.144531</td>\n      <td>-0.128174</td>\n      <td>0.133057</td>\n      <td>0.035742</td>\n      <td>...</td>\n      <td>0.006201</td>\n      <td>0.057874</td>\n      <td>-0.129321</td>\n      <td>-0.053760</td>\n      <td>0.007910</td>\n      <td>-0.016357</td>\n      <td>-0.066657</td>\n      <td>0.001245</td>\n      <td>-0.018164</td>\n      <td>-0.040430</td>\n    </tr>\n  </tbody>\n</table>\n<p>5 rows × 300 columns</p>\n</div>"
     },
     "execution_count": 24,
     "metadata": {},
     "output_type": "execute_result"
    }
   ],
   "source": [
    "vec_df.head()"
   ],
   "metadata": {
    "collapsed": false,
    "ExecuteTime": {
     "end_time": "2023-11-17T02:05:51.872081276Z",
     "start_time": "2023-11-17T02:05:51.864744154Z"
    }
   },
   "id": "6c378827bb775a77"
  },
  {
   "cell_type": "markdown",
   "source": [
    "#### Guardado de datasets\n",
    "\n",
    "Con el objetivo de utilizar los datos en análisis próximos, se almacenará en archivo `.csv`."
   ],
   "metadata": {
    "collapsed": false
   },
   "id": "a559ecabef182098"
  },
  {
   "cell_type": "code",
   "execution_count": 19,
   "outputs": [],
   "source": [
    "# Creación de carpeta contenedora\n",
    "import os\n",
    "\n",
    "container_dir = './datasets'\n",
    "if not os.path.exists(container_dir):\n",
    "    os.mkdir(container_dir)"
   ],
   "metadata": {
    "collapsed": false,
    "ExecuteTime": {
     "end_time": "2023-11-17T02:04:49.493090366Z",
     "start_time": "2023-11-17T02:04:49.488039075Z"
    }
   },
   "id": "39de9b790aa52eb7"
  },
  {
   "cell_type": "code",
   "execution_count": 28,
   "outputs": [],
   "source": [
    "# Guardado de dataset base\n",
    "df.to_csv(os.path.join(container_dir, 'base_data.csv'), index=None)\n",
    "\n",
    "# Guardado de dataset limpio\n",
    "clean_df.to_csv(os.path.join(container_dir, 'clean_data.csv'), index=None)\n",
    "\n",
    "# Guardado de dataset vectorizado\n",
    "vec_df.to_csv(os.path.join(container_dir, 'vec_data.zip'), compression='zip', index=None)"
   ],
   "metadata": {
    "collapsed": false,
    "ExecuteTime": {
     "end_time": "2023-11-17T02:07:46.222085466Z",
     "start_time": "2023-11-17T02:07:34.838657065Z"
    }
   },
   "id": "b59b6bff5bca5b6f"
  }
 ],
 "metadata": {
  "kernelspec": {
   "display_name": "Python 3",
   "language": "python",
   "name": "python3"
  },
  "language_info": {
   "codemirror_mode": {
    "name": "ipython",
    "version": 3
   },
   "file_extension": ".py",
   "mimetype": "text/x-python",
   "name": "python",
   "nbconvert_exporter": "python",
   "pygments_lexer": "ipython3",
   "version": "3.8.8"
  },
  "colab": {
   "provenance": [
    {
     "file_id": "1CggfhDXWdl4PJLGftf1EQHserSoUFk44",
     "timestamp": 1684260148947
    },
    {
     "file_id": "1WUlq5mXBWg0Qa4INSPGJUBpWlah4bFqd",
     "timestamp": 1682539012303
    }
   ]
  }
 },
 "nbformat": 4,
 "nbformat_minor": 5
}
