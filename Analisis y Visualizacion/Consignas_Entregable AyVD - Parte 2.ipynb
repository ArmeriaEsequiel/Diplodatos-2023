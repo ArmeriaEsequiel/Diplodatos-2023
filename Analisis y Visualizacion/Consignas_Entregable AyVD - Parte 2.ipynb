{
 "cells": [
  {
   "cell_type": "markdown",
   "metadata": {
    "id": "LYvAOR2VzHmW"
   },
   "source": [
    "\n",
    "**Diplomatura en Ciencia de Datos, Aprendizaje Automático y sus Aplicaciones**\n",
    "\n",
    "**Edición 2023**\n",
    "\n",
    "---\n",
    "\n",
    "# Trabajo práctico entregable - Parte 2"
   ]
  },
  {
   "cell_type": "code",
   "execution_count": 1,
   "metadata": {
    "executionInfo": {
     "elapsed": 2059,
     "status": "ok",
     "timestamp": 1680803782300,
     "user": {
      "displayName": "Laura Minuet",
      "userId": "00787725849952937741"
     },
     "user_tz": 180
    },
    "id": "Xwdfo7z20TUK"
   },
   "outputs": [],
   "source": [
    "import io\n",
    "import matplotlib\n",
    "import matplotlib.pyplot as plt\n",
    "import numpy as np\n",
    "import pandas as pd\n",
    "import seaborn as sns\n",
    "from sklearn.preprocessing import StandardScaler\n",
    "from seaborn_qqplot import pplot\n",
    "from scipy.stats import norm\n",
    "from scipy import stats\n",
    "from pandasql import sqldf\n",
    "\n",
    "pysqldf = lambda q: sqldf(q, globals())\n",
    "\n",
    "sns.set_context('talk')"
   ]
  },
  {
   "cell_type": "markdown",
   "metadata": {
    "id": "XY2Hl-Ma07Nn"
   },
   "source": [
    "## Lectura del dataset\n",
    "\n",
    "En la notebook 00 se explican los detalles de la siguiente sección."
   ]
  },
  {
   "cell_type": "code",
   "execution_count": 8,
   "metadata": {
    "executionInfo": {
     "elapsed": 6,
     "status": "ok",
     "timestamp": 1680803787929,
     "user": {
      "displayName": "Laura Minuet",
      "userId": "00787725849952937741"
     },
     "user_tz": 180
    },
    "id": "Vviv_sqXdR5W"
   },
   "outputs": [],
   "source": [
    "url = 'https://raw.githubusercontent.com/DiploDatos/AnalisisyVisualizacion/master/sysarmy_survey_2022_processed.csv'\n",
    "df = pd.read_csv(url)"
   ]
  },
  {
   "cell_type": "code",
   "execution_count": 9,
   "metadata": {
    "colab": {
     "base_uri": "https://localhost:8080/",
     "height": 341
    },
    "executionInfo": {
     "elapsed": 1527,
     "status": "ok",
     "timestamp": 1680803791992,
     "user": {
      "displayName": "Laura Minuet",
      "userId": "00787725849952937741"
     },
     "user_tz": 180
    },
    "id": "gckNHXXLktJ4",
    "outputId": "c4f8b5a8-07e4-4304-f0d0-7db0904bb482"
   },
   "outputs": [
    {
     "data": {
      "text/html": [
       "<div>\n",
       "<style scoped>\n",
       "    .dataframe tbody tr th:only-of-type {\n",
       "        vertical-align: middle;\n",
       "    }\n",
       "\n",
       "    .dataframe tbody tr th {\n",
       "        vertical-align: top;\n",
       "    }\n",
       "\n",
       "    .dataframe thead th {\n",
       "        text-align: right;\n",
       "    }\n",
       "</style>\n",
       "<table border=\"1\" class=\"dataframe\">\n",
       "  <thead>\n",
       "    <tr style=\"text-align: right;\">\n",
       "      <th></th>\n",
       "      <th>work_country</th>\n",
       "      <th>work_province</th>\n",
       "      <th>work_dedication</th>\n",
       "      <th>work_contract_type</th>\n",
       "      <th>salary_monthly_BRUTO</th>\n",
       "      <th>salary_monthly_NETO</th>\n",
       "      <th>numero</th>\n",
       "      <th>salary_in_usd</th>\n",
       "      <th>salary_last_dollar_value</th>\n",
       "      <th>salary_pay_cripto</th>\n",
       "      <th>...</th>\n",
       "      <th>profile_studies_level_state</th>\n",
       "      <th>profile_career</th>\n",
       "      <th>profile_university</th>\n",
       "      <th>profile_boot_camp</th>\n",
       "      <th>profile_boot_camp_carrer</th>\n",
       "      <th>work_on_call_duty</th>\n",
       "      <th>salary_on_call_duty_charge</th>\n",
       "      <th>work_on_call_duty_charge_type</th>\n",
       "      <th>profile_age</th>\n",
       "      <th>profile_gender</th>\n",
       "    </tr>\n",
       "  </thead>\n",
       "  <tbody>\n",
       "    <tr>\n",
       "      <th>0</th>\n",
       "      <td>Argentina</td>\n",
       "      <td>Catamarca</td>\n",
       "      <td>Full-Time</td>\n",
       "      <td>Staff (planta permanente)</td>\n",
       "      <td>300000.0</td>\n",
       "      <td>245000.0</td>\n",
       "      <td>True</td>\n",
       "      <td>NaN</td>\n",
       "      <td>NaN</td>\n",
       "      <td>NaN</td>\n",
       "      <td>...</td>\n",
       "      <td>Completo</td>\n",
       "      <td>Licenciatura en redes y comunicación de datos</td>\n",
       "      <td>UP - Universidad de Palermo</td>\n",
       "      <td>NaN</td>\n",
       "      <td>NaN</td>\n",
       "      <td>NaN</td>\n",
       "      <td>NaN</td>\n",
       "      <td>NaN</td>\n",
       "      <td>35</td>\n",
       "      <td>Varón Cis</td>\n",
       "    </tr>\n",
       "    <tr>\n",
       "      <th>1</th>\n",
       "      <td>Argentina</td>\n",
       "      <td>Chaco</td>\n",
       "      <td>Full-Time</td>\n",
       "      <td>Remoto (empresa de otro país)</td>\n",
       "      <td>900000.0</td>\n",
       "      <td>850000.0</td>\n",
       "      <td>True</td>\n",
       "      <td>Cobro todo el salario en dólares</td>\n",
       "      <td>300</td>\n",
       "      <td>NaN</td>\n",
       "      <td>...</td>\n",
       "      <td>NaN</td>\n",
       "      <td>NaN</td>\n",
       "      <td>NaN</td>\n",
       "      <td>NaN</td>\n",
       "      <td>NaN</td>\n",
       "      <td>NaN</td>\n",
       "      <td>NaN</td>\n",
       "      <td>NaN</td>\n",
       "      <td>31</td>\n",
       "      <td>Varón Cis</td>\n",
       "    </tr>\n",
       "    <tr>\n",
       "      <th>2</th>\n",
       "      <td>Argentina</td>\n",
       "      <td>Chaco</td>\n",
       "      <td>Full-Time</td>\n",
       "      <td>Staff (planta permanente)</td>\n",
       "      <td>120000.0</td>\n",
       "      <td>115000.0</td>\n",
       "      <td>True</td>\n",
       "      <td>NaN</td>\n",
       "      <td>NaN</td>\n",
       "      <td>NaN</td>\n",
       "      <td>...</td>\n",
       "      <td>NaN</td>\n",
       "      <td>NaN</td>\n",
       "      <td>NaN</td>\n",
       "      <td>NaN</td>\n",
       "      <td>NaN</td>\n",
       "      <td>NaN</td>\n",
       "      <td>NaN</td>\n",
       "      <td>NaN</td>\n",
       "      <td>27</td>\n",
       "      <td>Varón Cis</td>\n",
       "    </tr>\n",
       "  </tbody>\n",
       "</table>\n",
       "<p>3 rows × 44 columns</p>\n",
       "</div>"
      ],
      "text/plain": [
       "  work_country work_province work_dedication             work_contract_type  \\\n",
       "0    Argentina     Catamarca       Full-Time      Staff (planta permanente)   \n",
       "1    Argentina         Chaco       Full-Time  Remoto (empresa de otro país)   \n",
       "2    Argentina         Chaco       Full-Time      Staff (planta permanente)   \n",
       "\n",
       "   salary_monthly_BRUTO  salary_monthly_NETO  numero  \\\n",
       "0              300000.0             245000.0    True   \n",
       "1              900000.0             850000.0    True   \n",
       "2              120000.0             115000.0    True   \n",
       "\n",
       "                      salary_in_usd salary_last_dollar_value  \\\n",
       "0                               NaN                      NaN   \n",
       "1  Cobro todo el salario en dólares                      300   \n",
       "2                               NaN                      NaN   \n",
       "\n",
       "  salary_pay_cripto  ... profile_studies_level_state  \\\n",
       "0               NaN  ...                    Completo   \n",
       "1               NaN  ...                         NaN   \n",
       "2               NaN  ...                         NaN   \n",
       "\n",
       "                                  profile_career           profile_university  \\\n",
       "0  Licenciatura en redes y comunicación de datos  UP - Universidad de Palermo   \n",
       "1                                            NaN                          NaN   \n",
       "2                                            NaN                          NaN   \n",
       "\n",
       "  profile_boot_camp profile_boot_camp_carrer work_on_call_duty  \\\n",
       "0               NaN                      NaN               NaN   \n",
       "1               NaN                      NaN               NaN   \n",
       "2               NaN                      NaN               NaN   \n",
       "\n",
       "   salary_on_call_duty_charge work_on_call_duty_charge_type  profile_age  \\\n",
       "0                         NaN                           NaN           35   \n",
       "1                         NaN                           NaN           31   \n",
       "2                         NaN                           NaN           27   \n",
       "\n",
       "  profile_gender  \n",
       "0      Varón Cis  \n",
       "1      Varón Cis  \n",
       "2      Varón Cis  \n",
       "\n",
       "[3 rows x 44 columns]"
      ]
     },
     "execution_count": 9,
     "metadata": {},
     "output_type": "execute_result"
    }
   ],
   "source": [
    "df[:3]"
   ]
  },
  {
   "cell_type": "code",
   "execution_count": 10,
   "metadata": {
    "colab": {
     "base_uri": "https://localhost:8080/"
    },
    "executionInfo": {
     "elapsed": 480,
     "status": "ok",
     "timestamp": 1680803799813,
     "user": {
      "displayName": "Laura Minuet",
      "userId": "00787725849952937741"
     },
     "user_tz": 180
    },
    "id": "BxFBTUsttpX4",
    "outputId": "0acba520-72a3-4de5-89fd-07090566e20b"
   },
   "outputs": [
    {
     "data": {
      "text/plain": [
       "array(['Varón Cis', 'Varón cis', 'Mujer Cis', 'Mujer', 'Varón Trans',\n",
       "       'Queer', 'No binarie', 'Mujer cis', 'Mujer Trans', 'mujer', 'Gay',\n",
       "       'Fluido', 'Bigénero', 'Femenino'], dtype=object)"
      ]
     },
     "execution_count": 10,
     "metadata": {},
     "output_type": "execute_result"
    }
   ],
   "source": [
    "df.profile_gender.unique()"
   ]
  },
  {
   "cell_type": "code",
   "execution_count": 11,
   "metadata": {
    "executionInfo": {
     "elapsed": 324,
     "status": "ok",
     "timestamp": 1680803810873,
     "user": {
      "displayName": "Laura Minuet",
      "userId": "00787725849952937741"
     },
     "user_tz": 180
    },
    "id": "pJjMneUJtr1H"
   },
   "outputs": [],
   "source": [
    "df.loc[:,'profile_g'] = df.profile_gender.replace({'Varón Cis': 'Varón cis','Mujer': 'Mujer cis','Mujer Cis': 'Mujer cis','Femenino': 'Mujer cis','mujer': 'Mujer cis','Mujer':'Mujer cis','Queer':'Diversidades','Varón Trans':'Diversidades','No binarie':'Diversidades','Mujer Trans':'Diversidades','Fluido':'Diversidades','Bigénero':'Diversidades','Gay':'Diversidades'}).fillna(False)"
   ]
  },
  {
   "cell_type": "code",
   "execution_count": 12,
   "metadata": {
    "colab": {
     "base_uri": "https://localhost:8080/"
    },
    "executionInfo": {
     "elapsed": 7,
     "status": "ok",
     "timestamp": 1680803823255,
     "user": {
      "displayName": "Laura Minuet",
      "userId": "00787725849952937741"
     },
     "user_tz": 180
    },
    "id": "2QhWCZwxtu45",
    "outputId": "b69595bc-7011-402b-a951-7eb13eb4934f"
   },
   "outputs": [
    {
     "data": {
      "text/plain": [
       "array(['Varón cis', 'Mujer cis', 'Diversidades'], dtype=object)"
      ]
     },
     "execution_count": 12,
     "metadata": {},
     "output_type": "execute_result"
    }
   ],
   "source": [
    "df.profile_g.unique()"
   ]
  },
  {
   "cell_type": "code",
   "execution_count": 13,
   "metadata": {
    "colab": {
     "base_uri": "https://localhost:8080/",
     "height": 206
    },
    "executionInfo": {
     "elapsed": 7,
     "status": "ok",
     "timestamp": 1680803837043,
     "user": {
      "displayName": "Laura Minuet",
      "userId": "00787725849952937741"
     },
     "user_tz": 180
    },
    "id": "2lzmzK1NuPNT",
    "outputId": "97d64168-bccc-41fe-831f-6e7af91f7970"
   },
   "outputs": [
    {
     "data": {
      "text/html": [
       "<div>\n",
       "<style scoped>\n",
       "    .dataframe tbody tr th:only-of-type {\n",
       "        vertical-align: middle;\n",
       "    }\n",
       "\n",
       "    .dataframe tbody tr th {\n",
       "        vertical-align: top;\n",
       "    }\n",
       "\n",
       "    .dataframe thead tr th {\n",
       "        text-align: left;\n",
       "    }\n",
       "\n",
       "    .dataframe thead tr:last-of-type th {\n",
       "        text-align: right;\n",
       "    }\n",
       "</style>\n",
       "<table border=\"1\" class=\"dataframe\">\n",
       "  <thead>\n",
       "    <tr>\n",
       "      <th></th>\n",
       "      <th colspan=\"8\" halign=\"left\">salary_monthly_NETO</th>\n",
       "    </tr>\n",
       "    <tr>\n",
       "      <th></th>\n",
       "      <th>count</th>\n",
       "      <th>mean</th>\n",
       "      <th>std</th>\n",
       "      <th>min</th>\n",
       "      <th>25%</th>\n",
       "      <th>50%</th>\n",
       "      <th>75%</th>\n",
       "      <th>max</th>\n",
       "    </tr>\n",
       "    <tr>\n",
       "      <th>profile_g</th>\n",
       "      <th></th>\n",
       "      <th></th>\n",
       "      <th></th>\n",
       "      <th></th>\n",
       "      <th></th>\n",
       "      <th></th>\n",
       "      <th></th>\n",
       "      <th></th>\n",
       "    </tr>\n",
       "  </thead>\n",
       "  <tbody>\n",
       "    <tr>\n",
       "      <th>Diversidades</th>\n",
       "      <td>98.0</td>\n",
       "      <td>261873.543041</td>\n",
       "      <td>356719.368150</td>\n",
       "      <td>0.0</td>\n",
       "      <td>90500.0</td>\n",
       "      <td>174448.5</td>\n",
       "      <td>262250.0</td>\n",
       "      <td>1950000.0</td>\n",
       "    </tr>\n",
       "    <tr>\n",
       "      <th>Mujer cis</th>\n",
       "      <td>929.0</td>\n",
       "      <td>188903.430667</td>\n",
       "      <td>184912.713803</td>\n",
       "      <td>0.0</td>\n",
       "      <td>91000.0</td>\n",
       "      <td>160000.0</td>\n",
       "      <td>237003.0</td>\n",
       "      <td>1878500.0</td>\n",
       "    </tr>\n",
       "    <tr>\n",
       "      <th>Varón cis</th>\n",
       "      <td>4331.0</td>\n",
       "      <td>296252.343889</td>\n",
       "      <td>433193.328154</td>\n",
       "      <td>0.0</td>\n",
       "      <td>125000.0</td>\n",
       "      <td>212146.0</td>\n",
       "      <td>307988.0</td>\n",
       "      <td>15000000.0</td>\n",
       "    </tr>\n",
       "  </tbody>\n",
       "</table>\n",
       "</div>"
      ],
      "text/plain": [
       "             salary_monthly_NETO                                               \\\n",
       "                           count           mean            std  min       25%   \n",
       "profile_g                                                                       \n",
       "Diversidades                98.0  261873.543041  356719.368150  0.0   90500.0   \n",
       "Mujer cis                  929.0  188903.430667  184912.713803  0.0   91000.0   \n",
       "Varón cis                 4331.0  296252.343889  433193.328154  0.0  125000.0   \n",
       "\n",
       "                                              \n",
       "                   50%       75%         max  \n",
       "profile_g                                     \n",
       "Diversidades  174448.5  262250.0   1950000.0  \n",
       "Mujer cis     160000.0  237003.0   1878500.0  \n",
       "Varón cis     212146.0  307988.0  15000000.0  "
      ]
     },
     "execution_count": 13,
     "metadata": {},
     "output_type": "execute_result"
    }
   ],
   "source": [
    "df[['profile_g', 'salary_monthly_NETO']].groupby('profile_g').describe()"
   ]
  },
  {
   "cell_type": "code",
   "execution_count": 14,
   "metadata": {
    "colab": {
     "base_uri": "https://localhost:8080/",
     "height": 206
    },
    "executionInfo": {
     "elapsed": 317,
     "status": "ok",
     "timestamp": 1680803856909,
     "user": {
      "displayName": "Laura Minuet",
      "userId": "00787725849952937741"
     },
     "user_tz": 180
    },
    "id": "pycKJ5jWkShW",
    "outputId": "1e4b5a79-9695-40fb-eb42-20467d9a0d11"
   },
   "outputs": [
    {
     "data": {
      "text/html": [
       "<div>\n",
       "<style scoped>\n",
       "    .dataframe tbody tr th:only-of-type {\n",
       "        vertical-align: middle;\n",
       "    }\n",
       "\n",
       "    .dataframe tbody tr th {\n",
       "        vertical-align: top;\n",
       "    }\n",
       "\n",
       "    .dataframe thead tr th {\n",
       "        text-align: left;\n",
       "    }\n",
       "\n",
       "    .dataframe thead tr:last-of-type th {\n",
       "        text-align: right;\n",
       "    }\n",
       "</style>\n",
       "<table border=\"1\" class=\"dataframe\">\n",
       "  <thead>\n",
       "    <tr>\n",
       "      <th></th>\n",
       "      <th colspan=\"8\" halign=\"left\">salary_monthly_NETO</th>\n",
       "    </tr>\n",
       "    <tr>\n",
       "      <th></th>\n",
       "      <th>count</th>\n",
       "      <th>mean</th>\n",
       "      <th>std</th>\n",
       "      <th>min</th>\n",
       "      <th>25%</th>\n",
       "      <th>50%</th>\n",
       "      <th>75%</th>\n",
       "      <th>max</th>\n",
       "    </tr>\n",
       "    <tr>\n",
       "      <th>profile_g</th>\n",
       "      <th></th>\n",
       "      <th></th>\n",
       "      <th></th>\n",
       "      <th></th>\n",
       "      <th></th>\n",
       "      <th></th>\n",
       "      <th></th>\n",
       "      <th></th>\n",
       "    </tr>\n",
       "  </thead>\n",
       "  <tbody>\n",
       "    <tr>\n",
       "      <th>Diversidades</th>\n",
       "      <td>85.0</td>\n",
       "      <td>301914.321765</td>\n",
       "      <td>367031.242344</td>\n",
       "      <td>2800.0</td>\n",
       "      <td>125000.0</td>\n",
       "      <td>190000.0</td>\n",
       "      <td>280000.00</td>\n",
       "      <td>1950000.0</td>\n",
       "    </tr>\n",
       "    <tr>\n",
       "      <th>Mujer cis</th>\n",
       "      <td>806.0</td>\n",
       "      <td>217708.858077</td>\n",
       "      <td>182050.554847</td>\n",
       "      <td>1400.0</td>\n",
       "      <td>116000.0</td>\n",
       "      <td>180000.0</td>\n",
       "      <td>248193.75</td>\n",
       "      <td>1878500.0</td>\n",
       "    </tr>\n",
       "    <tr>\n",
       "      <th>Varón cis</th>\n",
       "      <td>3975.0</td>\n",
       "      <td>322777.029197</td>\n",
       "      <td>442612.347688</td>\n",
       "      <td>1100.0</td>\n",
       "      <td>147106.5</td>\n",
       "      <td>225000.0</td>\n",
       "      <td>322827.50</td>\n",
       "      <td>15000000.0</td>\n",
       "    </tr>\n",
       "  </tbody>\n",
       "</table>\n",
       "</div>"
      ],
      "text/plain": [
       "             salary_monthly_NETO                                        \\\n",
       "                           count           mean            std     min   \n",
       "profile_g                                                                \n",
       "Diversidades                85.0  301914.321765  367031.242344  2800.0   \n",
       "Mujer cis                  806.0  217708.858077  182050.554847  1400.0   \n",
       "Varón cis                 3975.0  322777.029197  442612.347688  1100.0   \n",
       "\n",
       "                                                         \n",
       "                   25%       50%        75%         max  \n",
       "profile_g                                                \n",
       "Diversidades  125000.0  190000.0  280000.00   1950000.0  \n",
       "Mujer cis     116000.0  180000.0  248193.75   1878500.0  \n",
       "Varón cis     147106.5  225000.0  322827.50  15000000.0  "
      ]
     },
     "execution_count": 14,
     "metadata": {},
     "output_type": "execute_result"
    }
   ],
   "source": [
    "df[df.salary_monthly_NETO > 1000]\\\n",
    "  [['profile_g', 'salary_monthly_NETO']].groupby('profile_g').describe()"
   ]
  },
  {
   "cell_type": "code",
   "execution_count": 15,
   "metadata": {},
   "outputs": [],
   "source": [
    "# complete here if you want to include more columns\n",
    "relevant_columns = ['Trabajo de','tools_programming_languages','salary_monthly_BRUTO','salary_monthly_NETO','profile_years_experience']\n",
    "\n",
    "#Revisamos cuales son las posiciones más relevantes. Para ello agrupamos la columna \"Trabajo de\", vemos cuantos registros posee\n",
    "#y calculamos la proporción de los encuestados que quedan agrupados en cada categoría.\n",
    "#CRITERIO: se seleccionan los primeros 15 puestos que acumulan el 80% de los casos\n",
    "cl = pysqldf(\"\"\"\n",
    "                SELECT  df.'Trabajo de' as position,\n",
    "                        COUNT(df.'Trabajo de') as count,\n",
    "                        COUNT(df.'Trabajo de') *100/(SELECT COUNT(df.'Trabajo de') FROM df) as share\n",
    "                FROM df\n",
    "                GROUP BY position\n",
    "                ORDER BY count DESC\n",
    "                LIMIT 15;\n",
    "        \n",
    "        \"\"\")\n",
    "top_80 = cl.position.unique()\n",
    "\n",
    "\n",
    "#Se filtra por aquellas posiciones que representan el 80% de los casos \n",
    "df1 = df[relevant_columns]\n",
    "df1 = df1[df1['Trabajo de'].isin(top_80)]\n",
    "\n",
    "#Se conservan registros cuya diferencia entre salario bruto y neto sea positiva.\n",
    "#Por otro lado, se eliminan registros cuyo valor de salario sea menor a 10.000 pesos\n",
    "df1 = pysqldf(\"\"\"\n",
    "              SELECT df.'Trabajo de',\n",
    "                     df.tools_programming_languages,\n",
    "                     df.salary_monthly_BRUTO,\n",
    "                     df.salary_monthly_NETO,\n",
    "                     df.profile_gender,\n",
    "                     df.profile_years_experience\n",
    "                     \n",
    "              FROM df\n",
    "              \n",
    "              WHERE df.salary_monthly_BRUTO-salary_monthly_NETO>0\n",
    "              AND df.salary_monthly_BRUTO > 10000\n",
    "              AND df.salary_monthly_NETO > 10000;\n",
    "        \"\"\")"
   ]
  },
  {
   "cell_type": "code",
   "execution_count": 16,
   "metadata": {
    "executionInfo": {
     "elapsed": 816,
     "status": "ok",
     "timestamp": 1680803880409,
     "user": {
      "displayName": "Laura Minuet",
      "userId": "00787725849952937741"
     },
     "user_tz": 180
    },
    "id": "uZ1GxkLylHx0"
   },
   "outputs": [],
   "source": [
    "alpha = 0.05"
   ]
  },
  {
   "cell_type": "code",
   "execution_count": 17,
   "metadata": {
    "executionInfo": {
     "elapsed": 4,
     "status": "ok",
     "timestamp": 1680803882836,
     "user": {
      "displayName": "Laura Minuet",
      "userId": "00787725849952937741"
     },
     "user_tz": 180
    },
    "id": "OfzFpDO-lYxk"
   },
   "outputs": [
    {
     "name": "stderr",
     "output_type": "stream",
     "text": [
      "C:\\Users\\Elesefoo\\AppData\\Local\\Temp\\ipykernel_4488\\2277130656.py:3: UserWarning: Boolean Series key will be reindexed to match DataFrame index.\n",
      "  groupA = df1[(df1.salary_monthly_NETO > 1000) & is_man].salary_monthly_NETO\n",
      "C:\\Users\\Elesefoo\\AppData\\Local\\Temp\\ipykernel_4488\\2277130656.py:4: UserWarning: Boolean Series key will be reindexed to match DataFrame index.\n",
      "  groupB = df1[(df1.salary_monthly_NETO > 1000) & ~is_man].salary_monthly_NETO\n"
     ]
    }
   ],
   "source": [
    "is_man = df.profile_g == 'Varón cis'\n",
    "df1 = df1[(df1['salary_monthly_NETO'] >= 99600) & (df1['salary_monthly_NETO']<=651780.4)]\n",
    "groupA = df1[(df1.salary_monthly_NETO > 1000) & is_man].salary_monthly_NETO\n",
    "groupB = df1[(df1.salary_monthly_NETO > 1000) & ~is_man].salary_monthly_NETO"
   ]
  },
  {
   "cell_type": "markdown",
   "metadata": {
    "id": "co_0M_ojtmUh"
   },
   "source": [
    "## Ejercicio 1: Estimación\n",
    "\n",
    "**Consigna:**  Calcular una estimación puntual y un intervalo de confianza de nivel (1-alpha) para la resta entre la media del salario Neto para Hombres menos la media del salario Neto para otros géneros(diferencia de las medias entre el grupoA y grupoB). \n",
    "¿Cómo se relaciona este intervalo de confianza con el test de hipótesis?"
   ]
  },
  {
   "cell_type": "code",
   "execution_count": 18,
   "metadata": {},
   "outputs": [
    {
     "data": {
      "text/plain": [
       "Text(0.5, 1.0, 'GroupB')"
      ]
     },
     "execution_count": 18,
     "metadata": {},
     "output_type": "execute_result"
    },
    {
     "data": {
      "image/png": "[encoded data removed]",
      "text/plain": [
       "<Figure size 3000x1000 with 2 Axes>"
      ]
     },
     "metadata": {},
     "output_type": "display_data"
    }
   ],
   "source": [
    "#histograma de los dos grupos\n",
    "fig, axs = plt.subplots(nrows=1, ncols=2, figsize=(30, 10))\n",
    "sns.histplot(data=groupA,ax=axs[0],kde= True).set_title('GroupA')\n",
    "sns.histplot(data=groupB,ax=axs[1],kde= True).set_title('GroupB')"
   ]
  },
  {
   "cell_type": "code",
   "execution_count": 19,
   "metadata": {},
   "outputs": [
    {
     "data": {
      "text/plain": [
       "<seaborn.axisgrid.PairGrid at 0x2a8064beb20>"
      ]
     },
     "execution_count": 19,
     "metadata": {},
     "output_type": "execute_result"
    },
    {
     "data": {
      "image/png": "[encoded data removed]",
      "text/plain": [
       "<Figure size 500x500 with 1 Axes>"
      ]
     },
     "metadata": {},
     "output_type": "display_data"
    },
    {
     "data": {
      "image/png": "[encoded data removed]",
      "text/plain": [
       "<Figure size 500x500 with 1 Axes>"
      ]
     },
     "metadata": {},
     "output_type": "display_data"
    }
   ],
   "source": [
    "##qqplot vs distribución normal\n",
    "#normalización de los datos\n",
    "#1.reshape a Group a un array 2D\n",
    "groupA_reshape=groupA.values.reshape(-1,1)\n",
    "groupB_reshape=groupB.values.reshape(-1,1)\n",
    "#2.normalización con resta y división por varianza muestral, usando StandardScaler\n",
    "groupA_norm=StandardScaler().fit_transform(groupA_reshape)\n",
    "groupB_norm=StandardScaler().fit_transform(groupB_reshape)\n",
    "#Graficamos los qqplot de los datos normalizados vs distrib. normal\n",
    "#1.pplot requiere un dataframe y volvemos los Group noramlizados (que son numpy array) a un DF de pandas.\n",
    "groupA_norm_df=pd.DataFrame(groupA_norm)#.rename(columns={ groupA_norm_df.columns[0]: \"GroupA\" }, inplace = True)\n",
    "groupB_norm_df=pd.DataFrame(groupB_norm)\n",
    "#2.graficamos qqplot\n",
    "pplot(groupA_norm_df,x=groupA_norm_df.columns[0],y=norm,kind='qq',height=5)\n",
    "pplot(groupB_norm_df,x=groupB_norm_df.columns[0],y=norm,kind='qq',height=5)"
   ]
  },
  {
   "cell_type": "code",
   "execution_count": 20,
   "metadata": {
    "id": "0fA1RQ0upe6N"
   },
   "outputs": [
    {
     "name": "stdout",
     "output_type": "stream",
     "text": [
      "Estimación puntual de la diferencia de medias: 11606.883402921987\n",
      "Intervalo de confianza al 95.0%: (2705.10, 20508.67)\n"
     ]
    }
   ],
   "source": [
    "# separar los datos por género\n",
    "#groupA = df.loc[df['profile_gender'] == 'Varón cis']['salary_monthly_NETO']\n",
    "#groupB = df.loc[df['profile_gender'] != 'Varón cis']['salary_monthly_NETO']\n",
    "\n",
    "# calcular la diferencia de medias\n",
    "mean_diff = groupA.mean() - groupB.mean()\n",
    "\n",
    "# estimar el error estándar de la diferencia de medias\n",
    "n_A, n_B = len(groupA), len(groupB)\n",
    "std_A, std_B = groupA.std(), groupB.std()\n",
    "std_diff = np.sqrt((std_A**2/n_A) + (std_B**2/n_B))\n",
    "\n",
    "# establecer el nivel de confianza y el valor de alfa\n",
    "conf_level = 0.95\n",
    "alpha = 1 - conf_level\n",
    "\n",
    "# calcular el intervalo de confianza para la diferencia de medias\n",
    "t_value = stats.t.ppf(1 - alpha/2, n_A + n_B - 2)\n",
    "lower_bound = mean_diff - t_value * std_diff\n",
    "upper_bound = mean_diff + t_value * std_diff\n",
    "\n",
    "# imprimir los resultados\n",
    "print(\"Estimación puntual de la diferencia de medias:\", mean_diff)\n",
    "print(f\"Intervalo de confianza al {conf_level*100:.1f}%: ({lower_bound:.2f}, {upper_bound:.2f})\")"
   ]
  },
  {
   "cell_type": "markdown",
   "metadata": {},
   "source": [
    "**Estimación puntual de la diferencia de medias: 11606.88\n",
    "Intervalo de confianza al 95.0%: (2705.10, 20508.67)**"
   ]
  },
  {
   "cell_type": "markdown",
   "metadata": {},
   "source": [
    "El resultado muestra la estimación puntual de la diferencia de medias y el intervalo de confianza al 95% para esta diferencia.\n",
    "\n",
    "En cuanto a la relación entre este intervalo de confianza y el test de hipótesis, podemos usar el intervalo de confianza para realizar una prueba de hipótesis para la diferencia de medias. Si el intervalo de confianza no incluye cero, podemos rechazar la hipótesis nula de que no hay diferencia entre las medias y afirmar que hay una diferencia significativa entre los salarios netos de los hombres y los demás géneros. De lo contrario, no podemos rechazar la hipótesis nula y afirmar que no hay suficiente evidencia para sugerir una diferencia significativa. El test de hipótesis se realiza de manera similar al intervalo de confianza, pero la decisión se toma basada en si el valor observado está dentro o fuera del intervalo de confianza"
   ]
  },
  {
   "cell_type": "markdown",
   "metadata": {
    "id": "IFi2T7Y6nM92"
   },
   "source": [
    "## Ejercicio 2: Test de hipótesis\n"
   ]
  },
  {
   "cell_type": "markdown",
   "metadata": {
    "id": "Rzxe8UYU6EfJ"
   },
   "source": [
    "\n",
    "### 2.1 Formalización\n",
    "\n",
    "Describir formalmente los distintos componentes de un test de hipótesis para comprobar si la distribución de los salarios es distinta entre los grupos A y B.\n",
    "\n",
    "**Hipótesis Nula**\n",
    "\n",
    "$H_0:$ No hay diferencia entre los valores medios de la distribución de los salarios de los grupos A y B\n",
    "\n",
    "**Hipótesis Alternativa**\n",
    "\n",
    "$H_1:$ Hay diferencia entre los valores medios de la distribución de los salarios de los grupos A y B.\n",
    "\n",
    "**Estadístico (Pivote)**\n",
    "  * Identificar el estadístico\n",
    "  * Escribir qué distribución tiene bajo $H_0$\n"
   ]
  },
  {
   "cell_type": "markdown",
   "metadata": {},
   "source": [
    "Hipótesis nula (H0): No hay diferencia entre las distribuciones de los salarios en los grupos A y B. H0: fA(x) = fB(x)\n",
    "Hipótesis alternativa (HA): Hay una diferencia significativa entre las distribuciones de los salarios en los grupos A y B. HA: fA(x) ≠ fB(x)\n",
    "\n",
    "Estadístico (pivote): El estadístico es una función de los datos de la muestra que se utiliza para evaluar la evidencia en contra de la hipótesis nula. En este caso, se puede utilizar el estadístico de prueba t para comparar las medias de los salarios en los grupos A y B. Bajo la hipótesis nula, el estadístico de prueba sigue una distribución t de Student con grados de libertad igual a (nA + nB - 2), donde nA y nB son los tamaños de la muestra en los grupos A y B, respectivamente.\n",
    "\n",
    "Nivel de significancia (α): El nivel de significancia es la probabilidad de rechazar la hipótesis nula cuando es verdadera. Es una medida de la probabilidad de que se cometa un error de Tipo I. Normalmente se utiliza un nivel de significancia del 5% (α=0,05) o del 1% (α=0,01).\n",
    "\n",
    "Valor p: El valor p es la probabilidad de obtener un valor del estadístico de prueba al menos tan extremo como el observado, bajo la hipótesis nula. Si el valor p es menor que el nivel de significancia, se rechaza la hipótesis nula en favor de la hipótesis alternativa.\n",
    "\n",
    "Región de rechazo: La región de rechazo es el conjunto de valores del estadístico de prueba que son lo suficientemente extremos para rechazar la hipótesis nula en un nivel de significancia dado.\n",
    "\n",
    "Decisión: En función del valor p y el nivel de significancia, se toma la decisión de rechazar o no la hipótesis nula. Si el valor p es menor que el nivel de significancia, se rechaza la hipótesis nula en favor de la hipótesis alternativa. En caso contrario, no se puede rechazar la hipótesis nula y se concluye que no hay suficiente evidencia para afirmar que hay una diferencia significativa entre las distribuciones de los salarios en los grupos A y B."
   ]
  },
  {
   "cell_type": "markdown",
   "metadata": {
    "id": "3Ip_5YdenC8u"
   },
   "source": [
    "### 2.2 P-valor\n",
    "\n",
    "1. Calcule el p-valor y decida si rechazar o no la hipótesis nula.\n",
    "2. Interprete el resultado.\n",
    "\n",
    "Links útiles:\n",
    "* [Test de hipótesis usando scipy](https://docs.scipy.org/doc/scipy/reference/generated/scipy.stats.ttest_ind.html)\n",
    "* [Test de Welch](http://daniellakens.blogspot.com/2015/01/always-use-welchs-t-test-instead-of.html)\n",
    "\n",
    "\n",
    "\n",
    "**Tenemos 2 resultados posibles a la hora de sacar una conclusion con respecto al P-Valor.**\n",
    "\n",
    "$\\alpha$ = 0.05\n",
    "\n",
    "Si P-Valor $\\leq$ $\\alpha/2$ o P-Valor $\\geq$  1 - $\\alpha/2$, Rechazamos la hipotesis nula."
   ]
  },
  {
   "cell_type": "code",
   "execution_count": 21,
   "metadata": {},
   "outputs": [
    {
     "name": "stdout",
     "output_type": "stream",
     "text": [
      "Estadístico de prueba t: 2.5564382598484223\n",
      "Valor p: 0.010725607790039176\n",
      "Rechazamos la hipótesis nula y afirmamos que hay una diferencia significativa.\n"
     ]
    }
   ],
   "source": [
    "t_statistic, p_value = stats.ttest_ind(groupA, groupB, equal_var = False)\n",
    "\n",
    "# establecer el nivel de significancia y el valor de alfa\n",
    "sign_level = 0.05\n",
    "alpha = sign_level / 2  # prueba de dos colas\n",
    "\n",
    "# imprimir los resultados\n",
    "print(\"Estadístico de prueba t:\", t_statistic)\n",
    "print(\"Valor p:\", p_value)\n",
    "if p_value < alpha or p_value > 1 - alpha:\n",
    "    print(\"Rechazamos la hipótesis nula y afirmamos que hay una diferencia significativa.\")\n",
    "else:\n",
    "    print(\"No podemos rechazar la hipótesis nula y afirmar que no hay suficiente evidencia para sugerir una diferencia significativa.\")"
   ]
  },
  {
   "cell_type": "code",
   "execution_count": 22,
   "metadata": {},
   "outputs": [],
   "source": [
    "### Estos resultados son sin limitar los datos.\n",
    "\n",
    "#Estadístico de prueba t: 8.471264605702991\n",
    "#Valor p: 7.049291897481084e-17\n",
    "#Rechazamos la hipótesis nula y afirmamos que hay una diferencia significativa."
   ]
  },
  {
   "cell_type": "markdown",
   "metadata": {
    "id": "8VxiQr5YrQYR"
   },
   "source": [
    "### [Opcional] 2.3 Potencia del test\n",
    "\n",
    "Nuestra muestra, ¿era lo suficientemente grande para detectar si existe o no una diferencia entre los grupos?\n",
    "\n",
    "1. Utilice la función `tt_ind_solve_power` para calcular el tamaño necesario de la muestra para un poder estadístico de 0.8, 0.9 y 0.95, asumiendo una significancia estadística de 0.05.\n",
    "2. ¿Cómo intepretan el poder estadístico de un test? Dado su conocimiento de dominio sobre los datos, ¿les parece que esta muestra es lo suficientemente grande para ser representativo de la tendencia general? ¿y para utilizarlo en un juicio penal contra una empresa XX por una causa de discriminación?\n",
    "\n",
    "[Documentación](https://www.statsmodels.org/stable/generated/statsmodels.stats.power.tt_ind_solve_power.html)\n",
    "\n",
    "NOTA: este análisis debería hacerse ANTES de recolectar los datos."
   ]
  },
  {
   "cell_type": "code",
   "execution_count": 23,
   "metadata": {
    "executionInfo": {
     "elapsed": 267,
     "status": "ok",
     "timestamp": 1680803896003,
     "user": {
      "displayName": "Laura Minuet",
      "userId": "00787725849952937741"
     },
     "user_tz": 180
    },
    "id": "_IiqGfo4t6Db"
   },
   "outputs": [],
   "source": [
    "from statsmodels.stats.power import tt_ind_solve_power"
   ]
  },
  {
   "cell_type": "code",
   "execution_count": 24,
   "metadata": {
    "executionInfo": {
     "elapsed": 6,
     "status": "ok",
     "timestamp": 1680804108074,
     "user": {
      "displayName": "Laura Minuet",
      "userId": "00787725849952937741"
     },
     "user_tz": 180
    },
    "id": "LUQ7MA2Apj9x"
   },
   "outputs": [],
   "source": [
    "effect_size = (groupA.mean() - groupB.mean()) / groupB.std()\n",
    "nobs1 = None  #- What we want to know\n",
    "alpha = 0.05\n",
    "ratio = len(groupB) / len(groupA)"
   ]
  },
  {
   "cell_type": "code",
   "execution_count": 34,
   "metadata": {
    "colab": {
     "base_uri": "https://localhost:8080/"
    },
    "executionInfo": {
     "elapsed": 545,
     "status": "ok",
     "timestamp": 1680804112189,
     "user": {
      "displayName": "Laura Minuet",
      "userId": "00787725849952937741"
     },
     "user_tz": 180
    },
    "id": "cvHcpY-3ty8Q",
    "outputId": "9758dcd3-c6ea-4634-9cf6-7b1810c66113"
   },
   "outputs": [
    {
     "data": {
      "text/plain": [
       "(3442.445673465405, 771.8701717666374)"
      ]
     },
     "execution_count": 34,
     "metadata": {},
     "output_type": "execute_result"
    }
   ],
   "source": [
    "power= 0.8\n",
    "po_80 = tt_ind_solve_power(effect_size=effect_size, nobs1 = nobs1, alpha=alpha,power=power,\n",
    "                   ratio=ratio, alternative = 'two-sided')\n",
    "nob2_80 = ratio * po_80\n",
    "(po_80, nob2_80)"
   ]
  },
  {
   "cell_type": "code",
   "execution_count": 35,
   "metadata": {},
   "outputs": [
    {
     "data": {
      "text/plain": [
       "(4607.935939048304, 1033.1980929077165)"
      ]
     },
     "execution_count": 35,
     "metadata": {},
     "output_type": "execute_result"
    }
   ],
   "source": [
    "power = 0.9\n",
    "po_90 = tt_ind_solve_power(effect_size=effect_size, nobs1 = nobs1, alpha=alpha, power=power,\n",
    "                   ratio=ratio, alternative = 'two-sided')\n",
    "nob2_90 = ratio * po_90\n",
    "(po_90, nob2_90)"
   ]
  },
  {
   "cell_type": "code",
   "execution_count": 36,
   "metadata": {},
   "outputs": [
    {
     "data": {
      "text/plain": [
       "(5698.34324263852, 1277.690803193689)"
      ]
     },
     "execution_count": 36,
     "metadata": {},
     "output_type": "execute_result"
    }
   ],
   "source": [
    "power = 0.95\n",
    "po_95 = tt_ind_solve_power(effect_size=effect_size, nobs1 = nobs1, alpha=alpha, power=power,\n",
    "                   ratio=ratio, alternative = 'two-sided')\n",
    "nob2_95 = ratio * po_95\n",
    "(po_95, nob2_95)"
   ]
  },
  {
   "cell_type": "markdown",
   "metadata": {},
   "source": [
    "**Para una potencia de test de 0.8, necesitamos que:**\n",
    "1. Nuestra muestra 1 (groupA) tenga un tamaño de 3442 elementos.\n",
    "2. Nuestra muestra 2 (groupB) tenga un tamaño de 772 elementos.\n",
    "\n",
    "**Para una potencia de test de 0.9, necesitamos que:**\n",
    "1. Nuestra muestra 1 (groupA) tenga un tamaño de 4608 elementos.\n",
    "2. Nuestra muestra 2 (groupB) tenga un tamaño de 1033 elementos.\n",
    "\n",
    "**Para una potencia de test de 0.95, necesitamos que:**\n",
    "1. Nuestra muestra 1 (groupA) tenga un tamaño de 5698 elementos.\n",
    "2. Nuestra muestra 2 (groupB) tenga un tamaño de 1278 elementos."
   ]
  },
  {
   "cell_type": "markdown",
   "metadata": {},
   "source": [
    "#### Vemos que mientras mas aumente el poder del estadisco, mas grande debe ser la muestra."
   ]
  },
  {
   "cell_type": "markdown",
   "metadata": {},
   "source": [
    "2. ¿Cómo intepretan el poder estadístico de un test? Dado su conocimiento de dominio sobre los datos, ¿les parece que esta muestra es lo suficientemente grande para ser representativo de la tendencia general? ¿y para utilizarlo en un juicio penal contra una empresa XX por una causa de discriminación?\n",
    "\n",
    "* En definitiva, el poder estadístico representa la probabilidad de rechazar la hipótesis nula cuando es realmente falsa. Es decir, representa la capacidad de un test para detectar como estadísticamente significativas diferencias o asociaciones de una magnitud determinada.\n",
    "<br><br>\n",
    "\n",
    "* Nuestra muestra es representativa de la tendencia general, con un poder estadistico de 0.80. Los tamaños muestrales deberían ser de aproximadamente 3442. Pero con un poder estadistico mayor, no alcanza el tamaño de nuestra muestra. Para una potencia de 90 necesitas una muestra de al menos 4607 y para una de 95, de 5698\n",
    "<br>\n",
    "* Si bien los datos son generales a un potencia del 0.8 y podria usarse en juicio como prueba. Habria que considerar el caso de cada empresa en particular"
   ]
  },
  {
   "cell_type": "markdown",
   "metadata": {
    "id": "useKMdPyMod5"
   },
   "source": [
    "## Ejercicio 3: Comunicación y visualización\n",
    "\n",
    "**Consigna:** Seleccionen un resultado que les parezca relevante a partir de alguno de los ejercicios del entregable. Diseñe e implemente una comunicación en base a este mensaje, en un archivo PDF.\n",
    "\n",
    "Elija las palabras y visualización más adecuada para que la comunicación sea entendible, efectiva y se dapte a UNA de las siguientes situaciones:\n",
    "\n",
    "1. Una sección en un artículo de difusión a presentar como parte de una organización sin fines de lucro.\n",
    "No más de 1 página A4 (o dos si los gráficos son muy grandes).\n",
    "  1. Ejemplo: Alguna de las secciones [Los ecosistemas de emprendimiento de América Latina y el Caribe frente al COVID-19: Impactos, necesidades y recomendaciones](https://publications.iadb.org/es/los-ecosistemas-de-emprendimiento-de-america-latina-y-el-caribe-frente-al-covid-19-impactos-necesidades-y-recomendaciones), por ejemplo la sección *2.2. Reacciones de los emprendedores*.\n",
    "  2. Ejemplo: Alguna de las secciones de [The state of gender pay gap in 2021](https://www.payscale.com/data/gender-pay-gap?tk=carousel-ps-rc-job)\n",
    "  3. Puntos clave: \n",
    "    1. Simpleza de los gráficos.\n",
    "    2. Comunicación en lenguaje simple a personas que no son necesariamente expertos de dominio.\n",
    "    2. Selección de UNA oración sobre la que se hace énfasis.\n",
    "    3. No es necesario que mencionen objetivos ni descripciones del conjunto de datos, se supone que eso ya estaría explicado en otras secciones del informe.\n",
    "\n",
    "2. Una publicación científica o reporte técnico interno. No más de una página A4:\n",
    "  2. Ejemplo: La sección de resultados de [IZA DP No. 12914: The Impact of a Minimum Wage Change on the Distribution of Wages and Household Income](https://www.iza.org/publications/dp/12914/the-impact-of-a-minimum-wage-change-on-the-distribution-of-wages-and-household-income).\n",
    "  2. Ejemplo: Alguna de las secciones de [Temporary reduction in daily global CO2 emissions during the COVID-19 forced confinement](https://www.nature.com/articles/s41558-020-0797-x)\n",
    "  3. Puntos clave:\n",
    "    3. Nivel de detalle técnico requerido. Es necesario justificar la validez del análisis.\n",
    "    4. La idea presentada puede ser más compleja. Pueden asumir que la audiencia tiene conocimiento técnico y va a analizar las visualizaciones en detalle. \n",
    "    5. Pueden presentar más en detalle las limitaciones del análisis (significancia estadística, etc.)\n",
    "    2. No es necesario que mencionen objetivos ni descripciones del conjunto de datos, se supone que eso ya estaría explicado en otras secciones del informe.\n",
    "\n",
    "3. Un tweet (o post de LinkedIn) para la cuenta de su empresa consultora que hace análisis de datos. El objetivo es promocionar un análisis de datos abiertos que van a incluir en su portfolio:\n",
    "  1. Ejemplo: [Comparación vacunas covid](https://twitter.com/infobeautiful/status/1381577746527236098?s=20)\n",
    "  2. Ejemplo: [Tweet del BID](https://twitter.com/el_BID/status/1388508583944507396?s=20). Lo valioso de este tweet es que usaron un único número para transmitir un mensaje. Puede ser algo así, o con un gráfico muy simple.\n",
    "  3. Ejemplo: [Cambio climático](https://twitter.com/UNFCCC/status/1387732156190011394?s=20) Es un muy buen ejemplo, excepto que el gráfico no se lee nada y hay que entrar a la publicación original.\n",
    "  3. Ejemplo: [¿Cuánto están los programadores en las empresas?](https://www.linkedin.com/posts/denis-rothman-0b034043_tech-career-work-activity-6793861923269054464-gS6y) (No verificamos la veracidad o seriedad de la fuente).\n",
    "  4. Puntos clave:\n",
    "    1. Su audiencia no va a mirar la visualización por más de unos segundos, y no tiene conocimiento técnico.\n",
    "  3. Tienen que incluir además una *breve* descripción de cómo obtuvieron los datos que están presentando, que no entraría en el tweet.\n"
   ]
  },
  {
   "cell_type": "code",
   "execution_count": null,
   "metadata": {
    "id": "twwYHUztt45L"
   },
   "outputs": [],
   "source": []
  }
 ],
 "metadata": {
  "colab": {
   "provenance": [
    {
     "file_id": "1eRVO67kXRzLyGihvtbJN10b505_nLyr9",
     "timestamp": 1680785378814
    },
    {
     "file_id": "1xPL68eVaR0UF7XTcLU1rCMfpzuS7r6s0",
     "timestamp": 1617233082473
    },
    {
     "file_id": "1bChseZSrdGJSXfa-D2_lS0dx98wplQtD",
     "timestamp": 1614968149245
    }
   ]
  },
  "kernelspec": {
   "display_name": "Python 3 (ipykernel)",
   "language": "python",
   "name": "python3"
  },
  "language_info": {
   "codemirror_mode": {
    "name": "ipython",
    "version": 3
   },
   "file_extension": ".py",
   "mimetype": "text/x-python",
   "name": "python",
   "nbconvert_exporter": "python",
   "pygments_lexer": "ipython3",
   "version": "3.9.13"
  }
 },
 "nbformat": 4,
 "nbformat_minor": 1
}
