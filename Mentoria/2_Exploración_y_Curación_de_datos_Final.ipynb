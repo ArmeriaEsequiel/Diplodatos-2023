{
 "cells": [
  {
   "cell_type": "markdown",
   "metadata": {
    "id": "ewOxVWQMHGbJ"
   },
   "source": [
    "<center>\n",
    "<h4>Diplomatura Datos 2023 - FaMAF - UNC</h4>\n",
    "<h2>Aplicando Machine Learning para predicción de demanda</h2>\n",
    "<h2><span style=\"color: Red;\">Exploración y curación de datos</span></h2>\n",
    "</center>\n",
    "</left>\n",
    "<h4>Tutor: Sebastián Ormaechea</h4>\n",
    "</left>"
   ]
  },
  {
   "cell_type": "markdown",
   "metadata": {
    "id": "DRiOknPVHGbb"
   },
   "source": [
    "# Objetivo general\n",
    "\n",
    "El objetivo final de la mentoría es poder predecir el próximo mes de venta de materiales en los diferentes países y zonas en donde opera la compañía proveedora. Sin embargo, los prácticos que se realizarán en esta mentoría son aplicables a compañías de cualquier vertical de negocio que quiera predecir la demanda.\n",
    "\n",
    "# <span style=\"color: Red;\">Exploración y Curación de datos. Objetivos de este notebook</span>\n",
    "<span style=\"color: Red;\">En la presente notebook, se presenta el segundo práctico correspondiente a la materia Exploración y Curación. Las consignas permitirán implementar los pasos necesarios para explorar en mayor profundidad la información, proceder a la limpieza del dataset y generar un dataset resultante que servirá de input para el práctico de ML.</span>\n",
    "\n",
    "# Requisitos de aprobación\n",
    "\n",
    "- Trabajo grupal: El trabajo debe ser realizado entre los integrantes del grupo asignado y solo se entrega una versión por grupo.\n",
    "- Git: Deben armar un repositorio git donde vayan cargando cada uno de los prácticos (notebooks) de la mentoría.\n",
    "- Informe: Este debe quedar integrado en el mismo notebook por lo que recomiendo sigan un esquema que contenga las siguientes secciones. La idea es que queden plasmados los hallazgos significativos encontrados, lo cual sirve además de base para los videos intermedio y final de la mentoria.\n",
    "              - Introducción\n",
    "              - Presentación del Dataset\n",
    "              - Variables más relevantes o de interés\n",
    "              - Respuestas a preguntas disparadoras\n",
    "              - Relaciones interesantes entre variables\n",
    "              - Principales conclusiones          \n",
    "- Prolijidad y Claridad: Es muy importante no solo resolver las consignas técnicamente sino tambien tener la claridad en la comunicación de los hallazgos, exponer las conclusiones y tener poder de síntesis. Por ello, la presentación debe ser acompañada de los gráficos adecuados y las referencias correspondientes. Los graficos deben hablar por si mismos.\n",
    "- Extensión: No hay límite de longitud en los notebooks, pero es importante que eviten salidas o outputs excesivamente extensos de cada celda del notebook, salvo que estén debidamente justificados.  \n",
    "\n",
    "<span style=\"color: Blue;\">Fecha de Entrega del presente práctico: 17/7/2023</span>"
   ]
  },
  {
   "cell_type": "markdown",
   "metadata": {
    "id": "EJv_2kXyHGbg"
   },
   "source": [
    "**ALGO DE TEORÍA**\n",
    "\n",
    "El proceso de exploración y curación de datos, es una actividad que se realiza previo al desarrollo de modelos en Machine Learning, y es una etapa crucial para comprender y preparar los datos antes de su análisis. Aquí se describe el proceso general, aunque una parte importante ya se ha abordado en el práctico anterior:\n",
    "\n",
    "1. **Comprensión del problema**: Comprender a fondo el problema de negocio y los objetivos del proyecto es el primer paso. Esto implica definir claramente qué se desea lograr con el análisis de datos y cómo los modelos de Machine Learning pueden ayudar a abordar el problema.\n",
    "\n",
    "2. **Adquisición de datos**: Obtener los datos necesarios para el análisis. Esto puede implicar la recopilación de datos de diversas fuentes, como bases de datos, archivos CSV, APIs, entre otros. Es importante asegurarse de que los datos sean representativos del problema que se está abordando.\n",
    "\n",
    "3. **Exploración inicial de datos**: Realizar una exploración inicial de los datos para comprender su estructura, dimensiones y características. Esto incluye revisar las primeras filas del conjunto de datos, verificar los tipos de datos de cada columna, identificar posibles valores atípicos o faltantes, y obtener estadísticas descriptivas básicas.\n",
    "\n",
    "4. **Limpieza de datos**: Limpiar los datos eliminando o corrigiendo errores, eliminando duplicados y lidiando con valores atípicos y faltantes. Esto puede incluir rellenar los valores faltantes, eliminar registros incompletos o imputar valores basados en técnicas estadísticas.\n",
    "\n",
    "5. **Transformación de datos**: Realizar transformaciones en los datos para que sean adecuados para el análisis y el modelado de Machine Learning. Esto puede incluir la normalización de variables numéricas, la codificación de variables categóricas, la creación de nuevas características derivadas y la reducción de dimensionalidad si es necesario.\n",
    "\n",
    "6. **Análisis exploratorio de datos**: Realizar un nuevo análisis de los datos ya sea porque la curación ha modificado sensiblemente la información original o porque se presenta como necesario una análisis más profundo. Esto puede incluir visualizaciones, análisis de correlación, análisis de distribuciones y cualquier otro método que ayude a comprender los datos y las relaciones entre las variables.\n",
    "\n",
    "7. **Preprocesamiento adicional**: Realizar cualquier preprocesamiento adicional necesario, como el manejo de desequilibrios de clases, normalización específica para ciertos algoritmos o técnicas de reducción de ruido.\n",
    "\n",
    "8. **Documentación y registro**: Documentar todas las acciones realizadas durante el proceso de exploración y curación de datos, incluyendo cualquier transformación, eliminación o manipulación de datos. Esto es importante para garantizar la reproducibilidad y trazabilidad de los resultados.\n",
    "\n",
    "Al realizar una exploración y curación de datos exhaustiva, se asegura que los datos estén limpios, comprensibles y adecuados para el desarrollo de modelos de Machine Learning. Esto establece una base sólida para obtener resultados precisos y confiables al aplicar técnicas de aprendizaje automático."
   ]
  },
  {
   "cell_type": "markdown",
   "metadata": {
    "id": "FDaoPWwsHGbj"
   },
   "source": [
    "**MANOS A LA OBRA**\n",
    "\n",
    "Para poner en práctica algunas habilidades especiales de la curación de datos, he dividido el dataset anterior en 3 partes (archivos pred_dem_1.csv, pred_dem_2.csv y pred_dem_3.csv) a fin de que sea necesario volver a unirlos para que obtengamos el mismo dataset con el que vienen trabajando. Con \"el mismo\" dataset me refiero a que tenga la misma cantidad de filas y columnas.\n",
    "Por otra parte, he eliminado algunos datos de 2 columnas a fin de que implementen las soluciones pertinentes de curación.\n",
    "\n",
    "Consignas:\n",
    "\n",
    "1- Descargen los 3 datasets y analicen su estructura a fin de evaluar la forma en que pueden volver a obtener el dataset que trabajamos en el TP anterior. Al terminar, y como parte de las buenas prácticas en ciencia de datos, realicen una copia del dataset utilizando la función .copy(). Esto nos garantiza la integridad de los datos originales, a fin de poder consultarlos y cotejarlos contra el dataset que vamos curando.\n",
    "\n",
    "2- Revisar si el dataset presenta datos duplicados. Esto refiere a que un registro sea exactamente igual en todos los campos/columnas.\n",
    "\n",
    "3- Verificar si existen datos faltantes\n",
    "\n",
    "4- La presencia de datos faltantes la podemos resolver de 3 maneras: Eliminando todo el registro donde aparece el dato faltante, eliminando toda la columna donde se encuentra el dato faltante, o imputanto el dato faltante. Definir la acción más adecuada,  justificarla e implementarla.\n",
    "\n",
    "5- Existe un método de imputación de datos, específico para series temporales, que se denomina Forward fill. ¿Creen que sería adecuado su uso en este dataset?.    \n",
    "\n",
    "6- Quitar Variables/Columnas Irrelevantes. En base a la exploración del TP anterior y particularidades que se hayan encontrado en este nuevo TP, es momento de seleccionar variables que intuímos puedan tener capacidad predictora para el futuro modelo. El análisis de correlación es una herramienta muy importante en este paso.\n",
    "\n",
    "7- Determinen si hay outliers en cada una de las variables seleccionadas, evalúen cómo manejar los outliers (si dejarlos o eliminarlos) e implementen la solución.\n",
    "\n",
    "8- Creación de nuevas variables. Esta etapa consiste en crear o transformar variables a fin de poder alimentar el algoritmo de aprendizaje automático. Recordemos que el algoritmo solo puede procesar números, por lo que las variables que posean categorías deben se codificadas o eliminadas.\n",
    "\n",
    "9- ¿En qué casos es necesario estandarizar las variables? Seleccionen algún método y aborden su implementación\n",
    "\n",
    "10- Implementen una reducción de dimensionalidad mediante PCA e interpreten los resultados preliminares. En el último práctico concluiremos sobre su utilidad"
   ]
  },
  {
   "cell_type": "code",
   "execution_count": 1,
   "metadata": {
    "id": "1hVc2BzHHGbm"
   },
   "outputs": [],
   "source": [
    "# Importación de librerías\n",
    "import pandas as pd\n",
    "import numpy as np\n",
    "import missingno as msno\n",
    "import matplotlib.pyplot as plt\n",
    "import seaborn as sns\n",
    "\n",
    "from scipy.stats import chi2_contingency\n",
    "from sklearn.preprocessing import StandardScaler\n",
    "from sklearn.decomposition import PCA\n",
    "\n",
    "import warnings\n",
    "warnings.simplefilter(action='ignore', category=FutureWarning)"
   ]
  },
  {
   "cell_type": "code",
   "execution_count": 2,
   "metadata": {
    "id": "MBR0V4q8HGbr"
   },
   "outputs": [],
   "source": [
    "# Lectura de datos\n",
    "pred_dem_1 = pd.read_csv('pred_dem_1.csv')\n",
    "pred_dem_2 = pd.read_csv('pred_dem_2.csv')\n",
    "pred_dem_3 = pd.read_csv('pred_dem_3.csv')"
   ]
  },
  {
   "cell_type": "markdown",
   "metadata": {
    "id": "4w0x_gMjHGbu"
   },
   "source": [
    "### 1- Descargen los 3 datasets y analicen su estructura a fin de evaluar la forma en que pueden volver a obtener el dataset que trabajamos en el TP anterior. Al terminar, y como parte de las buenas prácticas en ciencia de datos, realicen una copia del dataset utilizando la función .copy(). Esto nos garantiza la integridad de los datos originales, a fin de poder consultarlos y cotejarlos contra el dataset que vamos curando."
   ]
  },
  {
   "cell_type": "markdown",
   "metadata": {
    "id": "GzcNKbEITzu0"
   },
   "source": [
    "Primero vamos la cantidad e filas y columnas que tiene cada dataset."
   ]
  },
  {
   "cell_type": "code",
   "execution_count": 3,
   "metadata": {
    "colab": {
     "base_uri": "https://localhost:8080/"
    },
    "id": "RAMZ4lLiTy5O",
    "outputId": "71081eaa-ff55-4bc2-decb-1274308e0532"
   },
   "outputs": [
    {
     "name": "stdout",
     "output_type": "stream",
     "text": [
      "pred_dem_1 tiene 106789 filas y 13 columnas\n",
      "pred_dem_2 tiene 106789 filas y 11 columnas\n",
      "pred_dem_3 tiene 1001 filas y 21 columnas\n"
     ]
    }
   ],
   "source": [
    "print(f'pred_dem_1 tiene {len(pred_dem_1)} filas y {len(pred_dem_1.columns)} columnas')\n",
    "print(f'pred_dem_2 tiene {len(pred_dem_2)} filas y {len(pred_dem_2.columns)} columnas')\n",
    "print(f'pred_dem_3 tiene {len(pred_dem_3)} filas y {len(pred_dem_3.columns)} columnas')"
   ]
  },
  {
   "cell_type": "markdown",
   "metadata": {
    "id": "NMg61TKIHGbw"
   },
   "source": [
    "***Empezamos analizando las columnas de cada dataset:***"
   ]
  },
  {
   "cell_type": "code",
   "execution_count": 4,
   "metadata": {
    "colab": {
     "base_uri": "https://localhost:8080/"
    },
    "id": "RkN3zRfnHGbz",
    "outputId": "84d980fc-87ef-4e56-8869-15a51d7127ab"
   },
   "outputs": [
    {
     "data": {
      "text/plain": [
       "Index(['Unnamed: 0.1', 'Unnamed: 0', 'Periodo', 'Fecha', 'FechaPedido',\n",
       "       'NroDocPedido', 'PosPedido', 'CodMaterial', 'Cantidad', 'CodGrupoArt',\n",
       "       'GrupoArticulos', 'codGrupoMaterial2', 'codGrupoMaterial4'],\n",
       "      dtype='object')"
      ]
     },
     "execution_count": 4,
     "metadata": {},
     "output_type": "execute_result"
    }
   ],
   "source": [
    "pred_dem_1.columns"
   ]
  },
  {
   "cell_type": "code",
   "execution_count": 5,
   "metadata": {
    "colab": {
     "base_uri": "https://localhost:8080/"
    },
    "id": "2t6w4T2RHGb-",
    "outputId": "a9a97bbb-6337-42ab-b3fa-1ef800196e86"
   },
   "outputs": [
    {
     "data": {
      "text/plain": [
       "Index(['Unnamed: 0.1', 'codGrupoMaterial5', 'Tipo_Precio', 'Departamento',\n",
       "       'Localidad', 'Provincia', 'Pais', 'CodCliente_of', 'CodSucCliente_of',\n",
       "       'NroDocPedido', 'Unnamed: 0'],\n",
       "      dtype='object')"
      ]
     },
     "execution_count": 5,
     "metadata": {},
     "output_type": "execute_result"
    }
   ],
   "source": [
    "pred_dem_2.columns"
   ]
  },
  {
   "cell_type": "code",
   "execution_count": 6,
   "metadata": {
    "colab": {
     "base_uri": "https://localhost:8080/"
    },
    "id": "UHRiXBiSUY7X",
    "outputId": "90a7cb2c-c6d6-4e24-c1a3-6ba255042fdf"
   },
   "outputs": [
    {
     "data": {
      "text/plain": [
       "Index(['Unnamed: 0.1', 'Unnamed: 0', 'Periodo', 'Fecha', 'FechaPedido',\n",
       "       'NroDocPedido', 'PosPedido', 'CodMaterial', 'Cantidad', 'CodGrupoArt',\n",
       "       'GrupoArticulos', 'codGrupoMaterial2', 'codGrupoMaterial4',\n",
       "       'codGrupoMaterial5', 'Tipo_Precio', 'Departamento', 'Localidad',\n",
       "       'Provincia', 'Pais', 'CodCliente_of', 'CodSucCliente_of'],\n",
       "      dtype='object')"
      ]
     },
     "execution_count": 6,
     "metadata": {},
     "output_type": "execute_result"
    }
   ],
   "source": [
    "pred_dem_3.columns"
   ]
  },
  {
   "cell_type": "markdown",
   "metadata": {
    "id": "MU1aNbg7HGcF"
   },
   "source": [
    "***Vemos que los dataframes pred_dem_1 y pred_dem_1 tienen la misma cantidad de filas, y distintas columnas. Usaremos estos dos para realizar un merge. Luego analizamos el pred_dem_3 para ver como esta compuesto y terminar de unir los datos.***\n",
    "\n",
    "***Antes, guardamos copias de los dataset pra poder trabajar con ellos, sin modificar los dataset originales.***\n"
   ]
  },
  {
   "cell_type": "code",
   "execution_count": 7,
   "metadata": {
    "id": "ibKJKRicU608"
   },
   "outputs": [],
   "source": [
    "df_1 = pred_dem_1.copy()\n",
    "df_2 = pred_dem_2.copy()\n",
    "df_3 = pred_dem_3.copy()"
   ]
  },
  {
   "cell_type": "markdown",
   "metadata": {
    "id": "0Tmyw35cVbE1"
   },
   "source": [
    "Podemos comenzar viendo si es que hay columnas en común."
   ]
  },
  {
   "cell_type": "code",
   "execution_count": 8,
   "metadata": {
    "colab": {
     "base_uri": "https://localhost:8080/"
    },
    "id": "JZ42jFx4VPI_",
    "outputId": "d32f5365-9432-47e6-ace0-6ee23a0042e7"
   },
   "outputs": [
    {
     "name": "stdout",
     "output_type": "stream",
     "text": [
      "Las columnas en comun en ambos dataframe son ['Unnamed: 0', 'Unnamed: 0.1', 'NroDocPedido']\n"
     ]
    }
   ],
   "source": [
    "df_1_columns = set(df_1.columns)\n",
    "df_2_columns = set(df_2.columns)\n",
    "colum_comun = list(df_1_columns.intersection(df_2.columns))\n",
    "print(f'Las columnas en comun en ambos dataframe son {colum_comun}')"
   ]
  },
  {
   "cell_type": "code",
   "execution_count": 9,
   "metadata": {
    "colab": {
     "base_uri": "https://localhost:8080/"
    },
    "id": "2WMzqat2V0oB",
    "outputId": "748498cf-3f52-4481-ade7-ecadd830061a"
   },
   "outputs": [
    {
     "name": "stdout",
     "output_type": "stream",
     "text": [
      "En la columna Unnamed: 0, df_1 tiene 106789 valores unicos \n",
      " y df_2 tiene 106789 valores unicos\n",
      "\n",
      "En la columna Unnamed: 0.1, df_1 tiene 106789 valores unicos \n",
      " y df_2 tiene 106789 valores unicos\n",
      "\n",
      "En la columna NroDocPedido, df_1 tiene 38847 valores unicos \n",
      " y df_2 tiene 38847 valores unicos\n",
      "\n"
     ]
    }
   ],
   "source": [
    "for col in colum_comun:\n",
    "    print(f'En la columna {col}, df_1 tiene {df_1[col].nunique()} valores unicos \\n y df_2 tiene {df_2[col].nunique()} valores unicos\\n')"
   ]
  },
  {
   "cell_type": "markdown",
   "metadata": {
    "id": "Nxz6e_pEWCbk"
   },
   "source": [
    "Se puede ver que las columnas \"Unnamed: 0\" y \"Unnamed: 0.1\" tienen la misma cantidad de observaciones, que coinciden ademas con la longitud del dataset original.\n",
    "\n",
    "Supongamos que queremos usar la columna NroDocPedido como columna de pivot para hacer el merge. Esta no sería una buena eleccion, debido a que un mismo valor esta columna puede tener varios valores en las demas columnas."
   ]
  },
  {
   "cell_type": "markdown",
   "metadata": {
    "id": "2Mk84EDLHGcL"
   },
   "source": [
    "***Tomamos una fila al azar de los dos dataframes para poder ver como podemos unir los conjuntos de datos:***"
   ]
  },
  {
   "cell_type": "code",
   "execution_count": 10,
   "metadata": {
    "colab": {
     "base_uri": "https://localhost:8080/",
     "height": 225
    },
    "id": "qv0Hy7wZHGcN",
    "outputId": "212381eb-1b51-42c2-d741-6b55ee843a03"
   },
   "outputs": [
    {
     "data": {
      "text/html": [
       "<div>\n",
       "<style scoped>\n",
       "    .dataframe tbody tr th:only-of-type {\n",
       "        vertical-align: middle;\n",
       "    }\n",
       "\n",
       "    .dataframe tbody tr th {\n",
       "        vertical-align: top;\n",
       "    }\n",
       "\n",
       "    .dataframe thead th {\n",
       "        text-align: right;\n",
       "    }\n",
       "</style>\n",
       "<table border=\"1\" class=\"dataframe\">\n",
       "  <thead>\n",
       "    <tr style=\"text-align: right;\">\n",
       "      <th></th>\n",
       "      <th>Unnamed: 0.1</th>\n",
       "      <th>Unnamed: 0</th>\n",
       "      <th>Periodo</th>\n",
       "      <th>Fecha</th>\n",
       "      <th>FechaPedido</th>\n",
       "      <th>NroDocPedido</th>\n",
       "      <th>PosPedido</th>\n",
       "      <th>CodMaterial</th>\n",
       "      <th>Cantidad</th>\n",
       "      <th>CodGrupoArt</th>\n",
       "      <th>GrupoArticulos</th>\n",
       "      <th>codGrupoMaterial2</th>\n",
       "      <th>codGrupoMaterial4</th>\n",
       "    </tr>\n",
       "  </thead>\n",
       "  <tbody>\n",
       "    <tr>\n",
       "      <th>3</th>\n",
       "      <td>3</td>\n",
       "      <td>1382</td>\n",
       "      <td>201811.0</td>\n",
       "      <td>2018-11-01</td>\n",
       "      <td>2018-11-16</td>\n",
       "      <td>281670.0</td>\n",
       "      <td>790.0</td>\n",
       "      <td>8051</td>\n",
       "      <td>24</td>\n",
       "      <td>11.0</td>\n",
       "      <td>Espesantes</td>\n",
       "      <td>15.0</td>\n",
       "      <td>139.0</td>\n",
       "    </tr>\n",
       "    <tr>\n",
       "      <th>4</th>\n",
       "      <td>4</td>\n",
       "      <td>1383</td>\n",
       "      <td>201901.0</td>\n",
       "      <td>2019-01-01</td>\n",
       "      <td>2019-01-21</td>\n",
       "      <td>281670.0</td>\n",
       "      <td>790.0</td>\n",
       "      <td>8051</td>\n",
       "      <td>-24</td>\n",
       "      <td>11.0</td>\n",
       "      <td>Espesantes</td>\n",
       "      <td>15.0</td>\n",
       "      <td>139.0</td>\n",
       "    </tr>\n",
       "    <tr>\n",
       "      <th>56</th>\n",
       "      <td>56</td>\n",
       "      <td>3514</td>\n",
       "      <td>201811.0</td>\n",
       "      <td>2018-11-01</td>\n",
       "      <td>2018-11-16</td>\n",
       "      <td>281670.0</td>\n",
       "      <td>780.0</td>\n",
       "      <td>7795</td>\n",
       "      <td>24</td>\n",
       "      <td>11.0</td>\n",
       "      <td>NaN</td>\n",
       "      <td>15.0</td>\n",
       "      <td>135.0</td>\n",
       "    </tr>\n",
       "  </tbody>\n",
       "</table>\n",
       "</div>"
      ],
      "text/plain": [
       "    Unnamed: 0.1  Unnamed: 0   Periodo       Fecha FechaPedido  NroDocPedido  \\\n",
       "3              3        1382  201811.0  2018-11-01  2018-11-16      281670.0   \n",
       "4              4        1383  201901.0  2019-01-01  2019-01-21      281670.0   \n",
       "56            56        3514  201811.0  2018-11-01  2018-11-16      281670.0   \n",
       "\n",
       "    PosPedido  CodMaterial  Cantidad  CodGrupoArt GrupoArticulos  \\\n",
       "3       790.0         8051        24         11.0     Espesantes   \n",
       "4       790.0         8051       -24         11.0     Espesantes   \n",
       "56      780.0         7795        24         11.0            NaN   \n",
       "\n",
       "    codGrupoMaterial2  codGrupoMaterial4  \n",
       "3                15.0              139.0  \n",
       "4                15.0              139.0  \n",
       "56               15.0              135.0  "
      ]
     },
     "execution_count": 10,
     "metadata": {},
     "output_type": "execute_result"
    }
   ],
   "source": [
    "df_1[df_1['NroDocPedido'] == 281670.0]"
   ]
  },
  {
   "cell_type": "code",
   "execution_count": 11,
   "metadata": {
    "colab": {
     "base_uri": "https://localhost:8080/",
     "height": 277
    },
    "id": "g_jVmHK0HGcP",
    "outputId": "2a0d40d2-7d38-44ab-f341-f43744d7e7d7"
   },
   "outputs": [
    {
     "data": {
      "text/html": [
       "<div>\n",
       "<style scoped>\n",
       "    .dataframe tbody tr th:only-of-type {\n",
       "        vertical-align: middle;\n",
       "    }\n",
       "\n",
       "    .dataframe tbody tr th {\n",
       "        vertical-align: top;\n",
       "    }\n",
       "\n",
       "    .dataframe thead th {\n",
       "        text-align: right;\n",
       "    }\n",
       "</style>\n",
       "<table border=\"1\" class=\"dataframe\">\n",
       "  <thead>\n",
       "    <tr style=\"text-align: right;\">\n",
       "      <th></th>\n",
       "      <th>Unnamed: 0.1</th>\n",
       "      <th>codGrupoMaterial5</th>\n",
       "      <th>Tipo_Precio</th>\n",
       "      <th>Departamento</th>\n",
       "      <th>Localidad</th>\n",
       "      <th>Provincia</th>\n",
       "      <th>Pais</th>\n",
       "      <th>CodCliente_of</th>\n",
       "      <th>CodSucCliente_of</th>\n",
       "      <th>NroDocPedido</th>\n",
       "      <th>Unnamed: 0</th>\n",
       "    </tr>\n",
       "  </thead>\n",
       "  <tbody>\n",
       "    <tr>\n",
       "      <th>3</th>\n",
       "      <td>3</td>\n",
       "      <td>291.0</td>\n",
       "      <td>1.0</td>\n",
       "      <td>TERCERO ARRIBA</td>\n",
       "      <td>OLIVA</td>\n",
       "      <td>Córdoba</td>\n",
       "      <td>AR</td>\n",
       "      <td>2</td>\n",
       "      <td>2</td>\n",
       "      <td>281670.0</td>\n",
       "      <td>1382</td>\n",
       "    </tr>\n",
       "    <tr>\n",
       "      <th>4</th>\n",
       "      <td>4</td>\n",
       "      <td>291.0</td>\n",
       "      <td>1.0</td>\n",
       "      <td>TERCERO ARRIBA</td>\n",
       "      <td>OLIVA</td>\n",
       "      <td>Córdoba</td>\n",
       "      <td>AR</td>\n",
       "      <td>2</td>\n",
       "      <td>2</td>\n",
       "      <td>281670.0</td>\n",
       "      <td>1383</td>\n",
       "    </tr>\n",
       "    <tr>\n",
       "      <th>56</th>\n",
       "      <td>56</td>\n",
       "      <td>286.0</td>\n",
       "      <td>1.0</td>\n",
       "      <td>TERCERO ARRIBA</td>\n",
       "      <td>OLIVA</td>\n",
       "      <td>Córdoba</td>\n",
       "      <td>AR</td>\n",
       "      <td>2</td>\n",
       "      <td>2</td>\n",
       "      <td>281670.0</td>\n",
       "      <td>3514</td>\n",
       "    </tr>\n",
       "  </tbody>\n",
       "</table>\n",
       "</div>"
      ],
      "text/plain": [
       "    Unnamed: 0.1  codGrupoMaterial5  Tipo_Precio    Departamento Localidad  \\\n",
       "3              3              291.0          1.0  TERCERO ARRIBA     OLIVA   \n",
       "4              4              291.0          1.0  TERCERO ARRIBA     OLIVA   \n",
       "56            56              286.0          1.0  TERCERO ARRIBA     OLIVA   \n",
       "\n",
       "   Provincia Pais  CodCliente_of  CodSucCliente_of  NroDocPedido  Unnamed: 0  \n",
       "3    Córdoba   AR              2                 2      281670.0        1382  \n",
       "4    Córdoba   AR              2                 2      281670.0        1383  \n",
       "56   Córdoba   AR              2                 2      281670.0        3514  "
      ]
     },
     "execution_count": 11,
     "metadata": {},
     "output_type": "execute_result"
    }
   ],
   "source": [
    "df_2[df_2['NroDocPedido'] == 281670.0]"
   ]
  },
  {
   "cell_type": "markdown",
   "metadata": {
    "id": "ZEl5esD2WO4P"
   },
   "source": [
    "Se ve que para poder hacer el merge se necesitaria otra columna, ademas de la columna \"NroDocPedido\", para poder identificar las filas de manera univoca. La mejor opcion es usar las columnas \"Unnamed: 0\" o \"Unnamed: 0.1\", o ambas.\n",
    "\n",
    "Podemos ver que la columna Unnamed: 0, esta presente en los dos dataframes. Y puede ser una posible columna para mergearlos. Observemos un ejemplo en particular de esta columna:"
   ]
  },
  {
   "cell_type": "code",
   "execution_count": 12,
   "metadata": {
    "colab": {
     "base_uri": "https://localhost:8080/",
     "height": 162
    },
    "id": "BVKpqA8XHGcT",
    "outputId": "daf38905-855b-4d6c-fa21-e34d9c3fad72"
   },
   "outputs": [
    {
     "data": {
      "text/html": [
       "<div>\n",
       "<style scoped>\n",
       "    .dataframe tbody tr th:only-of-type {\n",
       "        vertical-align: middle;\n",
       "    }\n",
       "\n",
       "    .dataframe tbody tr th {\n",
       "        vertical-align: top;\n",
       "    }\n",
       "\n",
       "    .dataframe thead th {\n",
       "        text-align: right;\n",
       "    }\n",
       "</style>\n",
       "<table border=\"1\" class=\"dataframe\">\n",
       "  <thead>\n",
       "    <tr style=\"text-align: right;\">\n",
       "      <th></th>\n",
       "      <th>Unnamed: 0.1</th>\n",
       "      <th>Unnamed: 0</th>\n",
       "      <th>Periodo</th>\n",
       "      <th>Fecha</th>\n",
       "      <th>FechaPedido</th>\n",
       "      <th>NroDocPedido</th>\n",
       "      <th>PosPedido</th>\n",
       "      <th>CodMaterial</th>\n",
       "      <th>Cantidad</th>\n",
       "      <th>CodGrupoArt</th>\n",
       "      <th>GrupoArticulos</th>\n",
       "      <th>codGrupoMaterial2</th>\n",
       "      <th>codGrupoMaterial4</th>\n",
       "    </tr>\n",
       "  </thead>\n",
       "  <tbody>\n",
       "    <tr>\n",
       "      <th>3</th>\n",
       "      <td>3</td>\n",
       "      <td>1382</td>\n",
       "      <td>201811.0</td>\n",
       "      <td>2018-11-01</td>\n",
       "      <td>2018-11-16</td>\n",
       "      <td>281670.0</td>\n",
       "      <td>790.0</td>\n",
       "      <td>8051</td>\n",
       "      <td>24</td>\n",
       "      <td>11.0</td>\n",
       "      <td>Espesantes</td>\n",
       "      <td>15.0</td>\n",
       "      <td>139.0</td>\n",
       "    </tr>\n",
       "  </tbody>\n",
       "</table>\n",
       "</div>"
      ],
      "text/plain": [
       "   Unnamed: 0.1  Unnamed: 0   Periodo       Fecha FechaPedido  NroDocPedido  \\\n",
       "3             3        1382  201811.0  2018-11-01  2018-11-16      281670.0   \n",
       "\n",
       "   PosPedido  CodMaterial  Cantidad  CodGrupoArt GrupoArticulos  \\\n",
       "3      790.0         8051        24         11.0     Espesantes   \n",
       "\n",
       "   codGrupoMaterial2  codGrupoMaterial4  \n",
       "3               15.0              139.0  "
      ]
     },
     "execution_count": 12,
     "metadata": {},
     "output_type": "execute_result"
    }
   ],
   "source": [
    "df_1[df_1['Unnamed: 0'] == 1382]"
   ]
  },
  {
   "cell_type": "code",
   "execution_count": 13,
   "metadata": {
    "colab": {
     "base_uri": "https://localhost:8080/",
     "height": 179
    },
    "id": "-CcsV8NUHGcV",
    "outputId": "342c659e-3197-4e7a-bbf8-e0db9f0787ee"
   },
   "outputs": [
    {
     "data": {
      "text/html": [
       "<div>\n",
       "<style scoped>\n",
       "    .dataframe tbody tr th:only-of-type {\n",
       "        vertical-align: middle;\n",
       "    }\n",
       "\n",
       "    .dataframe tbody tr th {\n",
       "        vertical-align: top;\n",
       "    }\n",
       "\n",
       "    .dataframe thead th {\n",
       "        text-align: right;\n",
       "    }\n",
       "</style>\n",
       "<table border=\"1\" class=\"dataframe\">\n",
       "  <thead>\n",
       "    <tr style=\"text-align: right;\">\n",
       "      <th></th>\n",
       "      <th>Unnamed: 0.1</th>\n",
       "      <th>codGrupoMaterial5</th>\n",
       "      <th>Tipo_Precio</th>\n",
       "      <th>Departamento</th>\n",
       "      <th>Localidad</th>\n",
       "      <th>Provincia</th>\n",
       "      <th>Pais</th>\n",
       "      <th>CodCliente_of</th>\n",
       "      <th>CodSucCliente_of</th>\n",
       "      <th>NroDocPedido</th>\n",
       "      <th>Unnamed: 0</th>\n",
       "    </tr>\n",
       "  </thead>\n",
       "  <tbody>\n",
       "    <tr>\n",
       "      <th>3</th>\n",
       "      <td>3</td>\n",
       "      <td>291.0</td>\n",
       "      <td>1.0</td>\n",
       "      <td>TERCERO ARRIBA</td>\n",
       "      <td>OLIVA</td>\n",
       "      <td>Córdoba</td>\n",
       "      <td>AR</td>\n",
       "      <td>2</td>\n",
       "      <td>2</td>\n",
       "      <td>281670.0</td>\n",
       "      <td>1382</td>\n",
       "    </tr>\n",
       "  </tbody>\n",
       "</table>\n",
       "</div>"
      ],
      "text/plain": [
       "   Unnamed: 0.1  codGrupoMaterial5  Tipo_Precio    Departamento Localidad  \\\n",
       "3             3              291.0          1.0  TERCERO ARRIBA     OLIVA   \n",
       "\n",
       "  Provincia Pais  CodCliente_of  CodSucCliente_of  NroDocPedido  Unnamed: 0  \n",
       "3   Córdoba   AR              2                 2      281670.0        1382  "
      ]
     },
     "execution_count": 13,
     "metadata": {},
     "output_type": "execute_result"
    }
   ],
   "source": [
    "df_2[df_2['Unnamed: 0'] == 1382]"
   ]
  },
  {
   "cell_type": "markdown",
   "metadata": {
    "id": "Fd2kmcgIXD_J"
   },
   "source": [
    "Concluimos que estas columnas son las mas utiles para diferenciar univocamente, una fila de otra. Entonces la utilizaremos para mergear df_1 o df_2."
   ]
  },
  {
   "cell_type": "markdown",
   "metadata": {
    "id": "GEqy2By9HGcX"
   },
   "source": [
    "***Veamos si existen valores de la columna que difiera entre los dataframes:***"
   ]
  },
  {
   "cell_type": "code",
   "execution_count": 14,
   "metadata": {
    "colab": {
     "base_uri": "https://localhost:8080/"
    },
    "id": "c7xN8UyhHGcY",
    "outputId": "4c6e5434-8c1c-4b3b-cb96-51479f98ed0c"
   },
   "outputs": [
    {
     "data": {
      "text/plain": [
       "0"
      ]
     },
     "execution_count": 14,
     "metadata": {},
     "output_type": "execute_result"
    }
   ],
   "source": [
    "len(list(set(df_1['Unnamed: 0'].unique()).difference(df_2['Unnamed: 0'].unique())))"
   ]
  },
  {
   "cell_type": "markdown",
   "metadata": {
    "id": "mI_qyd_THGcb"
   },
   "source": [
    "***Vemos que tenemos 0 valores distintos entre los dataframes. Osea que ambos dataframes contienen todos los valores del otro. Concluimos que esta columna es la forma mas facil de diferenciar univocamente, una fila de otra. Entonces la utilizaremos para mergear pred_dem_1 o pred_dem_2. A continuacion vamos hacemos el Merge***"
   ]
  },
  {
   "cell_type": "code",
   "execution_count": 15,
   "metadata": {
    "id": "QFC-T4piHGcc"
   },
   "outputs": [],
   "source": [
    "df_merged = df_1.merge(df_2, on= ['Unnamed: 0','Unnamed: 0.1'], how = 'left')"
   ]
  },
  {
   "cell_type": "code",
   "execution_count": 16,
   "metadata": {
    "colab": {
     "base_uri": "https://localhost:8080/"
    },
    "id": "ADCTvNulHGcd",
    "outputId": "f142bb7d-92be-4989-d4e2-dbca37758496"
   },
   "outputs": [
    {
     "data": {
      "text/plain": [
       "Index(['Unnamed: 0.1', 'Unnamed: 0', 'Periodo', 'Fecha', 'FechaPedido',\n",
       "       'NroDocPedido_x', 'PosPedido', 'CodMaterial', 'Cantidad', 'CodGrupoArt',\n",
       "       'GrupoArticulos', 'codGrupoMaterial2', 'codGrupoMaterial4',\n",
       "       'codGrupoMaterial5', 'Tipo_Precio', 'Departamento', 'Localidad',\n",
       "       'Provincia', 'Pais', 'CodCliente_of', 'CodSucCliente_of',\n",
       "       'NroDocPedido_y'],\n",
       "      dtype='object')"
      ]
     },
     "execution_count": 16,
     "metadata": {},
     "output_type": "execute_result"
    }
   ],
   "source": [
    "df_merged.columns"
   ]
  },
  {
   "cell_type": "markdown",
   "metadata": {
    "id": "qMS0GC6vYCDe"
   },
   "source": [
    "Vemos que tenemos 2 columnas \"NroDocPedido\". Vamos a analizar si es que estas columnas son iguales."
   ]
  },
  {
   "cell_type": "code",
   "execution_count": 17,
   "metadata": {
    "colab": {
     "base_uri": "https://localhost:8080/",
     "height": 424
    },
    "id": "t0_s2qwSYJ88",
    "outputId": "b0507af7-14d4-4ce9-c94c-fca42e5c9940"
   },
   "outputs": [
    {
     "data": {
      "text/html": [
       "<div>\n",
       "<style scoped>\n",
       "    .dataframe tbody tr th:only-of-type {\n",
       "        vertical-align: middle;\n",
       "    }\n",
       "\n",
       "    .dataframe tbody tr th {\n",
       "        vertical-align: top;\n",
       "    }\n",
       "\n",
       "    .dataframe thead th {\n",
       "        text-align: right;\n",
       "    }\n",
       "</style>\n",
       "<table border=\"1\" class=\"dataframe\">\n",
       "  <thead>\n",
       "    <tr style=\"text-align: right;\">\n",
       "      <th></th>\n",
       "      <th>NroDocPedido_x</th>\n",
       "      <th>NroDocPedido_y</th>\n",
       "    </tr>\n",
       "  </thead>\n",
       "  <tbody>\n",
       "    <tr>\n",
       "      <th>0</th>\n",
       "      <td>514585.0</td>\n",
       "      <td>514585.0</td>\n",
       "    </tr>\n",
       "    <tr>\n",
       "      <th>1</th>\n",
       "      <td>232161.0</td>\n",
       "      <td>232161.0</td>\n",
       "    </tr>\n",
       "    <tr>\n",
       "      <th>2</th>\n",
       "      <td>260497.0</td>\n",
       "      <td>260497.0</td>\n",
       "    </tr>\n",
       "    <tr>\n",
       "      <th>3</th>\n",
       "      <td>281670.0</td>\n",
       "      <td>281670.0</td>\n",
       "    </tr>\n",
       "    <tr>\n",
       "      <th>4</th>\n",
       "      <td>281670.0</td>\n",
       "      <td>281670.0</td>\n",
       "    </tr>\n",
       "    <tr>\n",
       "      <th>...</th>\n",
       "      <td>...</td>\n",
       "      <td>...</td>\n",
       "    </tr>\n",
       "    <tr>\n",
       "      <th>106784</th>\n",
       "      <td>521696.0</td>\n",
       "      <td>521696.0</td>\n",
       "    </tr>\n",
       "    <tr>\n",
       "      <th>106785</th>\n",
       "      <td>260215.0</td>\n",
       "      <td>260215.0</td>\n",
       "    </tr>\n",
       "    <tr>\n",
       "      <th>106786</th>\n",
       "      <td>346688.0</td>\n",
       "      <td>346688.0</td>\n",
       "    </tr>\n",
       "    <tr>\n",
       "      <th>106787</th>\n",
       "      <td>377615.0</td>\n",
       "      <td>377615.0</td>\n",
       "    </tr>\n",
       "    <tr>\n",
       "      <th>106788</th>\n",
       "      <td>457400.0</td>\n",
       "      <td>457400.0</td>\n",
       "    </tr>\n",
       "  </tbody>\n",
       "</table>\n",
       "<p>106789 rows × 2 columns</p>\n",
       "</div>"
      ],
      "text/plain": [
       "        NroDocPedido_x  NroDocPedido_y\n",
       "0             514585.0        514585.0\n",
       "1             232161.0        232161.0\n",
       "2             260497.0        260497.0\n",
       "3             281670.0        281670.0\n",
       "4             281670.0        281670.0\n",
       "...                ...             ...\n",
       "106784        521696.0        521696.0\n",
       "106785        260215.0        260215.0\n",
       "106786        346688.0        346688.0\n",
       "106787        377615.0        377615.0\n",
       "106788        457400.0        457400.0\n",
       "\n",
       "[106789 rows x 2 columns]"
      ]
     },
     "execution_count": 17,
     "metadata": {},
     "output_type": "execute_result"
    }
   ],
   "source": [
    "df_merged[['NroDocPedido_x','NroDocPedido_y']]"
   ]
  },
  {
   "cell_type": "code",
   "execution_count": 18,
   "metadata": {
    "colab": {
     "base_uri": "https://localhost:8080/"
    },
    "id": "UhrZeTPWHGcg",
    "outputId": "ae0dfc36-130f-466c-a22d-13718aa57b1c"
   },
   "outputs": [
    {
     "data": {
      "text/plain": [
       "0"
      ]
     },
     "execution_count": 18,
     "metadata": {},
     "output_type": "execute_result"
    }
   ],
   "source": [
    "# Consultamos diferentes entre NroDocPedido_x y NroDocPedido_y:\n",
    "len(list(set(df_merged.NroDocPedido_x.unique()).difference(df_merged.NroDocPedido_y.unique())))"
   ]
  },
  {
   "cell_type": "markdown",
   "metadata": {
    "id": "XFJAOwMaHGci"
   },
   "source": [
    "Vemos que las columnas NroDocPedido_x e y, son iguales entre si, por eso eliminamos una y la otra la renombramos."
   ]
  },
  {
   "cell_type": "code",
   "execution_count": 19,
   "metadata": {
    "id": "fXldhDuWHGcl"
   },
   "outputs": [],
   "source": [
    "df_merged.drop(columns=['NroDocPedido_x'], inplace=True)\n",
    "df_merged.rename(columns={'NroDocPedido_y':'NroDocPedido'}, inplace=True)"
   ]
  },
  {
   "cell_type": "code",
   "execution_count": 20,
   "metadata": {
    "colab": {
     "base_uri": "https://localhost:8080/"
    },
    "id": "eYxLqqLTHGcm",
    "outputId": "edfa2efc-cf78-447d-802a-31e41deb790d"
   },
   "outputs": [
    {
     "data": {
      "text/plain": [
       "Index(['Unnamed: 0.1', 'Unnamed: 0', 'Periodo', 'Fecha', 'FechaPedido',\n",
       "       'PosPedido', 'CodMaterial', 'Cantidad', 'CodGrupoArt', 'GrupoArticulos',\n",
       "       'codGrupoMaterial2', 'codGrupoMaterial4', 'codGrupoMaterial5',\n",
       "       'Tipo_Precio', 'Departamento', 'Localidad', 'Provincia', 'Pais',\n",
       "       'CodCliente_of', 'CodSucCliente_of', 'NroDocPedido'],\n",
       "      dtype='object')"
      ]
     },
     "execution_count": 20,
     "metadata": {},
     "output_type": "execute_result"
    }
   ],
   "source": [
    "df_merged.columns"
   ]
  },
  {
   "cell_type": "markdown",
   "metadata": {
    "id": "_J1YI3x_HGcn"
   },
   "source": [
    "***Controlemos que no se hayan agregado filas de mas:***"
   ]
  },
  {
   "cell_type": "code",
   "execution_count": 21,
   "metadata": {
    "colab": {
     "base_uri": "https://localhost:8080/"
    },
    "id": "35SRarUZHGcp",
    "outputId": "d8add5d0-30ee-4aec-9aba-e062daae92e3"
   },
   "outputs": [
    {
     "name": "stdout",
     "output_type": "stream",
     "text": [
      "El largo de los dos datasets mergeados es pred_dem_1: 106789 y pred_dem_2: 106789\n"
     ]
    }
   ],
   "source": [
    "print(f'El largo de los dos datasets mergeados es pred_dem_1: {len(df_1)} y pred_dem_2: {len(df_2)}')"
   ]
  },
  {
   "cell_type": "code",
   "execution_count": 22,
   "metadata": {
    "colab": {
     "base_uri": "https://localhost:8080/"
    },
    "id": "PdgX8V9_HGcs",
    "outputId": "b836b95e-a83e-421f-aa7c-91e7ae7b4fe6"
   },
   "outputs": [
    {
     "name": "stdout",
     "output_type": "stream",
     "text": [
      "La cantidad de filas en el merge es :106789\n"
     ]
    }
   ],
   "source": [
    "print(f'La cantidad de filas en el merge es :{len(df_merged)}')"
   ]
  },
  {
   "cell_type": "markdown",
   "metadata": {
    "id": "LtzjrjyeHGcu"
   },
   "source": [
    "***Vemos que la cantidad de filas es igual para los 3 datasets, entonces no se introdujeron filas de mas***"
   ]
  },
  {
   "cell_type": "markdown",
   "metadata": {
    "id": "5j99C7oeHGcv"
   },
   "source": [
    "***Veamos como juntar los dos dataset que nos quedaron (df_merge y df_3):***"
   ]
  },
  {
   "cell_type": "code",
   "execution_count": 23,
   "metadata": {
    "colab": {
     "base_uri": "https://localhost:8080/"
    },
    "id": "3IOaCjUOHGcw",
    "outputId": "25c23f60-49aa-4b61-90e1-00ae778ff6e8"
   },
   "outputs": [
    {
     "data": {
      "text/plain": [
       "21"
      ]
     },
     "execution_count": 23,
     "metadata": {},
     "output_type": "execute_result"
    }
   ],
   "source": [
    "len(df_merged.columns)"
   ]
  },
  {
   "cell_type": "code",
   "execution_count": 24,
   "metadata": {
    "colab": {
     "base_uri": "https://localhost:8080/"
    },
    "id": "5zfCrUW4HGcy",
    "outputId": "02079a05-49a0-4ee4-8cd5-5b61b382339b"
   },
   "outputs": [
    {
     "data": {
      "text/plain": [
       "21"
      ]
     },
     "execution_count": 24,
     "metadata": {},
     "output_type": "execute_result"
    }
   ],
   "source": [
    "len(df_3.columns)"
   ]
  },
  {
   "cell_type": "markdown",
   "metadata": {
    "id": "GS3oyKpMHGcz"
   },
   "source": [
    "***Ambas comparten la misma cantidad de columnas. Observemos la columna con que la hicimos el merge anterior:***"
   ]
  },
  {
   "cell_type": "code",
   "execution_count": 25,
   "metadata": {
    "colab": {
     "base_uri": "https://localhost:8080/"
    },
    "id": "zH8WhFPqHGc1",
    "outputId": "d101d70c-22ee-446e-c4bf-ca5eac561a9e"
   },
   "outputs": [
    {
     "data": {
      "text/plain": [
       "count       1001.000\n",
       "mean     3771458.977\n",
       "std         2301.079\n",
       "min      3769477.000\n",
       "25%      3770006.000\n",
       "50%      3770419.000\n",
       "75%      3771596.000\n",
       "max      3780189.000\n",
       "Name: Unnamed: 0, dtype: object"
      ]
     },
     "execution_count": 25,
     "metadata": {},
     "output_type": "execute_result"
    }
   ],
   "source": [
    "df_3['Unnamed: 0'].describe().apply(lambda x: '%.3f' % x)"
   ]
  },
  {
   "cell_type": "code",
   "execution_count": 26,
   "metadata": {
    "colab": {
     "base_uri": "https://localhost:8080/"
    },
    "id": "e7DPYEI1HGc3",
    "outputId": "8a1f74c3-2d24-4f30-a45e-5a5d15411c4a"
   },
   "outputs": [
    {
     "data": {
      "text/plain": [
       "count     106789.000\n",
       "mean     2471256.412\n",
       "std      1120072.446\n",
       "min         1159.000\n",
       "25%      1582308.000\n",
       "50%      2808454.000\n",
       "75%      3464287.000\n",
       "max      3769476.000\n",
       "Name: Unnamed: 0, dtype: object"
      ]
     },
     "execution_count": 26,
     "metadata": {},
     "output_type": "execute_result"
    }
   ],
   "source": [
    "df_merged['Unnamed: 0'].describe().apply(lambda x: '%.3f' % x)"
   ]
  },
  {
   "cell_type": "markdown",
   "metadata": {
    "id": "VBaFtCHQHGc5"
   },
   "source": [
    "***Vemos que pasa con el minimo de df_3  y el maximo de df_merge:***"
   ]
  },
  {
   "cell_type": "code",
   "execution_count": 27,
   "metadata": {
    "colab": {
     "base_uri": "https://localhost:8080/"
    },
    "id": "VszbdeepHGc6",
    "outputId": "f62c9a6e-0ca0-49e8-b8c4-780ad1e206e1"
   },
   "outputs": [
    {
     "data": {
      "text/plain": [
       "3769477"
      ]
     },
     "execution_count": 27,
     "metadata": {},
     "output_type": "execute_result"
    }
   ],
   "source": [
    "df_3['Unnamed: 0'].min()"
   ]
  },
  {
   "cell_type": "code",
   "execution_count": 28,
   "metadata": {
    "colab": {
     "base_uri": "https://localhost:8080/"
    },
    "id": "ewAJCtb-HGc8",
    "outputId": "cf1eefa7-af63-471d-e4bb-b47f8e5e87b0"
   },
   "outputs": [
    {
     "data": {
      "text/plain": [
       "3769476"
      ]
     },
     "execution_count": 28,
     "metadata": {},
     "output_type": "execute_result"
    }
   ],
   "source": [
    "df_merged['Unnamed: 0'].max()"
   ]
  },
  {
   "cell_type": "markdown",
   "metadata": {
    "id": "NIKzYOt-HGc-"
   },
   "source": [
    "***Parece ser que el minimo de df_3 es una unidad mas grande que el maximmo de df_merged. Podria pasar que los valores sean consecutivos. Veamos si la diferencia entre las filas, es de uno. Para concluir que esto se cumple:***"
   ]
  },
  {
   "cell_type": "code",
   "execution_count": 29,
   "metadata": {
    "colab": {
     "base_uri": "https://localhost:8080/"
    },
    "id": "u8m48gPHHGdA",
    "outputId": "7f6fb211-3564-407f-cf43-5e6d841efc5e"
   },
   "outputs": [
    {
     "data": {
      "text/plain": [
       "0          NaN\n",
       "1          1.0\n",
       "2          1.0\n",
       "3          1.0\n",
       "4          1.0\n",
       "         ...  \n",
       "996        1.0\n",
       "997        1.0\n",
       "998        1.0\n",
       "999        1.0\n",
       "1000   -9974.0\n",
       "Name: Unnamed: 0, Length: 1001, dtype: float64"
      ]
     },
     "execution_count": 29,
     "metadata": {},
     "output_type": "execute_result"
    }
   ],
   "source": [
    "diff_test = df_3['Unnamed: 0'].diff()\n",
    "diff_test"
   ]
  },
  {
   "cell_type": "markdown",
   "metadata": {
    "id": "hGiM3XOVHGdC"
   },
   "source": [
    "***Podemos concluir que las filas de pred_dem_3 no necesitan un merge, sino una concatenacion***"
   ]
  },
  {
   "cell_type": "markdown",
   "metadata": {
    "id": "U_XGcOdLHGdE"
   },
   "source": [
    "***Antes de concatenar, observemos los NroDocPedido:***"
   ]
  },
  {
   "cell_type": "code",
   "execution_count": 30,
   "metadata": {
    "colab": {
     "base_uri": "https://localhost:8080/"
    },
    "id": "IK6chMUcHGdF",
    "outputId": "af964db0-d1fb-4ea3-c3da-d77139675de1"
   },
   "outputs": [
    {
     "data": {
      "text/plain": [
       "38847"
      ]
     },
     "execution_count": 30,
     "metadata": {},
     "output_type": "execute_result"
    }
   ],
   "source": [
    "len(df_merged.NroDocPedido.unique())"
   ]
  },
  {
   "cell_type": "code",
   "execution_count": 31,
   "metadata": {
    "colab": {
     "base_uri": "https://localhost:8080/"
    },
    "id": "DTUNBnr1HGdH",
    "outputId": "b4160004-5414-4a0f-8217-f9b4dd2421ed"
   },
   "outputs": [
    {
     "data": {
      "text/plain": [
       "341"
      ]
     },
     "execution_count": 31,
     "metadata": {},
     "output_type": "execute_result"
    }
   ],
   "source": [
    "len(df_3.NroDocPedido.unique())"
   ]
  },
  {
   "cell_type": "markdown",
   "metadata": {
    "id": "zvWreIRyHGdL"
   },
   "source": [
    "***Veamos si existen NroDocPedido que esten en los dos dataframes:***"
   ]
  },
  {
   "cell_type": "code",
   "execution_count": 32,
   "metadata": {
    "colab": {
     "base_uri": "https://localhost:8080/"
    },
    "id": "zRS8uGjMHGdL",
    "outputId": "d8465519-eaf5-43da-ff97-2c1e06e5d7ce"
   },
   "outputs": [
    {
     "data": {
      "text/plain": [
       "336"
      ]
     },
     "execution_count": 32,
     "metadata": {},
     "output_type": "execute_result"
    }
   ],
   "source": [
    "len(list(set(df_3.NroDocPedido.unique()).difference(df_merged.NroDocPedido.unique())))"
   ]
  },
  {
   "cell_type": "markdown",
   "metadata": {
    "id": "9f9SSfS2HGdN"
   },
   "source": [
    "***Vemos que existen 5 NroDocPedidos que se encuentran en los dos dataframes. Encontremos estos valores:***"
   ]
  },
  {
   "cell_type": "code",
   "execution_count": 33,
   "metadata": {
    "colab": {
     "base_uri": "https://localhost:8080/"
    },
    "id": "I52zAfeFHGdO",
    "outputId": "0304d3b5-6604-48a0-e0e6-69871e5298f9"
   },
   "outputs": [
    {
     "data": {
      "text/plain": [
       "[521696.0, 472674.0, 465908.0, 457400.0, 483932.0]"
      ]
     },
     "execution_count": 33,
     "metadata": {},
     "output_type": "execute_result"
    }
   ],
   "source": [
    "intersected_values = list(set(df_3.NroDocPedido.unique()) & set(df_merged.NroDocPedido.unique()))\n",
    "intersected_values"
   ]
  },
  {
   "cell_type": "markdown",
   "metadata": {
    "id": "XYa1-gp5HGdR"
   },
   "source": [
    "***Veamos si los codigos que estan presentes en los dos dataframes, no introducirian filas repetidas:***"
   ]
  },
  {
   "cell_type": "code",
   "execution_count": 34,
   "metadata": {
    "colab": {
     "base_uri": "https://localhost:8080/"
    },
    "id": "OfXAMjHKHGdT",
    "outputId": "35a0ce52-2e48-4478-ecc2-93cc545aeff3"
   },
   "outputs": [
    {
     "name": "stdout",
     "output_type": "stream",
     "text": [
      "Empty DataFrame\n",
      "Columns: [Unnamed: 0.1, Unnamed: 0, Periodo, Fecha, FechaPedido, NroDocPedido, PosPedido, CodMaterial, Cantidad, CodGrupoArt, GrupoArticulos, codGrupoMaterial2, codGrupoMaterial4, codGrupoMaterial5, Tipo_Precio, Departamento, Localidad, Provincia, Pais, CodCliente_of, CodSucCliente_of]\n",
      "Index: []\n",
      "\n",
      "[0 rows x 21 columns]\n"
     ]
    }
   ],
   "source": [
    "# Encontrar las filas comunes en ambos conjuntos de datos\n",
    "filas_comunes = pd.merge(df_3, df_merged, how='inner')\n",
    "\n",
    "print(filas_comunes)"
   ]
  },
  {
   "cell_type": "markdown",
   "metadata": {
    "id": "aIFpAYd-HGdV"
   },
   "source": [
    "***Vemos que no tenemos filas en comun, entonces al concatenar los datos, no tendremos filas repetidas. Veamos ademas si tenemos columnas que difieren entre los dos dataframes:***"
   ]
  },
  {
   "cell_type": "code",
   "execution_count": 35,
   "metadata": {
    "colab": {
     "base_uri": "https://localhost:8080/"
    },
    "id": "n0tVaWhDHGdW",
    "outputId": "5135d90f-6e55-464b-9f12-195cd8d5339c"
   },
   "outputs": [
    {
     "data": {
      "text/plain": [
       "[]"
      ]
     },
     "execution_count": 35,
     "metadata": {},
     "output_type": "execute_result"
    }
   ],
   "source": [
    "(list(set(df_3.columns).difference(df_merged.columns)))"
   ]
  },
  {
   "cell_type": "markdown",
   "metadata": {
    "id": "raJy-GTHHGdY"
   },
   "source": [
    "***No tenemos columnas distintas***"
   ]
  },
  {
   "cell_type": "markdown",
   "metadata": {
    "id": "JS5H_a2zHGdZ"
   },
   "source": [
    "***Concatenamos los dataframes:***"
   ]
  },
  {
   "cell_type": "code",
   "execution_count": 36,
   "metadata": {
    "colab": {
     "base_uri": "https://localhost:8080/",
     "height": 679
    },
    "id": "j1paEzkEHGdc",
    "outputId": "925f0a9d-c821-4677-bf6c-07ce8347187e"
   },
   "outputs": [
    {
     "data": {
      "text/html": [
       "<div>\n",
       "<style scoped>\n",
       "    .dataframe tbody tr th:only-of-type {\n",
       "        vertical-align: middle;\n",
       "    }\n",
       "\n",
       "    .dataframe tbody tr th {\n",
       "        vertical-align: top;\n",
       "    }\n",
       "\n",
       "    .dataframe thead th {\n",
       "        text-align: right;\n",
       "    }\n",
       "</style>\n",
       "<table border=\"1\" class=\"dataframe\">\n",
       "  <thead>\n",
       "    <tr style=\"text-align: right;\">\n",
       "      <th></th>\n",
       "      <th>Unnamed: 0.1</th>\n",
       "      <th>Unnamed: 0</th>\n",
       "      <th>Periodo</th>\n",
       "      <th>Fecha</th>\n",
       "      <th>FechaPedido</th>\n",
       "      <th>PosPedido</th>\n",
       "      <th>CodMaterial</th>\n",
       "      <th>Cantidad</th>\n",
       "      <th>CodGrupoArt</th>\n",
       "      <th>GrupoArticulos</th>\n",
       "      <th>...</th>\n",
       "      <th>codGrupoMaterial4</th>\n",
       "      <th>codGrupoMaterial5</th>\n",
       "      <th>Tipo_Precio</th>\n",
       "      <th>Departamento</th>\n",
       "      <th>Localidad</th>\n",
       "      <th>Provincia</th>\n",
       "      <th>Pais</th>\n",
       "      <th>CodCliente_of</th>\n",
       "      <th>CodSucCliente_of</th>\n",
       "      <th>NroDocPedido</th>\n",
       "    </tr>\n",
       "  </thead>\n",
       "  <tbody>\n",
       "    <tr>\n",
       "      <th>0</th>\n",
       "      <td>0</td>\n",
       "      <td>1159</td>\n",
       "      <td>202111.0</td>\n",
       "      <td>2021-11-01</td>\n",
       "      <td>2021-11-01</td>\n",
       "      <td>10.0</td>\n",
       "      <td>81074</td>\n",
       "      <td>480</td>\n",
       "      <td>14.0</td>\n",
       "      <td>Corrosivos</td>\n",
       "      <td>...</td>\n",
       "      <td>284.0</td>\n",
       "      <td>674.0</td>\n",
       "      <td>10.0</td>\n",
       "      <td>LOMAS DE ZAMORA</td>\n",
       "      <td>TEMPERLEY</td>\n",
       "      <td>Buenos Aires</td>\n",
       "      <td>AR</td>\n",
       "      <td>1</td>\n",
       "      <td>1</td>\n",
       "      <td>514585.0</td>\n",
       "    </tr>\n",
       "    <tr>\n",
       "      <th>1</th>\n",
       "      <td>1</td>\n",
       "      <td>1380</td>\n",
       "      <td>201802.0</td>\n",
       "      <td>2018-02-01</td>\n",
       "      <td>2018-02-15</td>\n",
       "      <td>930.0</td>\n",
       "      <td>8051</td>\n",
       "      <td>24</td>\n",
       "      <td>11.0</td>\n",
       "      <td>Espesantes</td>\n",
       "      <td>...</td>\n",
       "      <td>139.0</td>\n",
       "      <td>291.0</td>\n",
       "      <td>1.0</td>\n",
       "      <td>TERCERO ARRIBA</td>\n",
       "      <td>OLIVA</td>\n",
       "      <td>Córdoba</td>\n",
       "      <td>AR</td>\n",
       "      <td>2</td>\n",
       "      <td>2</td>\n",
       "      <td>232161.0</td>\n",
       "    </tr>\n",
       "    <tr>\n",
       "      <th>2</th>\n",
       "      <td>2</td>\n",
       "      <td>1381</td>\n",
       "      <td>201808.0</td>\n",
       "      <td>2018-08-01</td>\n",
       "      <td>2018-08-15</td>\n",
       "      <td>130.0</td>\n",
       "      <td>8051</td>\n",
       "      <td>24</td>\n",
       "      <td>11.0</td>\n",
       "      <td>Espesantes</td>\n",
       "      <td>...</td>\n",
       "      <td>139.0</td>\n",
       "      <td>291.0</td>\n",
       "      <td>1.0</td>\n",
       "      <td>TERCERO ARRIBA</td>\n",
       "      <td>OLIVA</td>\n",
       "      <td>Córdoba</td>\n",
       "      <td>AR</td>\n",
       "      <td>2</td>\n",
       "      <td>2</td>\n",
       "      <td>260497.0</td>\n",
       "    </tr>\n",
       "    <tr>\n",
       "      <th>3</th>\n",
       "      <td>3</td>\n",
       "      <td>1382</td>\n",
       "      <td>201811.0</td>\n",
       "      <td>2018-11-01</td>\n",
       "      <td>2018-11-16</td>\n",
       "      <td>790.0</td>\n",
       "      <td>8051</td>\n",
       "      <td>24</td>\n",
       "      <td>11.0</td>\n",
       "      <td>Espesantes</td>\n",
       "      <td>...</td>\n",
       "      <td>139.0</td>\n",
       "      <td>291.0</td>\n",
       "      <td>1.0</td>\n",
       "      <td>TERCERO ARRIBA</td>\n",
       "      <td>OLIVA</td>\n",
       "      <td>Córdoba</td>\n",
       "      <td>AR</td>\n",
       "      <td>2</td>\n",
       "      <td>2</td>\n",
       "      <td>281670.0</td>\n",
       "    </tr>\n",
       "    <tr>\n",
       "      <th>4</th>\n",
       "      <td>4</td>\n",
       "      <td>1383</td>\n",
       "      <td>201901.0</td>\n",
       "      <td>2019-01-01</td>\n",
       "      <td>2019-01-21</td>\n",
       "      <td>790.0</td>\n",
       "      <td>8051</td>\n",
       "      <td>-24</td>\n",
       "      <td>11.0</td>\n",
       "      <td>Espesantes</td>\n",
       "      <td>...</td>\n",
       "      <td>139.0</td>\n",
       "      <td>291.0</td>\n",
       "      <td>1.0</td>\n",
       "      <td>TERCERO ARRIBA</td>\n",
       "      <td>OLIVA</td>\n",
       "      <td>Córdoba</td>\n",
       "      <td>AR</td>\n",
       "      <td>2</td>\n",
       "      <td>2</td>\n",
       "      <td>281670.0</td>\n",
       "    </tr>\n",
       "    <tr>\n",
       "      <th>...</th>\n",
       "      <td>...</td>\n",
       "      <td>...</td>\n",
       "      <td>...</td>\n",
       "      <td>...</td>\n",
       "      <td>...</td>\n",
       "      <td>...</td>\n",
       "      <td>...</td>\n",
       "      <td>...</td>\n",
       "      <td>...</td>\n",
       "      <td>...</td>\n",
       "      <td>...</td>\n",
       "      <td>...</td>\n",
       "      <td>...</td>\n",
       "      <td>...</td>\n",
       "      <td>...</td>\n",
       "      <td>...</td>\n",
       "      <td>...</td>\n",
       "      <td>...</td>\n",
       "      <td>...</td>\n",
       "      <td>...</td>\n",
       "      <td>...</td>\n",
       "    </tr>\n",
       "    <tr>\n",
       "      <th>107785</th>\n",
       "      <td>996</td>\n",
       "      <td>3780186</td>\n",
       "      <td>202106.0</td>\n",
       "      <td>2021-06-01</td>\n",
       "      <td>2021-06-24</td>\n",
       "      <td>10.0</td>\n",
       "      <td>45114</td>\n",
       "      <td>24</td>\n",
       "      <td>11.0</td>\n",
       "      <td>Espesantes</td>\n",
       "      <td>...</td>\n",
       "      <td>124.0</td>\n",
       "      <td>228.0</td>\n",
       "      <td>9.0</td>\n",
       "      <td>QUILMES</td>\n",
       "      <td>BERNAL OESTE</td>\n",
       "      <td>Buenos Aires</td>\n",
       "      <td>AR</td>\n",
       "      <td>1671</td>\n",
       "      <td>2244</td>\n",
       "      <td>481967.0</td>\n",
       "    </tr>\n",
       "    <tr>\n",
       "      <th>107786</th>\n",
       "      <td>997</td>\n",
       "      <td>3780187</td>\n",
       "      <td>202108.0</td>\n",
       "      <td>2021-08-01</td>\n",
       "      <td>2021-08-04</td>\n",
       "      <td>10.0</td>\n",
       "      <td>45114</td>\n",
       "      <td>24</td>\n",
       "      <td>11.0</td>\n",
       "      <td>Espesantes</td>\n",
       "      <td>...</td>\n",
       "      <td>124.0</td>\n",
       "      <td>228.0</td>\n",
       "      <td>9.0</td>\n",
       "      <td>QUILMES</td>\n",
       "      <td>BERNAL OESTE</td>\n",
       "      <td>Buenos Aires</td>\n",
       "      <td>AR</td>\n",
       "      <td>1671</td>\n",
       "      <td>2244</td>\n",
       "      <td>491293.0</td>\n",
       "    </tr>\n",
       "    <tr>\n",
       "      <th>107787</th>\n",
       "      <td>998</td>\n",
       "      <td>3780188</td>\n",
       "      <td>202106.0</td>\n",
       "      <td>2021-06-01</td>\n",
       "      <td>2021-06-24</td>\n",
       "      <td>20.0</td>\n",
       "      <td>45115</td>\n",
       "      <td>12</td>\n",
       "      <td>11.0</td>\n",
       "      <td>Espesantes</td>\n",
       "      <td>...</td>\n",
       "      <td>124.0</td>\n",
       "      <td>228.0</td>\n",
       "      <td>9.0</td>\n",
       "      <td>QUILMES</td>\n",
       "      <td>BERNAL OESTE</td>\n",
       "      <td>Buenos Aires</td>\n",
       "      <td>AR</td>\n",
       "      <td>1671</td>\n",
       "      <td>2244</td>\n",
       "      <td>481967.0</td>\n",
       "    </tr>\n",
       "    <tr>\n",
       "      <th>107788</th>\n",
       "      <td>999</td>\n",
       "      <td>3780189</td>\n",
       "      <td>202108.0</td>\n",
       "      <td>2021-08-01</td>\n",
       "      <td>2021-08-04</td>\n",
       "      <td>20.0</td>\n",
       "      <td>45115</td>\n",
       "      <td>12</td>\n",
       "      <td>11.0</td>\n",
       "      <td>Espesantes</td>\n",
       "      <td>...</td>\n",
       "      <td>124.0</td>\n",
       "      <td>228.0</td>\n",
       "      <td>9.0</td>\n",
       "      <td>QUILMES</td>\n",
       "      <td>BERNAL OESTE</td>\n",
       "      <td>Buenos Aires</td>\n",
       "      <td>AR</td>\n",
       "      <td>1671</td>\n",
       "      <td>2244</td>\n",
       "      <td>491293.0</td>\n",
       "    </tr>\n",
       "    <tr>\n",
       "      <th>107789</th>\n",
       "      <td>1000</td>\n",
       "      <td>3770215</td>\n",
       "      <td>202012.0</td>\n",
       "      <td>2020-12-01</td>\n",
       "      <td>2020-12-10</td>\n",
       "      <td>10.0</td>\n",
       "      <td>81024</td>\n",
       "      <td>60</td>\n",
       "      <td>14.0</td>\n",
       "      <td>Corrosivos</td>\n",
       "      <td>...</td>\n",
       "      <td>284.0</td>\n",
       "      <td>669.0</td>\n",
       "      <td>10.0</td>\n",
       "      <td>LA MATANZA</td>\n",
       "      <td>RAMOS MEJIA</td>\n",
       "      <td>Buenos Aires</td>\n",
       "      <td>AR</td>\n",
       "      <td>1614</td>\n",
       "      <td>2164</td>\n",
       "      <td>444289.0</td>\n",
       "    </tr>\n",
       "  </tbody>\n",
       "</table>\n",
       "<p>107790 rows × 21 columns</p>\n",
       "</div>"
      ],
      "text/plain": [
       "        Unnamed: 0.1  Unnamed: 0   Periodo       Fecha FechaPedido  PosPedido  \\\n",
       "0                  0        1159  202111.0  2021-11-01  2021-11-01       10.0   \n",
       "1                  1        1380  201802.0  2018-02-01  2018-02-15      930.0   \n",
       "2                  2        1381  201808.0  2018-08-01  2018-08-15      130.0   \n",
       "3                  3        1382  201811.0  2018-11-01  2018-11-16      790.0   \n",
       "4                  4        1383  201901.0  2019-01-01  2019-01-21      790.0   \n",
       "...              ...         ...       ...         ...         ...        ...   \n",
       "107785           996     3780186  202106.0  2021-06-01  2021-06-24       10.0   \n",
       "107786           997     3780187  202108.0  2021-08-01  2021-08-04       10.0   \n",
       "107787           998     3780188  202106.0  2021-06-01  2021-06-24       20.0   \n",
       "107788           999     3780189  202108.0  2021-08-01  2021-08-04       20.0   \n",
       "107789          1000     3770215  202012.0  2020-12-01  2020-12-10       10.0   \n",
       "\n",
       "        CodMaterial  Cantidad  CodGrupoArt GrupoArticulos  ...  \\\n",
       "0             81074       480         14.0     Corrosivos  ...   \n",
       "1              8051        24         11.0     Espesantes  ...   \n",
       "2              8051        24         11.0     Espesantes  ...   \n",
       "3              8051        24         11.0     Espesantes  ...   \n",
       "4              8051       -24         11.0     Espesantes  ...   \n",
       "...             ...       ...          ...            ...  ...   \n",
       "107785        45114        24         11.0     Espesantes  ...   \n",
       "107786        45114        24         11.0     Espesantes  ...   \n",
       "107787        45115        12         11.0     Espesantes  ...   \n",
       "107788        45115        12         11.0     Espesantes  ...   \n",
       "107789        81024        60         14.0     Corrosivos  ...   \n",
       "\n",
       "        codGrupoMaterial4  codGrupoMaterial5  Tipo_Precio     Departamento  \\\n",
       "0                   284.0              674.0         10.0  LOMAS DE ZAMORA   \n",
       "1                   139.0              291.0          1.0   TERCERO ARRIBA   \n",
       "2                   139.0              291.0          1.0   TERCERO ARRIBA   \n",
       "3                   139.0              291.0          1.0   TERCERO ARRIBA   \n",
       "4                   139.0              291.0          1.0   TERCERO ARRIBA   \n",
       "...                   ...                ...          ...              ...   \n",
       "107785              124.0              228.0          9.0          QUILMES   \n",
       "107786              124.0              228.0          9.0          QUILMES   \n",
       "107787              124.0              228.0          9.0          QUILMES   \n",
       "107788              124.0              228.0          9.0          QUILMES   \n",
       "107789              284.0              669.0         10.0       LA MATANZA   \n",
       "\n",
       "           Localidad     Provincia Pais CodCliente_of  CodSucCliente_of  \\\n",
       "0          TEMPERLEY  Buenos Aires   AR             1                 1   \n",
       "1              OLIVA       Córdoba   AR             2                 2   \n",
       "2              OLIVA       Córdoba   AR             2                 2   \n",
       "3              OLIVA       Córdoba   AR             2                 2   \n",
       "4              OLIVA       Córdoba   AR             2                 2   \n",
       "...              ...           ...  ...           ...               ...   \n",
       "107785  BERNAL OESTE  Buenos Aires   AR          1671              2244   \n",
       "107786  BERNAL OESTE  Buenos Aires   AR          1671              2244   \n",
       "107787  BERNAL OESTE  Buenos Aires   AR          1671              2244   \n",
       "107788  BERNAL OESTE  Buenos Aires   AR          1671              2244   \n",
       "107789   RAMOS MEJIA  Buenos Aires   AR          1614              2164   \n",
       "\n",
       "        NroDocPedido  \n",
       "0           514585.0  \n",
       "1           232161.0  \n",
       "2           260497.0  \n",
       "3           281670.0  \n",
       "4           281670.0  \n",
       "...              ...  \n",
       "107785      481967.0  \n",
       "107786      491293.0  \n",
       "107787      481967.0  \n",
       "107788      491293.0  \n",
       "107789      444289.0  \n",
       "\n",
       "[107790 rows x 21 columns]"
      ]
     },
     "execution_count": 36,
     "metadata": {},
     "output_type": "execute_result"
    }
   ],
   "source": [
    "final_df = pd.concat([df_merged, df_3], axis = 0, ignore_index=True)\n",
    "final_df"
   ]
  },
  {
   "cell_type": "markdown",
   "metadata": {
    "id": "xDKZrQ4hHGdd"
   },
   "source": [
    "### Ejercicio 2\n",
    "\n",
    "Revisar si el dataset presenta datos duplicados. Esto refiere a que un registro sea exactamente igual en todos los campos/columnas."
   ]
  },
  {
   "cell_type": "code",
   "execution_count": 37,
   "metadata": {},
   "outputs": [
    {
     "data": {
      "text/plain": [
       "107790"
      ]
     },
     "execution_count": 37,
     "metadata": {},
     "output_type": "execute_result"
    }
   ],
   "source": [
    "len(final_df)"
   ]
  },
  {
   "cell_type": "markdown",
   "metadata": {},
   "source": [
    "***El dataset original tiene 107789 filas. Entonces hay un valor de mas, observemos si puede ser o no repetido***"
   ]
  },
  {
   "cell_type": "code",
   "execution_count": 38,
   "metadata": {},
   "outputs": [
    {
     "data": {
      "text/html": [
       "<div>\n",
       "<style scoped>\n",
       "    .dataframe tbody tr th:only-of-type {\n",
       "        vertical-align: middle;\n",
       "    }\n",
       "\n",
       "    .dataframe tbody tr th {\n",
       "        vertical-align: top;\n",
       "    }\n",
       "\n",
       "    .dataframe thead th {\n",
       "        text-align: right;\n",
       "    }\n",
       "</style>\n",
       "<table border=\"1\" class=\"dataframe\">\n",
       "  <thead>\n",
       "    <tr style=\"text-align: right;\">\n",
       "      <th></th>\n",
       "      <th>Unnamed: 0.1</th>\n",
       "      <th>Unnamed: 0</th>\n",
       "      <th>Periodo</th>\n",
       "      <th>Fecha</th>\n",
       "      <th>FechaPedido</th>\n",
       "      <th>PosPedido</th>\n",
       "      <th>CodMaterial</th>\n",
       "      <th>Cantidad</th>\n",
       "      <th>CodGrupoArt</th>\n",
       "      <th>GrupoArticulos</th>\n",
       "      <th>...</th>\n",
       "      <th>codGrupoMaterial4</th>\n",
       "      <th>codGrupoMaterial5</th>\n",
       "      <th>Tipo_Precio</th>\n",
       "      <th>Departamento</th>\n",
       "      <th>Localidad</th>\n",
       "      <th>Provincia</th>\n",
       "      <th>Pais</th>\n",
       "      <th>CodCliente_of</th>\n",
       "      <th>CodSucCliente_of</th>\n",
       "      <th>NroDocPedido</th>\n",
       "    </tr>\n",
       "  </thead>\n",
       "  <tbody>\n",
       "  </tbody>\n",
       "</table>\n",
       "<p>0 rows × 21 columns</p>\n",
       "</div>"
      ],
      "text/plain": [
       "Empty DataFrame\n",
       "Columns: [Unnamed: 0.1, Unnamed: 0, Periodo, Fecha, FechaPedido, PosPedido, CodMaterial, Cantidad, CodGrupoArt, GrupoArticulos, codGrupoMaterial2, codGrupoMaterial4, codGrupoMaterial5, Tipo_Precio, Departamento, Localidad, Provincia, Pais, CodCliente_of, CodSucCliente_of, NroDocPedido]\n",
       "Index: []\n",
       "\n",
       "[0 rows x 21 columns]"
      ]
     },
     "execution_count": 38,
     "metadata": {},
     "output_type": "execute_result"
    }
   ],
   "source": [
    "final_df[final_df.duplicated()] # Obtener datos repetidos"
   ]
  },
  {
   "cell_type": "markdown",
   "metadata": {},
   "source": [
    "### Veamos si las columnas Unnamed pueden estar evitando que aparezcan datos repetidos:"
   ]
  },
  {
   "cell_type": "code",
   "execution_count": 39,
   "metadata": {},
   "outputs": [
    {
     "data": {
      "text/plain": [
       "0            NaN\n",
       "1          221.0\n",
       "2            1.0\n",
       "3            1.0\n",
       "4            1.0\n",
       "           ...  \n",
       "107785       1.0\n",
       "107786       1.0\n",
       "107787       1.0\n",
       "107788       1.0\n",
       "107789   -9974.0\n",
       "Name: Unnamed: 0, Length: 107790, dtype: float64"
      ]
     },
     "execution_count": 39,
     "metadata": {},
     "output_type": "execute_result"
    }
   ],
   "source": [
    "final_df['Unnamed: 0'].diff()"
   ]
  },
  {
   "cell_type": "code",
   "execution_count": 40,
   "metadata": {},
   "outputs": [
    {
     "data": {
      "text/plain": [
       "0         NaN\n",
       "1         1.0\n",
       "2         1.0\n",
       "3         1.0\n",
       "4         1.0\n",
       "         ... \n",
       "107785    1.0\n",
       "107786    1.0\n",
       "107787    1.0\n",
       "107788    1.0\n",
       "107789    1.0\n",
       "Name: Unnamed: 0.1, Length: 107790, dtype: float64"
      ]
     },
     "execution_count": 40,
     "metadata": {},
     "output_type": "execute_result"
    }
   ],
   "source": [
    "final_df['Unnamed: 0.1'].diff()"
   ]
  },
  {
   "cell_type": "markdown",
   "metadata": {},
   "source": [
    "#### Vemos que la columna \"Unnamed: 0.1\" y \"Unnamed: 0\" tienen una diferencia de una unidad entre cada fila. Entonces esto nos puede perjudicar a la hora de encontrar duplicados. Debido a que dos filas aunque sean iguales, se diferenciaran solo por esta columna. "
   ]
  },
  {
   "cell_type": "markdown",
   "metadata": {},
   "source": [
    "### Eliminamos la columna \"Unnamed: 0.1\" y \"Unnamed: 0\" para realizar la busqueda de duplicados:"
   ]
  },
  {
   "cell_type": "code",
   "execution_count": 41,
   "metadata": {},
   "outputs": [
    {
     "data": {
      "text/html": [
       "<div>\n",
       "<style scoped>\n",
       "    .dataframe tbody tr th:only-of-type {\n",
       "        vertical-align: middle;\n",
       "    }\n",
       "\n",
       "    .dataframe tbody tr th {\n",
       "        vertical-align: top;\n",
       "    }\n",
       "\n",
       "    .dataframe thead th {\n",
       "        text-align: right;\n",
       "    }\n",
       "</style>\n",
       "<table border=\"1\" class=\"dataframe\">\n",
       "  <thead>\n",
       "    <tr style=\"text-align: right;\">\n",
       "      <th></th>\n",
       "      <th>Periodo</th>\n",
       "      <th>Fecha</th>\n",
       "      <th>FechaPedido</th>\n",
       "      <th>PosPedido</th>\n",
       "      <th>CodMaterial</th>\n",
       "      <th>Cantidad</th>\n",
       "      <th>CodGrupoArt</th>\n",
       "      <th>GrupoArticulos</th>\n",
       "      <th>codGrupoMaterial2</th>\n",
       "      <th>codGrupoMaterial4</th>\n",
       "      <th>codGrupoMaterial5</th>\n",
       "      <th>Tipo_Precio</th>\n",
       "      <th>Departamento</th>\n",
       "      <th>Localidad</th>\n",
       "      <th>Provincia</th>\n",
       "      <th>Pais</th>\n",
       "      <th>CodCliente_of</th>\n",
       "      <th>CodSucCliente_of</th>\n",
       "      <th>NroDocPedido</th>\n",
       "    </tr>\n",
       "  </thead>\n",
       "  <tbody>\n",
       "    <tr>\n",
       "      <th>0</th>\n",
       "      <td>202111.0</td>\n",
       "      <td>2021-11-01</td>\n",
       "      <td>2021-11-01</td>\n",
       "      <td>10.0</td>\n",
       "      <td>81074</td>\n",
       "      <td>480</td>\n",
       "      <td>14.0</td>\n",
       "      <td>Corrosivos</td>\n",
       "      <td>27.0</td>\n",
       "      <td>284.0</td>\n",
       "      <td>674.0</td>\n",
       "      <td>10.0</td>\n",
       "      <td>LOMAS DE ZAMORA</td>\n",
       "      <td>TEMPERLEY</td>\n",
       "      <td>Buenos Aires</td>\n",
       "      <td>AR</td>\n",
       "      <td>1</td>\n",
       "      <td>1</td>\n",
       "      <td>514585.0</td>\n",
       "    </tr>\n",
       "    <tr>\n",
       "      <th>1</th>\n",
       "      <td>201802.0</td>\n",
       "      <td>2018-02-01</td>\n",
       "      <td>2018-02-15</td>\n",
       "      <td>930.0</td>\n",
       "      <td>8051</td>\n",
       "      <td>24</td>\n",
       "      <td>11.0</td>\n",
       "      <td>Espesantes</td>\n",
       "      <td>15.0</td>\n",
       "      <td>139.0</td>\n",
       "      <td>291.0</td>\n",
       "      <td>1.0</td>\n",
       "      <td>TERCERO ARRIBA</td>\n",
       "      <td>OLIVA</td>\n",
       "      <td>Córdoba</td>\n",
       "      <td>AR</td>\n",
       "      <td>2</td>\n",
       "      <td>2</td>\n",
       "      <td>232161.0</td>\n",
       "    </tr>\n",
       "    <tr>\n",
       "      <th>2</th>\n",
       "      <td>201808.0</td>\n",
       "      <td>2018-08-01</td>\n",
       "      <td>2018-08-15</td>\n",
       "      <td>130.0</td>\n",
       "      <td>8051</td>\n",
       "      <td>24</td>\n",
       "      <td>11.0</td>\n",
       "      <td>Espesantes</td>\n",
       "      <td>15.0</td>\n",
       "      <td>139.0</td>\n",
       "      <td>291.0</td>\n",
       "      <td>1.0</td>\n",
       "      <td>TERCERO ARRIBA</td>\n",
       "      <td>OLIVA</td>\n",
       "      <td>Córdoba</td>\n",
       "      <td>AR</td>\n",
       "      <td>2</td>\n",
       "      <td>2</td>\n",
       "      <td>260497.0</td>\n",
       "    </tr>\n",
       "    <tr>\n",
       "      <th>3</th>\n",
       "      <td>201811.0</td>\n",
       "      <td>2018-11-01</td>\n",
       "      <td>2018-11-16</td>\n",
       "      <td>790.0</td>\n",
       "      <td>8051</td>\n",
       "      <td>24</td>\n",
       "      <td>11.0</td>\n",
       "      <td>Espesantes</td>\n",
       "      <td>15.0</td>\n",
       "      <td>139.0</td>\n",
       "      <td>291.0</td>\n",
       "      <td>1.0</td>\n",
       "      <td>TERCERO ARRIBA</td>\n",
       "      <td>OLIVA</td>\n",
       "      <td>Córdoba</td>\n",
       "      <td>AR</td>\n",
       "      <td>2</td>\n",
       "      <td>2</td>\n",
       "      <td>281670.0</td>\n",
       "    </tr>\n",
       "    <tr>\n",
       "      <th>4</th>\n",
       "      <td>201901.0</td>\n",
       "      <td>2019-01-01</td>\n",
       "      <td>2019-01-21</td>\n",
       "      <td>790.0</td>\n",
       "      <td>8051</td>\n",
       "      <td>-24</td>\n",
       "      <td>11.0</td>\n",
       "      <td>Espesantes</td>\n",
       "      <td>15.0</td>\n",
       "      <td>139.0</td>\n",
       "      <td>291.0</td>\n",
       "      <td>1.0</td>\n",
       "      <td>TERCERO ARRIBA</td>\n",
       "      <td>OLIVA</td>\n",
       "      <td>Córdoba</td>\n",
       "      <td>AR</td>\n",
       "      <td>2</td>\n",
       "      <td>2</td>\n",
       "      <td>281670.0</td>\n",
       "    </tr>\n",
       "    <tr>\n",
       "      <th>...</th>\n",
       "      <td>...</td>\n",
       "      <td>...</td>\n",
       "      <td>...</td>\n",
       "      <td>...</td>\n",
       "      <td>...</td>\n",
       "      <td>...</td>\n",
       "      <td>...</td>\n",
       "      <td>...</td>\n",
       "      <td>...</td>\n",
       "      <td>...</td>\n",
       "      <td>...</td>\n",
       "      <td>...</td>\n",
       "      <td>...</td>\n",
       "      <td>...</td>\n",
       "      <td>...</td>\n",
       "      <td>...</td>\n",
       "      <td>...</td>\n",
       "      <td>...</td>\n",
       "      <td>...</td>\n",
       "    </tr>\n",
       "    <tr>\n",
       "      <th>107785</th>\n",
       "      <td>202106.0</td>\n",
       "      <td>2021-06-01</td>\n",
       "      <td>2021-06-24</td>\n",
       "      <td>10.0</td>\n",
       "      <td>45114</td>\n",
       "      <td>24</td>\n",
       "      <td>11.0</td>\n",
       "      <td>Espesantes</td>\n",
       "      <td>26.0</td>\n",
       "      <td>124.0</td>\n",
       "      <td>228.0</td>\n",
       "      <td>9.0</td>\n",
       "      <td>QUILMES</td>\n",
       "      <td>BERNAL OESTE</td>\n",
       "      <td>Buenos Aires</td>\n",
       "      <td>AR</td>\n",
       "      <td>1671</td>\n",
       "      <td>2244</td>\n",
       "      <td>481967.0</td>\n",
       "    </tr>\n",
       "    <tr>\n",
       "      <th>107786</th>\n",
       "      <td>202108.0</td>\n",
       "      <td>2021-08-01</td>\n",
       "      <td>2021-08-04</td>\n",
       "      <td>10.0</td>\n",
       "      <td>45114</td>\n",
       "      <td>24</td>\n",
       "      <td>11.0</td>\n",
       "      <td>Espesantes</td>\n",
       "      <td>26.0</td>\n",
       "      <td>124.0</td>\n",
       "      <td>228.0</td>\n",
       "      <td>9.0</td>\n",
       "      <td>QUILMES</td>\n",
       "      <td>BERNAL OESTE</td>\n",
       "      <td>Buenos Aires</td>\n",
       "      <td>AR</td>\n",
       "      <td>1671</td>\n",
       "      <td>2244</td>\n",
       "      <td>491293.0</td>\n",
       "    </tr>\n",
       "    <tr>\n",
       "      <th>107787</th>\n",
       "      <td>202106.0</td>\n",
       "      <td>2021-06-01</td>\n",
       "      <td>2021-06-24</td>\n",
       "      <td>20.0</td>\n",
       "      <td>45115</td>\n",
       "      <td>12</td>\n",
       "      <td>11.0</td>\n",
       "      <td>Espesantes</td>\n",
       "      <td>26.0</td>\n",
       "      <td>124.0</td>\n",
       "      <td>228.0</td>\n",
       "      <td>9.0</td>\n",
       "      <td>QUILMES</td>\n",
       "      <td>BERNAL OESTE</td>\n",
       "      <td>Buenos Aires</td>\n",
       "      <td>AR</td>\n",
       "      <td>1671</td>\n",
       "      <td>2244</td>\n",
       "      <td>481967.0</td>\n",
       "    </tr>\n",
       "    <tr>\n",
       "      <th>107788</th>\n",
       "      <td>202108.0</td>\n",
       "      <td>2021-08-01</td>\n",
       "      <td>2021-08-04</td>\n",
       "      <td>20.0</td>\n",
       "      <td>45115</td>\n",
       "      <td>12</td>\n",
       "      <td>11.0</td>\n",
       "      <td>Espesantes</td>\n",
       "      <td>26.0</td>\n",
       "      <td>124.0</td>\n",
       "      <td>228.0</td>\n",
       "      <td>9.0</td>\n",
       "      <td>QUILMES</td>\n",
       "      <td>BERNAL OESTE</td>\n",
       "      <td>Buenos Aires</td>\n",
       "      <td>AR</td>\n",
       "      <td>1671</td>\n",
       "      <td>2244</td>\n",
       "      <td>491293.0</td>\n",
       "    </tr>\n",
       "    <tr>\n",
       "      <th>107789</th>\n",
       "      <td>202012.0</td>\n",
       "      <td>2020-12-01</td>\n",
       "      <td>2020-12-10</td>\n",
       "      <td>10.0</td>\n",
       "      <td>81024</td>\n",
       "      <td>60</td>\n",
       "      <td>14.0</td>\n",
       "      <td>Corrosivos</td>\n",
       "      <td>27.0</td>\n",
       "      <td>284.0</td>\n",
       "      <td>669.0</td>\n",
       "      <td>10.0</td>\n",
       "      <td>LA MATANZA</td>\n",
       "      <td>RAMOS MEJIA</td>\n",
       "      <td>Buenos Aires</td>\n",
       "      <td>AR</td>\n",
       "      <td>1614</td>\n",
       "      <td>2164</td>\n",
       "      <td>444289.0</td>\n",
       "    </tr>\n",
       "  </tbody>\n",
       "</table>\n",
       "<p>107790 rows × 19 columns</p>\n",
       "</div>"
      ],
      "text/plain": [
       "         Periodo       Fecha FechaPedido  PosPedido  CodMaterial  Cantidad  \\\n",
       "0       202111.0  2021-11-01  2021-11-01       10.0        81074       480   \n",
       "1       201802.0  2018-02-01  2018-02-15      930.0         8051        24   \n",
       "2       201808.0  2018-08-01  2018-08-15      130.0         8051        24   \n",
       "3       201811.0  2018-11-01  2018-11-16      790.0         8051        24   \n",
       "4       201901.0  2019-01-01  2019-01-21      790.0         8051       -24   \n",
       "...          ...         ...         ...        ...          ...       ...   \n",
       "107785  202106.0  2021-06-01  2021-06-24       10.0        45114        24   \n",
       "107786  202108.0  2021-08-01  2021-08-04       10.0        45114        24   \n",
       "107787  202106.0  2021-06-01  2021-06-24       20.0        45115        12   \n",
       "107788  202108.0  2021-08-01  2021-08-04       20.0        45115        12   \n",
       "107789  202012.0  2020-12-01  2020-12-10       10.0        81024        60   \n",
       "\n",
       "        CodGrupoArt GrupoArticulos  codGrupoMaterial2  codGrupoMaterial4  \\\n",
       "0              14.0     Corrosivos               27.0              284.0   \n",
       "1              11.0     Espesantes               15.0              139.0   \n",
       "2              11.0     Espesantes               15.0              139.0   \n",
       "3              11.0     Espesantes               15.0              139.0   \n",
       "4              11.0     Espesantes               15.0              139.0   \n",
       "...             ...            ...                ...                ...   \n",
       "107785         11.0     Espesantes               26.0              124.0   \n",
       "107786         11.0     Espesantes               26.0              124.0   \n",
       "107787         11.0     Espesantes               26.0              124.0   \n",
       "107788         11.0     Espesantes               26.0              124.0   \n",
       "107789         14.0     Corrosivos               27.0              284.0   \n",
       "\n",
       "        codGrupoMaterial5  Tipo_Precio     Departamento     Localidad  \\\n",
       "0                   674.0         10.0  LOMAS DE ZAMORA     TEMPERLEY   \n",
       "1                   291.0          1.0   TERCERO ARRIBA         OLIVA   \n",
       "2                   291.0          1.0   TERCERO ARRIBA         OLIVA   \n",
       "3                   291.0          1.0   TERCERO ARRIBA         OLIVA   \n",
       "4                   291.0          1.0   TERCERO ARRIBA         OLIVA   \n",
       "...                   ...          ...              ...           ...   \n",
       "107785              228.0          9.0          QUILMES  BERNAL OESTE   \n",
       "107786              228.0          9.0          QUILMES  BERNAL OESTE   \n",
       "107787              228.0          9.0          QUILMES  BERNAL OESTE   \n",
       "107788              228.0          9.0          QUILMES  BERNAL OESTE   \n",
       "107789              669.0         10.0       LA MATANZA   RAMOS MEJIA   \n",
       "\n",
       "           Provincia Pais  CodCliente_of  CodSucCliente_of  NroDocPedido  \n",
       "0       Buenos Aires   AR              1                 1      514585.0  \n",
       "1            Córdoba   AR              2                 2      232161.0  \n",
       "2            Córdoba   AR              2                 2      260497.0  \n",
       "3            Córdoba   AR              2                 2      281670.0  \n",
       "4            Córdoba   AR              2                 2      281670.0  \n",
       "...              ...  ...            ...               ...           ...  \n",
       "107785  Buenos Aires   AR           1671              2244      481967.0  \n",
       "107786  Buenos Aires   AR           1671              2244      491293.0  \n",
       "107787  Buenos Aires   AR           1671              2244      481967.0  \n",
       "107788  Buenos Aires   AR           1671              2244      491293.0  \n",
       "107789  Buenos Aires   AR           1614              2164      444289.0  \n",
       "\n",
       "[107790 rows x 19 columns]"
      ]
     },
     "execution_count": 41,
     "metadata": {},
     "output_type": "execute_result"
    }
   ],
   "source": [
    "final_df_filtered = final_df.copy()\n",
    "final_df_filtered.drop(columns=['Unnamed: 0.1', 'Unnamed: 0'], inplace=True)\n",
    "final_df_filtered"
   ]
  },
  {
   "cell_type": "code",
   "execution_count": 42,
   "metadata": {},
   "outputs": [
    {
     "data": {
      "text/html": [
       "<div>\n",
       "<style scoped>\n",
       "    .dataframe tbody tr th:only-of-type {\n",
       "        vertical-align: middle;\n",
       "    }\n",
       "\n",
       "    .dataframe tbody tr th {\n",
       "        vertical-align: top;\n",
       "    }\n",
       "\n",
       "    .dataframe thead th {\n",
       "        text-align: right;\n",
       "    }\n",
       "</style>\n",
       "<table border=\"1\" class=\"dataframe\">\n",
       "  <thead>\n",
       "    <tr style=\"text-align: right;\">\n",
       "      <th></th>\n",
       "      <th>Periodo</th>\n",
       "      <th>Fecha</th>\n",
       "      <th>FechaPedido</th>\n",
       "      <th>PosPedido</th>\n",
       "      <th>CodMaterial</th>\n",
       "      <th>Cantidad</th>\n",
       "      <th>CodGrupoArt</th>\n",
       "      <th>GrupoArticulos</th>\n",
       "      <th>codGrupoMaterial2</th>\n",
       "      <th>codGrupoMaterial4</th>\n",
       "      <th>codGrupoMaterial5</th>\n",
       "      <th>Tipo_Precio</th>\n",
       "      <th>Departamento</th>\n",
       "      <th>Localidad</th>\n",
       "      <th>Provincia</th>\n",
       "      <th>Pais</th>\n",
       "      <th>CodCliente_of</th>\n",
       "      <th>CodSucCliente_of</th>\n",
       "      <th>NroDocPedido</th>\n",
       "    </tr>\n",
       "  </thead>\n",
       "  <tbody>\n",
       "    <tr>\n",
       "      <th>107789</th>\n",
       "      <td>202012.0</td>\n",
       "      <td>2020-12-01</td>\n",
       "      <td>2020-12-10</td>\n",
       "      <td>10.0</td>\n",
       "      <td>81024</td>\n",
       "      <td>60</td>\n",
       "      <td>14.0</td>\n",
       "      <td>Corrosivos</td>\n",
       "      <td>27.0</td>\n",
       "      <td>284.0</td>\n",
       "      <td>669.0</td>\n",
       "      <td>10.0</td>\n",
       "      <td>LA MATANZA</td>\n",
       "      <td>RAMOS MEJIA</td>\n",
       "      <td>Buenos Aires</td>\n",
       "      <td>AR</td>\n",
       "      <td>1614</td>\n",
       "      <td>2164</td>\n",
       "      <td>444289.0</td>\n",
       "    </tr>\n",
       "  </tbody>\n",
       "</table>\n",
       "</div>"
      ],
      "text/plain": [
       "         Periodo       Fecha FechaPedido  PosPedido  CodMaterial  Cantidad  \\\n",
       "107789  202012.0  2020-12-01  2020-12-10       10.0        81024        60   \n",
       "\n",
       "        CodGrupoArt GrupoArticulos  codGrupoMaterial2  codGrupoMaterial4  \\\n",
       "107789         14.0     Corrosivos               27.0              284.0   \n",
       "\n",
       "        codGrupoMaterial5  Tipo_Precio Departamento    Localidad  \\\n",
       "107789              669.0         10.0   LA MATANZA  RAMOS MEJIA   \n",
       "\n",
       "           Provincia Pais  CodCliente_of  CodSucCliente_of  NroDocPedido  \n",
       "107789  Buenos Aires   AR           1614              2164      444289.0  "
      ]
     },
     "execution_count": 42,
     "metadata": {},
     "output_type": "execute_result"
    }
   ],
   "source": [
    "final_df_filtered[final_df_filtered.duplicated()]"
   ]
  },
  {
   "cell_type": "markdown",
   "metadata": {},
   "source": [
    "***Encontramoms que tenemos una sola fila duplicada. Ademas, al eliminar este duplicado, el dataframe queda con la cantidad de filas correcta.***\n",
    "\n",
    "#### Eliminemos esta fila:"
   ]
  },
  {
   "cell_type": "code",
   "execution_count": 43,
   "metadata": {
    "colab": {
     "base_uri": "https://localhost:8080/",
     "height": 661
    },
    "id": "UKrTMuutHGd6",
    "outputId": "4b9a0956-4619-45a0-f8ac-30055fc06afd"
   },
   "outputs": [
    {
     "data": {
      "text/plain": [
       "107789"
      ]
     },
     "execution_count": 43,
     "metadata": {},
     "output_type": "execute_result"
    }
   ],
   "source": [
    "df_clean = final_df_filtered.drop_duplicates() # Eliminamos duplicados\n",
    "len(df_clean)"
   ]
  },
  {
   "cell_type": "markdown",
   "metadata": {
    "id": "a2HQjq3XHGd-"
   },
   "source": [
    "### Ejercicio 3:\n",
    "\n",
    "Verificar si existen datos faltantes\n"
   ]
  },
  {
   "cell_type": "code",
   "execution_count": 44,
   "metadata": {
    "colab": {
     "base_uri": "https://localhost:8080/",
     "height": 540
    },
    "id": "gw2P5SbPHGd_",
    "outputId": "1933c617-8e1f-4b11-88f6-26609391e2cf"
   },
   "outputs": [
    {
     "data": {
      "text/plain": [
       "<Axes: >"
      ]
     },
     "execution_count": 44,
     "metadata": {},
     "output_type": "execute_result"
    },
    {
     "data": {
      "image/png": "[encoded data removed]",
      "text/plain": [
       "<Figure size 2500x1000 with 3 Axes>"
      ]
     },
     "metadata": {},
     "output_type": "display_data"
    }
   ],
   "source": [
    "msno.bar(df_clean)"
   ]
  },
  {
   "cell_type": "markdown",
   "metadata": {
    "id": "NWZBvdLwjF72"
   },
   "source": [
    "### Observemos la matrix de missingno, para ver si podemos encontrar alguna relacion de los datos faltantes:"
   ]
  },
  {
   "cell_type": "code",
   "execution_count": 45,
   "metadata": {},
   "outputs": [
    {
     "data": {
      "text/plain": [
       "<Axes: >"
      ]
     },
     "execution_count": 45,
     "metadata": {},
     "output_type": "execute_result"
    },
    {
     "data": {
      "image/png": "[encoded data removed]",
      "text/plain": [
       "<Figure size 1500x800 with 2 Axes>"
      ]
     },
     "metadata": {},
     "output_type": "display_data"
    }
   ],
   "source": [
    "msno.matrix(df_clean, figsize=(15, 8))"
   ]
  },
  {
   "cell_type": "markdown",
   "metadata": {},
   "source": [
    "***A simple vista no podemos encontrar una correlacion entre los datos faltantes.***\n",
    "\n",
    "### Obtengamos la matriz de correlacion:"
   ]
  },
  {
   "cell_type": "code",
   "execution_count": 46,
   "metadata": {},
   "outputs": [
    {
     "data": {
      "image/png": "[encoded data removed]",
      "text/plain": [
       "<Figure size 1000x500 with 2 Axes>"
      ]
     },
     "metadata": {},
     "output_type": "display_data"
    }
   ],
   "source": [
    "msno.heatmap(df_clean, cmap=\"RdYlGn\", figsize=(10,5), fontsize=12);"
   ]
  },
  {
   "cell_type": "markdown",
   "metadata": {},
   "source": [
    "***Vemos que no existe correlacion de datos faltantes entre las dos columnas.***"
   ]
  },
  {
   "cell_type": "markdown",
   "metadata": {},
   "source": [
    "### Observemos si encontramos alguna correlacion entre los datos faltantes y algunas categorias o fechas:"
   ]
  },
  {
   "cell_type": "code",
   "execution_count": 47,
   "metadata": {},
   "outputs": [
    {
     "data": {
      "text/plain": [
       "GrupoArticulos  codGrupoMaterial2\n",
       "Corrosivos      27.0                 19491\n",
       "                NaN                   1913\n",
       "Espesantes      15.0                 40833\n",
       "                26.0                 12295\n",
       "                NaN                   5635\n",
       "Name: codGrupoMaterial2, dtype: int64"
      ]
     },
     "execution_count": 47,
     "metadata": {},
     "output_type": "execute_result"
    }
   ],
   "source": [
    "df_clean.groupby('GrupoArticulos')['codGrupoMaterial2'].value_counts(dropna=False)"
   ]
  },
  {
   "cell_type": "markdown",
   "metadata": {},
   "source": [
    "***Concluimos que los datos falantes de codGrupoMaterial2 no dependen del GrupoArticulo***"
   ]
  },
  {
   "cell_type": "markdown",
   "metadata": {},
   "source": [
    "### Veamos por provincia:"
   ]
  },
  {
   "cell_type": "code",
   "execution_count": 48,
   "metadata": {},
   "outputs": [
    {
     "data": {
      "text/html": [
       "<div>\n",
       "<style scoped>\n",
       "    .dataframe tbody tr th:only-of-type {\n",
       "        vertical-align: middle;\n",
       "    }\n",
       "\n",
       "    .dataframe tbody tr th {\n",
       "        vertical-align: top;\n",
       "    }\n",
       "\n",
       "    .dataframe thead th {\n",
       "        text-align: right;\n",
       "    }\n",
       "</style>\n",
       "<table border=\"1\" class=\"dataframe\">\n",
       "  <thead>\n",
       "    <tr style=\"text-align: right;\">\n",
       "      <th></th>\n",
       "      <th>Provincia</th>\n",
       "      <th>CodGrupoArt</th>\n",
       "      <th>GA_null_count</th>\n",
       "      <th>GA_total_count</th>\n",
       "      <th>percent_missing</th>\n",
       "    </tr>\n",
       "  </thead>\n",
       "  <tbody>\n",
       "    <tr>\n",
       "      <th>0</th>\n",
       "      <td>Buenos Aires</td>\n",
       "      <td>11.0</td>\n",
       "      <td>5626</td>\n",
       "      <td>16354</td>\n",
       "      <td>34.40</td>\n",
       "    </tr>\n",
       "    <tr>\n",
       "      <th>1</th>\n",
       "      <td>Buenos Aires</td>\n",
       "      <td>14.0</td>\n",
       "      <td>3325</td>\n",
       "      <td>9774</td>\n",
       "      <td>34.02</td>\n",
       "    </tr>\n",
       "    <tr>\n",
       "      <th>2</th>\n",
       "      <td>Capital Federal</td>\n",
       "      <td>11.0</td>\n",
       "      <td>1097</td>\n",
       "      <td>3423</td>\n",
       "      <td>32.05</td>\n",
       "    </tr>\n",
       "    <tr>\n",
       "      <th>3</th>\n",
       "      <td>Capital Federal</td>\n",
       "      <td>14.0</td>\n",
       "      <td>874</td>\n",
       "      <td>2586</td>\n",
       "      <td>33.80</td>\n",
       "    </tr>\n",
       "    <tr>\n",
       "      <th>4</th>\n",
       "      <td>Catamarca</td>\n",
       "      <td>11.0</td>\n",
       "      <td>117</td>\n",
       "      <td>292</td>\n",
       "      <td>40.07</td>\n",
       "    </tr>\n",
       "    <tr>\n",
       "      <th>5</th>\n",
       "      <td>Catamarca</td>\n",
       "      <td>14.0</td>\n",
       "      <td>26</td>\n",
       "      <td>68</td>\n",
       "      <td>38.24</td>\n",
       "    </tr>\n",
       "    <tr>\n",
       "      <th>6</th>\n",
       "      <td>Central</td>\n",
       "      <td>11.0</td>\n",
       "      <td>14</td>\n",
       "      <td>29</td>\n",
       "      <td>48.28</td>\n",
       "    </tr>\n",
       "    <tr>\n",
       "      <th>7</th>\n",
       "      <td>Chaco</td>\n",
       "      <td>11.0</td>\n",
       "      <td>505</td>\n",
       "      <td>1453</td>\n",
       "      <td>34.76</td>\n",
       "    </tr>\n",
       "    <tr>\n",
       "      <th>8</th>\n",
       "      <td>Chaco</td>\n",
       "      <td>14.0</td>\n",
       "      <td>112</td>\n",
       "      <td>339</td>\n",
       "      <td>33.04</td>\n",
       "    </tr>\n",
       "    <tr>\n",
       "      <th>9</th>\n",
       "      <td>Chubut</td>\n",
       "      <td>11.0</td>\n",
       "      <td>181</td>\n",
       "      <td>478</td>\n",
       "      <td>37.87</td>\n",
       "    </tr>\n",
       "  </tbody>\n",
       "</table>\n",
       "</div>"
      ],
      "text/plain": [
       "         Provincia  CodGrupoArt  GA_null_count  GA_total_count  \\\n",
       "0     Buenos Aires         11.0           5626           16354   \n",
       "1     Buenos Aires         14.0           3325            9774   \n",
       "2  Capital Federal         11.0           1097            3423   \n",
       "3  Capital Federal         14.0            874            2586   \n",
       "4        Catamarca         11.0            117             292   \n",
       "5        Catamarca         14.0             26              68   \n",
       "6          Central         11.0             14              29   \n",
       "7            Chaco         11.0            505            1453   \n",
       "8            Chaco         14.0            112             339   \n",
       "9           Chubut         11.0            181             478   \n",
       "\n",
       "   percent_missing  \n",
       "0            34.40  \n",
       "1            34.02  \n",
       "2            32.05  \n",
       "3            33.80  \n",
       "4            40.07  \n",
       "5            38.24  \n",
       "6            48.28  \n",
       "7            34.76  \n",
       "8            33.04  \n",
       "9            37.87  "
      ]
     },
     "execution_count": 48,
     "metadata": {},
     "output_type": "execute_result"
    }
   ],
   "source": [
    "null_per_province = df_clean.groupby(['Provincia', 'CodGrupoArt'])['GrupoArticulos'].agg(\n",
    "                                                                            [('GA_null_count', lambda x: x.isnull().sum()),\n",
    "                                                                             ('GA_total_count', 'count')]).reset_index()\n",
    "\n",
    "null_per_province['percent_missing'] = round((null_per_province['GA_null_count']/null_per_province['GA_total_count'])*100,2)\n",
    "null_per_province.head(10)"
   ]
  },
  {
   "cell_type": "markdown",
   "metadata": {},
   "source": [
    "***La mayoria de las provincias tiene entre 20% y 30% de datos faltantes, no existe dependencia con la provincia. La unica excepcion es Central, pero esta sesgado por la poca cantidad de compras que tiene***"
   ]
  },
  {
   "cell_type": "markdown",
   "metadata": {},
   "source": [
    "### Veamos si los valores faltantes tienen relacion con los GrupoArticulos:"
   ]
  },
  {
   "cell_type": "code",
   "execution_count": 49,
   "metadata": {},
   "outputs": [
    {
     "data": {
      "text/plain": [
       "CodGrupoArt  GrupoArticulos\n",
       "11.0         Espesantes        58763\n",
       "             NaN               20339\n",
       "14.0         Corrosivos        21404\n",
       "             NaN                7283\n",
       "Name: GrupoArticulos, dtype: int64"
      ]
     },
     "execution_count": 49,
     "metadata": {},
     "output_type": "execute_result"
    }
   ],
   "source": [
    "df_clean.groupby('CodGrupoArt')['GrupoArticulos'].value_counts(dropna=False)"
   ]
  },
  {
   "cell_type": "code",
   "execution_count": 50,
   "metadata": {},
   "outputs": [
    {
     "name": "stdout",
     "output_type": "stream",
     "text": [
      "El porcentaje de valores faltantes para los espesantes es %25.71, y para los corrosivos es %25.39\n"
     ]
    }
   ],
   "source": [
    "eper = round((20339 / 79102) * 100, 2)\n",
    "cper = round((7283 / 28687) * 100, 2)\n",
    "print(f'El porcentaje de valores faltantes para los espesantes es %{eper}, y para los corrosivos es %{cper}')"
   ]
  },
  {
   "cell_type": "markdown",
   "metadata": {},
   "source": [
    "***No podemos concluir que los datos esten ligados a un solo GrupoArticulo.***"
   ]
  },
  {
   "cell_type": "code",
   "execution_count": 51,
   "metadata": {},
   "outputs": [
    {
     "data": {
      "text/html": [
       "<div>\n",
       "<style scoped>\n",
       "    .dataframe tbody tr th:only-of-type {\n",
       "        vertical-align: middle;\n",
       "    }\n",
       "\n",
       "    .dataframe tbody tr th {\n",
       "        vertical-align: top;\n",
       "    }\n",
       "\n",
       "    .dataframe thead th {\n",
       "        text-align: right;\n",
       "    }\n",
       "</style>\n",
       "<table border=\"1\" class=\"dataframe\">\n",
       "  <thead>\n",
       "    <tr style=\"text-align: right;\">\n",
       "      <th></th>\n",
       "      <th>Mes</th>\n",
       "      <th>null_values_count</th>\n",
       "      <th>total_values</th>\n",
       "      <th>percent_missing</th>\n",
       "    </tr>\n",
       "  </thead>\n",
       "  <tbody>\n",
       "    <tr>\n",
       "      <th>0</th>\n",
       "      <td>1</td>\n",
       "      <td>2038</td>\n",
       "      <td>5853</td>\n",
       "      <td>34.82</td>\n",
       "    </tr>\n",
       "    <tr>\n",
       "      <th>1</th>\n",
       "      <td>2</td>\n",
       "      <td>2184</td>\n",
       "      <td>6042</td>\n",
       "      <td>36.15</td>\n",
       "    </tr>\n",
       "    <tr>\n",
       "      <th>2</th>\n",
       "      <td>3</td>\n",
       "      <td>1965</td>\n",
       "      <td>5840</td>\n",
       "      <td>33.65</td>\n",
       "    </tr>\n",
       "    <tr>\n",
       "      <th>3</th>\n",
       "      <td>4</td>\n",
       "      <td>2302</td>\n",
       "      <td>6410</td>\n",
       "      <td>35.91</td>\n",
       "    </tr>\n",
       "    <tr>\n",
       "      <th>4</th>\n",
       "      <td>5</td>\n",
       "      <td>2145</td>\n",
       "      <td>6189</td>\n",
       "      <td>34.66</td>\n",
       "    </tr>\n",
       "    <tr>\n",
       "      <th>5</th>\n",
       "      <td>6</td>\n",
       "      <td>2225</td>\n",
       "      <td>6165</td>\n",
       "      <td>36.09</td>\n",
       "    </tr>\n",
       "    <tr>\n",
       "      <th>6</th>\n",
       "      <td>7</td>\n",
       "      <td>2385</td>\n",
       "      <td>6979</td>\n",
       "      <td>34.17</td>\n",
       "    </tr>\n",
       "    <tr>\n",
       "      <th>7</th>\n",
       "      <td>8</td>\n",
       "      <td>2720</td>\n",
       "      <td>8187</td>\n",
       "      <td>33.22</td>\n",
       "    </tr>\n",
       "    <tr>\n",
       "      <th>8</th>\n",
       "      <td>9</td>\n",
       "      <td>2536</td>\n",
       "      <td>7353</td>\n",
       "      <td>34.49</td>\n",
       "    </tr>\n",
       "    <tr>\n",
       "      <th>9</th>\n",
       "      <td>10</td>\n",
       "      <td>2899</td>\n",
       "      <td>8417</td>\n",
       "      <td>34.44</td>\n",
       "    </tr>\n",
       "    <tr>\n",
       "      <th>10</th>\n",
       "      <td>11</td>\n",
       "      <td>2248</td>\n",
       "      <td>6734</td>\n",
       "      <td>33.38</td>\n",
       "    </tr>\n",
       "    <tr>\n",
       "      <th>11</th>\n",
       "      <td>12</td>\n",
       "      <td>1975</td>\n",
       "      <td>5998</td>\n",
       "      <td>32.93</td>\n",
       "    </tr>\n",
       "  </tbody>\n",
       "</table>\n",
       "</div>"
      ],
      "text/plain": [
       "    Mes  null_values_count  total_values  percent_missing\n",
       "0     1               2038          5853            34.82\n",
       "1     2               2184          6042            36.15\n",
       "2     3               1965          5840            33.65\n",
       "3     4               2302          6410            35.91\n",
       "4     5               2145          6189            34.66\n",
       "5     6               2225          6165            36.09\n",
       "6     7               2385          6979            34.17\n",
       "7     8               2720          8187            33.22\n",
       "8     9               2536          7353            34.49\n",
       "9    10               2899          8417            34.44\n",
       "10   11               2248          6734            33.38\n",
       "11   12               1975          5998            32.93"
      ]
     },
     "execution_count": 51,
     "metadata": {},
     "output_type": "execute_result"
    }
   ],
   "source": [
    "df_clean = df_clean.copy()\n",
    "df_clean['Fecha'] = pd.to_datetime(df_clean['Fecha'])\n",
    "df_clean['FechaPedido'] = pd.to_datetime(df_clean['FechaPedido'])\n",
    "df_clean['Año'] = df_clean['Fecha'].dt.year\n",
    "df_clean['Mes'] = df_clean['Fecha'].dt.month\n",
    "month_missing_count = df_clean.groupby('Mes')['GrupoArticulos'].agg([('null_values_count', lambda x: x.isnull().sum()),\n",
    "                                                                     ('total_values', 'count')]).reset_index()\n",
    "month_missing_count['percent_missing'] = round(\n",
    "                                        (month_missing_count['null_values_count']/month_missing_count['total_values'])*100,2)\n",
    "month_missing_count"
   ]
  },
  {
   "cell_type": "markdown",
   "metadata": {},
   "source": [
    "***No existe relacion entre los meses y los datos faltantes***"
   ]
  },
  {
   "cell_type": "code",
   "execution_count": 52,
   "metadata": {},
   "outputs": [
    {
     "data": {
      "text/html": [
       "<div>\n",
       "<style scoped>\n",
       "    .dataframe tbody tr th:only-of-type {\n",
       "        vertical-align: middle;\n",
       "    }\n",
       "\n",
       "    .dataframe tbody tr th {\n",
       "        vertical-align: top;\n",
       "    }\n",
       "\n",
       "    .dataframe thead th {\n",
       "        text-align: right;\n",
       "    }\n",
       "</style>\n",
       "<table border=\"1\" class=\"dataframe\">\n",
       "  <thead>\n",
       "    <tr style=\"text-align: right;\">\n",
       "      <th></th>\n",
       "      <th>Año</th>\n",
       "      <th>null_values_count</th>\n",
       "      <th>total_values</th>\n",
       "      <th>percent_missing</th>\n",
       "    </tr>\n",
       "  </thead>\n",
       "  <tbody>\n",
       "    <tr>\n",
       "      <th>0</th>\n",
       "      <td>2018</td>\n",
       "      <td>5982</td>\n",
       "      <td>17615</td>\n",
       "      <td>33.96</td>\n",
       "    </tr>\n",
       "    <tr>\n",
       "      <th>1</th>\n",
       "      <td>2019</td>\n",
       "      <td>8003</td>\n",
       "      <td>23001</td>\n",
       "      <td>34.79</td>\n",
       "    </tr>\n",
       "    <tr>\n",
       "      <th>2</th>\n",
       "      <td>2020</td>\n",
       "      <td>7769</td>\n",
       "      <td>22689</td>\n",
       "      <td>34.24</td>\n",
       "    </tr>\n",
       "    <tr>\n",
       "      <th>3</th>\n",
       "      <td>2021</td>\n",
       "      <td>5868</td>\n",
       "      <td>16862</td>\n",
       "      <td>34.80</td>\n",
       "    </tr>\n",
       "  </tbody>\n",
       "</table>\n",
       "</div>"
      ],
      "text/plain": [
       "    Año  null_values_count  total_values  percent_missing\n",
       "0  2018               5982         17615            33.96\n",
       "1  2019               8003         23001            34.79\n",
       "2  2020               7769         22689            34.24\n",
       "3  2021               5868         16862            34.80"
      ]
     },
     "execution_count": 52,
     "metadata": {},
     "output_type": "execute_result"
    }
   ],
   "source": [
    "missing_year_count = df_clean.groupby('Año')['GrupoArticulos'].agg([('null_values_count', lambda x: x.isnull().sum()),\n",
    "                                                                    ('total_values', 'count')]).reset_index()\n",
    "missing_year_count['percent_missing'] = round(\n",
    "                                        (missing_year_count['null_values_count']/missing_year_count['total_values'])*100,2)\n",
    "missing_year_count"
   ]
  },
  {
   "cell_type": "markdown",
   "metadata": {},
   "source": [
    "***Vemos que los años tiene casi el mismo porcentaje de valores faltantes, no existe relacion entre estos dos***"
   ]
  },
  {
   "cell_type": "markdown",
   "metadata": {},
   "source": [
    "### Veamos para que combinaciones de codigos, se encuentran los valores faltantes:"
   ]
  },
  {
   "cell_type": "code",
   "execution_count": 53,
   "metadata": {},
   "outputs": [
    {
     "data": {
      "text/html": [
       "<div>\n",
       "<style scoped>\n",
       "    .dataframe tbody tr th:only-of-type {\n",
       "        vertical-align: middle;\n",
       "    }\n",
       "\n",
       "    .dataframe tbody tr th {\n",
       "        vertical-align: top;\n",
       "    }\n",
       "\n",
       "    .dataframe thead tr th {\n",
       "        text-align: left;\n",
       "    }\n",
       "</style>\n",
       "<table border=\"1\" class=\"dataframe\">\n",
       "  <thead>\n",
       "    <tr>\n",
       "      <th></th>\n",
       "      <th>codGrupoMaterial5</th>\n",
       "      <th>codGrupoMaterial4</th>\n",
       "      <th colspan=\"3\" halign=\"left\">codGrupoMaterial2</th>\n",
       "      <th colspan=\"3\" halign=\"left\">GrupoArticulos</th>\n",
       "    </tr>\n",
       "    <tr>\n",
       "      <th></th>\n",
       "      <th></th>\n",
       "      <th></th>\n",
       "      <th>missing_values</th>\n",
       "      <th>full_count</th>\n",
       "      <th>missing_percent</th>\n",
       "      <th>missing_values</th>\n",
       "      <th>full_count</th>\n",
       "      <th>missing_percent</th>\n",
       "    </tr>\n",
       "  </thead>\n",
       "  <tbody>\n",
       "    <tr>\n",
       "      <th>0</th>\n",
       "      <td>228.0</td>\n",
       "      <td>124.0</td>\n",
       "      <td>48</td>\n",
       "      <td>559</td>\n",
       "      <td>8.586762</td>\n",
       "      <td>141</td>\n",
       "      <td>466</td>\n",
       "      <td>30.257511</td>\n",
       "    </tr>\n",
       "    <tr>\n",
       "      <th>1</th>\n",
       "      <td>229.0</td>\n",
       "      <td>124.0</td>\n",
       "      <td>22</td>\n",
       "      <td>191</td>\n",
       "      <td>11.518325</td>\n",
       "      <td>55</td>\n",
       "      <td>158</td>\n",
       "      <td>34.810127</td>\n",
       "    </tr>\n",
       "    <tr>\n",
       "      <th>2</th>\n",
       "      <td>231.0</td>\n",
       "      <td>174.0</td>\n",
       "      <td>0</td>\n",
       "      <td>1</td>\n",
       "      <td>0.000000</td>\n",
       "      <td>0</td>\n",
       "      <td>1</td>\n",
       "      <td>0.000000</td>\n",
       "    </tr>\n",
       "    <tr>\n",
       "      <th>3</th>\n",
       "      <td>232.0</td>\n",
       "      <td>124.0</td>\n",
       "      <td>19</td>\n",
       "      <td>166</td>\n",
       "      <td>11.445783</td>\n",
       "      <td>50</td>\n",
       "      <td>135</td>\n",
       "      <td>37.037037</td>\n",
       "    </tr>\n",
       "    <tr>\n",
       "      <th>4</th>\n",
       "      <td>276.0</td>\n",
       "      <td>128.0</td>\n",
       "      <td>2490</td>\n",
       "      <td>23472</td>\n",
       "      <td>10.608384</td>\n",
       "      <td>6664</td>\n",
       "      <td>19298</td>\n",
       "      <td>34.532076</td>\n",
       "    </tr>\n",
       "    <tr>\n",
       "      <th>5</th>\n",
       "      <td>277.0</td>\n",
       "      <td>333.0</td>\n",
       "      <td>160</td>\n",
       "      <td>1256</td>\n",
       "      <td>12.738854</td>\n",
       "      <td>361</td>\n",
       "      <td>1055</td>\n",
       "      <td>34.218009</td>\n",
       "    </tr>\n",
       "    <tr>\n",
       "      <th>6</th>\n",
       "      <td>278.0</td>\n",
       "      <td>129.0</td>\n",
       "      <td>214</td>\n",
       "      <td>2099</td>\n",
       "      <td>10.195331</td>\n",
       "      <td>616</td>\n",
       "      <td>1697</td>\n",
       "      <td>36.299352</td>\n",
       "    </tr>\n",
       "    <tr>\n",
       "      <th>7</th>\n",
       "      <td>279.0</td>\n",
       "      <td>130.0</td>\n",
       "      <td>101</td>\n",
       "      <td>848</td>\n",
       "      <td>11.910377</td>\n",
       "      <td>248</td>\n",
       "      <td>701</td>\n",
       "      <td>35.378031</td>\n",
       "    </tr>\n",
       "    <tr>\n",
       "      <th>8</th>\n",
       "      <td>280.0</td>\n",
       "      <td>131.0</td>\n",
       "      <td>13</td>\n",
       "      <td>158</td>\n",
       "      <td>8.227848</td>\n",
       "      <td>43</td>\n",
       "      <td>128</td>\n",
       "      <td>33.593750</td>\n",
       "    </tr>\n",
       "    <tr>\n",
       "      <th>9</th>\n",
       "      <td>281.0</td>\n",
       "      <td>132.0</td>\n",
       "      <td>15</td>\n",
       "      <td>103</td>\n",
       "      <td>14.563107</td>\n",
       "      <td>28</td>\n",
       "      <td>90</td>\n",
       "      <td>31.111111</td>\n",
       "    </tr>\n",
       "  </tbody>\n",
       "</table>\n",
       "</div>"
      ],
      "text/plain": [
       "  codGrupoMaterial5 codGrupoMaterial4 codGrupoMaterial2             \\\n",
       "                                         missing_values full_count   \n",
       "0             228.0             124.0                48        559   \n",
       "1             229.0             124.0                22        191   \n",
       "2             231.0             174.0                 0          1   \n",
       "3             232.0             124.0                19        166   \n",
       "4             276.0             128.0              2490      23472   \n",
       "5             277.0             333.0               160       1256   \n",
       "6             278.0             129.0               214       2099   \n",
       "7             279.0             130.0               101        848   \n",
       "8             280.0             131.0                13        158   \n",
       "9             281.0             132.0                15        103   \n",
       "\n",
       "                  GrupoArticulos                             \n",
       "  missing_percent missing_values full_count missing_percent  \n",
       "0        8.586762            141        466       30.257511  \n",
       "1       11.518325             55        158       34.810127  \n",
       "2        0.000000              0          1        0.000000  \n",
       "3       11.445783             50        135       37.037037  \n",
       "4       10.608384           6664      19298       34.532076  \n",
       "5       12.738854            361       1055       34.218009  \n",
       "6       10.195331            616       1697       36.299352  \n",
       "7       11.910377            248        701       35.378031  \n",
       "8        8.227848             43        128       33.593750  \n",
       "9       14.563107             28         90       31.111111  "
      ]
     },
     "execution_count": 53,
     "metadata": {},
     "output_type": "execute_result"
    }
   ],
   "source": [
    "grouped_cod_5_4 = df_clean.groupby(['codGrupoMaterial5','codGrupoMaterial4'])[['codGrupoMaterial2', 'GrupoArticulos']].agg(\n",
    "                                                    [('missing_values', lambda x: x.isnull().sum()),\n",
    "                                                     ('full_count', 'count'),\n",
    "                                                     ('missing_percent', lambda x: x.isnull().sum() / x.count() * 100)]\n",
    "                                                     ).reset_index()\n",
    "grouped_cod_5_4.head(10)"
   ]
  },
  {
   "cell_type": "markdown",
   "metadata": {},
   "source": [
    "### Veamos si los valores faltantes se relacionan con alguna categoria del codGrupoMaterial4:"
   ]
  },
  {
   "cell_type": "code",
   "execution_count": 54,
   "metadata": {},
   "outputs": [
    {
     "data": {
      "text/html": [
       "<div>\n",
       "<style scoped>\n",
       "    .dataframe tbody tr th:only-of-type {\n",
       "        vertical-align: middle;\n",
       "    }\n",
       "\n",
       "    .dataframe tbody tr th {\n",
       "        vertical-align: top;\n",
       "    }\n",
       "\n",
       "    .dataframe thead tr th {\n",
       "        text-align: left;\n",
       "    }\n",
       "</style>\n",
       "<table border=\"1\" class=\"dataframe\">\n",
       "  <thead>\n",
       "    <tr>\n",
       "      <th></th>\n",
       "      <th>codGrupoMaterial4</th>\n",
       "      <th colspan=\"3\" halign=\"left\">codGrupoMaterial2</th>\n",
       "      <th colspan=\"3\" halign=\"left\">GrupoArticulos</th>\n",
       "    </tr>\n",
       "    <tr>\n",
       "      <th></th>\n",
       "      <th></th>\n",
       "      <th>missing_values</th>\n",
       "      <th>full_count</th>\n",
       "      <th>missing_percent</th>\n",
       "      <th>missing_values</th>\n",
       "      <th>full_count</th>\n",
       "      <th>missing_percent</th>\n",
       "    </tr>\n",
       "  </thead>\n",
       "  <tbody>\n",
       "    <tr>\n",
       "      <th>0</th>\n",
       "      <td>124.0</td>\n",
       "      <td>89</td>\n",
       "      <td>916</td>\n",
       "      <td>9.716157</td>\n",
       "      <td>246</td>\n",
       "      <td>759</td>\n",
       "      <td>32.411067</td>\n",
       "    </tr>\n",
       "    <tr>\n",
       "      <th>1</th>\n",
       "      <td>128.0</td>\n",
       "      <td>2490</td>\n",
       "      <td>23472</td>\n",
       "      <td>10.608384</td>\n",
       "      <td>6664</td>\n",
       "      <td>19298</td>\n",
       "      <td>34.532076</td>\n",
       "    </tr>\n",
       "    <tr>\n",
       "      <th>2</th>\n",
       "      <td>129.0</td>\n",
       "      <td>214</td>\n",
       "      <td>2099</td>\n",
       "      <td>10.195331</td>\n",
       "      <td>616</td>\n",
       "      <td>1697</td>\n",
       "      <td>36.299352</td>\n",
       "    </tr>\n",
       "    <tr>\n",
       "      <th>3</th>\n",
       "      <td>130.0</td>\n",
       "      <td>101</td>\n",
       "      <td>848</td>\n",
       "      <td>11.910377</td>\n",
       "      <td>248</td>\n",
       "      <td>701</td>\n",
       "      <td>35.378031</td>\n",
       "    </tr>\n",
       "    <tr>\n",
       "      <th>4</th>\n",
       "      <td>131.0</td>\n",
       "      <td>13</td>\n",
       "      <td>158</td>\n",
       "      <td>8.227848</td>\n",
       "      <td>43</td>\n",
       "      <td>128</td>\n",
       "      <td>33.593750</td>\n",
       "    </tr>\n",
       "    <tr>\n",
       "      <th>5</th>\n",
       "      <td>132.0</td>\n",
       "      <td>388</td>\n",
       "      <td>3846</td>\n",
       "      <td>10.088404</td>\n",
       "      <td>1065</td>\n",
       "      <td>3169</td>\n",
       "      <td>33.606816</td>\n",
       "    </tr>\n",
       "    <tr>\n",
       "      <th>6</th>\n",
       "      <td>134.0</td>\n",
       "      <td>712</td>\n",
       "      <td>6723</td>\n",
       "      <td>10.590510</td>\n",
       "      <td>1911</td>\n",
       "      <td>5524</td>\n",
       "      <td>34.594497</td>\n",
       "    </tr>\n",
       "    <tr>\n",
       "      <th>7</th>\n",
       "      <td>135.0</td>\n",
       "      <td>306</td>\n",
       "      <td>2773</td>\n",
       "      <td>11.034980</td>\n",
       "      <td>826</td>\n",
       "      <td>2253</td>\n",
       "      <td>36.662228</td>\n",
       "    </tr>\n",
       "    <tr>\n",
       "      <th>8</th>\n",
       "      <td>136.0</td>\n",
       "      <td>358</td>\n",
       "      <td>3320</td>\n",
       "      <td>10.783133</td>\n",
       "      <td>1004</td>\n",
       "      <td>2674</td>\n",
       "      <td>37.546746</td>\n",
       "    </tr>\n",
       "    <tr>\n",
       "      <th>9</th>\n",
       "      <td>137.0</td>\n",
       "      <td>206</td>\n",
       "      <td>1836</td>\n",
       "      <td>11.220044</td>\n",
       "      <td>522</td>\n",
       "      <td>1520</td>\n",
       "      <td>34.342105</td>\n",
       "    </tr>\n",
       "    <tr>\n",
       "      <th>10</th>\n",
       "      <td>138.0</td>\n",
       "      <td>66</td>\n",
       "      <td>487</td>\n",
       "      <td>13.552361</td>\n",
       "      <td>136</td>\n",
       "      <td>417</td>\n",
       "      <td>32.613909</td>\n",
       "    </tr>\n",
       "    <tr>\n",
       "      <th>11</th>\n",
       "      <td>139.0</td>\n",
       "      <td>761</td>\n",
       "      <td>7441</td>\n",
       "      <td>10.227120</td>\n",
       "      <td>2180</td>\n",
       "      <td>6022</td>\n",
       "      <td>36.200598</td>\n",
       "    </tr>\n",
       "    <tr>\n",
       "      <th>12</th>\n",
       "      <td>140.0</td>\n",
       "      <td>96</td>\n",
       "      <td>913</td>\n",
       "      <td>10.514786</td>\n",
       "      <td>261</td>\n",
       "      <td>748</td>\n",
       "      <td>34.893048</td>\n",
       "    </tr>\n",
       "    <tr>\n",
       "      <th>13</th>\n",
       "      <td>173.0</td>\n",
       "      <td>29</td>\n",
       "      <td>303</td>\n",
       "      <td>9.570957</td>\n",
       "      <td>82</td>\n",
       "      <td>250</td>\n",
       "      <td>32.800000</td>\n",
       "    </tr>\n",
       "    <tr>\n",
       "      <th>14</th>\n",
       "      <td>174.0</td>\n",
       "      <td>0</td>\n",
       "      <td>1</td>\n",
       "      <td>0.000000</td>\n",
       "      <td>0</td>\n",
       "      <td>1</td>\n",
       "      <td>0.000000</td>\n",
       "    </tr>\n",
       "    <tr>\n",
       "      <th>15</th>\n",
       "      <td>281.0</td>\n",
       "      <td>1264</td>\n",
       "      <td>12353</td>\n",
       "      <td>10.232332</td>\n",
       "      <td>3387</td>\n",
       "      <td>10230</td>\n",
       "      <td>33.108504</td>\n",
       "    </tr>\n",
       "    <tr>\n",
       "      <th>16</th>\n",
       "      <td>282.0</td>\n",
       "      <td>136</td>\n",
       "      <td>1327</td>\n",
       "      <td>10.248681</td>\n",
       "      <td>379</td>\n",
       "      <td>1084</td>\n",
       "      <td>34.963100</td>\n",
       "    </tr>\n",
       "    <tr>\n",
       "      <th>17</th>\n",
       "      <td>283.0</td>\n",
       "      <td>140</td>\n",
       "      <td>1501</td>\n",
       "      <td>9.327115</td>\n",
       "      <td>408</td>\n",
       "      <td>1233</td>\n",
       "      <td>33.090024</td>\n",
       "    </tr>\n",
       "    <tr>\n",
       "      <th>18</th>\n",
       "      <td>284.0</td>\n",
       "      <td>2052</td>\n",
       "      <td>20590</td>\n",
       "      <td>9.966003</td>\n",
       "      <td>5729</td>\n",
       "      <td>16913</td>\n",
       "      <td>33.873352</td>\n",
       "    </tr>\n",
       "    <tr>\n",
       "      <th>19</th>\n",
       "      <td>285.0</td>\n",
       "      <td>579</td>\n",
       "      <td>5466</td>\n",
       "      <td>10.592755</td>\n",
       "      <td>1554</td>\n",
       "      <td>4491</td>\n",
       "      <td>34.602538</td>\n",
       "    </tr>\n",
       "    <tr>\n",
       "      <th>20</th>\n",
       "      <td>333.0</td>\n",
       "      <td>160</td>\n",
       "      <td>1256</td>\n",
       "      <td>12.738854</td>\n",
       "      <td>361</td>\n",
       "      <td>1055</td>\n",
       "      <td>34.218009</td>\n",
       "    </tr>\n",
       "  </tbody>\n",
       "</table>\n",
       "</div>"
      ],
      "text/plain": [
       "   codGrupoMaterial4 codGrupoMaterial2                             \\\n",
       "                        missing_values full_count missing_percent   \n",
       "0              124.0                89        916        9.716157   \n",
       "1              128.0              2490      23472       10.608384   \n",
       "2              129.0               214       2099       10.195331   \n",
       "3              130.0               101        848       11.910377   \n",
       "4              131.0                13        158        8.227848   \n",
       "5              132.0               388       3846       10.088404   \n",
       "6              134.0               712       6723       10.590510   \n",
       "7              135.0               306       2773       11.034980   \n",
       "8              136.0               358       3320       10.783133   \n",
       "9              137.0               206       1836       11.220044   \n",
       "10             138.0                66        487       13.552361   \n",
       "11             139.0               761       7441       10.227120   \n",
       "12             140.0                96        913       10.514786   \n",
       "13             173.0                29        303        9.570957   \n",
       "14             174.0                 0          1        0.000000   \n",
       "15             281.0              1264      12353       10.232332   \n",
       "16             282.0               136       1327       10.248681   \n",
       "17             283.0               140       1501        9.327115   \n",
       "18             284.0              2052      20590        9.966003   \n",
       "19             285.0               579       5466       10.592755   \n",
       "20             333.0               160       1256       12.738854   \n",
       "\n",
       "   GrupoArticulos                             \n",
       "   missing_values full_count missing_percent  \n",
       "0             246        759       32.411067  \n",
       "1            6664      19298       34.532076  \n",
       "2             616       1697       36.299352  \n",
       "3             248        701       35.378031  \n",
       "4              43        128       33.593750  \n",
       "5            1065       3169       33.606816  \n",
       "6            1911       5524       34.594497  \n",
       "7             826       2253       36.662228  \n",
       "8            1004       2674       37.546746  \n",
       "9             522       1520       34.342105  \n",
       "10            136        417       32.613909  \n",
       "11           2180       6022       36.200598  \n",
       "12            261        748       34.893048  \n",
       "13             82        250       32.800000  \n",
       "14              0          1        0.000000  \n",
       "15           3387      10230       33.108504  \n",
       "16            379       1084       34.963100  \n",
       "17            408       1233       33.090024  \n",
       "18           5729      16913       33.873352  \n",
       "19           1554       4491       34.602538  \n",
       "20            361       1055       34.218009  "
      ]
     },
     "execution_count": 54,
     "metadata": {},
     "output_type": "execute_result"
    }
   ],
   "source": [
    "only_cod4 = df_clean.groupby(['codGrupoMaterial4'])[['codGrupoMaterial2', 'GrupoArticulos']].agg([\n",
    "                                            ('missing_values', lambda x: x.isnull().sum()),\n",
    "                                            ('full_count', 'count'),\n",
    "                                            ('missing_percent', lambda x: x.isnull().sum() / x.count() * 100)\n",
    "                                            ]).reset_index()\n",
    "only_cod4"
   ]
  },
  {
   "cell_type": "markdown",
   "metadata": {},
   "source": [
    "***Vemos que no tienen relacion los datos faltantes con alguna categoria.***\n",
    "\n",
    "### Veamos si los valores faltantes se relacionan con alguna categoria del codGrupoMaterial5:"
   ]
  },
  {
   "cell_type": "code",
   "execution_count": 55,
   "metadata": {},
   "outputs": [
    {
     "data": {
      "text/html": [
       "<div>\n",
       "<style scoped>\n",
       "    .dataframe tbody tr th:only-of-type {\n",
       "        vertical-align: middle;\n",
       "    }\n",
       "\n",
       "    .dataframe tbody tr th {\n",
       "        vertical-align: top;\n",
       "    }\n",
       "\n",
       "    .dataframe thead tr th {\n",
       "        text-align: left;\n",
       "    }\n",
       "</style>\n",
       "<table border=\"1\" class=\"dataframe\">\n",
       "  <thead>\n",
       "    <tr>\n",
       "      <th></th>\n",
       "      <th>codGrupoMaterial5</th>\n",
       "      <th colspan=\"3\" halign=\"left\">codGrupoMaterial2</th>\n",
       "      <th colspan=\"3\" halign=\"left\">GrupoArticulos</th>\n",
       "    </tr>\n",
       "    <tr>\n",
       "      <th></th>\n",
       "      <th></th>\n",
       "      <th>missing_values</th>\n",
       "      <th>full_count</th>\n",
       "      <th>missing_percent</th>\n",
       "      <th>missing_values</th>\n",
       "      <th>full_count</th>\n",
       "      <th>missing_percent</th>\n",
       "    </tr>\n",
       "  </thead>\n",
       "  <tbody>\n",
       "    <tr>\n",
       "      <th>0</th>\n",
       "      <td>228.0</td>\n",
       "      <td>48</td>\n",
       "      <td>559</td>\n",
       "      <td>8.586762</td>\n",
       "      <td>141</td>\n",
       "      <td>466</td>\n",
       "      <td>30.257511</td>\n",
       "    </tr>\n",
       "    <tr>\n",
       "      <th>1</th>\n",
       "      <td>229.0</td>\n",
       "      <td>22</td>\n",
       "      <td>191</td>\n",
       "      <td>11.518325</td>\n",
       "      <td>55</td>\n",
       "      <td>158</td>\n",
       "      <td>34.810127</td>\n",
       "    </tr>\n",
       "    <tr>\n",
       "      <th>2</th>\n",
       "      <td>231.0</td>\n",
       "      <td>0</td>\n",
       "      <td>1</td>\n",
       "      <td>0.000000</td>\n",
       "      <td>0</td>\n",
       "      <td>1</td>\n",
       "      <td>0.000000</td>\n",
       "    </tr>\n",
       "    <tr>\n",
       "      <th>3</th>\n",
       "      <td>232.0</td>\n",
       "      <td>19</td>\n",
       "      <td>166</td>\n",
       "      <td>11.445783</td>\n",
       "      <td>50</td>\n",
       "      <td>135</td>\n",
       "      <td>37.037037</td>\n",
       "    </tr>\n",
       "    <tr>\n",
       "      <th>4</th>\n",
       "      <td>276.0</td>\n",
       "      <td>2490</td>\n",
       "      <td>23472</td>\n",
       "      <td>10.608384</td>\n",
       "      <td>6664</td>\n",
       "      <td>19298</td>\n",
       "      <td>34.532076</td>\n",
       "    </tr>\n",
       "    <tr>\n",
       "      <th>5</th>\n",
       "      <td>277.0</td>\n",
       "      <td>160</td>\n",
       "      <td>1256</td>\n",
       "      <td>12.738854</td>\n",
       "      <td>361</td>\n",
       "      <td>1055</td>\n",
       "      <td>34.218009</td>\n",
       "    </tr>\n",
       "    <tr>\n",
       "      <th>6</th>\n",
       "      <td>278.0</td>\n",
       "      <td>214</td>\n",
       "      <td>2099</td>\n",
       "      <td>10.195331</td>\n",
       "      <td>616</td>\n",
       "      <td>1697</td>\n",
       "      <td>36.299352</td>\n",
       "    </tr>\n",
       "    <tr>\n",
       "      <th>7</th>\n",
       "      <td>279.0</td>\n",
       "      <td>101</td>\n",
       "      <td>848</td>\n",
       "      <td>11.910377</td>\n",
       "      <td>248</td>\n",
       "      <td>701</td>\n",
       "      <td>35.378031</td>\n",
       "    </tr>\n",
       "    <tr>\n",
       "      <th>8</th>\n",
       "      <td>280.0</td>\n",
       "      <td>13</td>\n",
       "      <td>158</td>\n",
       "      <td>8.227848</td>\n",
       "      <td>43</td>\n",
       "      <td>128</td>\n",
       "      <td>33.593750</td>\n",
       "    </tr>\n",
       "    <tr>\n",
       "      <th>9</th>\n",
       "      <td>281.0</td>\n",
       "      <td>15</td>\n",
       "      <td>103</td>\n",
       "      <td>14.563107</td>\n",
       "      <td>28</td>\n",
       "      <td>90</td>\n",
       "      <td>31.111111</td>\n",
       "    </tr>\n",
       "  </tbody>\n",
       "</table>\n",
       "</div>"
      ],
      "text/plain": [
       "  codGrupoMaterial5 codGrupoMaterial2                             \\\n",
       "                       missing_values full_count missing_percent   \n",
       "0             228.0                48        559        8.586762   \n",
       "1             229.0                22        191       11.518325   \n",
       "2             231.0                 0          1        0.000000   \n",
       "3             232.0                19        166       11.445783   \n",
       "4             276.0              2490      23472       10.608384   \n",
       "5             277.0               160       1256       12.738854   \n",
       "6             278.0               214       2099       10.195331   \n",
       "7             279.0               101        848       11.910377   \n",
       "8             280.0                13        158        8.227848   \n",
       "9             281.0                15        103       14.563107   \n",
       "\n",
       "  GrupoArticulos                             \n",
       "  missing_values full_count missing_percent  \n",
       "0            141        466       30.257511  \n",
       "1             55        158       34.810127  \n",
       "2              0          1        0.000000  \n",
       "3             50        135       37.037037  \n",
       "4           6664      19298       34.532076  \n",
       "5            361       1055       34.218009  \n",
       "6            616       1697       36.299352  \n",
       "7            248        701       35.378031  \n",
       "8             43        128       33.593750  \n",
       "9             28         90       31.111111  "
      ]
     },
     "execution_count": 55,
     "metadata": {},
     "output_type": "execute_result"
    }
   ],
   "source": [
    "only_cod5 = df_clean.groupby(['codGrupoMaterial5'])[['codGrupoMaterial2', 'GrupoArticulos']].agg([\n",
    "                                            ('missing_values', lambda x: x.isnull().sum()),\n",
    "                                            ('full_count', 'count'),\n",
    "                                            ('missing_percent', lambda x: x.isnull().sum() / x.count() * 100)\n",
    "                                            ]).reset_index()\n",
    "only_cod5.head(10)"
   ]
  },
  {
   "cell_type": "markdown",
   "metadata": {},
   "source": [
    "***Vemos que no tienen relacion los datos faltantes con alguna categoria en particular, la mayoria tiene la misma cantidad de datos faltantes.***"
   ]
  },
  {
   "cell_type": "markdown",
   "metadata": {},
   "source": [
    "### En base a todos los analisis realizados, podemos decir entonces que los datos faltantes, son del tipo Missing completely at random (MCAR)"
   ]
  },
  {
   "cell_type": "markdown",
   "metadata": {},
   "source": [
    "</br>"
   ]
  },
  {
   "cell_type": "markdown",
   "metadata": {
    "id": "77vwuiqOHGeB"
   },
   "source": [
    "\n",
    "### Ejercicio 4:\n",
    "\n",
    "La presencia de datos faltantes la podemos resolver de 3 maneras: Eliminando todo el registro donde aparece el dato faltante, eliminando toda la columna donde se encuentra el dato faltante, o imputanto el dato faltante. Definir la acción más adecuada,  justificarla e implementarla.\n"
   ]
  },
  {
   "cell_type": "markdown",
   "metadata": {
    "id": "RvHYJSI6HGeD"
   },
   "source": [
    "Las acciones que se pueden hacer serian:\n",
    "\n",
    "- Eliminar todo el registro donde aparece el dato faltante: Esta acción implica eliminar las filas que contienen al menos un valor faltante. Esto es recomendado cuando los datos faltantes son una proporción muy pequeña del conjunto de datos y no se espera que tengan un impacto significativo en el análisis. Sin embargo, si los datos faltantes representan una parte importante del conjunto de datos o si los registros completos son valiosos, esta acción puede llevar a una pérdida de información significativa.\n",
    "\n",
    "- Eliminar toda la columna donde se encuentra el dato faltante: Esta acción implicaria eliminar todas las columnas que contienen valores faltantes. Se utiliza cuando la columna afectada no aporta información relevante o no es necesaria para el análisis. Sin embargo, si la columna contiene información valiosa o es importante para el análisis, esta acción puede resultar en la pérdida de información significativa.\n",
    "\n",
    "- Imputar el dato faltante: Esta acción implica reemplazar los valores faltantes por valores estimados o inferidos. Puede ser adecuada cuando los datos faltantes representan una proporción significativa del conjunto de datos y es importante mantener la integridad de la información. La imputación puede realizarse utilizando diferentes métodos, como el valor medio, la mediana, la moda, técnicas de regresión o modelos más complejos. Sin embargo, la imputación introduce cierto grado de incertidumbre y puede afectar los resultados del análisis.\n"
   ]
  },
  {
   "cell_type": "markdown",
   "metadata": {
    "id": "WX4Q2sbUHGeE"
   },
   "source": [
    "***Vemos cuantos son los datos faltantes y el porcentaje del total.***"
   ]
  },
  {
   "cell_type": "code",
   "execution_count": 56,
   "metadata": {
    "colab": {
     "base_uri": "https://localhost:8080/",
     "height": 708
    },
    "id": "sUzj4tnlHGeF",
    "outputId": "92c55f65-3b87-454b-8f99-2dd11b649985"
   },
   "outputs": [
    {
     "data": {
      "text/html": [
       "<div>\n",
       "<style scoped>\n",
       "    .dataframe tbody tr th:only-of-type {\n",
       "        vertical-align: middle;\n",
       "    }\n",
       "\n",
       "    .dataframe tbody tr th {\n",
       "        vertical-align: top;\n",
       "    }\n",
       "\n",
       "    .dataframe thead th {\n",
       "        text-align: right;\n",
       "    }\n",
       "</style>\n",
       "<table border=\"1\" class=\"dataframe\">\n",
       "  <thead>\n",
       "    <tr style=\"text-align: right;\">\n",
       "      <th></th>\n",
       "      <th>Cantidad Faltantes</th>\n",
       "      <th>Porcentaje Faltantes</th>\n",
       "    </tr>\n",
       "  </thead>\n",
       "  <tbody>\n",
       "    <tr>\n",
       "      <th>Periodo</th>\n",
       "      <td>0</td>\n",
       "      <td>0.00</td>\n",
       "    </tr>\n",
       "    <tr>\n",
       "      <th>Fecha</th>\n",
       "      <td>0</td>\n",
       "      <td>0.00</td>\n",
       "    </tr>\n",
       "    <tr>\n",
       "      <th>FechaPedido</th>\n",
       "      <td>0</td>\n",
       "      <td>0.00</td>\n",
       "    </tr>\n",
       "    <tr>\n",
       "      <th>PosPedido</th>\n",
       "      <td>0</td>\n",
       "      <td>0.00</td>\n",
       "    </tr>\n",
       "    <tr>\n",
       "      <th>CodMaterial</th>\n",
       "      <td>0</td>\n",
       "      <td>0.00</td>\n",
       "    </tr>\n",
       "    <tr>\n",
       "      <th>Cantidad</th>\n",
       "      <td>0</td>\n",
       "      <td>0.00</td>\n",
       "    </tr>\n",
       "    <tr>\n",
       "      <th>CodGrupoArt</th>\n",
       "      <td>0</td>\n",
       "      <td>0.00</td>\n",
       "    </tr>\n",
       "    <tr>\n",
       "      <th>GrupoArticulos</th>\n",
       "      <td>27622</td>\n",
       "      <td>25.63</td>\n",
       "    </tr>\n",
       "    <tr>\n",
       "      <th>codGrupoMaterial2</th>\n",
       "      <td>10160</td>\n",
       "      <td>9.43</td>\n",
       "    </tr>\n",
       "    <tr>\n",
       "      <th>codGrupoMaterial4</th>\n",
       "      <td>0</td>\n",
       "      <td>0.00</td>\n",
       "    </tr>\n",
       "    <tr>\n",
       "      <th>codGrupoMaterial5</th>\n",
       "      <td>0</td>\n",
       "      <td>0.00</td>\n",
       "    </tr>\n",
       "    <tr>\n",
       "      <th>Tipo_Precio</th>\n",
       "      <td>0</td>\n",
       "      <td>0.00</td>\n",
       "    </tr>\n",
       "    <tr>\n",
       "      <th>Departamento</th>\n",
       "      <td>0</td>\n",
       "      <td>0.00</td>\n",
       "    </tr>\n",
       "    <tr>\n",
       "      <th>Localidad</th>\n",
       "      <td>0</td>\n",
       "      <td>0.00</td>\n",
       "    </tr>\n",
       "    <tr>\n",
       "      <th>Provincia</th>\n",
       "      <td>0</td>\n",
       "      <td>0.00</td>\n",
       "    </tr>\n",
       "    <tr>\n",
       "      <th>Pais</th>\n",
       "      <td>0</td>\n",
       "      <td>0.00</td>\n",
       "    </tr>\n",
       "    <tr>\n",
       "      <th>CodCliente_of</th>\n",
       "      <td>0</td>\n",
       "      <td>0.00</td>\n",
       "    </tr>\n",
       "    <tr>\n",
       "      <th>CodSucCliente_of</th>\n",
       "      <td>0</td>\n",
       "      <td>0.00</td>\n",
       "    </tr>\n",
       "    <tr>\n",
       "      <th>NroDocPedido</th>\n",
       "      <td>0</td>\n",
       "      <td>0.00</td>\n",
       "    </tr>\n",
       "    <tr>\n",
       "      <th>Año</th>\n",
       "      <td>0</td>\n",
       "      <td>0.00</td>\n",
       "    </tr>\n",
       "    <tr>\n",
       "      <th>Mes</th>\n",
       "      <td>0</td>\n",
       "      <td>0.00</td>\n",
       "    </tr>\n",
       "  </tbody>\n",
       "</table>\n",
       "</div>"
      ],
      "text/plain": [
       "                   Cantidad Faltantes  Porcentaje Faltantes\n",
       "Periodo                             0                  0.00\n",
       "Fecha                               0                  0.00\n",
       "FechaPedido                         0                  0.00\n",
       "PosPedido                           0                  0.00\n",
       "CodMaterial                         0                  0.00\n",
       "Cantidad                            0                  0.00\n",
       "CodGrupoArt                         0                  0.00\n",
       "GrupoArticulos                  27622                 25.63\n",
       "codGrupoMaterial2               10160                  9.43\n",
       "codGrupoMaterial4                   0                  0.00\n",
       "codGrupoMaterial5                   0                  0.00\n",
       "Tipo_Precio                         0                  0.00\n",
       "Departamento                        0                  0.00\n",
       "Localidad                           0                  0.00\n",
       "Provincia                           0                  0.00\n",
       "Pais                                0                  0.00\n",
       "CodCliente_of                       0                  0.00\n",
       "CodSucCliente_of                    0                  0.00\n",
       "NroDocPedido                        0                  0.00\n",
       "Año                                 0                  0.00\n",
       "Mes                                 0                  0.00"
      ]
     },
     "execution_count": 56,
     "metadata": {},
     "output_type": "execute_result"
    }
   ],
   "source": [
    "# Calculamos el porcentaje de valores faltantes\n",
    "porcentaje_faltantes = (df_clean.isnull().sum() / len(df_clean)) * 100\n",
    "porcentaje_faltantes = porcentaje_faltantes.round(2)\n",
    "\n",
    "# Calculamos la cantidad de valores faltantes\n",
    "cantidad_faltantes = df_clean.isnull().sum()\n",
    "\n",
    "tabla_faltantes = pd.DataFrame({'Cantidad Faltantes': cantidad_faltantes, 'Porcentaje Faltantes': porcentaje_faltantes})\n",
    "\n",
    "tabla_faltantes\n"
   ]
  },
  {
   "cell_type": "markdown",
   "metadata": {
    "id": "Xkl32fJJHGeH"
   },
   "source": [
    "***Como son variables categoricas pero estan expresadas en formato numerico, las vamos a cambiar de tipo de variables***"
   ]
  },
  {
   "cell_type": "code",
   "execution_count": 57,
   "metadata": {
    "id": "3Gqwa1OSHGeI"
   },
   "outputs": [],
   "source": [
    "columnas_numericas = [\"GrupoArticulos\", \"codGrupoMaterial2\", \"codGrupoMaterial4\", \"codGrupoMaterial5\"]\n",
    "\n",
    "df_clean[columnas_numericas] = df_clean[columnas_numericas].astype('category')"
   ]
  },
  {
   "cell_type": "markdown",
   "metadata": {
    "id": "03fpO1EBHGeM"
   },
   "source": [
    "***Vamos a hacer un analisis de correlacion de las variables categoricas con el Coeficiente de Correlación de Cramer's V el cual es una medida común de correlación para variables categóricas***"
   ]
  },
  {
   "cell_type": "code",
   "execution_count": 58,
   "metadata": {
    "colab": {
     "base_uri": "https://localhost:8080/"
    },
    "id": "fDHlZiEYHGeN",
    "outputId": "150a8a32-da0c-4a2a-cbd6-d9d5a0b82179"
   },
   "outputs": [
    {
     "name": "stdout",
     "output_type": "stream",
     "text": [
      "Correlación entre codGrupoMaterial2 y GrupoArticulos: 0.9999931145362467\n",
      "Correlación entre codGrupoMaterial4 y GrupoArticulos: 0.9998814873951446\n",
      "Correlación entre codGrupoMaterial5 y GrupoArticulos: 0.9996756163204402\n",
      "Correlación entre codGrupoMaterial2 y CodGrupoArt: 0.999994878452883\n",
      "Correlación entre codGrupoMaterial4 y CodGrupoArt: 0.9999118593273153\n",
      "Correlación entre codGrupoMaterial5 y CodGrupoArt: 0.9997587544270572\n",
      "Correlación entre CodGrupoArt y GrupoArticulos: 0.9999681307273394\n"
     ]
    }
   ],
   "source": [
    "def cramers_v(x, y):\n",
    "    confusion_matrix = pd.crosstab(x, y)\n",
    "    chi2 = chi2_contingency(confusion_matrix)[0]\n",
    "    n = confusion_matrix.sum().sum()\n",
    "    phi2 = chi2 / n\n",
    "    r, k = confusion_matrix.shape\n",
    "    phi2corr = max(0, phi2 - ((k - 1) * (r - 1)) / (n - 1))\n",
    "    rcorr = r - ((r - 1) ** 2) / (n - 1)\n",
    "    kcorr = k - ((k - 1) ** 2) / (n - 1)\n",
    "    return np.sqrt(phi2corr / min((kcorr - 1), (rcorr - 1)))\n",
    "\n",
    "# Calcular el coeficiente de correlación de Cramer's V\n",
    "correlacion_1 = cramers_v(df_clean['codGrupoMaterial2'], df_clean['GrupoArticulos'])\n",
    "correlacion_2 = cramers_v(df_clean['codGrupoMaterial4'], df_clean['GrupoArticulos'])\n",
    "correlacion_3 = cramers_v(df_clean['codGrupoMaterial5'], df_clean['GrupoArticulos'])\n",
    "correlacion_4 = cramers_v(df_clean['codGrupoMaterial2'], df_clean['CodGrupoArt'])\n",
    "correlacion_5 = cramers_v(df_clean['codGrupoMaterial4'], df_clean['CodGrupoArt'])\n",
    "correlacion_6 = cramers_v(df_clean['codGrupoMaterial5'], df_clean['CodGrupoArt'])\n",
    "correlacion_7 = cramers_v(df_clean['GrupoArticulos'], df_clean['CodGrupoArt'])\n",
    "print(\"Correlación entre codGrupoMaterial2 y GrupoArticulos:\", correlacion_1)\n",
    "print(\"Correlación entre codGrupoMaterial4 y GrupoArticulos:\", correlacion_2)\n",
    "print(\"Correlación entre codGrupoMaterial5 y GrupoArticulos:\", correlacion_3)\n",
    "print(\"Correlación entre codGrupoMaterial2 y CodGrupoArt:\", correlacion_4)\n",
    "print(\"Correlación entre codGrupoMaterial4 y CodGrupoArt:\", correlacion_5)\n",
    "print(\"Correlación entre codGrupoMaterial5 y CodGrupoArt:\", correlacion_6)\n",
    "print(\"Correlación entre CodGrupoArt y GrupoArticulos:\", correlacion_7)"
   ]
  },
  {
   "cell_type": "markdown",
   "metadata": {
    "id": "Gljek6i5HGeQ"
   },
   "source": [
    "***Todas las variables tienen alta correlacion entre ellas, vamos a ver una prueba chi-cuadrado de independencia para terminar el analisis***"
   ]
  },
  {
   "cell_type": "code",
   "execution_count": 59,
   "metadata": {
    "colab": {
     "base_uri": "https://localhost:8080/"
    },
    "id": "RMjzZC9NHGeR",
    "outputId": "e675864f-88f3-4513-95d7-c60656cb2272"
   },
   "outputs": [
    {
     "name": "stdout",
     "output_type": "stream",
     "text": [
      "Valor p del test de chi-cuadrado: 0.0\n"
     ]
    }
   ],
   "source": [
    "# Crear tabla de contingencia entre CodGrupoArt y GrupoArticulos\n",
    "tabla_contingencia = pd.crosstab(df_clean['CodGrupoArt'], df_clean['GrupoArticulos'])\n",
    "\n",
    "# Realizar el test de chi-cuadrado\n",
    "chi2, p, dof, expected = chi2_contingency(tabla_contingencia)\n",
    "print(\"Valor p del test de chi-cuadrado:\", p)"
   ]
  },
  {
   "cell_type": "code",
   "execution_count": 60,
   "metadata": {
    "colab": {
     "base_uri": "https://localhost:8080/",
     "height": 579
    },
    "id": "VOAN8FxwHGeT",
    "outputId": "4d87bafd-b897-42e3-d713-39e5b648cfef"
   },
   "outputs": [
    {
     "data": {
      "text/html": [
       "<div>\n",
       "<style scoped>\n",
       "    .dataframe tbody tr th:only-of-type {\n",
       "        vertical-align: middle;\n",
       "    }\n",
       "\n",
       "    .dataframe tbody tr th {\n",
       "        vertical-align: top;\n",
       "    }\n",
       "\n",
       "    .dataframe thead th {\n",
       "        text-align: right;\n",
       "    }\n",
       "</style>\n",
       "<table border=\"1\" class=\"dataframe\">\n",
       "  <thead>\n",
       "    <tr style=\"text-align: right;\">\n",
       "      <th></th>\n",
       "      <th></th>\n",
       "      <th></th>\n",
       "      <th></th>\n",
       "      <th>0</th>\n",
       "    </tr>\n",
       "    <tr>\n",
       "      <th>CodMaterial</th>\n",
       "      <th>codGrupoMaterial2</th>\n",
       "      <th>codGrupoMaterial4</th>\n",
       "      <th>codGrupoMaterial5</th>\n",
       "      <th></th>\n",
       "    </tr>\n",
       "  </thead>\n",
       "  <tbody>\n",
       "    <tr>\n",
       "      <th rowspan=\"5\" valign=\"top\">7604</th>\n",
       "      <th rowspan=\"2\" valign=\"top\">15.0</th>\n",
       "      <th>128.0</th>\n",
       "      <th>276.0</th>\n",
       "      <td>12469</td>\n",
       "    </tr>\n",
       "    <tr>\n",
       "      <th>124.0</th>\n",
       "      <th>228.0</th>\n",
       "      <td>0</td>\n",
       "    </tr>\n",
       "    <tr>\n",
       "      <th rowspan=\"3\" valign=\"top\">26.0</th>\n",
       "      <th rowspan=\"3\" valign=\"top\">136.0</th>\n",
       "      <th>646.0</th>\n",
       "      <td>0</td>\n",
       "    </tr>\n",
       "    <tr>\n",
       "      <th>279.0</th>\n",
       "      <td>0</td>\n",
       "    </tr>\n",
       "    <tr>\n",
       "      <th>280.0</th>\n",
       "      <td>0</td>\n",
       "    </tr>\n",
       "    <tr>\n",
       "      <th>...</th>\n",
       "      <th>...</th>\n",
       "      <th>...</th>\n",
       "      <th>...</th>\n",
       "      <td>...</td>\n",
       "    </tr>\n",
       "    <tr>\n",
       "      <th rowspan=\"5\" valign=\"top\">480902</th>\n",
       "      <th rowspan=\"4\" valign=\"top\">26.0</th>\n",
       "      <th rowspan=\"4\" valign=\"top\">140.0</th>\n",
       "      <th>673.0</th>\n",
       "      <td>0</td>\n",
       "    </tr>\n",
       "    <tr>\n",
       "      <th>674.0</th>\n",
       "      <td>0</td>\n",
       "    </tr>\n",
       "    <tr>\n",
       "      <th>675.0</th>\n",
       "      <td>0</td>\n",
       "    </tr>\n",
       "    <tr>\n",
       "      <th>676.0</th>\n",
       "      <td>0</td>\n",
       "    </tr>\n",
       "    <tr>\n",
       "      <th>27.0</th>\n",
       "      <th>333.0</th>\n",
       "      <th>683.0</th>\n",
       "      <td>0</td>\n",
       "    </tr>\n",
       "  </tbody>\n",
       "</table>\n",
       "<p>605556 rows × 1 columns</p>\n",
       "</div>"
      ],
      "text/plain": [
       "                                                                       0\n",
       "CodMaterial codGrupoMaterial2 codGrupoMaterial4 codGrupoMaterial5       \n",
       "7604        15.0              128.0             276.0              12469\n",
       "                              124.0             228.0                  0\n",
       "            26.0              136.0             646.0                  0\n",
       "                                                279.0                  0\n",
       "                                                280.0                  0\n",
       "...                                                                  ...\n",
       "480902      26.0              140.0             673.0                  0\n",
       "                                                674.0                  0\n",
       "                                                675.0                  0\n",
       "                                                676.0                  0\n",
       "            27.0              333.0             683.0                  0\n",
       "\n",
       "[605556 rows x 1 columns]"
      ]
     },
     "execution_count": 60,
     "metadata": {},
     "output_type": "execute_result"
    }
   ],
   "source": [
    "df_clean.groupby(['CodMaterial'])[['codGrupoMaterial2', 'codGrupoMaterial4', 'codGrupoMaterial5']].value_counts().to_frame()"
   ]
  },
  {
   "cell_type": "markdown",
   "metadata": {
    "id": "kPsmYQQ4HGeW"
   },
   "source": [
    "***Podemos ver que hay una fuerte relacion entre estas variables, por lo que no son independientes una de otra. Veremos ahora cuales son los valores unicos que toma cada uno de las columnas y determinar si se puede hacer algun tipo de reemplazo a los NaN***"
   ]
  },
  {
   "cell_type": "code",
   "execution_count": 61,
   "metadata": {
    "colab": {
     "base_uri": "https://localhost:8080/",
     "height": 175
    },
    "id": "xUMyb7IVHGeY",
    "outputId": "92bbca6e-19ca-4d26-d348-2d04953c7c85"
   },
   "outputs": [
    {
     "data": {
      "text/html": [
       "<div>\n",
       "<style scoped>\n",
       "    .dataframe tbody tr th:only-of-type {\n",
       "        vertical-align: middle;\n",
       "    }\n",
       "\n",
       "    .dataframe tbody tr th {\n",
       "        vertical-align: top;\n",
       "    }\n",
       "\n",
       "    .dataframe thead th {\n",
       "        text-align: right;\n",
       "    }\n",
       "</style>\n",
       "<table border=\"1\" class=\"dataframe\">\n",
       "  <thead>\n",
       "    <tr style=\"text-align: right;\">\n",
       "      <th></th>\n",
       "      <th>CodGrupoArt</th>\n",
       "      <th>GrupoArticulos</th>\n",
       "    </tr>\n",
       "  </thead>\n",
       "  <tbody>\n",
       "    <tr>\n",
       "      <th>0</th>\n",
       "      <td>14.0</td>\n",
       "      <td>Corrosivos</td>\n",
       "    </tr>\n",
       "    <tr>\n",
       "      <th>1</th>\n",
       "      <td>11.0</td>\n",
       "      <td>Espesantes</td>\n",
       "    </tr>\n",
       "    <tr>\n",
       "      <th>12</th>\n",
       "      <td>11.0</td>\n",
       "      <td>NaN</td>\n",
       "    </tr>\n",
       "    <tr>\n",
       "      <th>929</th>\n",
       "      <td>14.0</td>\n",
       "      <td>NaN</td>\n",
       "    </tr>\n",
       "  </tbody>\n",
       "</table>\n",
       "</div>"
      ],
      "text/plain": [
       "     CodGrupoArt GrupoArticulos\n",
       "0           14.0     Corrosivos\n",
       "1           11.0     Espesantes\n",
       "12          11.0            NaN\n",
       "929         14.0            NaN"
      ]
     },
     "execution_count": 61,
     "metadata": {},
     "output_type": "execute_result"
    }
   ],
   "source": [
    "# Eliminar duplicados en las columnas \"CodGrupoArt\" y \"GrupoArticulos\"\n",
    "tabla_valores_unicos = df_clean[[\"CodGrupoArt\", \"GrupoArticulos\"]].drop_duplicates()\n",
    "\n",
    "# Mostrar la tabla con los valores únicos\n",
    "tabla_valores_unicos"
   ]
  },
  {
   "cell_type": "markdown",
   "metadata": {
    "id": "yeyuXPIKHGea"
   },
   "source": [
    "***En el caso de la variable GrupoArticulos podemos hacer una imputacion de los valores ya que sabemos que tomo dos valores \"Corrosivos\" o \"Espesantes\" y va acorde a si CodGrupoArt toma el valor \"11.0\" o \"14.0\", por lo que se puede completar con el siguiente condicional de forma muy facil. Sumado a esto, vimos como se correlaciones de forma positiva y cercana a 1, por lo que la relacion entre ellas es alta y por prueba chi-cuadrado no son independientes***"
   ]
  },
  {
   "cell_type": "code",
   "execution_count": 62,
   "metadata": {
    "id": "5tIPqfriHGed"
   },
   "outputs": [],
   "source": [
    "# Completar los NaN en la columna \"GrupoArticulos\" basado en los valores en \"CodGrupoArt\"\n",
    "df_clean_imputed = df_clean.copy()\n",
    "df_clean_imputed.loc[df_clean_imputed['CodGrupoArt'] == 11.0, 'GrupoArticulos'] = 'Espesantes'\n",
    "df_clean_imputed.loc[df_clean_imputed['CodGrupoArt'] == 14.0, 'GrupoArticulos'] = 'Corrosivos'\n"
   ]
  },
  {
   "cell_type": "markdown",
   "metadata": {
    "id": "9rhsUG4gHGee"
   },
   "source": [
    "***Nos queda resolver el caso de la variable codGrupoMaterial2, comenzamos el analisis viendo si tiene algun comportamiendo, tomando valores unicos o especificos con relacion a las otras columnas***"
   ]
  },
  {
   "cell_type": "code",
   "execution_count": 63,
   "metadata": {
    "colab": {
     "base_uri": "https://localhost:8080/",
     "height": 424
    },
    "id": "3i3mNATAHGef",
    "outputId": "b259a925-264e-41c0-81ed-68742cf060e9"
   },
   "outputs": [
    {
     "data": {
      "text/html": [
       "<div>\n",
       "<style scoped>\n",
       "    .dataframe tbody tr th:only-of-type {\n",
       "        vertical-align: middle;\n",
       "    }\n",
       "\n",
       "    .dataframe tbody tr th {\n",
       "        vertical-align: top;\n",
       "    }\n",
       "\n",
       "    .dataframe thead th {\n",
       "        text-align: right;\n",
       "    }\n",
       "</style>\n",
       "<table border=\"1\" class=\"dataframe\">\n",
       "  <thead>\n",
       "    <tr style=\"text-align: right;\">\n",
       "      <th></th>\n",
       "      <th>CodGrupoArt</th>\n",
       "      <th>GrupoArticulos</th>\n",
       "      <th>codGrupoMaterial2</th>\n",
       "      <th>codGrupoMaterial4</th>\n",
       "      <th>codGrupoMaterial5</th>\n",
       "    </tr>\n",
       "  </thead>\n",
       "  <tbody>\n",
       "    <tr>\n",
       "      <th>0</th>\n",
       "      <td>14.0</td>\n",
       "      <td>Corrosivos</td>\n",
       "      <td>27.0</td>\n",
       "      <td>284.0</td>\n",
       "      <td>674.0</td>\n",
       "    </tr>\n",
       "    <tr>\n",
       "      <th>1</th>\n",
       "      <td>11.0</td>\n",
       "      <td>Espesantes</td>\n",
       "      <td>15.0</td>\n",
       "      <td>139.0</td>\n",
       "      <td>291.0</td>\n",
       "    </tr>\n",
       "    <tr>\n",
       "      <th>11</th>\n",
       "      <td>11.0</td>\n",
       "      <td>Espesantes</td>\n",
       "      <td>NaN</td>\n",
       "      <td>139.0</td>\n",
       "      <td>291.0</td>\n",
       "    </tr>\n",
       "    <tr>\n",
       "      <th>22</th>\n",
       "      <td>11.0</td>\n",
       "      <td>Espesantes</td>\n",
       "      <td>15.0</td>\n",
       "      <td>128.0</td>\n",
       "      <td>276.0</td>\n",
       "    </tr>\n",
       "    <tr>\n",
       "      <th>29</th>\n",
       "      <td>11.0</td>\n",
       "      <td>Espesantes</td>\n",
       "      <td>NaN</td>\n",
       "      <td>128.0</td>\n",
       "      <td>276.0</td>\n",
       "    </tr>\n",
       "    <tr>\n",
       "      <th>...</th>\n",
       "      <td>...</td>\n",
       "      <td>...</td>\n",
       "      <td>...</td>\n",
       "      <td>...</td>\n",
       "      <td>...</td>\n",
       "    </tr>\n",
       "    <tr>\n",
       "      <th>71285</th>\n",
       "      <td>11.0</td>\n",
       "      <td>Espesantes</td>\n",
       "      <td>NaN</td>\n",
       "      <td>282.0</td>\n",
       "      <td>656.0</td>\n",
       "    </tr>\n",
       "    <tr>\n",
       "      <th>76529</th>\n",
       "      <td>11.0</td>\n",
       "      <td>Espesantes</td>\n",
       "      <td>NaN</td>\n",
       "      <td>283.0</td>\n",
       "      <td>667.0</td>\n",
       "    </tr>\n",
       "    <tr>\n",
       "      <th>82728</th>\n",
       "      <td>11.0</td>\n",
       "      <td>Espesantes</td>\n",
       "      <td>NaN</td>\n",
       "      <td>283.0</td>\n",
       "      <td>661.0</td>\n",
       "    </tr>\n",
       "    <tr>\n",
       "      <th>83241</th>\n",
       "      <td>11.0</td>\n",
       "      <td>Espesantes</td>\n",
       "      <td>26.0</td>\n",
       "      <td>174.0</td>\n",
       "      <td>231.0</td>\n",
       "    </tr>\n",
       "    <tr>\n",
       "      <th>87305</th>\n",
       "      <td>11.0</td>\n",
       "      <td>Espesantes</td>\n",
       "      <td>NaN</td>\n",
       "      <td>282.0</td>\n",
       "      <td>654.0</td>\n",
       "    </tr>\n",
       "  </tbody>\n",
       "</table>\n",
       "<p>107 rows × 5 columns</p>\n",
       "</div>"
      ],
      "text/plain": [
       "       CodGrupoArt GrupoArticulos codGrupoMaterial2 codGrupoMaterial4  \\\n",
       "0             14.0     Corrosivos              27.0             284.0   \n",
       "1             11.0     Espesantes              15.0             139.0   \n",
       "11            11.0     Espesantes               NaN             139.0   \n",
       "22            11.0     Espesantes              15.0             128.0   \n",
       "29            11.0     Espesantes               NaN             128.0   \n",
       "...            ...            ...               ...               ...   \n",
       "71285         11.0     Espesantes               NaN             282.0   \n",
       "76529         11.0     Espesantes               NaN             283.0   \n",
       "82728         11.0     Espesantes               NaN             283.0   \n",
       "83241         11.0     Espesantes              26.0             174.0   \n",
       "87305         11.0     Espesantes               NaN             282.0   \n",
       "\n",
       "      codGrupoMaterial5  \n",
       "0                 674.0  \n",
       "1                 291.0  \n",
       "11                291.0  \n",
       "22                276.0  \n",
       "29                276.0  \n",
       "...                 ...  \n",
       "71285             656.0  \n",
       "76529             667.0  \n",
       "82728             661.0  \n",
       "83241             231.0  \n",
       "87305             654.0  \n",
       "\n",
       "[107 rows x 5 columns]"
      ]
     },
     "execution_count": 63,
     "metadata": {},
     "output_type": "execute_result"
    }
   ],
   "source": [
    "# Eliminar duplicados en las columnas \"CodGrupoArt\" y \"GrupoArticulos\"\n",
    "tabla_valores_unicos = df_clean_imputed[[\"CodGrupoArt\", \"GrupoArticulos\", \"codGrupoMaterial2\", \"codGrupoMaterial4\", \"codGrupoMaterial5\" ]].drop_duplicates()\n",
    "\n",
    "# Mostrar la tabla con los valores únicos\n",
    "tabla_valores_unicos"
   ]
  },
  {
   "cell_type": "markdown",
   "metadata": {
    "id": "8X1Jt9YsHGek"
   },
   "source": [
    "***Tomamos especificamente la columna Tipo_Precio, que mantiene una alta correlacion con la variable en cuestion y justo toma valores unicos para cada valor de los datos que se tienen de codGrupoMaterial2, por lo que asumimos que para el resto de los datos se cumple la misma condicion***"
   ]
  },
  {
   "cell_type": "code",
   "execution_count": 64,
   "metadata": {
    "colab": {
     "base_uri": "https://localhost:8080/",
     "height": 237
    },
    "id": "e3zjsMTCHGer",
    "outputId": "76dbb548-9ea4-44f6-b080-4cd8060df553"
   },
   "outputs": [
    {
     "data": {
      "text/html": [
       "<div>\n",
       "<style scoped>\n",
       "    .dataframe tbody tr th:only-of-type {\n",
       "        vertical-align: middle;\n",
       "    }\n",
       "\n",
       "    .dataframe tbody tr th {\n",
       "        vertical-align: top;\n",
       "    }\n",
       "\n",
       "    .dataframe thead th {\n",
       "        text-align: right;\n",
       "    }\n",
       "</style>\n",
       "<table border=\"1\" class=\"dataframe\">\n",
       "  <thead>\n",
       "    <tr style=\"text-align: right;\">\n",
       "      <th></th>\n",
       "      <th>codGrupoMaterial2</th>\n",
       "      <th>Tipo_Precio</th>\n",
       "    </tr>\n",
       "  </thead>\n",
       "  <tbody>\n",
       "    <tr>\n",
       "      <th>0</th>\n",
       "      <td>27.0</td>\n",
       "      <td>10.0</td>\n",
       "    </tr>\n",
       "    <tr>\n",
       "      <th>1</th>\n",
       "      <td>15.0</td>\n",
       "      <td>1.0</td>\n",
       "    </tr>\n",
       "    <tr>\n",
       "      <th>11</th>\n",
       "      <td>NaN</td>\n",
       "      <td>1.0</td>\n",
       "    </tr>\n",
       "    <tr>\n",
       "      <th>939</th>\n",
       "      <td>NaN</td>\n",
       "      <td>10.0</td>\n",
       "    </tr>\n",
       "    <tr>\n",
       "      <th>3459</th>\n",
       "      <td>26.0</td>\n",
       "      <td>9.0</td>\n",
       "    </tr>\n",
       "    <tr>\n",
       "      <th>8874</th>\n",
       "      <td>NaN</td>\n",
       "      <td>9.0</td>\n",
       "    </tr>\n",
       "  </tbody>\n",
       "</table>\n",
       "</div>"
      ],
      "text/plain": [
       "     codGrupoMaterial2  Tipo_Precio\n",
       "0                 27.0         10.0\n",
       "1                 15.0          1.0\n",
       "11                 NaN          1.0\n",
       "939                NaN         10.0\n",
       "3459              26.0          9.0\n",
       "8874               NaN          9.0"
      ]
     },
     "execution_count": 64,
     "metadata": {},
     "output_type": "execute_result"
    }
   ],
   "source": [
    "tabla_valores_unicos_2 = df_clean_imputed[['codGrupoMaterial2', 'Tipo_Precio']].drop_duplicates()\n",
    "tabla_valores_unicos_2"
   ]
  },
  {
   "cell_type": "code",
   "execution_count": 65,
   "metadata": {
    "id": "gi323kzpHGeu"
   },
   "outputs": [],
   "source": [
    "mapping = {\n",
    "    10.0: 27.0,\n",
    "    1.0: 15.0,\n",
    "    9.0: 26.0,\n",
    "}\n",
    "\n",
    "df_clean_imputed['codGrupoMaterial2'] = df_clean_imputed['Tipo_Precio'].map(mapping)"
   ]
  },
  {
   "cell_type": "code",
   "execution_count": 66,
   "metadata": {
    "colab": {
     "base_uri": "https://localhost:8080/",
     "height": 661
    },
    "id": "hy7TSSlJHGez",
    "outputId": "2edd6c43-60b6-43ff-b4fe-1182c8495254"
   },
   "outputs": [
    {
     "data": {
      "text/html": [
       "<div>\n",
       "<style scoped>\n",
       "    .dataframe tbody tr th:only-of-type {\n",
       "        vertical-align: middle;\n",
       "    }\n",
       "\n",
       "    .dataframe tbody tr th {\n",
       "        vertical-align: top;\n",
       "    }\n",
       "\n",
       "    .dataframe thead th {\n",
       "        text-align: right;\n",
       "    }\n",
       "</style>\n",
       "<table border=\"1\" class=\"dataframe\">\n",
       "  <thead>\n",
       "    <tr style=\"text-align: right;\">\n",
       "      <th></th>\n",
       "      <th>Periodo</th>\n",
       "      <th>Fecha</th>\n",
       "      <th>FechaPedido</th>\n",
       "      <th>PosPedido</th>\n",
       "      <th>CodMaterial</th>\n",
       "      <th>Cantidad</th>\n",
       "      <th>CodGrupoArt</th>\n",
       "      <th>GrupoArticulos</th>\n",
       "      <th>codGrupoMaterial2</th>\n",
       "      <th>codGrupoMaterial4</th>\n",
       "      <th>...</th>\n",
       "      <th>Tipo_Precio</th>\n",
       "      <th>Departamento</th>\n",
       "      <th>Localidad</th>\n",
       "      <th>Provincia</th>\n",
       "      <th>Pais</th>\n",
       "      <th>CodCliente_of</th>\n",
       "      <th>CodSucCliente_of</th>\n",
       "      <th>NroDocPedido</th>\n",
       "      <th>Año</th>\n",
       "      <th>Mes</th>\n",
       "    </tr>\n",
       "  </thead>\n",
       "  <tbody>\n",
       "    <tr>\n",
       "      <th>0</th>\n",
       "      <td>202111.0</td>\n",
       "      <td>2021-11-01</td>\n",
       "      <td>2021-11-01</td>\n",
       "      <td>10.0</td>\n",
       "      <td>81074</td>\n",
       "      <td>480</td>\n",
       "      <td>14.0</td>\n",
       "      <td>Corrosivos</td>\n",
       "      <td>27.0</td>\n",
       "      <td>284.0</td>\n",
       "      <td>...</td>\n",
       "      <td>10.0</td>\n",
       "      <td>LOMAS DE ZAMORA</td>\n",
       "      <td>TEMPERLEY</td>\n",
       "      <td>Buenos Aires</td>\n",
       "      <td>AR</td>\n",
       "      <td>1</td>\n",
       "      <td>1</td>\n",
       "      <td>514585.0</td>\n",
       "      <td>2021</td>\n",
       "      <td>11</td>\n",
       "    </tr>\n",
       "    <tr>\n",
       "      <th>1</th>\n",
       "      <td>201802.0</td>\n",
       "      <td>2018-02-01</td>\n",
       "      <td>2018-02-15</td>\n",
       "      <td>930.0</td>\n",
       "      <td>8051</td>\n",
       "      <td>24</td>\n",
       "      <td>11.0</td>\n",
       "      <td>Espesantes</td>\n",
       "      <td>15.0</td>\n",
       "      <td>139.0</td>\n",
       "      <td>...</td>\n",
       "      <td>1.0</td>\n",
       "      <td>TERCERO ARRIBA</td>\n",
       "      <td>OLIVA</td>\n",
       "      <td>Córdoba</td>\n",
       "      <td>AR</td>\n",
       "      <td>2</td>\n",
       "      <td>2</td>\n",
       "      <td>232161.0</td>\n",
       "      <td>2018</td>\n",
       "      <td>2</td>\n",
       "    </tr>\n",
       "    <tr>\n",
       "      <th>2</th>\n",
       "      <td>201808.0</td>\n",
       "      <td>2018-08-01</td>\n",
       "      <td>2018-08-15</td>\n",
       "      <td>130.0</td>\n",
       "      <td>8051</td>\n",
       "      <td>24</td>\n",
       "      <td>11.0</td>\n",
       "      <td>Espesantes</td>\n",
       "      <td>15.0</td>\n",
       "      <td>139.0</td>\n",
       "      <td>...</td>\n",
       "      <td>1.0</td>\n",
       "      <td>TERCERO ARRIBA</td>\n",
       "      <td>OLIVA</td>\n",
       "      <td>Córdoba</td>\n",
       "      <td>AR</td>\n",
       "      <td>2</td>\n",
       "      <td>2</td>\n",
       "      <td>260497.0</td>\n",
       "      <td>2018</td>\n",
       "      <td>8</td>\n",
       "    </tr>\n",
       "    <tr>\n",
       "      <th>3</th>\n",
       "      <td>201811.0</td>\n",
       "      <td>2018-11-01</td>\n",
       "      <td>2018-11-16</td>\n",
       "      <td>790.0</td>\n",
       "      <td>8051</td>\n",
       "      <td>24</td>\n",
       "      <td>11.0</td>\n",
       "      <td>Espesantes</td>\n",
       "      <td>15.0</td>\n",
       "      <td>139.0</td>\n",
       "      <td>...</td>\n",
       "      <td>1.0</td>\n",
       "      <td>TERCERO ARRIBA</td>\n",
       "      <td>OLIVA</td>\n",
       "      <td>Córdoba</td>\n",
       "      <td>AR</td>\n",
       "      <td>2</td>\n",
       "      <td>2</td>\n",
       "      <td>281670.0</td>\n",
       "      <td>2018</td>\n",
       "      <td>11</td>\n",
       "    </tr>\n",
       "    <tr>\n",
       "      <th>4</th>\n",
       "      <td>201901.0</td>\n",
       "      <td>2019-01-01</td>\n",
       "      <td>2019-01-21</td>\n",
       "      <td>790.0</td>\n",
       "      <td>8051</td>\n",
       "      <td>-24</td>\n",
       "      <td>11.0</td>\n",
       "      <td>Espesantes</td>\n",
       "      <td>15.0</td>\n",
       "      <td>139.0</td>\n",
       "      <td>...</td>\n",
       "      <td>1.0</td>\n",
       "      <td>TERCERO ARRIBA</td>\n",
       "      <td>OLIVA</td>\n",
       "      <td>Córdoba</td>\n",
       "      <td>AR</td>\n",
       "      <td>2</td>\n",
       "      <td>2</td>\n",
       "      <td>281670.0</td>\n",
       "      <td>2019</td>\n",
       "      <td>1</td>\n",
       "    </tr>\n",
       "    <tr>\n",
       "      <th>...</th>\n",
       "      <td>...</td>\n",
       "      <td>...</td>\n",
       "      <td>...</td>\n",
       "      <td>...</td>\n",
       "      <td>...</td>\n",
       "      <td>...</td>\n",
       "      <td>...</td>\n",
       "      <td>...</td>\n",
       "      <td>...</td>\n",
       "      <td>...</td>\n",
       "      <td>...</td>\n",
       "      <td>...</td>\n",
       "      <td>...</td>\n",
       "      <td>...</td>\n",
       "      <td>...</td>\n",
       "      <td>...</td>\n",
       "      <td>...</td>\n",
       "      <td>...</td>\n",
       "      <td>...</td>\n",
       "      <td>...</td>\n",
       "      <td>...</td>\n",
       "    </tr>\n",
       "    <tr>\n",
       "      <th>107784</th>\n",
       "      <td>202106.0</td>\n",
       "      <td>2021-06-01</td>\n",
       "      <td>2021-06-11</td>\n",
       "      <td>20.0</td>\n",
       "      <td>45115</td>\n",
       "      <td>6</td>\n",
       "      <td>11.0</td>\n",
       "      <td>Espesantes</td>\n",
       "      <td>26.0</td>\n",
       "      <td>124.0</td>\n",
       "      <td>...</td>\n",
       "      <td>9.0</td>\n",
       "      <td>ROSARIO</td>\n",
       "      <td>ROSARIO</td>\n",
       "      <td>Santa Fé</td>\n",
       "      <td>AR</td>\n",
       "      <td>1670</td>\n",
       "      <td>2243</td>\n",
       "      <td>479785.0</td>\n",
       "      <td>2021</td>\n",
       "      <td>6</td>\n",
       "    </tr>\n",
       "    <tr>\n",
       "      <th>107785</th>\n",
       "      <td>202106.0</td>\n",
       "      <td>2021-06-01</td>\n",
       "      <td>2021-06-24</td>\n",
       "      <td>10.0</td>\n",
       "      <td>45114</td>\n",
       "      <td>24</td>\n",
       "      <td>11.0</td>\n",
       "      <td>Espesantes</td>\n",
       "      <td>26.0</td>\n",
       "      <td>124.0</td>\n",
       "      <td>...</td>\n",
       "      <td>9.0</td>\n",
       "      <td>QUILMES</td>\n",
       "      <td>BERNAL OESTE</td>\n",
       "      <td>Buenos Aires</td>\n",
       "      <td>AR</td>\n",
       "      <td>1671</td>\n",
       "      <td>2244</td>\n",
       "      <td>481967.0</td>\n",
       "      <td>2021</td>\n",
       "      <td>6</td>\n",
       "    </tr>\n",
       "    <tr>\n",
       "      <th>107786</th>\n",
       "      <td>202108.0</td>\n",
       "      <td>2021-08-01</td>\n",
       "      <td>2021-08-04</td>\n",
       "      <td>10.0</td>\n",
       "      <td>45114</td>\n",
       "      <td>24</td>\n",
       "      <td>11.0</td>\n",
       "      <td>Espesantes</td>\n",
       "      <td>26.0</td>\n",
       "      <td>124.0</td>\n",
       "      <td>...</td>\n",
       "      <td>9.0</td>\n",
       "      <td>QUILMES</td>\n",
       "      <td>BERNAL OESTE</td>\n",
       "      <td>Buenos Aires</td>\n",
       "      <td>AR</td>\n",
       "      <td>1671</td>\n",
       "      <td>2244</td>\n",
       "      <td>491293.0</td>\n",
       "      <td>2021</td>\n",
       "      <td>8</td>\n",
       "    </tr>\n",
       "    <tr>\n",
       "      <th>107787</th>\n",
       "      <td>202106.0</td>\n",
       "      <td>2021-06-01</td>\n",
       "      <td>2021-06-24</td>\n",
       "      <td>20.0</td>\n",
       "      <td>45115</td>\n",
       "      <td>12</td>\n",
       "      <td>11.0</td>\n",
       "      <td>Espesantes</td>\n",
       "      <td>26.0</td>\n",
       "      <td>124.0</td>\n",
       "      <td>...</td>\n",
       "      <td>9.0</td>\n",
       "      <td>QUILMES</td>\n",
       "      <td>BERNAL OESTE</td>\n",
       "      <td>Buenos Aires</td>\n",
       "      <td>AR</td>\n",
       "      <td>1671</td>\n",
       "      <td>2244</td>\n",
       "      <td>481967.0</td>\n",
       "      <td>2021</td>\n",
       "      <td>6</td>\n",
       "    </tr>\n",
       "    <tr>\n",
       "      <th>107788</th>\n",
       "      <td>202108.0</td>\n",
       "      <td>2021-08-01</td>\n",
       "      <td>2021-08-04</td>\n",
       "      <td>20.0</td>\n",
       "      <td>45115</td>\n",
       "      <td>12</td>\n",
       "      <td>11.0</td>\n",
       "      <td>Espesantes</td>\n",
       "      <td>26.0</td>\n",
       "      <td>124.0</td>\n",
       "      <td>...</td>\n",
       "      <td>9.0</td>\n",
       "      <td>QUILMES</td>\n",
       "      <td>BERNAL OESTE</td>\n",
       "      <td>Buenos Aires</td>\n",
       "      <td>AR</td>\n",
       "      <td>1671</td>\n",
       "      <td>2244</td>\n",
       "      <td>491293.0</td>\n",
       "      <td>2021</td>\n",
       "      <td>8</td>\n",
       "    </tr>\n",
       "  </tbody>\n",
       "</table>\n",
       "<p>107789 rows × 21 columns</p>\n",
       "</div>"
      ],
      "text/plain": [
       "         Periodo      Fecha FechaPedido  PosPedido  CodMaterial  Cantidad  \\\n",
       "0       202111.0 2021-11-01  2021-11-01       10.0        81074       480   \n",
       "1       201802.0 2018-02-01  2018-02-15      930.0         8051        24   \n",
       "2       201808.0 2018-08-01  2018-08-15      130.0         8051        24   \n",
       "3       201811.0 2018-11-01  2018-11-16      790.0         8051        24   \n",
       "4       201901.0 2019-01-01  2019-01-21      790.0         8051       -24   \n",
       "...          ...        ...         ...        ...          ...       ...   \n",
       "107784  202106.0 2021-06-01  2021-06-11       20.0        45115         6   \n",
       "107785  202106.0 2021-06-01  2021-06-24       10.0        45114        24   \n",
       "107786  202108.0 2021-08-01  2021-08-04       10.0        45114        24   \n",
       "107787  202106.0 2021-06-01  2021-06-24       20.0        45115        12   \n",
       "107788  202108.0 2021-08-01  2021-08-04       20.0        45115        12   \n",
       "\n",
       "        CodGrupoArt GrupoArticulos  codGrupoMaterial2 codGrupoMaterial4  ...  \\\n",
       "0              14.0     Corrosivos               27.0             284.0  ...   \n",
       "1              11.0     Espesantes               15.0             139.0  ...   \n",
       "2              11.0     Espesantes               15.0             139.0  ...   \n",
       "3              11.0     Espesantes               15.0             139.0  ...   \n",
       "4              11.0     Espesantes               15.0             139.0  ...   \n",
       "...             ...            ...                ...               ...  ...   \n",
       "107784         11.0     Espesantes               26.0             124.0  ...   \n",
       "107785         11.0     Espesantes               26.0             124.0  ...   \n",
       "107786         11.0     Espesantes               26.0             124.0  ...   \n",
       "107787         11.0     Espesantes               26.0             124.0  ...   \n",
       "107788         11.0     Espesantes               26.0             124.0  ...   \n",
       "\n",
       "       Tipo_Precio     Departamento     Localidad     Provincia Pais  \\\n",
       "0             10.0  LOMAS DE ZAMORA     TEMPERLEY  Buenos Aires   AR   \n",
       "1              1.0   TERCERO ARRIBA         OLIVA       Córdoba   AR   \n",
       "2              1.0   TERCERO ARRIBA         OLIVA       Córdoba   AR   \n",
       "3              1.0   TERCERO ARRIBA         OLIVA       Córdoba   AR   \n",
       "4              1.0   TERCERO ARRIBA         OLIVA       Córdoba   AR   \n",
       "...            ...              ...           ...           ...  ...   \n",
       "107784         9.0          ROSARIO       ROSARIO      Santa Fé   AR   \n",
       "107785         9.0          QUILMES  BERNAL OESTE  Buenos Aires   AR   \n",
       "107786         9.0          QUILMES  BERNAL OESTE  Buenos Aires   AR   \n",
       "107787         9.0          QUILMES  BERNAL OESTE  Buenos Aires   AR   \n",
       "107788         9.0          QUILMES  BERNAL OESTE  Buenos Aires   AR   \n",
       "\n",
       "       CodCliente_of  CodSucCliente_of  NroDocPedido   Año  Mes  \n",
       "0                  1                 1      514585.0  2021   11  \n",
       "1                  2                 2      232161.0  2018    2  \n",
       "2                  2                 2      260497.0  2018    8  \n",
       "3                  2                 2      281670.0  2018   11  \n",
       "4                  2                 2      281670.0  2019    1  \n",
       "...              ...               ...           ...   ...  ...  \n",
       "107784          1670              2243      479785.0  2021    6  \n",
       "107785          1671              2244      481967.0  2021    6  \n",
       "107786          1671              2244      491293.0  2021    8  \n",
       "107787          1671              2244      481967.0  2021    6  \n",
       "107788          1671              2244      491293.0  2021    8  \n",
       "\n",
       "[107789 rows x 21 columns]"
      ]
     },
     "execution_count": 66,
     "metadata": {},
     "output_type": "execute_result"
    }
   ],
   "source": [
    "df_clean_imputed"
   ]
  },
  {
   "cell_type": "markdown",
   "metadata": {
    "id": "-uOzvQBPHGe0"
   },
   "source": [
    "***Controlamos que no tengamos datos faltantes y vemos que se siga respetando los valores para cada Tipo_Precio***"
   ]
  },
  {
   "cell_type": "code",
   "execution_count": 67,
   "metadata": {
    "colab": {
     "base_uri": "https://localhost:8080/",
     "height": 708
    },
    "id": "gEwibda0HGe1",
    "outputId": "7b87351a-1db0-4c53-da3e-1dffc505bd40"
   },
   "outputs": [
    {
     "data": {
      "text/html": [
       "<div>\n",
       "<style scoped>\n",
       "    .dataframe tbody tr th:only-of-type {\n",
       "        vertical-align: middle;\n",
       "    }\n",
       "\n",
       "    .dataframe tbody tr th {\n",
       "        vertical-align: top;\n",
       "    }\n",
       "\n",
       "    .dataframe thead th {\n",
       "        text-align: right;\n",
       "    }\n",
       "</style>\n",
       "<table border=\"1\" class=\"dataframe\">\n",
       "  <thead>\n",
       "    <tr style=\"text-align: right;\">\n",
       "      <th></th>\n",
       "      <th>Cantidad Faltantes</th>\n",
       "      <th>Porcentaje Faltantes</th>\n",
       "    </tr>\n",
       "  </thead>\n",
       "  <tbody>\n",
       "    <tr>\n",
       "      <th>Periodo</th>\n",
       "      <td>0</td>\n",
       "      <td>0.0</td>\n",
       "    </tr>\n",
       "    <tr>\n",
       "      <th>Fecha</th>\n",
       "      <td>0</td>\n",
       "      <td>0.0</td>\n",
       "    </tr>\n",
       "    <tr>\n",
       "      <th>FechaPedido</th>\n",
       "      <td>0</td>\n",
       "      <td>0.0</td>\n",
       "    </tr>\n",
       "    <tr>\n",
       "      <th>PosPedido</th>\n",
       "      <td>0</td>\n",
       "      <td>0.0</td>\n",
       "    </tr>\n",
       "    <tr>\n",
       "      <th>CodMaterial</th>\n",
       "      <td>0</td>\n",
       "      <td>0.0</td>\n",
       "    </tr>\n",
       "    <tr>\n",
       "      <th>Cantidad</th>\n",
       "      <td>0</td>\n",
       "      <td>0.0</td>\n",
       "    </tr>\n",
       "    <tr>\n",
       "      <th>CodGrupoArt</th>\n",
       "      <td>0</td>\n",
       "      <td>0.0</td>\n",
       "    </tr>\n",
       "    <tr>\n",
       "      <th>GrupoArticulos</th>\n",
       "      <td>0</td>\n",
       "      <td>0.0</td>\n",
       "    </tr>\n",
       "    <tr>\n",
       "      <th>codGrupoMaterial2</th>\n",
       "      <td>0</td>\n",
       "      <td>0.0</td>\n",
       "    </tr>\n",
       "    <tr>\n",
       "      <th>codGrupoMaterial4</th>\n",
       "      <td>0</td>\n",
       "      <td>0.0</td>\n",
       "    </tr>\n",
       "    <tr>\n",
       "      <th>codGrupoMaterial5</th>\n",
       "      <td>0</td>\n",
       "      <td>0.0</td>\n",
       "    </tr>\n",
       "    <tr>\n",
       "      <th>Tipo_Precio</th>\n",
       "      <td>0</td>\n",
       "      <td>0.0</td>\n",
       "    </tr>\n",
       "    <tr>\n",
       "      <th>Departamento</th>\n",
       "      <td>0</td>\n",
       "      <td>0.0</td>\n",
       "    </tr>\n",
       "    <tr>\n",
       "      <th>Localidad</th>\n",
       "      <td>0</td>\n",
       "      <td>0.0</td>\n",
       "    </tr>\n",
       "    <tr>\n",
       "      <th>Provincia</th>\n",
       "      <td>0</td>\n",
       "      <td>0.0</td>\n",
       "    </tr>\n",
       "    <tr>\n",
       "      <th>Pais</th>\n",
       "      <td>0</td>\n",
       "      <td>0.0</td>\n",
       "    </tr>\n",
       "    <tr>\n",
       "      <th>CodCliente_of</th>\n",
       "      <td>0</td>\n",
       "      <td>0.0</td>\n",
       "    </tr>\n",
       "    <tr>\n",
       "      <th>CodSucCliente_of</th>\n",
       "      <td>0</td>\n",
       "      <td>0.0</td>\n",
       "    </tr>\n",
       "    <tr>\n",
       "      <th>NroDocPedido</th>\n",
       "      <td>0</td>\n",
       "      <td>0.0</td>\n",
       "    </tr>\n",
       "    <tr>\n",
       "      <th>Año</th>\n",
       "      <td>0</td>\n",
       "      <td>0.0</td>\n",
       "    </tr>\n",
       "    <tr>\n",
       "      <th>Mes</th>\n",
       "      <td>0</td>\n",
       "      <td>0.0</td>\n",
       "    </tr>\n",
       "  </tbody>\n",
       "</table>\n",
       "</div>"
      ],
      "text/plain": [
       "                   Cantidad Faltantes  Porcentaje Faltantes\n",
       "Periodo                             0                   0.0\n",
       "Fecha                               0                   0.0\n",
       "FechaPedido                         0                   0.0\n",
       "PosPedido                           0                   0.0\n",
       "CodMaterial                         0                   0.0\n",
       "Cantidad                            0                   0.0\n",
       "CodGrupoArt                         0                   0.0\n",
       "GrupoArticulos                      0                   0.0\n",
       "codGrupoMaterial2                   0                   0.0\n",
       "codGrupoMaterial4                   0                   0.0\n",
       "codGrupoMaterial5                   0                   0.0\n",
       "Tipo_Precio                         0                   0.0\n",
       "Departamento                        0                   0.0\n",
       "Localidad                           0                   0.0\n",
       "Provincia                           0                   0.0\n",
       "Pais                                0                   0.0\n",
       "CodCliente_of                       0                   0.0\n",
       "CodSucCliente_of                    0                   0.0\n",
       "NroDocPedido                        0                   0.0\n",
       "Año                                 0                   0.0\n",
       "Mes                                 0                   0.0"
      ]
     },
     "execution_count": 67,
     "metadata": {},
     "output_type": "execute_result"
    }
   ],
   "source": [
    "# Calculamos el porcentaje de valores faltantes\n",
    "porcentaje_faltantes = (df_clean_imputed.isnull().sum() / len(df_clean_imputed)) * 100\n",
    "porcentaje_faltantes = porcentaje_faltantes.round(2)\n",
    "\n",
    "# Calculamos la cantidad de valores faltantes\n",
    "cantidad_faltantes = df_clean_imputed.isnull().sum()\n",
    "\n",
    "tabla_faltantes = pd.DataFrame({'Cantidad Faltantes': cantidad_faltantes, 'Porcentaje Faltantes': porcentaje_faltantes})\n",
    "\n",
    "tabla_faltantes"
   ]
  },
  {
   "cell_type": "code",
   "execution_count": 68,
   "metadata": {
    "colab": {
     "base_uri": "https://localhost:8080/",
     "height": 143
    },
    "id": "0MibvX2yHGe3",
    "outputId": "66241ebf-ee92-4219-aed4-777a6efea4af"
   },
   "outputs": [
    {
     "data": {
      "text/html": [
       "<div>\n",
       "<style scoped>\n",
       "    .dataframe tbody tr th:only-of-type {\n",
       "        vertical-align: middle;\n",
       "    }\n",
       "\n",
       "    .dataframe tbody tr th {\n",
       "        vertical-align: top;\n",
       "    }\n",
       "\n",
       "    .dataframe thead th {\n",
       "        text-align: right;\n",
       "    }\n",
       "</style>\n",
       "<table border=\"1\" class=\"dataframe\">\n",
       "  <thead>\n",
       "    <tr style=\"text-align: right;\">\n",
       "      <th></th>\n",
       "      <th>codGrupoMaterial2</th>\n",
       "      <th>Tipo_Precio</th>\n",
       "    </tr>\n",
       "  </thead>\n",
       "  <tbody>\n",
       "    <tr>\n",
       "      <th>0</th>\n",
       "      <td>27.0</td>\n",
       "      <td>10.0</td>\n",
       "    </tr>\n",
       "    <tr>\n",
       "      <th>1</th>\n",
       "      <td>15.0</td>\n",
       "      <td>1.0</td>\n",
       "    </tr>\n",
       "    <tr>\n",
       "      <th>3459</th>\n",
       "      <td>26.0</td>\n",
       "      <td>9.0</td>\n",
       "    </tr>\n",
       "  </tbody>\n",
       "</table>\n",
       "</div>"
      ],
      "text/plain": [
       "      codGrupoMaterial2  Tipo_Precio\n",
       "0                  27.0         10.0\n",
       "1                  15.0          1.0\n",
       "3459               26.0          9.0"
      ]
     },
     "execution_count": 68,
     "metadata": {},
     "output_type": "execute_result"
    }
   ],
   "source": [
    "tabla_valores_unicos_2 = df_clean_imputed[['codGrupoMaterial2', 'Tipo_Precio']].drop_duplicates()\n",
    "tabla_valores_unicos_2"
   ]
  },
  {
   "cell_type": "code",
   "execution_count": 69,
   "metadata": {},
   "outputs": [
    {
     "data": {
      "text/plain": [
       "Text(0.5, 1.0, 'Datos tratados')"
      ]
     },
     "execution_count": 69,
     "metadata": {},
     "output_type": "execute_result"
    },
    {
     "data": {
      "image/png": "[encoded data removed]",
      "text/plain": [
       "<Figure size 640x480 with 2 Axes>"
      ]
     },
     "metadata": {},
     "output_type": "display_data"
    }
   ],
   "source": [
    "df_plot = df_clean.copy()\n",
    "df_plot2 = df_clean_imputed.copy()\n",
    "\n",
    "df_plot['codGrupoMaterial2'] = df_plot['codGrupoMaterial2'].astype('object')\n",
    "df_plot2['codGrupoMaterial2'] = df_plot2['codGrupoMaterial2'].astype('object')\n",
    "\n",
    "\n",
    "fig, ax =plt.subplots(1,2)\n",
    "sns.kdeplot(df_plot, x='codGrupoMaterial2', ax=ax[0])\n",
    "ax[0].set_title('Datos originales')\n",
    "sns.kdeplot(df_plot2, x='codGrupoMaterial2', ax=ax[1])\n",
    "ax[1].set_title('Datos tratados')"
   ]
  },
  {
   "cell_type": "markdown",
   "metadata": {
    "id": "WYSFjVFVHGe5"
   },
   "source": [
    "\n",
    "### 5- Existe un método de imputación de datos, específico para series temporales, que se denomina Forward fill. ¿Creen que sería adecuado su uso en este dataset?.    \n"
   ]
  },
  {
   "cell_type": "markdown",
   "metadata": {
    "id": "ONCz8GVtHGe6"
   },
   "source": [
    "El método Forward Fill segun entendemos es una técnica de imputación de datos utilizada para llenar los valores faltantes en un conjunto de datos. Como dice la consigna, es especifico para cuando tenemos datos faltantes en una serie temporal. Lo que hace es copiar el último valor válido conocido y utilizarlo para llenar los valores faltantes hasta que se encuentre un nuevo valor válido.\n",
    "\n",
    "La idea detras segun vemos es que toma los valores cercanos en el tiempo o en el orden de observación. Por lo tanto, al llenar los valores faltantes con el último valor válido conocido, estamos asumiendo que los valores posteriores seguirán una tendencia o patrón similar.\n",
    "\n",
    "La aplicación del método Forward Fill implica iterar sobre los datos desde el principio hasta el final, y en cada paso, si encontramos un valor faltante, lo reemplazamos con el último valor válido conocido. Esto se repite hasta que se llega al final de los datos.\n",
    "\n",
    "Es importante destacar que el Forward Fill es adecuado para datos donde la información pasada o anterior tiene una influencia directa en los valores futuros. Sin embargo, también tiene limitaciones, ya que puede introducir cierto sesgo en los datos si la suposición de continuidad no es válida.\n",
    "\n",
    "No creemos que este meto pueda llegar a implementarse con los datos que tenemos, por un lado la columna de \"GrupoArticulos\" se puede completar tranquilamente con una condicion dado el valor de la columna \"CodGrupoArt\" y esto si lo completamos con este metodo de imputacion podria llegar a no corresponder el dato temporal con el verdadero valor, a continuacion lo ejecutamos para demostrarlo (lo mismo ocurre con el caso de codGrupoMaterial2)."
   ]
  },
  {
   "cell_type": "code",
   "execution_count": 70,
   "metadata": {
    "colab": {
     "base_uri": "https://localhost:8080/",
     "height": 661
    },
    "id": "cSU5eLEjHGe7",
    "outputId": "008aca46-1d93-4730-807d-17c341892b04"
   },
   "outputs": [
    {
     "data": {
      "text/html": [
       "<div>\n",
       "<style scoped>\n",
       "    .dataframe tbody tr th:only-of-type {\n",
       "        vertical-align: middle;\n",
       "    }\n",
       "\n",
       "    .dataframe tbody tr th {\n",
       "        vertical-align: top;\n",
       "    }\n",
       "\n",
       "    .dataframe thead th {\n",
       "        text-align: right;\n",
       "    }\n",
       "</style>\n",
       "<table border=\"1\" class=\"dataframe\">\n",
       "  <thead>\n",
       "    <tr style=\"text-align: right;\">\n",
       "      <th></th>\n",
       "      <th>Periodo</th>\n",
       "      <th>Fecha</th>\n",
       "      <th>FechaPedido</th>\n",
       "      <th>PosPedido</th>\n",
       "      <th>CodMaterial</th>\n",
       "      <th>Cantidad</th>\n",
       "      <th>CodGrupoArt</th>\n",
       "      <th>GrupoArticulos</th>\n",
       "      <th>codGrupoMaterial2</th>\n",
       "      <th>codGrupoMaterial4</th>\n",
       "      <th>...</th>\n",
       "      <th>Tipo_Precio</th>\n",
       "      <th>Departamento</th>\n",
       "      <th>Localidad</th>\n",
       "      <th>Provincia</th>\n",
       "      <th>Pais</th>\n",
       "      <th>CodCliente_of</th>\n",
       "      <th>CodSucCliente_of</th>\n",
       "      <th>NroDocPedido</th>\n",
       "      <th>Año</th>\n",
       "      <th>Mes</th>\n",
       "    </tr>\n",
       "  </thead>\n",
       "  <tbody>\n",
       "    <tr>\n",
       "      <th>0</th>\n",
       "      <td>202111.0</td>\n",
       "      <td>2021-11-01</td>\n",
       "      <td>2021-11-01</td>\n",
       "      <td>10.0</td>\n",
       "      <td>81074</td>\n",
       "      <td>480</td>\n",
       "      <td>14.0</td>\n",
       "      <td>Corrosivos</td>\n",
       "      <td>27.0</td>\n",
       "      <td>284.0</td>\n",
       "      <td>...</td>\n",
       "      <td>10.0</td>\n",
       "      <td>LOMAS DE ZAMORA</td>\n",
       "      <td>TEMPERLEY</td>\n",
       "      <td>Buenos Aires</td>\n",
       "      <td>AR</td>\n",
       "      <td>1</td>\n",
       "      <td>1</td>\n",
       "      <td>514585.0</td>\n",
       "      <td>2021</td>\n",
       "      <td>11</td>\n",
       "    </tr>\n",
       "    <tr>\n",
       "      <th>1</th>\n",
       "      <td>201802.0</td>\n",
       "      <td>2018-02-01</td>\n",
       "      <td>2018-02-15</td>\n",
       "      <td>930.0</td>\n",
       "      <td>8051</td>\n",
       "      <td>24</td>\n",
       "      <td>11.0</td>\n",
       "      <td>Espesantes</td>\n",
       "      <td>15.0</td>\n",
       "      <td>139.0</td>\n",
       "      <td>...</td>\n",
       "      <td>1.0</td>\n",
       "      <td>TERCERO ARRIBA</td>\n",
       "      <td>OLIVA</td>\n",
       "      <td>Córdoba</td>\n",
       "      <td>AR</td>\n",
       "      <td>2</td>\n",
       "      <td>2</td>\n",
       "      <td>232161.0</td>\n",
       "      <td>2018</td>\n",
       "      <td>2</td>\n",
       "    </tr>\n",
       "    <tr>\n",
       "      <th>2</th>\n",
       "      <td>201808.0</td>\n",
       "      <td>2018-08-01</td>\n",
       "      <td>2018-08-15</td>\n",
       "      <td>130.0</td>\n",
       "      <td>8051</td>\n",
       "      <td>24</td>\n",
       "      <td>11.0</td>\n",
       "      <td>Espesantes</td>\n",
       "      <td>15.0</td>\n",
       "      <td>139.0</td>\n",
       "      <td>...</td>\n",
       "      <td>1.0</td>\n",
       "      <td>TERCERO ARRIBA</td>\n",
       "      <td>OLIVA</td>\n",
       "      <td>Córdoba</td>\n",
       "      <td>AR</td>\n",
       "      <td>2</td>\n",
       "      <td>2</td>\n",
       "      <td>260497.0</td>\n",
       "      <td>2018</td>\n",
       "      <td>8</td>\n",
       "    </tr>\n",
       "    <tr>\n",
       "      <th>3</th>\n",
       "      <td>201811.0</td>\n",
       "      <td>2018-11-01</td>\n",
       "      <td>2018-11-16</td>\n",
       "      <td>790.0</td>\n",
       "      <td>8051</td>\n",
       "      <td>24</td>\n",
       "      <td>11.0</td>\n",
       "      <td>Espesantes</td>\n",
       "      <td>15.0</td>\n",
       "      <td>139.0</td>\n",
       "      <td>...</td>\n",
       "      <td>1.0</td>\n",
       "      <td>TERCERO ARRIBA</td>\n",
       "      <td>OLIVA</td>\n",
       "      <td>Córdoba</td>\n",
       "      <td>AR</td>\n",
       "      <td>2</td>\n",
       "      <td>2</td>\n",
       "      <td>281670.0</td>\n",
       "      <td>2018</td>\n",
       "      <td>11</td>\n",
       "    </tr>\n",
       "    <tr>\n",
       "      <th>4</th>\n",
       "      <td>201901.0</td>\n",
       "      <td>2019-01-01</td>\n",
       "      <td>2019-01-21</td>\n",
       "      <td>790.0</td>\n",
       "      <td>8051</td>\n",
       "      <td>-24</td>\n",
       "      <td>11.0</td>\n",
       "      <td>Espesantes</td>\n",
       "      <td>15.0</td>\n",
       "      <td>139.0</td>\n",
       "      <td>...</td>\n",
       "      <td>1.0</td>\n",
       "      <td>TERCERO ARRIBA</td>\n",
       "      <td>OLIVA</td>\n",
       "      <td>Córdoba</td>\n",
       "      <td>AR</td>\n",
       "      <td>2</td>\n",
       "      <td>2</td>\n",
       "      <td>281670.0</td>\n",
       "      <td>2019</td>\n",
       "      <td>1</td>\n",
       "    </tr>\n",
       "    <tr>\n",
       "      <th>...</th>\n",
       "      <td>...</td>\n",
       "      <td>...</td>\n",
       "      <td>...</td>\n",
       "      <td>...</td>\n",
       "      <td>...</td>\n",
       "      <td>...</td>\n",
       "      <td>...</td>\n",
       "      <td>...</td>\n",
       "      <td>...</td>\n",
       "      <td>...</td>\n",
       "      <td>...</td>\n",
       "      <td>...</td>\n",
       "      <td>...</td>\n",
       "      <td>...</td>\n",
       "      <td>...</td>\n",
       "      <td>...</td>\n",
       "      <td>...</td>\n",
       "      <td>...</td>\n",
       "      <td>...</td>\n",
       "      <td>...</td>\n",
       "      <td>...</td>\n",
       "    </tr>\n",
       "    <tr>\n",
       "      <th>107784</th>\n",
       "      <td>202106.0</td>\n",
       "      <td>2021-06-01</td>\n",
       "      <td>2021-06-11</td>\n",
       "      <td>20.0</td>\n",
       "      <td>45115</td>\n",
       "      <td>6</td>\n",
       "      <td>11.0</td>\n",
       "      <td>Espesantes</td>\n",
       "      <td>26.0</td>\n",
       "      <td>124.0</td>\n",
       "      <td>...</td>\n",
       "      <td>9.0</td>\n",
       "      <td>ROSARIO</td>\n",
       "      <td>ROSARIO</td>\n",
       "      <td>Santa Fé</td>\n",
       "      <td>AR</td>\n",
       "      <td>1670</td>\n",
       "      <td>2243</td>\n",
       "      <td>479785.0</td>\n",
       "      <td>2021</td>\n",
       "      <td>6</td>\n",
       "    </tr>\n",
       "    <tr>\n",
       "      <th>107785</th>\n",
       "      <td>202106.0</td>\n",
       "      <td>2021-06-01</td>\n",
       "      <td>2021-06-24</td>\n",
       "      <td>10.0</td>\n",
       "      <td>45114</td>\n",
       "      <td>24</td>\n",
       "      <td>11.0</td>\n",
       "      <td>Espesantes</td>\n",
       "      <td>26.0</td>\n",
       "      <td>124.0</td>\n",
       "      <td>...</td>\n",
       "      <td>9.0</td>\n",
       "      <td>QUILMES</td>\n",
       "      <td>BERNAL OESTE</td>\n",
       "      <td>Buenos Aires</td>\n",
       "      <td>AR</td>\n",
       "      <td>1671</td>\n",
       "      <td>2244</td>\n",
       "      <td>481967.0</td>\n",
       "      <td>2021</td>\n",
       "      <td>6</td>\n",
       "    </tr>\n",
       "    <tr>\n",
       "      <th>107786</th>\n",
       "      <td>202108.0</td>\n",
       "      <td>2021-08-01</td>\n",
       "      <td>2021-08-04</td>\n",
       "      <td>10.0</td>\n",
       "      <td>45114</td>\n",
       "      <td>24</td>\n",
       "      <td>11.0</td>\n",
       "      <td>Espesantes</td>\n",
       "      <td>26.0</td>\n",
       "      <td>124.0</td>\n",
       "      <td>...</td>\n",
       "      <td>9.0</td>\n",
       "      <td>QUILMES</td>\n",
       "      <td>BERNAL OESTE</td>\n",
       "      <td>Buenos Aires</td>\n",
       "      <td>AR</td>\n",
       "      <td>1671</td>\n",
       "      <td>2244</td>\n",
       "      <td>491293.0</td>\n",
       "      <td>2021</td>\n",
       "      <td>8</td>\n",
       "    </tr>\n",
       "    <tr>\n",
       "      <th>107787</th>\n",
       "      <td>202106.0</td>\n",
       "      <td>2021-06-01</td>\n",
       "      <td>2021-06-24</td>\n",
       "      <td>20.0</td>\n",
       "      <td>45115</td>\n",
       "      <td>12</td>\n",
       "      <td>11.0</td>\n",
       "      <td>Espesantes</td>\n",
       "      <td>26.0</td>\n",
       "      <td>124.0</td>\n",
       "      <td>...</td>\n",
       "      <td>9.0</td>\n",
       "      <td>QUILMES</td>\n",
       "      <td>BERNAL OESTE</td>\n",
       "      <td>Buenos Aires</td>\n",
       "      <td>AR</td>\n",
       "      <td>1671</td>\n",
       "      <td>2244</td>\n",
       "      <td>481967.0</td>\n",
       "      <td>2021</td>\n",
       "      <td>6</td>\n",
       "    </tr>\n",
       "    <tr>\n",
       "      <th>107788</th>\n",
       "      <td>202108.0</td>\n",
       "      <td>2021-08-01</td>\n",
       "      <td>2021-08-04</td>\n",
       "      <td>20.0</td>\n",
       "      <td>45115</td>\n",
       "      <td>12</td>\n",
       "      <td>11.0</td>\n",
       "      <td>Espesantes</td>\n",
       "      <td>26.0</td>\n",
       "      <td>124.0</td>\n",
       "      <td>...</td>\n",
       "      <td>9.0</td>\n",
       "      <td>QUILMES</td>\n",
       "      <td>BERNAL OESTE</td>\n",
       "      <td>Buenos Aires</td>\n",
       "      <td>AR</td>\n",
       "      <td>1671</td>\n",
       "      <td>2244</td>\n",
       "      <td>491293.0</td>\n",
       "      <td>2021</td>\n",
       "      <td>8</td>\n",
       "    </tr>\n",
       "  </tbody>\n",
       "</table>\n",
       "<p>107789 rows × 21 columns</p>\n",
       "</div>"
      ],
      "text/plain": [
       "         Periodo      Fecha FechaPedido  PosPedido  CodMaterial  Cantidad  \\\n",
       "0       202111.0 2021-11-01  2021-11-01       10.0        81074       480   \n",
       "1       201802.0 2018-02-01  2018-02-15      930.0         8051        24   \n",
       "2       201808.0 2018-08-01  2018-08-15      130.0         8051        24   \n",
       "3       201811.0 2018-11-01  2018-11-16      790.0         8051        24   \n",
       "4       201901.0 2019-01-01  2019-01-21      790.0         8051       -24   \n",
       "...          ...        ...         ...        ...          ...       ...   \n",
       "107784  202106.0 2021-06-01  2021-06-11       20.0        45115         6   \n",
       "107785  202106.0 2021-06-01  2021-06-24       10.0        45114        24   \n",
       "107786  202108.0 2021-08-01  2021-08-04       10.0        45114        24   \n",
       "107787  202106.0 2021-06-01  2021-06-24       20.0        45115        12   \n",
       "107788  202108.0 2021-08-01  2021-08-04       20.0        45115        12   \n",
       "\n",
       "        CodGrupoArt GrupoArticulos codGrupoMaterial2 codGrupoMaterial4  ...  \\\n",
       "0              14.0     Corrosivos              27.0             284.0  ...   \n",
       "1              11.0     Espesantes              15.0             139.0  ...   \n",
       "2              11.0     Espesantes              15.0             139.0  ...   \n",
       "3              11.0     Espesantes              15.0             139.0  ...   \n",
       "4              11.0     Espesantes              15.0             139.0  ...   \n",
       "...             ...            ...               ...               ...  ...   \n",
       "107784         11.0     Espesantes              26.0             124.0  ...   \n",
       "107785         11.0     Espesantes              26.0             124.0  ...   \n",
       "107786         11.0     Espesantes              26.0             124.0  ...   \n",
       "107787         11.0     Espesantes              26.0             124.0  ...   \n",
       "107788         11.0     Espesantes              26.0             124.0  ...   \n",
       "\n",
       "       Tipo_Precio     Departamento     Localidad     Provincia Pais  \\\n",
       "0             10.0  LOMAS DE ZAMORA     TEMPERLEY  Buenos Aires   AR   \n",
       "1              1.0   TERCERO ARRIBA         OLIVA       Córdoba   AR   \n",
       "2              1.0   TERCERO ARRIBA         OLIVA       Córdoba   AR   \n",
       "3              1.0   TERCERO ARRIBA         OLIVA       Córdoba   AR   \n",
       "4              1.0   TERCERO ARRIBA         OLIVA       Córdoba   AR   \n",
       "...            ...              ...           ...           ...  ...   \n",
       "107784         9.0          ROSARIO       ROSARIO      Santa Fé   AR   \n",
       "107785         9.0          QUILMES  BERNAL OESTE  Buenos Aires   AR   \n",
       "107786         9.0          QUILMES  BERNAL OESTE  Buenos Aires   AR   \n",
       "107787         9.0          QUILMES  BERNAL OESTE  Buenos Aires   AR   \n",
       "107788         9.0          QUILMES  BERNAL OESTE  Buenos Aires   AR   \n",
       "\n",
       "       CodCliente_of  CodSucCliente_of  NroDocPedido   Año  Mes  \n",
       "0                  1                 1      514585.0  2021   11  \n",
       "1                  2                 2      232161.0  2018    2  \n",
       "2                  2                 2      260497.0  2018    8  \n",
       "3                  2                 2      281670.0  2018   11  \n",
       "4                  2                 2      281670.0  2019    1  \n",
       "...              ...               ...           ...   ...  ...  \n",
       "107784          1670              2243      479785.0  2021    6  \n",
       "107785          1671              2244      481967.0  2021    6  \n",
       "107786          1671              2244      491293.0  2021    8  \n",
       "107787          1671              2244      481967.0  2021    6  \n",
       "107788          1671              2244      491293.0  2021    8  \n",
       "\n",
       "[107789 rows x 21 columns]"
      ]
     },
     "execution_count": 70,
     "metadata": {},
     "output_type": "execute_result"
    }
   ],
   "source": [
    "# Crear un nuevo DataFrame con la columna \"GrupoArticulos\" rellenada utilizando Forward Fill\n",
    "df_FF = df_clean.copy()\n",
    "df_FF['GrupoArticulos'] = df_FF['GrupoArticulos'].fillna(method='ffill')\n",
    "\n",
    "# Mostrar el nuevo DataFrame actualizado\n",
    "df_FF"
   ]
  },
  {
   "cell_type": "code",
   "execution_count": 71,
   "metadata": {
    "colab": {
     "base_uri": "https://localhost:8080/",
     "height": 112
    },
    "id": "WSvag7xLHGe9",
    "outputId": "b35c8872-1b7f-467e-ca8a-045dc29397a8"
   },
   "outputs": [
    {
     "data": {
      "text/html": [
       "<div>\n",
       "<style scoped>\n",
       "    .dataframe tbody tr th:only-of-type {\n",
       "        vertical-align: middle;\n",
       "    }\n",
       "\n",
       "    .dataframe tbody tr th {\n",
       "        vertical-align: top;\n",
       "    }\n",
       "\n",
       "    .dataframe thead th {\n",
       "        text-align: right;\n",
       "    }\n",
       "</style>\n",
       "<table border=\"1\" class=\"dataframe\">\n",
       "  <thead>\n",
       "    <tr style=\"text-align: right;\">\n",
       "      <th></th>\n",
       "      <th>CodGrupoArt</th>\n",
       "      <th>GrupoArticulos</th>\n",
       "    </tr>\n",
       "  </thead>\n",
       "  <tbody>\n",
       "    <tr>\n",
       "      <th>0</th>\n",
       "      <td>14.0</td>\n",
       "      <td>Corrosivos</td>\n",
       "    </tr>\n",
       "    <tr>\n",
       "      <th>1</th>\n",
       "      <td>11.0</td>\n",
       "      <td>Espesantes</td>\n",
       "    </tr>\n",
       "    <tr>\n",
       "      <th>929</th>\n",
       "      <td>14.0</td>\n",
       "      <td>Espesantes</td>\n",
       "    </tr>\n",
       "    <tr>\n",
       "      <th>1426</th>\n",
       "      <td>11.0</td>\n",
       "      <td>Corrosivos</td>\n",
       "    </tr>\n",
       "  </tbody>\n",
       "</table>\n",
       "</div>"
      ],
      "text/plain": [
       "      CodGrupoArt GrupoArticulos\n",
       "0            14.0     Corrosivos\n",
       "1            11.0     Espesantes\n",
       "929          14.0     Espesantes\n",
       "1426         11.0     Corrosivos"
      ]
     },
     "execution_count": 71,
     "metadata": {},
     "output_type": "execute_result"
    }
   ],
   "source": [
    "# Eliminar duplicados en las columnas \"CodGrupoArt\" y \"GrupoArticulos\"\n",
    "tabla_valores_unicos = df_FF [[\"CodGrupoArt\", \"GrupoArticulos\"]].drop_duplicates()\n",
    "\n",
    "tabla_valores_unicos"
   ]
  },
  {
   "cell_type": "markdown",
   "metadata": {},
   "source": [
    "</br>"
   ]
  },
  {
   "cell_type": "markdown",
   "metadata": {
    "id": "VgXQFewvHGe-"
   },
   "source": [
    "\n",
    "### 6- Creación de nuevas variables. Esta etapa consiste en crear o transformar variables a fin de poder alimentar el algoritmo de aprendizaje automático. Recordemos que el algoritmo solo puede procesar números, por lo que las variables que posean categorías deben se codificadas o eliminadas.\n",
    "\n"
   ]
  },
  {
   "cell_type": "code",
   "execution_count": 72,
   "metadata": {
    "colab": {
     "base_uri": "https://localhost:8080/",
     "height": 661
    },
    "id": "BNcOvc9IHGfA",
    "outputId": "d843a87f-5b17-4760-819b-b76aaa178cbf"
   },
   "outputs": [
    {
     "data": {
      "text/html": [
       "<div>\n",
       "<style scoped>\n",
       "    .dataframe tbody tr th:only-of-type {\n",
       "        vertical-align: middle;\n",
       "    }\n",
       "\n",
       "    .dataframe tbody tr th {\n",
       "        vertical-align: top;\n",
       "    }\n",
       "\n",
       "    .dataframe thead th {\n",
       "        text-align: right;\n",
       "    }\n",
       "</style>\n",
       "<table border=\"1\" class=\"dataframe\">\n",
       "  <thead>\n",
       "    <tr style=\"text-align: right;\">\n",
       "      <th></th>\n",
       "      <th>PosPedido</th>\n",
       "      <th>CodMaterial</th>\n",
       "      <th>Cantidad</th>\n",
       "      <th>CodGrupoArt</th>\n",
       "      <th>GrupoArticulos</th>\n",
       "      <th>codGrupoMaterial2</th>\n",
       "      <th>codGrupoMaterial4</th>\n",
       "      <th>codGrupoMaterial5</th>\n",
       "      <th>Tipo_Precio</th>\n",
       "      <th>Departamento</th>\n",
       "      <th>Localidad</th>\n",
       "      <th>Provincia</th>\n",
       "      <th>Pais</th>\n",
       "      <th>CodCliente_of</th>\n",
       "      <th>CodSucCliente_of</th>\n",
       "      <th>NroDocPedido</th>\n",
       "      <th>Año</th>\n",
       "      <th>Mes</th>\n",
       "    </tr>\n",
       "  </thead>\n",
       "  <tbody>\n",
       "    <tr>\n",
       "      <th>0</th>\n",
       "      <td>10.0</td>\n",
       "      <td>81074</td>\n",
       "      <td>480</td>\n",
       "      <td>14.0</td>\n",
       "      <td>Corrosivos</td>\n",
       "      <td>27.0</td>\n",
       "      <td>284.0</td>\n",
       "      <td>674.0</td>\n",
       "      <td>10.0</td>\n",
       "      <td>LOMAS DE ZAMORA</td>\n",
       "      <td>TEMPERLEY</td>\n",
       "      <td>Buenos Aires</td>\n",
       "      <td>AR</td>\n",
       "      <td>1</td>\n",
       "      <td>1</td>\n",
       "      <td>514585.0</td>\n",
       "      <td>2021</td>\n",
       "      <td>11</td>\n",
       "    </tr>\n",
       "    <tr>\n",
       "      <th>1</th>\n",
       "      <td>930.0</td>\n",
       "      <td>8051</td>\n",
       "      <td>24</td>\n",
       "      <td>11.0</td>\n",
       "      <td>Espesantes</td>\n",
       "      <td>15.0</td>\n",
       "      <td>139.0</td>\n",
       "      <td>291.0</td>\n",
       "      <td>1.0</td>\n",
       "      <td>TERCERO ARRIBA</td>\n",
       "      <td>OLIVA</td>\n",
       "      <td>Córdoba</td>\n",
       "      <td>AR</td>\n",
       "      <td>2</td>\n",
       "      <td>2</td>\n",
       "      <td>232161.0</td>\n",
       "      <td>2018</td>\n",
       "      <td>2</td>\n",
       "    </tr>\n",
       "    <tr>\n",
       "      <th>2</th>\n",
       "      <td>130.0</td>\n",
       "      <td>8051</td>\n",
       "      <td>24</td>\n",
       "      <td>11.0</td>\n",
       "      <td>Espesantes</td>\n",
       "      <td>15.0</td>\n",
       "      <td>139.0</td>\n",
       "      <td>291.0</td>\n",
       "      <td>1.0</td>\n",
       "      <td>TERCERO ARRIBA</td>\n",
       "      <td>OLIVA</td>\n",
       "      <td>Córdoba</td>\n",
       "      <td>AR</td>\n",
       "      <td>2</td>\n",
       "      <td>2</td>\n",
       "      <td>260497.0</td>\n",
       "      <td>2018</td>\n",
       "      <td>8</td>\n",
       "    </tr>\n",
       "    <tr>\n",
       "      <th>3</th>\n",
       "      <td>790.0</td>\n",
       "      <td>8051</td>\n",
       "      <td>24</td>\n",
       "      <td>11.0</td>\n",
       "      <td>Espesantes</td>\n",
       "      <td>15.0</td>\n",
       "      <td>139.0</td>\n",
       "      <td>291.0</td>\n",
       "      <td>1.0</td>\n",
       "      <td>TERCERO ARRIBA</td>\n",
       "      <td>OLIVA</td>\n",
       "      <td>Córdoba</td>\n",
       "      <td>AR</td>\n",
       "      <td>2</td>\n",
       "      <td>2</td>\n",
       "      <td>281670.0</td>\n",
       "      <td>2018</td>\n",
       "      <td>11</td>\n",
       "    </tr>\n",
       "    <tr>\n",
       "      <th>4</th>\n",
       "      <td>790.0</td>\n",
       "      <td>8051</td>\n",
       "      <td>-24</td>\n",
       "      <td>11.0</td>\n",
       "      <td>Espesantes</td>\n",
       "      <td>15.0</td>\n",
       "      <td>139.0</td>\n",
       "      <td>291.0</td>\n",
       "      <td>1.0</td>\n",
       "      <td>TERCERO ARRIBA</td>\n",
       "      <td>OLIVA</td>\n",
       "      <td>Córdoba</td>\n",
       "      <td>AR</td>\n",
       "      <td>2</td>\n",
       "      <td>2</td>\n",
       "      <td>281670.0</td>\n",
       "      <td>2019</td>\n",
       "      <td>1</td>\n",
       "    </tr>\n",
       "    <tr>\n",
       "      <th>...</th>\n",
       "      <td>...</td>\n",
       "      <td>...</td>\n",
       "      <td>...</td>\n",
       "      <td>...</td>\n",
       "      <td>...</td>\n",
       "      <td>...</td>\n",
       "      <td>...</td>\n",
       "      <td>...</td>\n",
       "      <td>...</td>\n",
       "      <td>...</td>\n",
       "      <td>...</td>\n",
       "      <td>...</td>\n",
       "      <td>...</td>\n",
       "      <td>...</td>\n",
       "      <td>...</td>\n",
       "      <td>...</td>\n",
       "      <td>...</td>\n",
       "      <td>...</td>\n",
       "    </tr>\n",
       "    <tr>\n",
       "      <th>107784</th>\n",
       "      <td>20.0</td>\n",
       "      <td>45115</td>\n",
       "      <td>6</td>\n",
       "      <td>11.0</td>\n",
       "      <td>Espesantes</td>\n",
       "      <td>26.0</td>\n",
       "      <td>124.0</td>\n",
       "      <td>228.0</td>\n",
       "      <td>9.0</td>\n",
       "      <td>ROSARIO</td>\n",
       "      <td>ROSARIO</td>\n",
       "      <td>Santa Fé</td>\n",
       "      <td>AR</td>\n",
       "      <td>1670</td>\n",
       "      <td>2243</td>\n",
       "      <td>479785.0</td>\n",
       "      <td>2021</td>\n",
       "      <td>6</td>\n",
       "    </tr>\n",
       "    <tr>\n",
       "      <th>107785</th>\n",
       "      <td>10.0</td>\n",
       "      <td>45114</td>\n",
       "      <td>24</td>\n",
       "      <td>11.0</td>\n",
       "      <td>Espesantes</td>\n",
       "      <td>26.0</td>\n",
       "      <td>124.0</td>\n",
       "      <td>228.0</td>\n",
       "      <td>9.0</td>\n",
       "      <td>QUILMES</td>\n",
       "      <td>BERNAL OESTE</td>\n",
       "      <td>Buenos Aires</td>\n",
       "      <td>AR</td>\n",
       "      <td>1671</td>\n",
       "      <td>2244</td>\n",
       "      <td>481967.0</td>\n",
       "      <td>2021</td>\n",
       "      <td>6</td>\n",
       "    </tr>\n",
       "    <tr>\n",
       "      <th>107786</th>\n",
       "      <td>10.0</td>\n",
       "      <td>45114</td>\n",
       "      <td>24</td>\n",
       "      <td>11.0</td>\n",
       "      <td>Espesantes</td>\n",
       "      <td>26.0</td>\n",
       "      <td>124.0</td>\n",
       "      <td>228.0</td>\n",
       "      <td>9.0</td>\n",
       "      <td>QUILMES</td>\n",
       "      <td>BERNAL OESTE</td>\n",
       "      <td>Buenos Aires</td>\n",
       "      <td>AR</td>\n",
       "      <td>1671</td>\n",
       "      <td>2244</td>\n",
       "      <td>491293.0</td>\n",
       "      <td>2021</td>\n",
       "      <td>8</td>\n",
       "    </tr>\n",
       "    <tr>\n",
       "      <th>107787</th>\n",
       "      <td>20.0</td>\n",
       "      <td>45115</td>\n",
       "      <td>12</td>\n",
       "      <td>11.0</td>\n",
       "      <td>Espesantes</td>\n",
       "      <td>26.0</td>\n",
       "      <td>124.0</td>\n",
       "      <td>228.0</td>\n",
       "      <td>9.0</td>\n",
       "      <td>QUILMES</td>\n",
       "      <td>BERNAL OESTE</td>\n",
       "      <td>Buenos Aires</td>\n",
       "      <td>AR</td>\n",
       "      <td>1671</td>\n",
       "      <td>2244</td>\n",
       "      <td>481967.0</td>\n",
       "      <td>2021</td>\n",
       "      <td>6</td>\n",
       "    </tr>\n",
       "    <tr>\n",
       "      <th>107788</th>\n",
       "      <td>20.0</td>\n",
       "      <td>45115</td>\n",
       "      <td>12</td>\n",
       "      <td>11.0</td>\n",
       "      <td>Espesantes</td>\n",
       "      <td>26.0</td>\n",
       "      <td>124.0</td>\n",
       "      <td>228.0</td>\n",
       "      <td>9.0</td>\n",
       "      <td>QUILMES</td>\n",
       "      <td>BERNAL OESTE</td>\n",
       "      <td>Buenos Aires</td>\n",
       "      <td>AR</td>\n",
       "      <td>1671</td>\n",
       "      <td>2244</td>\n",
       "      <td>491293.0</td>\n",
       "      <td>2021</td>\n",
       "      <td>8</td>\n",
       "    </tr>\n",
       "  </tbody>\n",
       "</table>\n",
       "<p>107789 rows × 18 columns</p>\n",
       "</div>"
      ],
      "text/plain": [
       "        PosPedido  CodMaterial  Cantidad  CodGrupoArt GrupoArticulos  \\\n",
       "0            10.0        81074       480         14.0     Corrosivos   \n",
       "1           930.0         8051        24         11.0     Espesantes   \n",
       "2           130.0         8051        24         11.0     Espesantes   \n",
       "3           790.0         8051        24         11.0     Espesantes   \n",
       "4           790.0         8051       -24         11.0     Espesantes   \n",
       "...           ...          ...       ...          ...            ...   \n",
       "107784       20.0        45115         6         11.0     Espesantes   \n",
       "107785       10.0        45114        24         11.0     Espesantes   \n",
       "107786       10.0        45114        24         11.0     Espesantes   \n",
       "107787       20.0        45115        12         11.0     Espesantes   \n",
       "107788       20.0        45115        12         11.0     Espesantes   \n",
       "\n",
       "        codGrupoMaterial2 codGrupoMaterial4 codGrupoMaterial5  Tipo_Precio  \\\n",
       "0                    27.0             284.0             674.0         10.0   \n",
       "1                    15.0             139.0             291.0          1.0   \n",
       "2                    15.0             139.0             291.0          1.0   \n",
       "3                    15.0             139.0             291.0          1.0   \n",
       "4                    15.0             139.0             291.0          1.0   \n",
       "...                   ...               ...               ...          ...   \n",
       "107784               26.0             124.0             228.0          9.0   \n",
       "107785               26.0             124.0             228.0          9.0   \n",
       "107786               26.0             124.0             228.0          9.0   \n",
       "107787               26.0             124.0             228.0          9.0   \n",
       "107788               26.0             124.0             228.0          9.0   \n",
       "\n",
       "           Departamento     Localidad     Provincia Pais  CodCliente_of  \\\n",
       "0       LOMAS DE ZAMORA     TEMPERLEY  Buenos Aires   AR              1   \n",
       "1        TERCERO ARRIBA         OLIVA       Córdoba   AR              2   \n",
       "2        TERCERO ARRIBA         OLIVA       Córdoba   AR              2   \n",
       "3        TERCERO ARRIBA         OLIVA       Córdoba   AR              2   \n",
       "4        TERCERO ARRIBA         OLIVA       Córdoba   AR              2   \n",
       "...                 ...           ...           ...  ...            ...   \n",
       "107784          ROSARIO       ROSARIO      Santa Fé   AR           1670   \n",
       "107785          QUILMES  BERNAL OESTE  Buenos Aires   AR           1671   \n",
       "107786          QUILMES  BERNAL OESTE  Buenos Aires   AR           1671   \n",
       "107787          QUILMES  BERNAL OESTE  Buenos Aires   AR           1671   \n",
       "107788          QUILMES  BERNAL OESTE  Buenos Aires   AR           1671   \n",
       "\n",
       "        CodSucCliente_of  NroDocPedido   Año  Mes  \n",
       "0                      1      514585.0  2021   11  \n",
       "1                      2      232161.0  2018    2  \n",
       "2                      2      260497.0  2018    8  \n",
       "3                      2      281670.0  2018   11  \n",
       "4                      2      281670.0  2019    1  \n",
       "...                  ...           ...   ...  ...  \n",
       "107784              2243      479785.0  2021    6  \n",
       "107785              2244      481967.0  2021    6  \n",
       "107786              2244      491293.0  2021    8  \n",
       "107787              2244      481967.0  2021    6  \n",
       "107788              2244      491293.0  2021    8  \n",
       "\n",
       "[107789 rows x 18 columns]"
      ]
     },
     "execution_count": 72,
     "metadata": {},
     "output_type": "execute_result"
    }
   ],
   "source": [
    "# Convertir la columna 'Fecha' a un objeto de fecha\n",
    "df_clean_imputed['Fecha'] = pd.to_datetime(df_clean_imputed['Fecha'])\n",
    "\n",
    "# Crear nuevas columnas para el año, mes y día\n",
    "df_clean_imputed['Año'] = df_clean_imputed['Fecha'].dt.year\n",
    "df_clean_imputed['Mes'] = df_clean_imputed['Fecha'].dt.month\n",
    "\n",
    "df_clean_imputed =df_clean_imputed.drop(['Fecha','FechaPedido', 'Periodo'], axis=1)\n",
    "\n",
    "df_clean_imputed"
   ]
  },
  {
   "cell_type": "code",
   "execution_count": 73,
   "metadata": {
    "colab": {
     "base_uri": "https://localhost:8080/",
     "height": 505
    },
    "id": "YOnbb8LjHGfC",
    "outputId": "1267b4fe-ab20-4611-b276-d4fab35e1abb"
   },
   "outputs": [
    {
     "data": {
      "text/html": [
       "<div>\n",
       "<style scoped>\n",
       "    .dataframe tbody tr th:only-of-type {\n",
       "        vertical-align: middle;\n",
       "    }\n",
       "\n",
       "    .dataframe tbody tr th {\n",
       "        vertical-align: top;\n",
       "    }\n",
       "\n",
       "    .dataframe thead th {\n",
       "        text-align: right;\n",
       "    }\n",
       "</style>\n",
       "<table border=\"1\" class=\"dataframe\">\n",
       "  <thead>\n",
       "    <tr style=\"text-align: right;\">\n",
       "      <th></th>\n",
       "      <th>PosPedido</th>\n",
       "      <th>CodMaterial</th>\n",
       "      <th>Cantidad</th>\n",
       "      <th>CodGrupoArt</th>\n",
       "      <th>CodCliente_of</th>\n",
       "      <th>CodSucCliente_of</th>\n",
       "      <th>NroDocPedido</th>\n",
       "      <th>Año</th>\n",
       "      <th>Mes</th>\n",
       "      <th>GrupoArticulos_Corrosivos</th>\n",
       "      <th>...</th>\n",
       "      <th>Provincia_San Juan</th>\n",
       "      <th>Provincia_San Luis</th>\n",
       "      <th>Provincia_Santa Cruz</th>\n",
       "      <th>Provincia_Santa Fé</th>\n",
       "      <th>Provincia_Santiago del Estero</th>\n",
       "      <th>Provincia_Tierra del Fuego</th>\n",
       "      <th>Provincia_Tucumán</th>\n",
       "      <th>Pais_AR</th>\n",
       "      <th>Pais_PY</th>\n",
       "      <th>Pais_UY</th>\n",
       "    </tr>\n",
       "  </thead>\n",
       "  <tbody>\n",
       "    <tr>\n",
       "      <th>0</th>\n",
       "      <td>10.0</td>\n",
       "      <td>81074</td>\n",
       "      <td>480</td>\n",
       "      <td>14.0</td>\n",
       "      <td>1</td>\n",
       "      <td>1</td>\n",
       "      <td>514585.0</td>\n",
       "      <td>2021</td>\n",
       "      <td>11</td>\n",
       "      <td>1</td>\n",
       "      <td>...</td>\n",
       "      <td>0</td>\n",
       "      <td>0</td>\n",
       "      <td>0</td>\n",
       "      <td>0</td>\n",
       "      <td>0</td>\n",
       "      <td>0</td>\n",
       "      <td>0</td>\n",
       "      <td>1</td>\n",
       "      <td>0</td>\n",
       "      <td>0</td>\n",
       "    </tr>\n",
       "    <tr>\n",
       "      <th>1</th>\n",
       "      <td>930.0</td>\n",
       "      <td>8051</td>\n",
       "      <td>24</td>\n",
       "      <td>11.0</td>\n",
       "      <td>2</td>\n",
       "      <td>2</td>\n",
       "      <td>232161.0</td>\n",
       "      <td>2018</td>\n",
       "      <td>2</td>\n",
       "      <td>0</td>\n",
       "      <td>...</td>\n",
       "      <td>0</td>\n",
       "      <td>0</td>\n",
       "      <td>0</td>\n",
       "      <td>0</td>\n",
       "      <td>0</td>\n",
       "      <td>0</td>\n",
       "      <td>0</td>\n",
       "      <td>1</td>\n",
       "      <td>0</td>\n",
       "      <td>0</td>\n",
       "    </tr>\n",
       "    <tr>\n",
       "      <th>2</th>\n",
       "      <td>130.0</td>\n",
       "      <td>8051</td>\n",
       "      <td>24</td>\n",
       "      <td>11.0</td>\n",
       "      <td>2</td>\n",
       "      <td>2</td>\n",
       "      <td>260497.0</td>\n",
       "      <td>2018</td>\n",
       "      <td>8</td>\n",
       "      <td>0</td>\n",
       "      <td>...</td>\n",
       "      <td>0</td>\n",
       "      <td>0</td>\n",
       "      <td>0</td>\n",
       "      <td>0</td>\n",
       "      <td>0</td>\n",
       "      <td>0</td>\n",
       "      <td>0</td>\n",
       "      <td>1</td>\n",
       "      <td>0</td>\n",
       "      <td>0</td>\n",
       "    </tr>\n",
       "    <tr>\n",
       "      <th>3</th>\n",
       "      <td>790.0</td>\n",
       "      <td>8051</td>\n",
       "      <td>24</td>\n",
       "      <td>11.0</td>\n",
       "      <td>2</td>\n",
       "      <td>2</td>\n",
       "      <td>281670.0</td>\n",
       "      <td>2018</td>\n",
       "      <td>11</td>\n",
       "      <td>0</td>\n",
       "      <td>...</td>\n",
       "      <td>0</td>\n",
       "      <td>0</td>\n",
       "      <td>0</td>\n",
       "      <td>0</td>\n",
       "      <td>0</td>\n",
       "      <td>0</td>\n",
       "      <td>0</td>\n",
       "      <td>1</td>\n",
       "      <td>0</td>\n",
       "      <td>0</td>\n",
       "    </tr>\n",
       "    <tr>\n",
       "      <th>4</th>\n",
       "      <td>790.0</td>\n",
       "      <td>8051</td>\n",
       "      <td>-24</td>\n",
       "      <td>11.0</td>\n",
       "      <td>2</td>\n",
       "      <td>2</td>\n",
       "      <td>281670.0</td>\n",
       "      <td>2019</td>\n",
       "      <td>1</td>\n",
       "      <td>0</td>\n",
       "      <td>...</td>\n",
       "      <td>0</td>\n",
       "      <td>0</td>\n",
       "      <td>0</td>\n",
       "      <td>0</td>\n",
       "      <td>0</td>\n",
       "      <td>0</td>\n",
       "      <td>0</td>\n",
       "      <td>1</td>\n",
       "      <td>0</td>\n",
       "      <td>0</td>\n",
       "    </tr>\n",
       "    <tr>\n",
       "      <th>...</th>\n",
       "      <td>...</td>\n",
       "      <td>...</td>\n",
       "      <td>...</td>\n",
       "      <td>...</td>\n",
       "      <td>...</td>\n",
       "      <td>...</td>\n",
       "      <td>...</td>\n",
       "      <td>...</td>\n",
       "      <td>...</td>\n",
       "      <td>...</td>\n",
       "      <td>...</td>\n",
       "      <td>...</td>\n",
       "      <td>...</td>\n",
       "      <td>...</td>\n",
       "      <td>...</td>\n",
       "      <td>...</td>\n",
       "      <td>...</td>\n",
       "      <td>...</td>\n",
       "      <td>...</td>\n",
       "      <td>...</td>\n",
       "      <td>...</td>\n",
       "    </tr>\n",
       "    <tr>\n",
       "      <th>107784</th>\n",
       "      <td>20.0</td>\n",
       "      <td>45115</td>\n",
       "      <td>6</td>\n",
       "      <td>11.0</td>\n",
       "      <td>1670</td>\n",
       "      <td>2243</td>\n",
       "      <td>479785.0</td>\n",
       "      <td>2021</td>\n",
       "      <td>6</td>\n",
       "      <td>0</td>\n",
       "      <td>...</td>\n",
       "      <td>0</td>\n",
       "      <td>0</td>\n",
       "      <td>0</td>\n",
       "      <td>1</td>\n",
       "      <td>0</td>\n",
       "      <td>0</td>\n",
       "      <td>0</td>\n",
       "      <td>1</td>\n",
       "      <td>0</td>\n",
       "      <td>0</td>\n",
       "    </tr>\n",
       "    <tr>\n",
       "      <th>107785</th>\n",
       "      <td>10.0</td>\n",
       "      <td>45114</td>\n",
       "      <td>24</td>\n",
       "      <td>11.0</td>\n",
       "      <td>1671</td>\n",
       "      <td>2244</td>\n",
       "      <td>481967.0</td>\n",
       "      <td>2021</td>\n",
       "      <td>6</td>\n",
       "      <td>0</td>\n",
       "      <td>...</td>\n",
       "      <td>0</td>\n",
       "      <td>0</td>\n",
       "      <td>0</td>\n",
       "      <td>0</td>\n",
       "      <td>0</td>\n",
       "      <td>0</td>\n",
       "      <td>0</td>\n",
       "      <td>1</td>\n",
       "      <td>0</td>\n",
       "      <td>0</td>\n",
       "    </tr>\n",
       "    <tr>\n",
       "      <th>107786</th>\n",
       "      <td>10.0</td>\n",
       "      <td>45114</td>\n",
       "      <td>24</td>\n",
       "      <td>11.0</td>\n",
       "      <td>1671</td>\n",
       "      <td>2244</td>\n",
       "      <td>491293.0</td>\n",
       "      <td>2021</td>\n",
       "      <td>8</td>\n",
       "      <td>0</td>\n",
       "      <td>...</td>\n",
       "      <td>0</td>\n",
       "      <td>0</td>\n",
       "      <td>0</td>\n",
       "      <td>0</td>\n",
       "      <td>0</td>\n",
       "      <td>0</td>\n",
       "      <td>0</td>\n",
       "      <td>1</td>\n",
       "      <td>0</td>\n",
       "      <td>0</td>\n",
       "    </tr>\n",
       "    <tr>\n",
       "      <th>107787</th>\n",
       "      <td>20.0</td>\n",
       "      <td>45115</td>\n",
       "      <td>12</td>\n",
       "      <td>11.0</td>\n",
       "      <td>1671</td>\n",
       "      <td>2244</td>\n",
       "      <td>481967.0</td>\n",
       "      <td>2021</td>\n",
       "      <td>6</td>\n",
       "      <td>0</td>\n",
       "      <td>...</td>\n",
       "      <td>0</td>\n",
       "      <td>0</td>\n",
       "      <td>0</td>\n",
       "      <td>0</td>\n",
       "      <td>0</td>\n",
       "      <td>0</td>\n",
       "      <td>0</td>\n",
       "      <td>1</td>\n",
       "      <td>0</td>\n",
       "      <td>0</td>\n",
       "    </tr>\n",
       "    <tr>\n",
       "      <th>107788</th>\n",
       "      <td>20.0</td>\n",
       "      <td>45115</td>\n",
       "      <td>12</td>\n",
       "      <td>11.0</td>\n",
       "      <td>1671</td>\n",
       "      <td>2244</td>\n",
       "      <td>491293.0</td>\n",
       "      <td>2021</td>\n",
       "      <td>8</td>\n",
       "      <td>0</td>\n",
       "      <td>...</td>\n",
       "      <td>0</td>\n",
       "      <td>0</td>\n",
       "      <td>0</td>\n",
       "      <td>0</td>\n",
       "      <td>0</td>\n",
       "      <td>0</td>\n",
       "      <td>0</td>\n",
       "      <td>1</td>\n",
       "      <td>0</td>\n",
       "      <td>0</td>\n",
       "    </tr>\n",
       "  </tbody>\n",
       "</table>\n",
       "<p>107789 rows × 1056 columns</p>\n",
       "</div>"
      ],
      "text/plain": [
       "        PosPedido  CodMaterial  Cantidad  CodGrupoArt  CodCliente_of  \\\n",
       "0            10.0        81074       480         14.0              1   \n",
       "1           930.0         8051        24         11.0              2   \n",
       "2           130.0         8051        24         11.0              2   \n",
       "3           790.0         8051        24         11.0              2   \n",
       "4           790.0         8051       -24         11.0              2   \n",
       "...           ...          ...       ...          ...            ...   \n",
       "107784       20.0        45115         6         11.0           1670   \n",
       "107785       10.0        45114        24         11.0           1671   \n",
       "107786       10.0        45114        24         11.0           1671   \n",
       "107787       20.0        45115        12         11.0           1671   \n",
       "107788       20.0        45115        12         11.0           1671   \n",
       "\n",
       "        CodSucCliente_of  NroDocPedido   Año  Mes  GrupoArticulos_Corrosivos  \\\n",
       "0                      1      514585.0  2021   11                          1   \n",
       "1                      2      232161.0  2018    2                          0   \n",
       "2                      2      260497.0  2018    8                          0   \n",
       "3                      2      281670.0  2018   11                          0   \n",
       "4                      2      281670.0  2019    1                          0   \n",
       "...                  ...           ...   ...  ...                        ...   \n",
       "107784              2243      479785.0  2021    6                          0   \n",
       "107785              2244      481967.0  2021    6                          0   \n",
       "107786              2244      491293.0  2021    8                          0   \n",
       "107787              2244      481967.0  2021    6                          0   \n",
       "107788              2244      491293.0  2021    8                          0   \n",
       "\n",
       "        ...  Provincia_San Juan  Provincia_San Luis  Provincia_Santa Cruz  \\\n",
       "0       ...                   0                   0                     0   \n",
       "1       ...                   0                   0                     0   \n",
       "2       ...                   0                   0                     0   \n",
       "3       ...                   0                   0                     0   \n",
       "4       ...                   0                   0                     0   \n",
       "...     ...                 ...                 ...                   ...   \n",
       "107784  ...                   0                   0                     0   \n",
       "107785  ...                   0                   0                     0   \n",
       "107786  ...                   0                   0                     0   \n",
       "107787  ...                   0                   0                     0   \n",
       "107788  ...                   0                   0                     0   \n",
       "\n",
       "        Provincia_Santa Fé  Provincia_Santiago del Estero  \\\n",
       "0                        0                              0   \n",
       "1                        0                              0   \n",
       "2                        0                              0   \n",
       "3                        0                              0   \n",
       "4                        0                              0   \n",
       "...                    ...                            ...   \n",
       "107784                   1                              0   \n",
       "107785                   0                              0   \n",
       "107786                   0                              0   \n",
       "107787                   0                              0   \n",
       "107788                   0                              0   \n",
       "\n",
       "        Provincia_Tierra del Fuego  Provincia_Tucumán  Pais_AR  Pais_PY  \\\n",
       "0                                0                  0        1        0   \n",
       "1                                0                  0        1        0   \n",
       "2                                0                  0        1        0   \n",
       "3                                0                  0        1        0   \n",
       "4                                0                  0        1        0   \n",
       "...                            ...                ...      ...      ...   \n",
       "107784                           0                  0        1        0   \n",
       "107785                           0                  0        1        0   \n",
       "107786                           0                  0        1        0   \n",
       "107787                           0                  0        1        0   \n",
       "107788                           0                  0        1        0   \n",
       "\n",
       "        Pais_UY  \n",
       "0             0  \n",
       "1             0  \n",
       "2             0  \n",
       "3             0  \n",
       "4             0  \n",
       "...         ...  \n",
       "107784        0  \n",
       "107785        0  \n",
       "107786        0  \n",
       "107787        0  \n",
       "107788        0  \n",
       "\n",
       "[107789 rows x 1056 columns]"
      ]
     },
     "execution_count": 73,
     "metadata": {},
     "output_type": "execute_result"
    }
   ],
   "source": [
    "# Seleccionar las columnas que contienen variables categóricas a codificar\n",
    "columnas_categoricas = ['GrupoArticulos',\n",
    "                        'codGrupoMaterial2',\n",
    "                        'codGrupoMaterial4',\n",
    "                        'codGrupoMaterial5' ,\n",
    "                        'Departamento',\n",
    "                        'Tipo_Precio',\n",
    "                        'Localidad',\n",
    "                        'Provincia',\n",
    "                        'Pais']\n",
    "\n",
    "# Realizar la codificación\n",
    "df_encoded = pd.get_dummies(df_clean_imputed, columns=columnas_categoricas)\n",
    "\n",
    "\n",
    "df_encoded"
   ]
  },
  {
   "cell_type": "markdown",
   "metadata": {
    "id": "Gb1YRMKGHGfE"
   },
   "source": [
    "***Se termina obteniendo una matriz esparsa de 107789 rows × 1056 columns***"
   ]
  },
  {
   "cell_type": "markdown",
   "metadata": {
    "id": "_qZMwr4gHGfF"
   },
   "source": [
    "\n",
    "### 7- Determinen si hay outliers en cada una de las variables seleccionadas, evalúen cómo manejar los outliers (si dejarlos o eliminarlos) e implementen la solución.\n"
   ]
  },
  {
   "cell_type": "markdown",
   "metadata": {
    "id": "_TEzHXXhHGfG"
   },
   "source": [
    "***Al igual que en el TP 1, creemos que no se encuentran variables que presenten outliers***"
   ]
  },
  {
   "cell_type": "markdown",
   "metadata": {
    "id": "obmzg2OlHGfO"
   },
   "source": [
    "### 8- Quitar Variables/Columnas Irrelevantes. En base a la exploración del TP anterior y particularidades que se hayan encontrado en este nuevo TP, es momento de seleccionar variables que intuímos puedan tener capacidad predictora para el futuro modelo. El análisis de correlación es una herramienta muy importante en este paso.\n",
    "\n"
   ]
  },
  {
   "cell_type": "markdown",
   "metadata": {
    "id": "lUYUW91wHGfP"
   },
   "source": [
    "***Las variables a eliminar son:***\n",
    "1. 'FechaPedido'\n",
    "2. 'Periodo'\n",
    "3. 'NroDocPedido'\n",
    "4. 'PosPedido'\n",
    "\n",
    "***dado que creemos que el resto de las variables van a ser de utilidad a la hora de hacer una prediccion sobre las cantidades vendidas***"
   ]
  },
  {
   "cell_type": "code",
   "execution_count": 81,
   "metadata": {},
   "outputs": [],
   "source": [
    "df_encoded.drop(['NroDocPedido', 'PosPedido'], axis=1, inplace=True)"
   ]
  },
  {
   "cell_type": "markdown",
   "metadata": {},
   "source": [
    "***Las demas columnas ya fueron eliminadas***"
   ]
  },
  {
   "cell_type": "markdown",
   "metadata": {
    "id": "gVmDQ0QnHGfR"
   },
   "source": [
    "### 9- ¿En qué casos es necesario estandarizar las variables? Seleccionen algún método y aborden su implementación\n",
    "\n"
   ]
  },
  {
   "cell_type": "markdown",
   "metadata": {},
   "source": [
    "***Es necesario estandarizas las variables, cuando tiene distintos rangos numericos. Por ejemplo:***"
   ]
  },
  {
   "cell_type": "code",
   "execution_count": 74,
   "metadata": {},
   "outputs": [
    {
     "data": {
      "text/html": [
       "<div>\n",
       "<style scoped>\n",
       "    .dataframe tbody tr th:only-of-type {\n",
       "        vertical-align: middle;\n",
       "    }\n",
       "\n",
       "    .dataframe tbody tr th {\n",
       "        vertical-align: top;\n",
       "    }\n",
       "\n",
       "    .dataframe thead th {\n",
       "        text-align: right;\n",
       "    }\n",
       "</style>\n",
       "<table border=\"1\" class=\"dataframe\">\n",
       "  <thead>\n",
       "    <tr style=\"text-align: right;\">\n",
       "      <th></th>\n",
       "      <th>CodMaterial</th>\n",
       "      <th>Año</th>\n",
       "    </tr>\n",
       "  </thead>\n",
       "  <tbody>\n",
       "    <tr>\n",
       "      <th>count</th>\n",
       "      <td>107789.000000</td>\n",
       "      <td>107789.000000</td>\n",
       "    </tr>\n",
       "    <tr>\n",
       "      <th>mean</th>\n",
       "      <td>44746.766757</td>\n",
       "      <td>2019.485402</td>\n",
       "    </tr>\n",
       "    <tr>\n",
       "      <th>std</th>\n",
       "      <td>59238.965002</td>\n",
       "      <td>1.053273</td>\n",
       "    </tr>\n",
       "    <tr>\n",
       "      <th>min</th>\n",
       "      <td>7604.000000</td>\n",
       "      <td>2018.000000</td>\n",
       "    </tr>\n",
       "    <tr>\n",
       "      <th>25%</th>\n",
       "      <td>7615.000000</td>\n",
       "      <td>2019.000000</td>\n",
       "    </tr>\n",
       "    <tr>\n",
       "      <th>50%</th>\n",
       "      <td>8051.000000</td>\n",
       "      <td>2019.000000</td>\n",
       "    </tr>\n",
       "    <tr>\n",
       "      <th>75%</th>\n",
       "      <td>81034.000000</td>\n",
       "      <td>2020.000000</td>\n",
       "    </tr>\n",
       "    <tr>\n",
       "      <th>max</th>\n",
       "      <td>480902.000000</td>\n",
       "      <td>2021.000000</td>\n",
       "    </tr>\n",
       "  </tbody>\n",
       "</table>\n",
       "</div>"
      ],
      "text/plain": [
       "         CodMaterial            Año\n",
       "count  107789.000000  107789.000000\n",
       "mean    44746.766757    2019.485402\n",
       "std     59238.965002       1.053273\n",
       "min      7604.000000    2018.000000\n",
       "25%      7615.000000    2019.000000\n",
       "50%      8051.000000    2019.000000\n",
       "75%     81034.000000    2020.000000\n",
       "max    480902.000000    2021.000000"
      ]
     },
     "execution_count": 74,
     "metadata": {},
     "output_type": "execute_result"
    }
   ],
   "source": [
    "df_clean_imputed[['CodMaterial', 'Año']].describe()"
   ]
  },
  {
   "cell_type": "markdown",
   "metadata": {},
   "source": [
    "#### Vemos que en la columna CodMaterial, el valor minimo es 7604 y el maximo es 480902. Y Año entre 2018 y 2021. Esta diferencia de rangos podria traernos problemas a la hora de entrenar el modelo, debido que puede introducirnos un bias. Por ejemplo, que el modelo relacione lo valores grande a cierta caracterista de los datos, lo que perjudicaria su performance."
   ]
  },
  {
   "cell_type": "markdown",
   "metadata": {},
   "source": [
    "#### <u>Con respecto a PCA:</u>"
   ]
  },
  {
   "cell_type": "markdown",
   "metadata": {
    "id": "xKVnL_IXHGfS"
   },
   "source": [
    "El StandardScaler es un escalador utilizado en  PCA por las siguientes razones:\n",
    "\n",
    "- Mantener la forma de la distribución: Estandariza las variables escalándolas de manera que tengan una media de 0 y una desviación estándar de 1. Esto significa que la forma de la distribución original se mantiene, pero se ajusta para tener una media y una variabilidad consistentes en todas las variables. Esta propiedad es importante en el PCA, ya que el PCA se basa en la covarianza entre variables, y la estandarización ayuda a garantizar que todas las variables tengan la misma influencia.\n",
    "\n",
    "- Elimina el sesgo de las variables con escalas diferentes: En el PCA, las variables con escalas más grandes pueden dominar la varianza total y afectar los resultados del análisis. Al estandarizar las variables utilizando el StandardScaler, se elimina este sesgo y se iguala la importancia de todas las variables en términos de su contribución a la varianza total. Esto permite que el PCA capture patrones y relaciones significativas entre las variables de manera más equitativa.\n",
    "\n",
    "- Facilita la interpretación de los componentes principales: El uso del StandardScaler en el PCA también facilita la interpretación de los componentes principales. Como las variables están en la misma escala, los coeficientes de los componentes principales indican directamente la importancia relativa de cada variable en la contribución a los componentes. Esto ayuda a comprender qué características o variables están más relacionadas con cada componente principal."
   ]
  },
  {
   "cell_type": "code",
   "execution_count": 82,
   "metadata": {
    "id": "2Q7z96nUHGfU"
   },
   "outputs": [],
   "source": [
    "#Primero separamos las variables predictorias, de la variable a predecir.\n",
    "#X = df_encoded.drop('Cantidad', axis=1)\n",
    "X = test.drop('Cantidad', axis=1)\n",
    "# Escalamos:\n",
    "scaler = StandardScaler()\n",
    "scaled_t = scaler.fit_transform(X)"
   ]
  },
  {
   "cell_type": "markdown",
   "metadata": {
    "id": "4jfwqOzSHGfV"
   },
   "source": [
    "### 10- Implementen una reducción de dimensionalidad mediante PCA e interpreten los resultados preliminares. En el último práctico concluiremos sobre su utilidad"
   ]
  },
  {
   "cell_type": "markdown",
   "metadata": {
    "id": "9azKfJkbmvyR"
   },
   "source": [
    "Antes de decidir la cantidad de componentes a conservar, vamos a analizar la varianza explicada por cada una. Una vez que veamos como es la relacion entre cantidad de componentes y la varianza acumulada, podemos decidir cuantas conservar. Notemos que en este contexto, al hablar de varianza, nos referimos a la \"informacion\", por eso es que buscamos conservar la mayor varianza posible."
   ]
  },
  {
   "cell_type": "code",
   "execution_count": 83,
   "metadata": {
    "colab": {
     "base_uri": "https://localhost:8080/",
     "height": 542
    },
    "id": "BjcsHR4mHGfW",
    "outputId": "2a12d0aa-210c-410e-a6b8-f7ab652122e5"
   },
   "outputs": [
    {
     "data": {
      "image/png": "[encoded data removed]",
      "text/plain": [
       "<Figure size 1200x600 with 1 Axes>"
      ]
     },
     "metadata": {},
     "output_type": "display_data"
    }
   ],
   "source": [
    "# Crear una instancia del objeto PCA\n",
    "test_pca = PCA()\n",
    "\n",
    "# Aplicar PCA al conjunto de datos codificado\n",
    "pca_result = test_pca.fit_transform(scaled_t)\n",
    "\n",
    "varianza_explicada_acumulada = np.cumsum(test_pca.explained_variance_ratio_)\n",
    "plt.figure(figsize=(12, 6))\n",
    "plt.plot(range(1, len(varianza_explicada_acumulada) + 1), varianza_explicada_acumulada, marker='.')\n",
    "\n",
    "ultimo_numero = len(varianza_explicada_acumulada)\n",
    "etiquetas_x = np.arange(1, ultimo_numero + 1, 50)\n",
    "plt.xticks(etiquetas_x)\n",
    "\n",
    "plt.xlabel('Número de componentes principales')\n",
    "plt.ylabel('Varianza explicada acumulada')\n",
    "plt.grid(True)\n",
    "plt.show()\n"
   ]
  },
  {
   "cell_type": "markdown",
   "metadata": {
    "id": "JVy_OBfAoMeY"
   },
   "source": [
    "En primer lugar se ve que con 700 componentes logramos explicar el 100% de la varianza, es decir, explicar el 100% de los datos. Esto nos esta diciendo que hay muchas columnas que estan correlacionadas, cosa que ya veniamos viendo al tratar los  datos.\n",
    "\n",
    "En segundo lugar podemos ver tambien que conservando 500 componentes principales, logramos explicar cerca del 80% de la varianza, o bien, conservar el 80% de la informacion dada por los datos. Esto implica una gran reduccion de la dimension del set de datos. Pasamos de un dataset de 1000 columnas a uno de 500, conservando el 80% de la informacion."
   ]
  },
  {
   "cell_type": "markdown",
   "metadata": {
    "id": "XXhIN0VWQ4BV"
   },
   "source": [
    "Una vez que hayamos identificado la cantidad optima de componentes principales, podemos instanciar nuevamente la clase PCA para hacer la reduccion de dimensionalidad."
   ]
  },
  {
   "cell_type": "code",
   "execution_count": 84,
   "metadata": {
    "id": "g94RFaCvHGfY"
   },
   "outputs": [],
   "source": [
    "pca = PCA(n_components=500)  # Número de componentes principales deseados\n",
    "X_pca = pca.fit_transform(scaled_t)"
   ]
  },
  {
   "cell_type": "code",
   "execution_count": 85,
   "metadata": {
    "id": "md63Ew6yHGfa"
   },
   "outputs": [],
   "source": [
    "componentes_principales = pca.components_"
   ]
  },
  {
   "cell_type": "code",
   "execution_count": 86,
   "metadata": {
    "id": "Ug6P7oCyHGfb"
   },
   "outputs": [],
   "source": [
    "# Obtener la varianza explicada por cada componente principal\n",
    "varianza_explicada = pca.explained_variance_ratio_"
   ]
  },
  {
   "cell_type": "code",
   "execution_count": 87,
   "metadata": {
    "colab": {
     "base_uri": "https://localhost:8080/"
    },
    "id": "kmlLbIKgHGfc",
    "outputId": "b4555bf5-4ec2-4b1b-fbf8-c5497389810b"
   },
   "outputs": [
    {
     "name": "stdout",
     "output_type": "stream",
     "text": [
      "Componentes principales:\n",
      "[[ 1.71676707e-01  2.74626409e-01  2.55701970e-01 ...  2.77400810e-02\n",
      "  -9.79416883e-03 -2.59442074e-02]\n",
      " [ 1.22286635e-01 -1.72737004e-01  1.07970923e-01 ...  4.13003945e-02\n",
      "  -1.44377788e-02 -3.86796164e-02]\n",
      " [ 1.75416240e-02  8.62700598e-04  1.03432590e-02 ... -4.41898900e-01\n",
      "   1.51776189e-01  4.14851101e-01]\n",
      " ...\n",
      " [-5.71376695e-03 -1.84059181e-03 -4.60460276e-03 ... -3.00478408e-04\n",
      "  -7.07428161e-04  5.80088807e-04]\n",
      " [ 9.27506286e-03 -1.27916703e-03  2.28445719e-04 ...  4.66777032e-04\n",
      "  -8.48706326e-04 -1.85144165e-04]\n",
      " [ 1.44661849e-02 -3.82603420e-03  8.28055169e-03 ...  6.06386503e-06\n",
      "  -1.77550539e-03  6.46247998e-04]]\n",
      "\n",
      "Varianza explicada:\n",
      "[0.01008893 0.00570853 0.00475446 0.00315977 0.00308533 0.00305082\n",
      " 0.00293899 0.00292883 0.0029109  0.00287693 0.00287503 0.00286674\n",
      " 0.00285697 0.00285101 0.00284223 0.00282383 0.00280456 0.00277562\n",
      " 0.00276164 0.00273048 0.00270642 0.00267111 0.00264612 0.00263435\n",
      " 0.00261642 0.00257954 0.00253524 0.00248531 0.00245709 0.0023589\n",
      " 0.00232846 0.00226933 0.00225419 0.00221167 0.0021976  0.00218324\n",
      " 0.00217585 0.00216866 0.00215424 0.00214133 0.00213113 0.00212134\n",
      " 0.00211833 0.0021005  0.00198747 0.00197252 0.00195638 0.00195458\n",
      " 0.00194911 0.00194555 0.00194365 0.00193527 0.00193286 0.00193266\n",
      " 0.00193003 0.0019272  0.00192673 0.00192499 0.00192405 0.00192373\n",
      " 0.00192208 0.00192152 0.00192036 0.00191826 0.00191755 0.00191719\n",
      " 0.00191637 0.00191513 0.0019147  0.00191424 0.00191375 0.00191331\n",
      " 0.00191299 0.00191269 0.00191225 0.00191179 0.00191172 0.00191132\n",
      " 0.00191096 0.00191077 0.00191049 0.00191024 0.00190996 0.00190992\n",
      " 0.00190951 0.00190942 0.00190896 0.00190882 0.00190863 0.0019082\n",
      " 0.00190805 0.00190778 0.0019075  0.00190742 0.0019073  0.00190702\n",
      " 0.00190684 0.00190655 0.00190626 0.0019061  0.00190591 0.00190568\n",
      " 0.0019056  0.00190537 0.00190525 0.0019051  0.00190489 0.00190476\n",
      " 0.00190469 0.00190442 0.00190426 0.00190416 0.00190396 0.00190393\n",
      " 0.00190389 0.00190374 0.00190369 0.00190353 0.00190343 0.00190333\n",
      " 0.00190323 0.00190305 0.00190301 0.00190294 0.00190281 0.00190267\n",
      " 0.00190258 0.00190253 0.00190243 0.00190228 0.00190224 0.00190212\n",
      " 0.00190209 0.00190205 0.00190202 0.00190199 0.00190191 0.00190183\n",
      " 0.00190175 0.00190175 0.00190173 0.00190169 0.00190159 0.00190157\n",
      " 0.00190152 0.0019014  0.00190133 0.00190132 0.00190126 0.00190124\n",
      " 0.00190121 0.00190112 0.00190108 0.00190105 0.00190101 0.00190097\n",
      " 0.00190093 0.00190089 0.00190083 0.00190079 0.00190075 0.00190071\n",
      " 0.00190067 0.00190066 0.00190062 0.00190061 0.00190057 0.00190054\n",
      " 0.00190051 0.00190049 0.00190044 0.0019004  0.00190035 0.00190031\n",
      " 0.00190029 0.00190026 0.00190025 0.00190021 0.00190019 0.00190018\n",
      " 0.00190014 0.0019001  0.00190008 0.00190005 0.00190003 0.00190001\n",
      " 0.00189999 0.00189995 0.00189994 0.00189991 0.00189987 0.00189983\n",
      " 0.00189981 0.0018998  0.00189974 0.0018997  0.00189969 0.00189965\n",
      " 0.00189963 0.0018996  0.0018996  0.00189953 0.0018995  0.00189946\n",
      " 0.00189945 0.0018994  0.00189937 0.00189937 0.00189935 0.00189931\n",
      " 0.00189929 0.00189923 0.0018992  0.00189918 0.00189915 0.00189913\n",
      " 0.0018991  0.00189907 0.00189903 0.001899   0.00189898 0.0018989\n",
      " 0.00189889 0.00189887 0.00189883 0.00189881 0.00189872 0.00189869\n",
      " 0.00189864 0.0018986  0.00189857 0.00189852 0.00189846 0.0018984\n",
      " 0.00189836 0.00189829 0.00189821 0.00189814 0.00189813 0.00189805\n",
      " 0.00189796 0.00189791 0.00189789 0.00189771 0.00189768 0.00189754\n",
      " 0.00189747 0.00189742 0.00189729 0.00189724 0.00189704 0.00189698\n",
      " 0.00189691 0.00189686 0.00189668 0.00189652 0.0018964  0.00189634\n",
      " 0.0018961  0.00189597 0.00189588 0.00189569 0.00189556 0.00189535\n",
      " 0.00189505 0.00189488 0.00189481 0.00189448 0.00189435 0.00189431\n",
      " 0.00189395 0.00189319 0.00189281 0.00189254 0.00189243 0.00189191\n",
      " 0.00189142 0.00189053 0.00189012 0.00188962 0.00188837 0.0018872\n",
      " 0.00188557 0.00188095 0.0018651  0.00185873 0.00184599 0.00184217\n",
      " 0.00183528 0.00182412 0.00181985 0.00179896 0.00179014 0.00177123\n",
      " 0.00176169 0.00173572 0.00172933 0.00172214 0.00172033 0.00171331\n",
      " 0.0017004  0.0016903  0.00168327 0.00166597 0.00165134 0.0016461\n",
      " 0.001643   0.00162346 0.00160199 0.00158213 0.00153016 0.00144349\n",
      " 0.00137344 0.00134929 0.00124785 0.00121618 0.00119989 0.00117987\n",
      " 0.00116228 0.0011487  0.00110742 0.00109408 0.00108249 0.00107959\n",
      " 0.00107624 0.00107072 0.00106087 0.00105618 0.00104744 0.00104324\n",
      " 0.00103768 0.00103251 0.00103148 0.00101956 0.00101835 0.00101647\n",
      " 0.00101172 0.00100952 0.00100589 0.00100258 0.00099906 0.00099592\n",
      " 0.00099506 0.00099203 0.00099038 0.00098639 0.00098538 0.0009822\n",
      " 0.00098171 0.00098055 0.00097881 0.00097742 0.00097578 0.00097404\n",
      " 0.00097251 0.0009711  0.00096982 0.00096779 0.00096615 0.00096458\n",
      " 0.00096352 0.00096282 0.00096074 0.00095899 0.00095843 0.00095664\n",
      " 0.0009561  0.00095479 0.00095232 0.00095201 0.00095172 0.00095164\n",
      " 0.00095162 0.00095151 0.00095132 0.00095129 0.00095127 0.00095121\n",
      " 0.00095119 0.0009511  0.00095109 0.00095105 0.00095102 0.00095099\n",
      " 0.0009509  0.00095087 0.00095084 0.00095078 0.00095075 0.00095072\n",
      " 0.0009507  0.00095069 0.00095066 0.00095065 0.00095063 0.00095059\n",
      " 0.00095058 0.00095053 0.00095052 0.00095049 0.00095046 0.00095045\n",
      " 0.00095043 0.00095042 0.00095041 0.00095039 0.00095038 0.00095035\n",
      " 0.00095033 0.00095032 0.00095029 0.00095027 0.00095026 0.00095026\n",
      " 0.00095023 0.00095022 0.00095022 0.0009502  0.0009502  0.00095017\n",
      " 0.00095015 0.00095015 0.00095014 0.00095012 0.00095012 0.00095011\n",
      " 0.00095009 0.00095008 0.00095008 0.00095006 0.00095005 0.00095004\n",
      " 0.00095002 0.00095002 0.00095002 0.00095    0.00094999 0.00094998\n",
      " 0.00094997 0.00094997 0.00094996 0.00094995 0.00094994 0.00094993\n",
      " 0.00094992 0.0009499  0.00094989 0.00094988 0.00094988 0.00094986\n",
      " 0.00094986 0.00094985 0.00094984 0.00094982 0.00094887 0.00094842\n",
      " 0.00094794 0.00094777 0.00094727 0.00094679 0.00094668 0.00094604\n",
      " 0.00094555 0.00094538 0.00094474 0.00094415 0.00094386 0.00094359\n",
      " 0.00094284 0.00094235 0.00094204 0.00094169 0.00094145 0.00094053\n",
      " 0.00094026 0.00093939 0.00093848 0.00093822 0.00093784 0.00093714\n",
      " 0.00093622 0.00093549 0.00093489 0.00093465 0.00093315 0.00093289\n",
      " 0.00093251 0.00093084 0.00093019 0.00092988 0.00092864 0.00092782\n",
      " 0.000927   0.0009263  0.00092589 0.00092493 0.00092332 0.00092105\n",
      " 0.00092081 0.00091984]\n"
     ]
    }
   ],
   "source": [
    "print('Componentes principales:')\n",
    "print(componentes_principales)\n",
    "print('\\nVarianza explicada:')\n",
    "print(varianza_explicada)"
   ]
  },
  {
   "cell_type": "code",
   "execution_count": 88,
   "metadata": {
    "colab": {
     "base_uri": "https://localhost:8080/"
    },
    "id": "jd2v6b5cHGfe",
    "outputId": "e918e20d-5e14-41f8-8449-631555b592c1"
   },
   "outputs": [
    {
     "name": "stdout",
     "output_type": "stream",
     "text": [
      "\n",
      "Varianza total explicada: 0.8139470881820862\n"
     ]
    }
   ],
   "source": [
    "varianza_total_explicada = sum(varianza_explicada)\n",
    "print('\\nVarianza total explicada:', varianza_total_explicada)"
   ]
  },
  {
   "cell_type": "markdown",
   "metadata": {
    "id": "PikyEuFaqQnB"
   },
   "source": [
    "Ahora podemos ver que forma tiene el nuevo set de datos reducido, el que le daremos al modelo para entrenarlo."
   ]
  },
  {
   "cell_type": "code",
   "execution_count": 89,
   "metadata": {
    "colab": {
     "base_uri": "https://localhost:8080/",
     "height": 488
    },
    "id": "ZPraJXquHGfg",
    "outputId": "2e25ddcf-dfde-4f2c-e16b-4f6c16466e5d"
   },
   "outputs": [
    {
     "data": {
      "text/html": [
       "<div>\n",
       "<style scoped>\n",
       "    .dataframe tbody tr th:only-of-type {\n",
       "        vertical-align: middle;\n",
       "    }\n",
       "\n",
       "    .dataframe tbody tr th {\n",
       "        vertical-align: top;\n",
       "    }\n",
       "\n",
       "    .dataframe thead th {\n",
       "        text-align: right;\n",
       "    }\n",
       "</style>\n",
       "<table border=\"1\" class=\"dataframe\">\n",
       "  <thead>\n",
       "    <tr style=\"text-align: right;\">\n",
       "      <th></th>\n",
       "      <th>0</th>\n",
       "      <th>1</th>\n",
       "      <th>2</th>\n",
       "      <th>3</th>\n",
       "      <th>4</th>\n",
       "      <th>5</th>\n",
       "      <th>6</th>\n",
       "      <th>7</th>\n",
       "      <th>8</th>\n",
       "      <th>9</th>\n",
       "      <th>...</th>\n",
       "      <th>490</th>\n",
       "      <th>491</th>\n",
       "      <th>492</th>\n",
       "      <th>493</th>\n",
       "      <th>494</th>\n",
       "      <th>495</th>\n",
       "      <th>496</th>\n",
       "      <th>497</th>\n",
       "      <th>498</th>\n",
       "      <th>499</th>\n",
       "    </tr>\n",
       "  </thead>\n",
       "  <tbody>\n",
       "    <tr>\n",
       "      <th>0</th>\n",
       "      <td>4.049055</td>\n",
       "      <td>-2.690291</td>\n",
       "      <td>-0.009705</td>\n",
       "      <td>-1.527735</td>\n",
       "      <td>-1.324903</td>\n",
       "      <td>0.151901</td>\n",
       "      <td>-0.447256</td>\n",
       "      <td>0.497755</td>\n",
       "      <td>0.166225</td>\n",
       "      <td>0.538668</td>\n",
       "      <td>...</td>\n",
       "      <td>-0.184254</td>\n",
       "      <td>2.896382</td>\n",
       "      <td>-1.664505</td>\n",
       "      <td>-4.046294</td>\n",
       "      <td>1.555616</td>\n",
       "      <td>-0.494450</td>\n",
       "      <td>-2.503907</td>\n",
       "      <td>-0.625861</td>\n",
       "      <td>2.140182</td>\n",
       "      <td>0.230390</td>\n",
       "    </tr>\n",
       "    <tr>\n",
       "      <th>1</th>\n",
       "      <td>-3.353220</td>\n",
       "      <td>-1.192881</td>\n",
       "      <td>-0.670458</td>\n",
       "      <td>1.876682</td>\n",
       "      <td>0.262296</td>\n",
       "      <td>-2.678138</td>\n",
       "      <td>-1.099843</td>\n",
       "      <td>-0.237347</td>\n",
       "      <td>0.664176</td>\n",
       "      <td>0.207067</td>\n",
       "      <td>...</td>\n",
       "      <td>1.755785</td>\n",
       "      <td>-2.187113</td>\n",
       "      <td>0.850089</td>\n",
       "      <td>0.378625</td>\n",
       "      <td>-0.336688</td>\n",
       "      <td>0.610582</td>\n",
       "      <td>-2.179901</td>\n",
       "      <td>-1.822145</td>\n",
       "      <td>-0.073482</td>\n",
       "      <td>-0.195061</td>\n",
       "    </tr>\n",
       "    <tr>\n",
       "      <th>2</th>\n",
       "      <td>-3.305874</td>\n",
       "      <td>-1.155657</td>\n",
       "      <td>-0.660867</td>\n",
       "      <td>1.868380</td>\n",
       "      <td>0.260704</td>\n",
       "      <td>-2.660115</td>\n",
       "      <td>-1.090234</td>\n",
       "      <td>-0.249989</td>\n",
       "      <td>0.668647</td>\n",
       "      <td>0.206936</td>\n",
       "      <td>...</td>\n",
       "      <td>1.807114</td>\n",
       "      <td>-2.136914</td>\n",
       "      <td>1.013335</td>\n",
       "      <td>0.350402</td>\n",
       "      <td>-0.375619</td>\n",
       "      <td>0.506861</td>\n",
       "      <td>-2.265991</td>\n",
       "      <td>-1.786018</td>\n",
       "      <td>0.088275</td>\n",
       "      <td>-0.166054</td>\n",
       "    </tr>\n",
       "    <tr>\n",
       "      <th>3</th>\n",
       "      <td>-3.282201</td>\n",
       "      <td>-1.137045</td>\n",
       "      <td>-0.656071</td>\n",
       "      <td>1.864229</td>\n",
       "      <td>0.259907</td>\n",
       "      <td>-2.651104</td>\n",
       "      <td>-1.085429</td>\n",
       "      <td>-0.256310</td>\n",
       "      <td>0.670883</td>\n",
       "      <td>0.206870</td>\n",
       "      <td>...</td>\n",
       "      <td>1.832778</td>\n",
       "      <td>-2.111814</td>\n",
       "      <td>1.094957</td>\n",
       "      <td>0.336290</td>\n",
       "      <td>-0.395084</td>\n",
       "      <td>0.455000</td>\n",
       "      <td>-2.309036</td>\n",
       "      <td>-1.767954</td>\n",
       "      <td>0.169153</td>\n",
       "      <td>-0.151550</td>\n",
       "    </tr>\n",
       "    <tr>\n",
       "      <th>4</th>\n",
       "      <td>-3.309649</td>\n",
       "      <td>-1.173893</td>\n",
       "      <td>-0.657416</td>\n",
       "      <td>1.909536</td>\n",
       "      <td>0.231259</td>\n",
       "      <td>-2.718478</td>\n",
       "      <td>-1.095626</td>\n",
       "      <td>-0.252861</td>\n",
       "      <td>0.655428</td>\n",
       "      <td>0.195161</td>\n",
       "      <td>...</td>\n",
       "      <td>1.752577</td>\n",
       "      <td>-2.177081</td>\n",
       "      <td>0.759804</td>\n",
       "      <td>0.420618</td>\n",
       "      <td>-0.306220</td>\n",
       "      <td>0.619088</td>\n",
       "      <td>-2.132149</td>\n",
       "      <td>-1.837011</td>\n",
       "      <td>-0.140428</td>\n",
       "      <td>-0.201653</td>\n",
       "    </tr>\n",
       "    <tr>\n",
       "      <th>...</th>\n",
       "      <td>...</td>\n",
       "      <td>...</td>\n",
       "      <td>...</td>\n",
       "      <td>...</td>\n",
       "      <td>...</td>\n",
       "      <td>...</td>\n",
       "      <td>...</td>\n",
       "      <td>...</td>\n",
       "      <td>...</td>\n",
       "      <td>...</td>\n",
       "      <td>...</td>\n",
       "      <td>...</td>\n",
       "      <td>...</td>\n",
       "      <td>...</td>\n",
       "      <td>...</td>\n",
       "      <td>...</td>\n",
       "      <td>...</td>\n",
       "      <td>...</td>\n",
       "      <td>...</td>\n",
       "      <td>...</td>\n",
       "      <td>...</td>\n",
       "    </tr>\n",
       "    <tr>\n",
       "      <th>107784</th>\n",
       "      <td>0.705627</td>\n",
       "      <td>4.581966</td>\n",
       "      <td>0.185057</td>\n",
       "      <td>1.919228</td>\n",
       "      <td>-1.006562</td>\n",
       "      <td>1.803074</td>\n",
       "      <td>-0.902745</td>\n",
       "      <td>-2.403025</td>\n",
       "      <td>-0.580402</td>\n",
       "      <td>-0.542712</td>\n",
       "      <td>...</td>\n",
       "      <td>0.505409</td>\n",
       "      <td>-0.561294</td>\n",
       "      <td>0.520926</td>\n",
       "      <td>0.063548</td>\n",
       "      <td>-0.461780</td>\n",
       "      <td>0.942143</td>\n",
       "      <td>0.156145</td>\n",
       "      <td>0.199873</td>\n",
       "      <td>-0.369166</td>\n",
       "      <td>0.189000</td>\n",
       "    </tr>\n",
       "    <tr>\n",
       "      <th>107785</th>\n",
       "      <td>1.805379</td>\n",
       "      <td>5.766409</td>\n",
       "      <td>0.501184</td>\n",
       "      <td>-1.033733</td>\n",
       "      <td>-0.950527</td>\n",
       "      <td>-2.286483</td>\n",
       "      <td>-0.021148</td>\n",
       "      <td>-2.131132</td>\n",
       "      <td>-0.652831</td>\n",
       "      <td>-0.547377</td>\n",
       "      <td>...</td>\n",
       "      <td>-1.583411</td>\n",
       "      <td>-5.955969</td>\n",
       "      <td>-4.739027</td>\n",
       "      <td>-2.346395</td>\n",
       "      <td>3.630334</td>\n",
       "      <td>-15.981154</td>\n",
       "      <td>-9.091581</td>\n",
       "      <td>0.187257</td>\n",
       "      <td>9.501508</td>\n",
       "      <td>6.186555</td>\n",
       "    </tr>\n",
       "    <tr>\n",
       "      <th>107786</th>\n",
       "      <td>1.821161</td>\n",
       "      <td>5.778817</td>\n",
       "      <td>0.504381</td>\n",
       "      <td>-1.036500</td>\n",
       "      <td>-0.951058</td>\n",
       "      <td>-2.280475</td>\n",
       "      <td>-0.017945</td>\n",
       "      <td>-2.135346</td>\n",
       "      <td>-0.651340</td>\n",
       "      <td>-0.547420</td>\n",
       "      <td>...</td>\n",
       "      <td>-1.566302</td>\n",
       "      <td>-5.939236</td>\n",
       "      <td>-4.684612</td>\n",
       "      <td>-2.355803</td>\n",
       "      <td>3.617357</td>\n",
       "      <td>-16.015728</td>\n",
       "      <td>-9.120277</td>\n",
       "      <td>0.199300</td>\n",
       "      <td>9.555427</td>\n",
       "      <td>6.196224</td>\n",
       "    </tr>\n",
       "    <tr>\n",
       "      <th>107787</th>\n",
       "      <td>1.805382</td>\n",
       "      <td>5.766411</td>\n",
       "      <td>0.501184</td>\n",
       "      <td>-1.033731</td>\n",
       "      <td>-0.950526</td>\n",
       "      <td>-2.286482</td>\n",
       "      <td>-0.021149</td>\n",
       "      <td>-2.131130</td>\n",
       "      <td>-0.652829</td>\n",
       "      <td>-0.547377</td>\n",
       "      <td>...</td>\n",
       "      <td>-1.583411</td>\n",
       "      <td>-5.955969</td>\n",
       "      <td>-4.739028</td>\n",
       "      <td>-2.346395</td>\n",
       "      <td>3.630334</td>\n",
       "      <td>-15.981155</td>\n",
       "      <td>-9.091581</td>\n",
       "      <td>0.187257</td>\n",
       "      <td>9.501508</td>\n",
       "      <td>6.186555</td>\n",
       "    </tr>\n",
       "    <tr>\n",
       "      <th>107788</th>\n",
       "      <td>1.821164</td>\n",
       "      <td>5.778819</td>\n",
       "      <td>0.504381</td>\n",
       "      <td>-1.036498</td>\n",
       "      <td>-0.951057</td>\n",
       "      <td>-2.280475</td>\n",
       "      <td>-0.017946</td>\n",
       "      <td>-2.135344</td>\n",
       "      <td>-0.651339</td>\n",
       "      <td>-0.547421</td>\n",
       "      <td>...</td>\n",
       "      <td>-1.566301</td>\n",
       "      <td>-5.939236</td>\n",
       "      <td>-4.684612</td>\n",
       "      <td>-2.355803</td>\n",
       "      <td>3.617358</td>\n",
       "      <td>-16.015728</td>\n",
       "      <td>-9.120277</td>\n",
       "      <td>0.199299</td>\n",
       "      <td>9.555427</td>\n",
       "      <td>6.196224</td>\n",
       "    </tr>\n",
       "  </tbody>\n",
       "</table>\n",
       "<p>107789 rows × 500 columns</p>\n",
       "</div>"
      ],
      "text/plain": [
       "             0         1         2         3         4         5         6    \\\n",
       "0       4.049055 -2.690291 -0.009705 -1.527735 -1.324903  0.151901 -0.447256   \n",
       "1      -3.353220 -1.192881 -0.670458  1.876682  0.262296 -2.678138 -1.099843   \n",
       "2      -3.305874 -1.155657 -0.660867  1.868380  0.260704 -2.660115 -1.090234   \n",
       "3      -3.282201 -1.137045 -0.656071  1.864229  0.259907 -2.651104 -1.085429   \n",
       "4      -3.309649 -1.173893 -0.657416  1.909536  0.231259 -2.718478 -1.095626   \n",
       "...          ...       ...       ...       ...       ...       ...       ...   \n",
       "107784  0.705627  4.581966  0.185057  1.919228 -1.006562  1.803074 -0.902745   \n",
       "107785  1.805379  5.766409  0.501184 -1.033733 -0.950527 -2.286483 -0.021148   \n",
       "107786  1.821161  5.778817  0.504381 -1.036500 -0.951058 -2.280475 -0.017945   \n",
       "107787  1.805382  5.766411  0.501184 -1.033731 -0.950526 -2.286482 -0.021149   \n",
       "107788  1.821164  5.778819  0.504381 -1.036498 -0.951057 -2.280475 -0.017946   \n",
       "\n",
       "             7         8         9    ...       490       491       492  \\\n",
       "0       0.497755  0.166225  0.538668  ... -0.184254  2.896382 -1.664505   \n",
       "1      -0.237347  0.664176  0.207067  ...  1.755785 -2.187113  0.850089   \n",
       "2      -0.249989  0.668647  0.206936  ...  1.807114 -2.136914  1.013335   \n",
       "3      -0.256310  0.670883  0.206870  ...  1.832778 -2.111814  1.094957   \n",
       "4      -0.252861  0.655428  0.195161  ...  1.752577 -2.177081  0.759804   \n",
       "...          ...       ...       ...  ...       ...       ...       ...   \n",
       "107784 -2.403025 -0.580402 -0.542712  ...  0.505409 -0.561294  0.520926   \n",
       "107785 -2.131132 -0.652831 -0.547377  ... -1.583411 -5.955969 -4.739027   \n",
       "107786 -2.135346 -0.651340 -0.547420  ... -1.566302 -5.939236 -4.684612   \n",
       "107787 -2.131130 -0.652829 -0.547377  ... -1.583411 -5.955969 -4.739028   \n",
       "107788 -2.135344 -0.651339 -0.547421  ... -1.566301 -5.939236 -4.684612   \n",
       "\n",
       "             493       494        495       496       497       498       499  \n",
       "0      -4.046294  1.555616  -0.494450 -2.503907 -0.625861  2.140182  0.230390  \n",
       "1       0.378625 -0.336688   0.610582 -2.179901 -1.822145 -0.073482 -0.195061  \n",
       "2       0.350402 -0.375619   0.506861 -2.265991 -1.786018  0.088275 -0.166054  \n",
       "3       0.336290 -0.395084   0.455000 -2.309036 -1.767954  0.169153 -0.151550  \n",
       "4       0.420618 -0.306220   0.619088 -2.132149 -1.837011 -0.140428 -0.201653  \n",
       "...          ...       ...        ...       ...       ...       ...       ...  \n",
       "107784  0.063548 -0.461780   0.942143  0.156145  0.199873 -0.369166  0.189000  \n",
       "107785 -2.346395  3.630334 -15.981154 -9.091581  0.187257  9.501508  6.186555  \n",
       "107786 -2.355803  3.617357 -16.015728 -9.120277  0.199300  9.555427  6.196224  \n",
       "107787 -2.346395  3.630334 -15.981155 -9.091581  0.187257  9.501508  6.186555  \n",
       "107788 -2.355803  3.617358 -16.015728 -9.120277  0.199299  9.555427  6.196224  \n",
       "\n",
       "[107789 rows x 500 columns]"
      ]
     },
     "execution_count": 89,
     "metadata": {},
     "output_type": "execute_result"
    }
   ],
   "source": [
    "df_X_pca = pd.DataFrame(X_pca)\n",
    "df_X_pca"
   ]
  },
  {
   "cell_type": "markdown",
   "metadata": {
    "id": "CuoiCpXaqzMd"
   },
   "source": [
    "Este nuevo set de datos no es igual al original. En este, las columnas no tienen el mismo significado que las columnas del set original. Aqui las columnas tienen valores que tratan de resumir la informacion del original. Por este motivo no pueden tener los mismos nombres. Sin embargo, podemos renombrar las columnas para mejorar su visualizacion."
   ]
  },
  {
   "cell_type": "code",
   "execution_count": 90,
   "metadata": {
    "colab": {
     "base_uri": "https://localhost:8080/",
     "height": 505
    },
    "id": "akGEgCKJqz0p",
    "outputId": "ed588461-02db-454d-e786-fe298f476965"
   },
   "outputs": [
    {
     "data": {
      "text/html": [
       "<div>\n",
       "<style scoped>\n",
       "    .dataframe tbody tr th:only-of-type {\n",
       "        vertical-align: middle;\n",
       "    }\n",
       "\n",
       "    .dataframe tbody tr th {\n",
       "        vertical-align: top;\n",
       "    }\n",
       "\n",
       "    .dataframe thead th {\n",
       "        text-align: right;\n",
       "    }\n",
       "</style>\n",
       "<table border=\"1\" class=\"dataframe\">\n",
       "  <thead>\n",
       "    <tr style=\"text-align: right;\">\n",
       "      <th></th>\n",
       "      <th>columna 0</th>\n",
       "      <th>columna 1</th>\n",
       "      <th>columna 2</th>\n",
       "      <th>columna 3</th>\n",
       "      <th>columna 4</th>\n",
       "      <th>columna 5</th>\n",
       "      <th>columna 6</th>\n",
       "      <th>columna 7</th>\n",
       "      <th>columna 8</th>\n",
       "      <th>columna 9</th>\n",
       "      <th>...</th>\n",
       "      <th>columna 490</th>\n",
       "      <th>columna 491</th>\n",
       "      <th>columna 492</th>\n",
       "      <th>columna 493</th>\n",
       "      <th>columna 494</th>\n",
       "      <th>columna 495</th>\n",
       "      <th>columna 496</th>\n",
       "      <th>columna 497</th>\n",
       "      <th>columna 498</th>\n",
       "      <th>columna 499</th>\n",
       "    </tr>\n",
       "  </thead>\n",
       "  <tbody>\n",
       "    <tr>\n",
       "      <th>0</th>\n",
       "      <td>4.049055</td>\n",
       "      <td>-2.690291</td>\n",
       "      <td>-0.009705</td>\n",
       "      <td>-1.527735</td>\n",
       "      <td>-1.324903</td>\n",
       "      <td>0.151901</td>\n",
       "      <td>-0.447256</td>\n",
       "      <td>0.497755</td>\n",
       "      <td>0.166225</td>\n",
       "      <td>0.538668</td>\n",
       "      <td>...</td>\n",
       "      <td>-0.184254</td>\n",
       "      <td>2.896382</td>\n",
       "      <td>-1.664505</td>\n",
       "      <td>-4.046294</td>\n",
       "      <td>1.555616</td>\n",
       "      <td>-0.494450</td>\n",
       "      <td>-2.503907</td>\n",
       "      <td>-0.625861</td>\n",
       "      <td>2.140182</td>\n",
       "      <td>0.230390</td>\n",
       "    </tr>\n",
       "    <tr>\n",
       "      <th>1</th>\n",
       "      <td>-3.353220</td>\n",
       "      <td>-1.192881</td>\n",
       "      <td>-0.670458</td>\n",
       "      <td>1.876682</td>\n",
       "      <td>0.262296</td>\n",
       "      <td>-2.678138</td>\n",
       "      <td>-1.099843</td>\n",
       "      <td>-0.237347</td>\n",
       "      <td>0.664176</td>\n",
       "      <td>0.207067</td>\n",
       "      <td>...</td>\n",
       "      <td>1.755785</td>\n",
       "      <td>-2.187113</td>\n",
       "      <td>0.850089</td>\n",
       "      <td>0.378625</td>\n",
       "      <td>-0.336688</td>\n",
       "      <td>0.610582</td>\n",
       "      <td>-2.179901</td>\n",
       "      <td>-1.822145</td>\n",
       "      <td>-0.073482</td>\n",
       "      <td>-0.195061</td>\n",
       "    </tr>\n",
       "    <tr>\n",
       "      <th>2</th>\n",
       "      <td>-3.305874</td>\n",
       "      <td>-1.155657</td>\n",
       "      <td>-0.660867</td>\n",
       "      <td>1.868380</td>\n",
       "      <td>0.260704</td>\n",
       "      <td>-2.660115</td>\n",
       "      <td>-1.090234</td>\n",
       "      <td>-0.249989</td>\n",
       "      <td>0.668647</td>\n",
       "      <td>0.206936</td>\n",
       "      <td>...</td>\n",
       "      <td>1.807114</td>\n",
       "      <td>-2.136914</td>\n",
       "      <td>1.013335</td>\n",
       "      <td>0.350402</td>\n",
       "      <td>-0.375619</td>\n",
       "      <td>0.506861</td>\n",
       "      <td>-2.265991</td>\n",
       "      <td>-1.786018</td>\n",
       "      <td>0.088275</td>\n",
       "      <td>-0.166054</td>\n",
       "    </tr>\n",
       "    <tr>\n",
       "      <th>3</th>\n",
       "      <td>-3.282201</td>\n",
       "      <td>-1.137045</td>\n",
       "      <td>-0.656071</td>\n",
       "      <td>1.864229</td>\n",
       "      <td>0.259907</td>\n",
       "      <td>-2.651104</td>\n",
       "      <td>-1.085429</td>\n",
       "      <td>-0.256310</td>\n",
       "      <td>0.670883</td>\n",
       "      <td>0.206870</td>\n",
       "      <td>...</td>\n",
       "      <td>1.832778</td>\n",
       "      <td>-2.111814</td>\n",
       "      <td>1.094957</td>\n",
       "      <td>0.336290</td>\n",
       "      <td>-0.395084</td>\n",
       "      <td>0.455000</td>\n",
       "      <td>-2.309036</td>\n",
       "      <td>-1.767954</td>\n",
       "      <td>0.169153</td>\n",
       "      <td>-0.151550</td>\n",
       "    </tr>\n",
       "    <tr>\n",
       "      <th>4</th>\n",
       "      <td>-3.309649</td>\n",
       "      <td>-1.173893</td>\n",
       "      <td>-0.657416</td>\n",
       "      <td>1.909536</td>\n",
       "      <td>0.231259</td>\n",
       "      <td>-2.718478</td>\n",
       "      <td>-1.095626</td>\n",
       "      <td>-0.252861</td>\n",
       "      <td>0.655428</td>\n",
       "      <td>0.195161</td>\n",
       "      <td>...</td>\n",
       "      <td>1.752577</td>\n",
       "      <td>-2.177081</td>\n",
       "      <td>0.759804</td>\n",
       "      <td>0.420618</td>\n",
       "      <td>-0.306220</td>\n",
       "      <td>0.619088</td>\n",
       "      <td>-2.132149</td>\n",
       "      <td>-1.837011</td>\n",
       "      <td>-0.140428</td>\n",
       "      <td>-0.201653</td>\n",
       "    </tr>\n",
       "    <tr>\n",
       "      <th>...</th>\n",
       "      <td>...</td>\n",
       "      <td>...</td>\n",
       "      <td>...</td>\n",
       "      <td>...</td>\n",
       "      <td>...</td>\n",
       "      <td>...</td>\n",
       "      <td>...</td>\n",
       "      <td>...</td>\n",
       "      <td>...</td>\n",
       "      <td>...</td>\n",
       "      <td>...</td>\n",
       "      <td>...</td>\n",
       "      <td>...</td>\n",
       "      <td>...</td>\n",
       "      <td>...</td>\n",
       "      <td>...</td>\n",
       "      <td>...</td>\n",
       "      <td>...</td>\n",
       "      <td>...</td>\n",
       "      <td>...</td>\n",
       "      <td>...</td>\n",
       "    </tr>\n",
       "    <tr>\n",
       "      <th>107784</th>\n",
       "      <td>0.705627</td>\n",
       "      <td>4.581966</td>\n",
       "      <td>0.185057</td>\n",
       "      <td>1.919228</td>\n",
       "      <td>-1.006562</td>\n",
       "      <td>1.803074</td>\n",
       "      <td>-0.902745</td>\n",
       "      <td>-2.403025</td>\n",
       "      <td>-0.580402</td>\n",
       "      <td>-0.542712</td>\n",
       "      <td>...</td>\n",
       "      <td>0.505409</td>\n",
       "      <td>-0.561294</td>\n",
       "      <td>0.520926</td>\n",
       "      <td>0.063548</td>\n",
       "      <td>-0.461780</td>\n",
       "      <td>0.942143</td>\n",
       "      <td>0.156145</td>\n",
       "      <td>0.199873</td>\n",
       "      <td>-0.369166</td>\n",
       "      <td>0.189000</td>\n",
       "    </tr>\n",
       "    <tr>\n",
       "      <th>107785</th>\n",
       "      <td>1.805379</td>\n",
       "      <td>5.766409</td>\n",
       "      <td>0.501184</td>\n",
       "      <td>-1.033733</td>\n",
       "      <td>-0.950527</td>\n",
       "      <td>-2.286483</td>\n",
       "      <td>-0.021148</td>\n",
       "      <td>-2.131132</td>\n",
       "      <td>-0.652831</td>\n",
       "      <td>-0.547377</td>\n",
       "      <td>...</td>\n",
       "      <td>-1.583411</td>\n",
       "      <td>-5.955969</td>\n",
       "      <td>-4.739027</td>\n",
       "      <td>-2.346395</td>\n",
       "      <td>3.630334</td>\n",
       "      <td>-15.981154</td>\n",
       "      <td>-9.091581</td>\n",
       "      <td>0.187257</td>\n",
       "      <td>9.501508</td>\n",
       "      <td>6.186555</td>\n",
       "    </tr>\n",
       "    <tr>\n",
       "      <th>107786</th>\n",
       "      <td>1.821161</td>\n",
       "      <td>5.778817</td>\n",
       "      <td>0.504381</td>\n",
       "      <td>-1.036500</td>\n",
       "      <td>-0.951058</td>\n",
       "      <td>-2.280475</td>\n",
       "      <td>-0.017945</td>\n",
       "      <td>-2.135346</td>\n",
       "      <td>-0.651340</td>\n",
       "      <td>-0.547420</td>\n",
       "      <td>...</td>\n",
       "      <td>-1.566302</td>\n",
       "      <td>-5.939236</td>\n",
       "      <td>-4.684612</td>\n",
       "      <td>-2.355803</td>\n",
       "      <td>3.617357</td>\n",
       "      <td>-16.015728</td>\n",
       "      <td>-9.120277</td>\n",
       "      <td>0.199300</td>\n",
       "      <td>9.555427</td>\n",
       "      <td>6.196224</td>\n",
       "    </tr>\n",
       "    <tr>\n",
       "      <th>107787</th>\n",
       "      <td>1.805382</td>\n",
       "      <td>5.766411</td>\n",
       "      <td>0.501184</td>\n",
       "      <td>-1.033731</td>\n",
       "      <td>-0.950526</td>\n",
       "      <td>-2.286482</td>\n",
       "      <td>-0.021149</td>\n",
       "      <td>-2.131130</td>\n",
       "      <td>-0.652829</td>\n",
       "      <td>-0.547377</td>\n",
       "      <td>...</td>\n",
       "      <td>-1.583411</td>\n",
       "      <td>-5.955969</td>\n",
       "      <td>-4.739028</td>\n",
       "      <td>-2.346395</td>\n",
       "      <td>3.630334</td>\n",
       "      <td>-15.981155</td>\n",
       "      <td>-9.091581</td>\n",
       "      <td>0.187257</td>\n",
       "      <td>9.501508</td>\n",
       "      <td>6.186555</td>\n",
       "    </tr>\n",
       "    <tr>\n",
       "      <th>107788</th>\n",
       "      <td>1.821164</td>\n",
       "      <td>5.778819</td>\n",
       "      <td>0.504381</td>\n",
       "      <td>-1.036498</td>\n",
       "      <td>-0.951057</td>\n",
       "      <td>-2.280475</td>\n",
       "      <td>-0.017946</td>\n",
       "      <td>-2.135344</td>\n",
       "      <td>-0.651339</td>\n",
       "      <td>-0.547421</td>\n",
       "      <td>...</td>\n",
       "      <td>-1.566301</td>\n",
       "      <td>-5.939236</td>\n",
       "      <td>-4.684612</td>\n",
       "      <td>-2.355803</td>\n",
       "      <td>3.617358</td>\n",
       "      <td>-16.015728</td>\n",
       "      <td>-9.120277</td>\n",
       "      <td>0.199299</td>\n",
       "      <td>9.555427</td>\n",
       "      <td>6.196224</td>\n",
       "    </tr>\n",
       "  </tbody>\n",
       "</table>\n",
       "<p>107789 rows × 500 columns</p>\n",
       "</div>"
      ],
      "text/plain": [
       "        columna 0  columna 1  columna 2  columna 3  columna 4  columna 5  \\\n",
       "0        4.049055  -2.690291  -0.009705  -1.527735  -1.324903   0.151901   \n",
       "1       -3.353220  -1.192881  -0.670458   1.876682   0.262296  -2.678138   \n",
       "2       -3.305874  -1.155657  -0.660867   1.868380   0.260704  -2.660115   \n",
       "3       -3.282201  -1.137045  -0.656071   1.864229   0.259907  -2.651104   \n",
       "4       -3.309649  -1.173893  -0.657416   1.909536   0.231259  -2.718478   \n",
       "...           ...        ...        ...        ...        ...        ...   \n",
       "107784   0.705627   4.581966   0.185057   1.919228  -1.006562   1.803074   \n",
       "107785   1.805379   5.766409   0.501184  -1.033733  -0.950527  -2.286483   \n",
       "107786   1.821161   5.778817   0.504381  -1.036500  -0.951058  -2.280475   \n",
       "107787   1.805382   5.766411   0.501184  -1.033731  -0.950526  -2.286482   \n",
       "107788   1.821164   5.778819   0.504381  -1.036498  -0.951057  -2.280475   \n",
       "\n",
       "        columna 6  columna 7  columna 8  columna 9  ...  columna 490  \\\n",
       "0       -0.447256   0.497755   0.166225   0.538668  ...    -0.184254   \n",
       "1       -1.099843  -0.237347   0.664176   0.207067  ...     1.755785   \n",
       "2       -1.090234  -0.249989   0.668647   0.206936  ...     1.807114   \n",
       "3       -1.085429  -0.256310   0.670883   0.206870  ...     1.832778   \n",
       "4       -1.095626  -0.252861   0.655428   0.195161  ...     1.752577   \n",
       "...           ...        ...        ...        ...  ...          ...   \n",
       "107784  -0.902745  -2.403025  -0.580402  -0.542712  ...     0.505409   \n",
       "107785  -0.021148  -2.131132  -0.652831  -0.547377  ...    -1.583411   \n",
       "107786  -0.017945  -2.135346  -0.651340  -0.547420  ...    -1.566302   \n",
       "107787  -0.021149  -2.131130  -0.652829  -0.547377  ...    -1.583411   \n",
       "107788  -0.017946  -2.135344  -0.651339  -0.547421  ...    -1.566301   \n",
       "\n",
       "        columna 491  columna 492  columna 493  columna 494  columna 495  \\\n",
       "0          2.896382    -1.664505    -4.046294     1.555616    -0.494450   \n",
       "1         -2.187113     0.850089     0.378625    -0.336688     0.610582   \n",
       "2         -2.136914     1.013335     0.350402    -0.375619     0.506861   \n",
       "3         -2.111814     1.094957     0.336290    -0.395084     0.455000   \n",
       "4         -2.177081     0.759804     0.420618    -0.306220     0.619088   \n",
       "...             ...          ...          ...          ...          ...   \n",
       "107784    -0.561294     0.520926     0.063548    -0.461780     0.942143   \n",
       "107785    -5.955969    -4.739027    -2.346395     3.630334   -15.981154   \n",
       "107786    -5.939236    -4.684612    -2.355803     3.617357   -16.015728   \n",
       "107787    -5.955969    -4.739028    -2.346395     3.630334   -15.981155   \n",
       "107788    -5.939236    -4.684612    -2.355803     3.617358   -16.015728   \n",
       "\n",
       "        columna 496  columna 497  columna 498  columna 499  \n",
       "0         -2.503907    -0.625861     2.140182     0.230390  \n",
       "1         -2.179901    -1.822145    -0.073482    -0.195061  \n",
       "2         -2.265991    -1.786018     0.088275    -0.166054  \n",
       "3         -2.309036    -1.767954     0.169153    -0.151550  \n",
       "4         -2.132149    -1.837011    -0.140428    -0.201653  \n",
       "...             ...          ...          ...          ...  \n",
       "107784     0.156145     0.199873    -0.369166     0.189000  \n",
       "107785    -9.091581     0.187257     9.501508     6.186555  \n",
       "107786    -9.120277     0.199300     9.555427     6.196224  \n",
       "107787    -9.091581     0.187257     9.501508     6.186555  \n",
       "107788    -9.120277     0.199299     9.555427     6.196224  \n",
       "\n",
       "[107789 rows x 500 columns]"
      ]
     },
     "execution_count": 90,
     "metadata": {},
     "output_type": "execute_result"
    }
   ],
   "source": [
    "new_columns = ['columna {}'.format(num) for num in range(len(df_X_pca.columns))]\n",
    "df_X_pca.columns = new_columns\n",
    "df_X_pca"
   ]
  },
  {
   "cell_type": "markdown",
   "metadata": {
    "id": "1U_LZOzWtQAk"
   },
   "source": [
    "Recordamos que este set de datos constituye solo las variables predictorias, pero no contiene la varible \"target\", que es la que queremos predecir. Asi que procedemos a anexar dicha columna."
   ]
  },
  {
   "cell_type": "code",
   "execution_count": 91,
   "metadata": {
    "id": "EWPNudLZtirl"
   },
   "outputs": [],
   "source": [
    "df_X_pca['Cantidad'] = df_encoded['Cantidad']"
   ]
  },
  {
   "cell_type": "markdown",
   "metadata": {
    "id": "kXgRcre8sjcr"
   },
   "source": [
    "Por ultimo, exportamos el set de datos final, que posteriormente sera utilizado para entrenar el modelo."
   ]
  },
  {
   "cell_type": "code",
   "execution_count": 444,
   "metadata": {
    "id": "DyZNYszIsJOD"
   },
   "outputs": [],
   "source": [
    "df_X_pca.to_csv('df_final.csv', index=False)"
   ]
  }
 ],
 "metadata": {
  "colab": {
   "provenance": []
  },
  "kernelspec": {
   "display_name": "Python 3 (ipykernel)",
   "language": "python",
   "name": "python3"
  },
  "language_info": {
   "codemirror_mode": {
    "name": "ipython",
    "version": 3
   },
   "file_extension": ".py",
   "mimetype": "text/x-python",
   "name": "python",
   "nbconvert_exporter": "python",
   "pygments_lexer": "ipython3",
   "version": "3.9.13"
  }
 },
 "nbformat": 4,
 "nbformat_minor": 1
}
